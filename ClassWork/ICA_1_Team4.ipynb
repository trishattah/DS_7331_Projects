{
 "cells": [
  {
   "cell_type": "code",
   "execution_count": 178,
   "metadata": {},
   "outputs": [
    {
     "data": {
      "text/html": [
       "<link href='https://fonts.googleapis.com/css?family=Passion+One' rel='stylesheet' type='text/css'><style>div.attn { font-family: 'Helvetica Neue'; font-size: 30px; line-height: 40px; color: #FFFFFF; text-align: center; margin: 30px 0; border-width: 10px 0; border-style: solid; border-color: #5AAAAA; padding: 30px 0; background-color: #DDDDFF; }hr { border: 0; background-color: #ffffff; border-top: 1px solid black; }hr.major { border-top: 10px solid #5AAA5A; }hr.minor { border: none; background-color: #ffffff; border-top: 5px dotted #CC3333; }div.bubble { width: 65%; padding: 20px; background: #DDDDDD; border-radius: 15px; margin: 0 auto; font-style: italic; color: #f00; }em { color: #AAA; }div.c1{visibility:hidden;margin:0;height:0;}div.note{color:red;}</style>"
      ],
      "text/plain": [
       "<IPython.core.display.HTML object>"
      ]
     },
     "execution_count": 178,
     "metadata": {},
     "output_type": "execute_result"
    }
   ],
   "source": [
    "#  Ebnable HTML/CSS \n",
    "from IPython.core.display import HTML\n",
    "HTML(\"<link href='https://fonts.googleapis.com/css?family=Passion+One' rel='stylesheet' type='text/css'><style>div.attn { font-family: 'Helvetica Neue'; font-size: 30px; line-height: 40px; color: #FFFFFF; text-align: center; margin: 30px 0; border-width: 10px 0; border-style: solid; border-color: #5AAAAA; padding: 30px 0; background-color: #DDDDFF; }hr { border: 0; background-color: #ffffff; border-top: 1px solid black; }hr.major { border-top: 10px solid #5AAA5A; }hr.minor { border: none; background-color: #ffffff; border-top: 5px dotted #CC3333; }div.bubble { width: 65%; padding: 20px; background: #DDDDDD; border-radius: 15px; margin: 0 auto; font-style: italic; color: #f00; }em { color: #AAA; }div.c1{visibility:hidden;margin:0;height:0;}div.note{color:red;}</style>\")"
   ]
  },
  {
   "cell_type": "markdown",
   "metadata": {},
   "source": [
    "___\n",
    "Enter Team Member Names here (double click to edit):\n",
    "\n",
    "- Name 1: Linda Eliasen\n",
    "- Name 2: Patricia Attah\n",
    "- Name 3:\n"
   ]
  },
  {
   "cell_type": "markdown",
   "metadata": {},
   "source": [
    "# In Class Assignment One\n",
    "In the following assignment you will be asked to fill in python code and derivations for a number of different problems. Please read all instructions carefully and turn in the rendered notebook (or HTML of the rendered notebook)  before the end of class (or right after class). The initial portion of this notebook is given before class and the remainder is given during class. Please answer the initial questions before class. Once class has started you may rework your answers as a team for the initial part of the assignment. \n",
    "\n",
    "<a id=\"top\"></a>\n",
    "## Contents\n",
    "* <a href=\"#Loading\">Loading the Data</a>\n",
    "* <a href=\"#linearnumpy\">Linear Regression</a>\n",
    "* <a href=\"#sklearn\">Using Scikit Learn for Regression</a>\n",
    "* <a href=\"#classification\">Linear Classification</a>\n",
    "\n",
    "________________________________________________________________________________________________________\n",
    "\n",
    "<a id=\"Loading\"></a>\n",
    "<a href=\"#top\">Back to Top</a>\n",
    "## Loading the Data\n",
    "Please run the following code to read in the \"diabetes\" dataset from sklearn's data loading module. \n",
    "\n",
    "This will load the data into the variable `ds`. `ds` is a dictionary object with fields like `ds.data`, which is a matrix of the continuous features in the dataset. The object is not a pandas dataframe. It is a numpy matrix. Each row is a set of observed instances, each column is a different feature. It also has a field called `ds.target` that is a continuous value we are trying to predict. Each entry in `ds.target` is a label for each row of the `ds.data` matrix. "
   ]
  },
  {
   "cell_type": "code",
   "execution_count": 179,
   "metadata": {},
   "outputs": [
    {
     "name": "stdout",
     "output_type": "stream",
     "text": [
      "features shape: (442, 10) format is: ('rows', 'columns')\n",
      "range of target: 25.0 346.0\n"
     ]
    }
   ],
   "source": [
    "from __future__ import print_function\n",
    "from sklearn.datasets import load_diabetes\n",
    "import numpy as np\n",
    "\n",
    "\n",
    "\n",
    "ds = load_diabetes()\n",
    "\n",
    "# this holds the continuous feature data\n",
    "# because ds.data is a matrix, there are some special properties we can access (like 'shape')\n",
    "print('features shape:', ds.data.shape, 'format is:', ('rows','columns')) # there are 442 instances and 10 features per instance\n",
    "print('range of target:', np.min(ds.target),np.max(ds.target))"
   ]
  },
  {
   "cell_type": "code",
   "execution_count": 180,
   "metadata": {},
   "outputs": [
    {
     "name": "stdout",
     "output_type": "stream",
     "text": [
      "[ 152.13348416  -10.01219782 -239.81908937  519.83978679  324.39042769\n",
      " -792.18416163  476.74583782  101.04457032  177.06417623  751.27932109\n",
      "   67.62538639]\n",
      "[[ 1.          0.03807591  0.05068012 ... -0.00259226  0.01990842\n",
      "  -0.01764613]\n",
      " [ 1.         -0.00188202 -0.04464164 ... -0.03949338 -0.06832974\n",
      "  -0.09220405]\n",
      " [ 1.          0.08529891  0.05068012 ... -0.00259226  0.00286377\n",
      "  -0.02593034]\n",
      " ...\n",
      " [ 1.          0.04170844  0.05068012 ... -0.01107952 -0.04687948\n",
      "   0.01549073]\n",
      " [ 1.         -0.04547248 -0.04464164 ...  0.02655962  0.04452837\n",
      "  -0.02593034]\n",
      " [ 1.         -0.04547248 -0.04464164 ... -0.03949338 -0.00421986\n",
      "   0.00306441]]\n"
     ]
    }
   ],
   "source": [
    "rows = ds.data.shape[0]             #<- grab all of the data for X\n",
    "ones_col = np.ones([rows,1])        #<- create a ones column for the bias term \n",
    "X = np.hstack( (ones_col, ds.data) )  #<- stack the ones column onto ds.data using np.haystack(), litterally appends the ones column to X (hstack == stack horizontally) \n",
    "\n",
    "y = ds.target\n",
    "\n",
    "\n",
    "w = np.dot( np.dot( np.linalg.inv( np.dot(X.T, X) ) , X.T ) , y)\n",
    "print(w) \n",
    "\n",
    "#Here is an easier way to express this in python\n",
    "#We just make x and y into matrices\n",
    "\n",
    "Xm = np.matrix(X)\n",
    "Ym = np.matrix(y.reshape((len(y),1)))\n",
    "\n",
    "wm = (Xm.T * Xm)**-1 * Xm.T * Ym \n",
    "print(X)"
   ]
  },
  {
   "cell_type": "code",
   "execution_count": 181,
   "metadata": {},
   "outputs": [],
   "source": [
    "from pprint import pprint\n",
    "\n",
    "# we can set the fields inside of ds and set them to new variables in python\n",
    "#pprint(ds.data) # prints out elements of the matrix\n",
    "#pprint(ds.target) # prints the vector (all 442 items)"
   ]
  },
  {
   "cell_type": "markdown",
   "metadata": {},
   "source": [
    "________________________________________________________________________________________________________\n",
    "<a id=\"linearnumpy\"></a>\n",
    "<a href=\"#top\">Back to Top</a>\n",
    "## Using Linear Regression \n",
    "In the videos, we derived the formula for calculating the optimal values of the regression weights (you must be connected to the internet for this equation to show up properly):\n",
    "\n",
    "$$ w = (X^TX)^{-1}X^Ty $$\n",
    "\n",
    "where $X$ is the matrix of values with a bias column of ones appended onto it. For the diabetes dataset one could construct this $X$ matrix by stacking a column of ones onto the `ds.data` matrix. \n",
    "\n",
    "$$ X=\\begin{bmatrix}\n",
    "         & \\vdots &        &  1 \\\\\n",
    "        \\dotsb & \\text{ds.data} & \\dotsb &  \\vdots\\\\\n",
    "         & \\vdots &         &  1\\\\\n",
    "     \\end{bmatrix}\n",
    "$$\n",
    "\n",
    "**Question 1:** For the diabetes dataset, how many elements will the vector $w$ contain?"
   ]
  },
  {
   "cell_type": "code",
   "execution_count": 182,
   "metadata": {},
   "outputs": [
    {
     "name": "stdout",
     "output_type": "stream",
     "text": [
      "The answer is: 11 elements are in w\n"
     ]
    }
   ],
   "source": [
    "# Enter your answer here (or write code to calculate it)\n",
    "\n",
    "print ('The answer is:', ds.data.shape[1]+1, 'elements are in w')\n",
    "\n",
    "#"
   ]
  },
  {
   "cell_type": "markdown",
   "metadata": {},
   "source": [
    "________________________________________________________________________________________________________\n",
    "\n",
    "**Exercise 1:** In the following empty cell, use this equation and numpy matrix operations to find the values of the vector $w$. You will need to be sure $X$ and $y$ are created like the instructor talked about in the video. Don't forget to include any modifications to $X$ to account for the bias term in $w$. You might be interested in the following functions:\n",
    "\n",
    "- `np.hstack((mat1,mat2))` stack two matrices horizontally, to create a new matrix\n",
    "- `np.ones((rows,cols))` create a matrix full of ones\n",
    "- `my_mat.T` takes transpose of numpy matrix named `my_mat`\n",
    "- `np.dot(mat1,mat2)` is matrix multiplication for two matrices\n",
    "- `np.linalg.inv(mat)` gets the inverse of the variable `mat`"
   ]
  },
  {
   "cell_type": "code",
   "execution_count": 183,
   "metadata": {},
   "outputs": [
    {
     "name": "stdout",
     "output_type": "stream",
     "text": [
      "[ 152.13348416  -10.01219782 -239.81908937  519.83978679  324.39042769\n",
      " -792.18416163  476.74583782  101.04457032  177.06417623  751.27932109\n",
      "   67.62538639]\n"
     ]
    }
   ],
   "source": [
    "# Write you code here, print the values of the regression weights using the 'print()' function in python\n",
    "\n",
    "w = np.dot( np.dot( np.linalg.inv( np.dot(X.T, X) ) , X.T ) , y)\n",
    "print(w) \n"
   ]
  },
  {
   "cell_type": "markdown",
   "metadata": {},
   "source": [
    "\n",
    "___\n",
    "<a id=\"sklearn\"></a>\n",
    "<a href=\"#top\">Back to Top</a>\n",
    "# Start of Live Session Coding\n",
    "\n",
    "**Exercise 2:** Scikit-learn also has a linear regression fitting implementation. Look at the scikit learn API and learn to use the linear regression method. The API is here: \n",
    "\n",
    "- API Reference: http://scikit-learn.org/stable/modules/generated/sklearn.linear_model.LinearRegression.html\n",
    "\n",
    "Use the sklearn `LinearRegression` module to check your results from the previous question. \n",
    "\n",
    "**Question 2**: Did you get the same parameters? "
   ]
  },
  {
   "cell_type": "code",
   "execution_count": 184,
   "metadata": {},
   "outputs": [
    {
     "name": "stdout",
     "output_type": "stream",
     "text": [
      "model coefficients are: [   0.          -10.01219782 -239.81908937  519.83978679  324.39042769\n",
      " -792.18416163  476.74583782  101.04457032  177.06417623  751.27932109\n",
      "   67.62538639]\n",
      "model intercept is 152.1334841628965\n",
      "Answer to question is Yes\n"
     ]
    }
   ],
   "source": [
    "from sklearn.linear_model import LinearRegression\n",
    "\n",
    "# write your code here, print the values of model by accessing \n",
    "#    its properties that you looked up from the API\n",
    "\n",
    "reg = LinearRegression().fit(X, y)\n",
    "coef = reg.coef_\n",
    "inter = reg.intercept_\n",
    "\n",
    "print('model coefficients are:', coef)\n",
    "print('model intercept is', inter)\n",
    "print('Answer to question is', 'Yes')"
   ]
  },
  {
   "cell_type": "markdown",
   "metadata": {},
   "source": [
    "________________________________________________________________________________________________________\n",
    "\n",
    "Recall that to predict the output from our model, $\\hat{y}$, from $w$ and $X$ we need to use the following formula:\n",
    "\n",
    "- $\\hat{y}=w^TX^T$\n",
    "\n",
    "Where $X$ is a matrix with example instances in *each row* of the matrix. \n",
    "\n",
    "**Exercise 3:** \n",
    "- *Part A:* Use matrix multiplication to predict output using numpy, $\\hat{y}_{numpy}$ and also using the sklearn regression object, $\\hat{y}_{sklearn}$.\n",
    " - **Note**: you may need to make the regression weights a column vector using the following code: `w = w.reshape((len(w),1))` This assumes your weights vector is assigned to the variable named `w`.\n",
    "- *Part B:* Calculate the mean squared error between your prediction from numpy and the target, $\\sum_i(y-\\hat{y}_{numpy})^2$. \n",
    "- *Part C:* Calculate the mean squared error between your sklearn prediction and the target, $\\sum_i(y-\\hat{y}_{sklearn})^2$."
   ]
  },
  {
   "cell_type": "code",
   "execution_count": 185,
   "metadata": {},
   "outputs": [
    {
     "name": "stdout",
     "output_type": "stream",
     "text": [
      "MSE Sklearn is: 2859.6903987680657\n",
      "MSE Numpy is: [2859.69039877]\n"
     ]
    }
   ],
   "source": [
    "from sklearn.metrics import mean_squared_error \n",
    "\n",
    "# Use this block to answer the questions\n",
    "y_pred = reg.predict(X)\n",
    "\n",
    "y0 =y.reshape((len(y),1))\n",
    "\n",
    "w = w.reshape((len(w),1))\n",
    "\n",
    "mse_sc = mean_squared_error(y, y_pred)\n",
    "\n",
    "\n",
    "mse_py = np.mean((y - ny_pred )**2)\n",
    "\n",
    "\n",
    "yhat_np = (w.T @ X.T).T\n",
    "\n",
    "# Part C\n",
    "mse_py = 1/(len(y)) * sum((y0-yhat_np)**2) # stupid numpy stuff\n",
    "\n",
    "\n",
    "print('MSE Sklearn is:', mse_sc)\n",
    "print('MSE Numpy is:', mse_py )"
   ]
  },
  {
   "cell_type": "markdown",
   "metadata": {},
   "source": [
    "________________________________________________________________________________________________________\n",
    "<a id=\"classification\"></a>\n",
    "<a href=\"#top\">Back to Top</a>\n",
    "## Using Linear Classification\n",
    "Now lets use the code you created to make a classifier with linear boundaries. Run the following code in order to load the iris dataset."
   ]
  },
  {
   "cell_type": "code",
   "execution_count": 186,
   "metadata": {},
   "outputs": [
    {
     "name": "stdout",
     "output_type": "stream",
     "text": [
      "features shape: (150, 4)\n",
      "original number of classes: 3\n",
      "new number of classes: 2\n"
     ]
    }
   ],
   "source": [
    "from sklearn.datasets import load_iris\n",
    "import numpy as np\n",
    "\n",
    "# this will overwrite the diabetes dataset\n",
    "ds = load_iris()\n",
    "print('features shape:', ds.data.shape) # there are 150 instances and 4 features per instance\n",
    "print('original number of classes:', len(np.unique(ds.target)))\n",
    "\n",
    "# now let's make this a binary classification task\n",
    "ds.target = ds.target>1\n",
    "print ('new number of classes:', len(np.unique(ds.target)))"
   ]
  },
  {
   "cell_type": "markdown",
   "metadata": {},
   "source": [
    "________________________________________________________________________________________________________\n",
    "\n",
    "**Exercise 4:** Now use linear regression to come up with a set of weights, `w`, that predict the class value. This is exactly like you did before for the *diabetes* dataset. However, instead of regressing to continuous values, you are just regressing to the integer value of the class (0 or 1), like we talked about in the video. Remember to account for the bias term when constructing the feature matrix, `X`. Print the weights of the linear classifier."
   ]
  },
  {
   "cell_type": "code",
   "execution_count": 188,
   "metadata": {},
   "outputs": [
    {
     "name": "stdout",
     "output_type": "stream",
     "text": [
      "[-0.69528186 -0.04587608  0.20276839  0.00398791  0.55177932]\n",
      "[[1.  5.1 3.5 1.4 0.2]\n",
      " [1.  4.9 3.  1.4 0.2]\n",
      " [1.  4.7 3.2 1.3 0.2]\n",
      " [1.  4.6 3.1 1.5 0.2]\n",
      " [1.  5.  3.6 1.4 0.2]\n",
      " [1.  5.4 3.9 1.7 0.4]\n",
      " [1.  4.6 3.4 1.4 0.3]\n",
      " [1.  5.  3.4 1.5 0.2]\n",
      " [1.  4.4 2.9 1.4 0.2]\n",
      " [1.  4.9 3.1 1.5 0.1]\n",
      " [1.  5.4 3.7 1.5 0.2]\n",
      " [1.  4.8 3.4 1.6 0.2]\n",
      " [1.  4.8 3.  1.4 0.1]\n",
      " [1.  4.3 3.  1.1 0.1]\n",
      " [1.  5.8 4.  1.2 0.2]\n",
      " [1.  5.7 4.4 1.5 0.4]\n",
      " [1.  5.4 3.9 1.3 0.4]\n",
      " [1.  5.1 3.5 1.4 0.3]\n",
      " [1.  5.7 3.8 1.7 0.3]\n",
      " [1.  5.1 3.8 1.5 0.3]\n",
      " [1.  5.4 3.4 1.7 0.2]\n",
      " [1.  5.1 3.7 1.5 0.4]\n",
      " [1.  4.6 3.6 1.  0.2]\n",
      " [1.  5.1 3.3 1.7 0.5]\n",
      " [1.  4.8 3.4 1.9 0.2]\n",
      " [1.  5.  3.  1.6 0.2]\n",
      " [1.  5.  3.4 1.6 0.4]\n",
      " [1.  5.2 3.5 1.5 0.2]\n",
      " [1.  5.2 3.4 1.4 0.2]\n",
      " [1.  4.7 3.2 1.6 0.2]\n",
      " [1.  4.8 3.1 1.6 0.2]\n",
      " [1.  5.4 3.4 1.5 0.4]\n",
      " [1.  5.2 4.1 1.5 0.1]\n",
      " [1.  5.5 4.2 1.4 0.2]\n",
      " [1.  4.9 3.1 1.5 0.2]\n",
      " [1.  5.  3.2 1.2 0.2]\n",
      " [1.  5.5 3.5 1.3 0.2]\n",
      " [1.  4.9 3.6 1.4 0.1]\n",
      " [1.  4.4 3.  1.3 0.2]\n",
      " [1.  5.1 3.4 1.5 0.2]\n",
      " [1.  5.  3.5 1.3 0.3]\n",
      " [1.  4.5 2.3 1.3 0.3]\n",
      " [1.  4.4 3.2 1.3 0.2]\n",
      " [1.  5.  3.5 1.6 0.6]\n",
      " [1.  5.1 3.8 1.9 0.4]\n",
      " [1.  4.8 3.  1.4 0.3]\n",
      " [1.  5.1 3.8 1.6 0.2]\n",
      " [1.  4.6 3.2 1.4 0.2]\n",
      " [1.  5.3 3.7 1.5 0.2]\n",
      " [1.  5.  3.3 1.4 0.2]\n",
      " [1.  7.  3.2 4.7 1.4]\n",
      " [1.  6.4 3.2 4.5 1.5]\n",
      " [1.  6.9 3.1 4.9 1.5]\n",
      " [1.  5.5 2.3 4.  1.3]\n",
      " [1.  6.5 2.8 4.6 1.5]\n",
      " [1.  5.7 2.8 4.5 1.3]\n",
      " [1.  6.3 3.3 4.7 1.6]\n",
      " [1.  4.9 2.4 3.3 1. ]\n",
      " [1.  6.6 2.9 4.6 1.3]\n",
      " [1.  5.2 2.7 3.9 1.4]\n",
      " [1.  5.  2.  3.5 1. ]\n",
      " [1.  5.9 3.  4.2 1.5]\n",
      " [1.  6.  2.2 4.  1. ]\n",
      " [1.  6.1 2.9 4.7 1.4]\n",
      " [1.  5.6 2.9 3.6 1.3]\n",
      " [1.  6.7 3.1 4.4 1.4]\n",
      " [1.  5.6 3.  4.5 1.5]\n",
      " [1.  5.8 2.7 4.1 1. ]\n",
      " [1.  6.2 2.2 4.5 1.5]\n",
      " [1.  5.6 2.5 3.9 1.1]\n",
      " [1.  5.9 3.2 4.8 1.8]\n",
      " [1.  6.1 2.8 4.  1.3]\n",
      " [1.  6.3 2.5 4.9 1.5]\n",
      " [1.  6.1 2.8 4.7 1.2]\n",
      " [1.  6.4 2.9 4.3 1.3]\n",
      " [1.  6.6 3.  4.4 1.4]\n",
      " [1.  6.8 2.8 4.8 1.4]\n",
      " [1.  6.7 3.  5.  1.7]\n",
      " [1.  6.  2.9 4.5 1.5]\n",
      " [1.  5.7 2.6 3.5 1. ]\n",
      " [1.  5.5 2.4 3.8 1.1]\n",
      " [1.  5.5 2.4 3.7 1. ]\n",
      " [1.  5.8 2.7 3.9 1.2]\n",
      " [1.  6.  2.7 5.1 1.6]\n",
      " [1.  5.4 3.  4.5 1.5]\n",
      " [1.  6.  3.4 4.5 1.6]\n",
      " [1.  6.7 3.1 4.7 1.5]\n",
      " [1.  6.3 2.3 4.4 1.3]\n",
      " [1.  5.6 3.  4.1 1.3]\n",
      " [1.  5.5 2.5 4.  1.3]\n",
      " [1.  5.5 2.6 4.4 1.2]\n",
      " [1.  6.1 3.  4.6 1.4]\n",
      " [1.  5.8 2.6 4.  1.2]\n",
      " [1.  5.  2.3 3.3 1. ]\n",
      " [1.  5.6 2.7 4.2 1.3]\n",
      " [1.  5.7 3.  4.2 1.2]\n",
      " [1.  5.7 2.9 4.2 1.3]\n",
      " [1.  6.2 2.9 4.3 1.3]\n",
      " [1.  5.1 2.5 3.  1.1]\n",
      " [1.  5.7 2.8 4.1 1.3]\n",
      " [1.  6.3 3.3 6.  2.5]\n",
      " [1.  5.8 2.7 5.1 1.9]\n",
      " [1.  7.1 3.  5.9 2.1]\n",
      " [1.  6.3 2.9 5.6 1.8]\n",
      " [1.  6.5 3.  5.8 2.2]\n",
      " [1.  7.6 3.  6.6 2.1]\n",
      " [1.  4.9 2.5 4.5 1.7]\n",
      " [1.  7.3 2.9 6.3 1.8]\n",
      " [1.  6.7 2.5 5.8 1.8]\n",
      " [1.  7.2 3.6 6.1 2.5]\n",
      " [1.  6.5 3.2 5.1 2. ]\n",
      " [1.  6.4 2.7 5.3 1.9]\n",
      " [1.  6.8 3.  5.5 2.1]\n",
      " [1.  5.7 2.5 5.  2. ]\n",
      " [1.  5.8 2.8 5.1 2.4]\n",
      " [1.  6.4 3.2 5.3 2.3]\n",
      " [1.  6.5 3.  5.5 1.8]\n",
      " [1.  7.7 3.8 6.7 2.2]\n",
      " [1.  7.7 2.6 6.9 2.3]\n",
      " [1.  6.  2.2 5.  1.5]\n",
      " [1.  6.9 3.2 5.7 2.3]\n",
      " [1.  5.6 2.8 4.9 2. ]\n",
      " [1.  7.7 2.8 6.7 2. ]\n",
      " [1.  6.3 2.7 4.9 1.8]\n",
      " [1.  6.7 3.3 5.7 2.1]\n",
      " [1.  7.2 3.2 6.  1.8]\n",
      " [1.  6.2 2.8 4.8 1.8]\n",
      " [1.  6.1 3.  4.9 1.8]\n",
      " [1.  6.4 2.8 5.6 2.1]\n",
      " [1.  7.2 3.  5.8 1.6]\n",
      " [1.  7.4 2.8 6.1 1.9]\n",
      " [1.  7.9 3.8 6.4 2. ]\n",
      " [1.  6.4 2.8 5.6 2.2]\n",
      " [1.  6.3 2.8 5.1 1.5]\n",
      " [1.  6.1 2.6 5.6 1.4]\n",
      " [1.  7.7 3.  6.1 2.3]\n",
      " [1.  6.3 3.4 5.6 2.4]\n",
      " [1.  6.4 3.1 5.5 1.8]\n",
      " [1.  6.  3.  4.8 1.8]\n",
      " [1.  6.9 3.1 5.4 2.1]\n",
      " [1.  6.7 3.1 5.6 2.4]\n",
      " [1.  6.9 3.1 5.1 2.3]\n",
      " [1.  5.8 2.7 5.1 1.9]\n",
      " [1.  6.8 3.2 5.9 2.3]\n",
      " [1.  6.7 3.3 5.7 2.5]\n",
      " [1.  6.7 3.  5.2 2.3]\n",
      " [1.  6.3 2.5 5.  1.9]\n",
      " [1.  6.5 3.  5.2 2. ]\n",
      " [1.  6.2 3.4 5.4 2.3]\n",
      " [1.  5.9 3.  5.1 1.8]]\n"
     ]
    }
   ],
   "source": [
    "# write your code here and print the values of the weights \n",
    "rows = ds.data.shape[0]             #<- grab all of the data for X\n",
    "ones_col = np.ones([rows,1])        #<- create a ones column for the bias term \n",
    "X = np.hstack( (ones_col, ds.data) )  #<- stack the ones column onto ds.data using np.haystack(), litterally appends the ones column to X (hstack == stack horizontally) \n",
    "\n",
    "y = ds.target\n",
    "\n",
    "\n",
    "w = np.dot( np.dot( np.linalg.inv( np.dot(X.T, X) ) , X.T ) , y)\n",
    "print(w) \n",
    "\n",
    "#Here is an easier way to express this in python\n",
    "#We just make x and y into matrices\n",
    "\n",
    "Xm = np.matrix(X)\n",
    "Ym = np.matrix(y.reshape((len(y),1)))\n",
    "\n",
    "wm = (Xm.T * Xm)**-1 * Xm.T * Ym \n",
    "print(X)"
   ]
  },
  {
   "cell_type": "markdown",
   "metadata": {},
   "source": [
    "________________________________________________________________________________________________________\n",
    "\n",
    "**Exercise 5:** Finally, use a hard decision function on the output of the linear regression to make this a binary classifier. This is just like we talked about in the video, where the output of the linear regression passes through a function: \n",
    "\n",
    "- $\\hat{y}=g(w^TX^T)$ where\n",
    " - $g(w^TX^T)$ for $w^TX^T < \\alpha$ maps the predicted class to `0` \n",
    " - $g(w^TX^T)$ for $w^TX^T \\geq \\alpha$ maps the predicted class to `1`. \n",
    "\n",
    "Here, alpha is a threshold for deciding the class. \n",
    "\n",
    "**Question 3**: What value for $\\alpha$ makes the most sense? What is the accuracy of the classifier given the $\\alpha$ you chose? \n",
    "\n",
    "Note: You can calculate the accuracy with the following code: `accuracy = float(sum(yhat==y)) / len(y)` assuming you choose variable names `y` and `yhat` for the target and prediction, respectively."
   ]
  },
  {
   "cell_type": "code",
   "execution_count": 152,
   "metadata": {},
   "outputs": [
    {
     "name": "stdout",
     "output_type": "stream",
     "text": [
      "Percentage accuracy: 0.92667\n"
     ]
    }
   ],
   "source": [
    "# use this box to predict the classification output\n",
    "\n",
    "w = w.reshape((len(w),1))\n",
    "y0 =y.reshape((len(y),1))\n",
    "\n",
    "yhat = np.dot(X,w) > 0.5\n",
    "\n",
    "yhat = yhat > 0.5\n",
    "\n",
    "accuracy = round(float(sum(yhat==y0)) / len(y),5)\n",
    "\n",
    "\n",
    "\n",
    "print('Percentage accuracy:', accuracy)"
   ]
  },
  {
   "cell_type": "markdown",
   "metadata": {},
   "source": [
    "________________________________________________________________________________________________________\n",
    "\n",
    "That's all! Please **save (make sure you saved!!!) and upload your rendered notebook** and please include **team member names** in the notebook submission."
   ]
  },
  {
   "cell_type": "code",
   "execution_count": null,
   "metadata": {},
   "outputs": [],
   "source": []
  }
 ],
 "metadata": {
  "kernelspec": {
   "display_name": "Python 3",
   "language": "python",
   "name": "python3"
  },
  "language_info": {
   "codemirror_mode": {
    "name": "ipython",
    "version": 3
   },
   "file_extension": ".py",
   "mimetype": "text/x-python",
   "name": "python",
   "nbconvert_exporter": "python",
   "pygments_lexer": "ipython3",
   "version": "3.7.4"
  }
 },
 "nbformat": 4,
 "nbformat_minor": 1
}
