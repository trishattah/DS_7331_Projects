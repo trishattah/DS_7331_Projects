{
 "cells": [
  {
   "cell_type": "markdown",
   "metadata": {},
   "source": [
    "## MSDS 7331: Data Mining\n",
    "## Mini Lab: Logistic Regression and SVMs\n",
    "### Group 4"
   ]
  },
  {
   "cell_type": "markdown",
   "metadata": {},
   "source": [
    "##### Paticia Attah\n",
    "##### Linda Eliasen"
   ]
  },
  {
   "cell_type": "markdown",
   "metadata": {},
   "source": [
    "Using logistic regression and SVM we will predict the case status (certified / non certified) of an application submitted by the employer to hire non-immigrant workers under the H-1B visa program. Employers can hire non-immigrant workers only after their LCA petition is certified. The certified LCA petition is then submitted as part of the Petition for a Non-immigrant Worker application for work authorizations for H-1B visa status.\n",
    "\n",
    "The goal is to uncover insights that can help employers understand the process of getting their LCA approved. The results will help employers understand which applications that they may consider submitting will be certified.  This information is important to an employer's buisness operations.  It can pinpoint errors or informtion on the appication that may need adjusting to avoid processing delays and also drive the recruiting strategy in denial situations.  \n",
    "\n",
    "Measures of success include accuracy, precision, recall and utltimatley the F Score, which we will compare among models.\n",
    "\n",
    "The H-1B Dataset contains data from employers Labor Condition Applications and the case certification determinations processed by the Office of Foreign Labor Certification (OFLC) where the date of the determination was issued on or after October 1, 2016 and on or before June 30, 2017.\n",
    "\n",
    "We are using the cleaned, balanced dataset from the EDA process.  As noted during that phase, the dataset was highly unbalanced with 98% of the observations in the certified/certified withdrawn by employer categories and <2% in the denied category.  "
   ]
  },
  {
   "cell_type": "code",
   "execution_count": 1,
   "metadata": {},
   "outputs": [],
   "source": [
    "from sklearn.preprocessing import StandardScaler\n",
    "from sklearn.pipeline import Pipeline\n",
    "from sklearn.model_selection import train_test_split\n",
    "from sklearn.svm import SVC\n",
    "from sklearn.metrics import confusion_matrix, classification_report, accuracy_score,plot_confusion_matrix\n",
    "from sklearn.linear_model import LogisticRegression\n",
    "import pandas as pd\n",
    "import statsmodels.api as sm \n",
    "import numpy as np\n",
    "import random\n",
    "from sklearn.model_selection import GridSearchCV\n",
    "import math\n",
    "\n",
    "import warnings\n",
    "warnings.filterwarnings(\"ignore\") # ignore warnings for clean report"
   ]
  },
  {
   "cell_type": "markdown",
   "metadata": {},
   "source": [
    "#### Preparing the Data\n",
    "This is the initial dataset that is divided into 3 groups (certified, certified-withdrawn, denied).  For logistic regression purposes we reduced this to 2 groups (certified and denied). "
   ]
  },
  {
   "cell_type": "code",
   "execution_count": 2,
   "metadata": {},
   "outputs": [
    {
     "data": {
      "text/plain": [
       "<AxesSubplot:title={'center':'count (target)'}>"
      ]
     },
     "execution_count": 2,
     "metadata": {},
     "output_type": "execute_result"
    },
    {
     "data": {
      "image/png": "[encoded data removed]",
      "text/plain": [
       "<Figure size 432x288 with 1 Axes>"
      ]
     },
     "metadata": {
      "needs_background": "light"
     },
     "output_type": "display_data"
    }
   ],
   "source": [
    "df = pd.read_csv ('Balanced_Visa_Data.csv')\n",
    "df = df.sample(frac = 1) \n",
    "df['CASE_STATUS_CODE'].value_counts().plot(kind='bar', title='count (target)')"
   ]
  },
  {
   "cell_type": "code",
   "execution_count": 3,
   "metadata": {},
   "outputs": [
    {
     "data": {
      "text/plain": [
       "array([0, 1])"
      ]
     },
     "execution_count": 3,
     "metadata": {},
     "output_type": "execute_result"
    }
   ],
   "source": [
    "df1 = df.loc[(df['CASE_STATUS_CODE']==0) | (df['CASE_STATUS_CODE']==2)] \n",
    "df1['CASE_STATUS_CODE'] = np.select([df1.CASE_STATUS_CODE==0],[1],0)\n",
    "np.unique(df1.CASE_STATUS_CODE)"
   ]
  },
  {
   "cell_type": "code",
   "execution_count": 4,
   "metadata": {},
   "outputs": [
    {
     "data": {
      "text/plain": [
       "<AxesSubplot:title={'center':'count (target)'}>"
      ]
     },
     "execution_count": 4,
     "metadata": {},
     "output_type": "execute_result"
    },
    {
     "data": {
      "image/png": "[encoded data removed]",
      "text/plain": [
       "<Figure size 432x288 with 1 Axes>"
      ]
     },
     "metadata": {
      "needs_background": "light"
     },
     "output_type": "display_data"
    }
   ],
   "source": [
    "df1['CASE_STATUS_CODE'].value_counts().plot(kind='bar', title='count (target)')"
   ]
  },
  {
   "cell_type": "markdown",
   "metadata": {},
   "source": [
    "#### Create Dummmies\n",
    "At this point we are removing the categorical columns and replacing them with dummy variable that will 0,1 value for the model. Out target variable is 1 which means certified and 0 which specifies denied. In this phase we also removed some unnecesarry varibale incuding the unit of pay and wage unit of pay which specifies how the salary was recorded for an example weekly, bi-weekly monthly."
   ]
  },
  {
   "cell_type": "code",
   "execution_count": 5,
   "metadata": {},
   "outputs": [],
   "source": [
    "df2 = df1.drop(['CASE_STATUS','EMPLOYER_NAME_CODE', 'EMPLOYER_CITY_CODE',\n",
    "           'SOC_NAME_CODE', 'EMPLOYER_STATE_CODE','WILLFUL_VIOLATOR_CODE',\n",
    "           'AGENT_REPRESENTING_EMPLOYER_CODE', 'JOB_TITLE_CODE', 'EMPLOYER_STATE',\n",
    "           'WORKSITE_CITY_CODE', 'WORKSITE_STATE_CODE', 'WORKSITE_STATE',\n",
    "           'PW_UNIT_OF_PAY_CODE', 'PW_WAGE_LEVEL_CODE', 'WAGE_UNIT_OF_PAY_CODE',\n",
    "           'H1B_DEPENDENT_CODE', 'SUPPORT_H1B_CODE', 'LABOR_CON_AGREE_CODE',\n",
    "           'Unnamed: 0','WORKSITE_CITY','EMPLOYER_NAME','PW_UNIT_OF_PAY',\n",
    "            'EMPLOYER_CITY','WILLFUL_VIOLATOR_CODE', 'WORKSITE_CITY_CODE',\n",
    "            'SOC_GROUP_Code','SOC_NAME','JOB_TITLE','SOC_GROUP_CODE',\n",
    "            'WAGE_UNIT_OF_PAY'], axis=1)"
   ]
  },
  {
   "cell_type": "code",
   "execution_count": 6,
   "metadata": {},
   "outputs": [],
   "source": [
    "WILLFUL_VIOLATOR = pd.get_dummies(df2.WILLFUL_VIOLATOR, prefix='WILL_VIOL',drop_first=True)\n",
    "df2 = pd.concat([df2, WILLFUL_VIOLATOR], axis=1)\n",
    "\n",
    "SOC_GROUP = pd.get_dummies(df2['SOC_GROUP'],drop_first=True)\n",
    "df2 = pd.concat([df2, SOC_GROUP], axis=1)\n",
    "\n",
    "PW_WAGE_LEVEL = pd.get_dummies(df2.PW_WAGE_LEVEL, prefix='PW_LEVEL',drop_first=True)\n",
    "df2 = pd.concat([df2, PW_WAGE_LEVEL], axis=1)\n",
    "\n",
    "AGENT_REPRESENTING_EMPLOYER = pd.get_dummies(df2.AGENT_REPRESENTING_EMPLOYER, prefix='AGENT_REP',drop_first=True)\n",
    "df2 = pd.concat([df2, AGENT_REPRESENTING_EMPLOYER], axis=1)  \n",
    "\n",
    "H1B_DEPENDENT = pd.get_dummies(df2.H1B_DEPENDENT, prefix='H1B_DEP',drop_first=True)\n",
    "df2 = pd.concat([df2, H1B_DEPENDENT], axis=1)\n",
    "\n",
    "LABOR_CON_AGREE = pd.get_dummies(df2.LABOR_CON_AGREE, prefix='LABOR_CON_AGREE',drop_first=True)\n",
    "df2 = pd.concat([df2, LABOR_CON_AGREE], axis=1)\n",
    "\n",
    "SUPPORT_H1B = pd.get_dummies(df2.SUPPORT_H1B, prefix='SUPPORT_H1B',drop_first=True)\n",
    "df2 = pd.concat([df2, SUPPORT_H1B], axis=1)"
   ]
  },
  {
   "cell_type": "code",
   "execution_count": 7,
   "metadata": {},
   "outputs": [
    {
     "data": {
      "text/plain": [
       "(37420, 42)"
      ]
     },
     "execution_count": 7,
     "metadata": {},
     "output_type": "execute_result"
    }
   ],
   "source": [
    "df2.shape"
   ]
  },
  {
   "cell_type": "code",
   "execution_count": 8,
   "metadata": {},
   "outputs": [
    {
     "data": {
      "text/html": [
       "<div>\n",
       "<style scoped>\n",
       "    .dataframe tbody tr th:only-of-type {\n",
       "        vertical-align: middle;\n",
       "    }\n",
       "\n",
       "    .dataframe tbody tr th {\n",
       "        vertical-align: top;\n",
       "    }\n",
       "\n",
       "    .dataframe thead th {\n",
       "        text-align: right;\n",
       "    }\n",
       "</style>\n",
       "<table border=\"1\" class=\"dataframe\">\n",
       "  <thead>\n",
       "    <tr style=\"text-align: right;\">\n",
       "      <th></th>\n",
       "      <th>TOTAL_WORKERS</th>\n",
       "      <th>NEW_EMPLOYMENT</th>\n",
       "      <th>CONTINUED_EMPLOYMENT</th>\n",
       "      <th>CHANGE_PREVIOUS_EMPLOYMENT</th>\n",
       "      <th>NEW_CONCURRENT_EMPLOYMENT</th>\n",
       "      <th>ANNUALIZED_PREVAILING_WAGE</th>\n",
       "      <th>PREVAILING_WAGE</th>\n",
       "      <th>ANNUALIZED_WAGE_RATE_OF_PAY</th>\n",
       "      <th>WAGE_RATE_OF_PAY</th>\n",
       "      <th>DAYS_PROCESS</th>\n",
       "      <th>...</th>\n",
       "      <th>Management</th>\n",
       "      <th>Office and Administrative Support</th>\n",
       "      <th>Personal Care and Service</th>\n",
       "      <th>Production</th>\n",
       "      <th>Sales and Related</th>\n",
       "      <th>Transportation and Material Moving</th>\n",
       "      <th>AGENT_REP_Y</th>\n",
       "      <th>H1B_DEP_Y</th>\n",
       "      <th>LABOR_CON_AGREE_Y</th>\n",
       "      <th>SUPPORT_H1B_Y</th>\n",
       "    </tr>\n",
       "  </thead>\n",
       "  <tbody>\n",
       "    <tr>\n",
       "      <th>38549</th>\n",
       "      <td>1</td>\n",
       "      <td>0</td>\n",
       "      <td>0</td>\n",
       "      <td>0</td>\n",
       "      <td>0</td>\n",
       "      <td>70020.301444</td>\n",
       "      <td>70020.301444</td>\n",
       "      <td>69934.141559</td>\n",
       "      <td>69934.141559</td>\n",
       "      <td>2</td>\n",
       "      <td>...</td>\n",
       "      <td>0</td>\n",
       "      <td>0</td>\n",
       "      <td>0</td>\n",
       "      <td>0</td>\n",
       "      <td>0</td>\n",
       "      <td>0</td>\n",
       "      <td>0</td>\n",
       "      <td>1</td>\n",
       "      <td>1</td>\n",
       "      <td>1</td>\n",
       "    </tr>\n",
       "    <tr>\n",
       "      <th>19612</th>\n",
       "      <td>1</td>\n",
       "      <td>0</td>\n",
       "      <td>0</td>\n",
       "      <td>0</td>\n",
       "      <td>0</td>\n",
       "      <td>68827.000000</td>\n",
       "      <td>68827.000000</td>\n",
       "      <td>67000.000000</td>\n",
       "      <td>67000.000000</td>\n",
       "      <td>3</td>\n",
       "      <td>...</td>\n",
       "      <td>0</td>\n",
       "      <td>0</td>\n",
       "      <td>0</td>\n",
       "      <td>0</td>\n",
       "      <td>0</td>\n",
       "      <td>0</td>\n",
       "      <td>0</td>\n",
       "      <td>1</td>\n",
       "      <td>1</td>\n",
       "      <td>1</td>\n",
       "    </tr>\n",
       "    <tr>\n",
       "      <th>54086</th>\n",
       "      <td>2</td>\n",
       "      <td>1</td>\n",
       "      <td>0</td>\n",
       "      <td>0</td>\n",
       "      <td>0</td>\n",
       "      <td>65179.112976</td>\n",
       "      <td>65179.112976</td>\n",
       "      <td>65179.112976</td>\n",
       "      <td>65179.112976</td>\n",
       "      <td>1</td>\n",
       "      <td>...</td>\n",
       "      <td>0</td>\n",
       "      <td>0</td>\n",
       "      <td>0</td>\n",
       "      <td>0</td>\n",
       "      <td>0</td>\n",
       "      <td>0</td>\n",
       "      <td>0</td>\n",
       "      <td>1</td>\n",
       "      <td>0</td>\n",
       "      <td>1</td>\n",
       "    </tr>\n",
       "    <tr>\n",
       "      <th>48152</th>\n",
       "      <td>4</td>\n",
       "      <td>1</td>\n",
       "      <td>0</td>\n",
       "      <td>0</td>\n",
       "      <td>0</td>\n",
       "      <td>73352.855482</td>\n",
       "      <td>73352.855482</td>\n",
       "      <td>73443.894544</td>\n",
       "      <td>73443.894544</td>\n",
       "      <td>4</td>\n",
       "      <td>...</td>\n",
       "      <td>0</td>\n",
       "      <td>0</td>\n",
       "      <td>0</td>\n",
       "      <td>0</td>\n",
       "      <td>0</td>\n",
       "      <td>0</td>\n",
       "      <td>0</td>\n",
       "      <td>0</td>\n",
       "      <td>1</td>\n",
       "      <td>1</td>\n",
       "    </tr>\n",
       "    <tr>\n",
       "      <th>38798</th>\n",
       "      <td>1</td>\n",
       "      <td>0</td>\n",
       "      <td>0</td>\n",
       "      <td>0</td>\n",
       "      <td>0</td>\n",
       "      <td>125025.069780</td>\n",
       "      <td>125025.069780</td>\n",
       "      <td>133871.424355</td>\n",
       "      <td>133871.424355</td>\n",
       "      <td>2</td>\n",
       "      <td>...</td>\n",
       "      <td>0</td>\n",
       "      <td>0</td>\n",
       "      <td>0</td>\n",
       "      <td>0</td>\n",
       "      <td>0</td>\n",
       "      <td>0</td>\n",
       "      <td>0</td>\n",
       "      <td>0</td>\n",
       "      <td>1</td>\n",
       "      <td>0</td>\n",
       "    </tr>\n",
       "  </tbody>\n",
       "</table>\n",
       "<p>5 rows × 35 columns</p>\n",
       "</div>"
      ],
      "text/plain": [
       "       TOTAL_WORKERS  NEW_EMPLOYMENT  CONTINUED_EMPLOYMENT  \\\n",
       "38549              1               0                     0   \n",
       "19612              1               0                     0   \n",
       "54086              2               1                     0   \n",
       "48152              4               1                     0   \n",
       "38798              1               0                     0   \n",
       "\n",
       "       CHANGE_PREVIOUS_EMPLOYMENT  NEW_CONCURRENT_EMPLOYMENT  \\\n",
       "38549                           0                          0   \n",
       "19612                           0                          0   \n",
       "54086                           0                          0   \n",
       "48152                           0                          0   \n",
       "38798                           0                          0   \n",
       "\n",
       "       ANNUALIZED_PREVAILING_WAGE  PREVAILING_WAGE  \\\n",
       "38549                70020.301444     70020.301444   \n",
       "19612                68827.000000     68827.000000   \n",
       "54086                65179.112976     65179.112976   \n",
       "48152                73352.855482     73352.855482   \n",
       "38798               125025.069780    125025.069780   \n",
       "\n",
       "       ANNUALIZED_WAGE_RATE_OF_PAY  WAGE_RATE_OF_PAY  DAYS_PROCESS  ...  \\\n",
       "38549                 69934.141559      69934.141559             2  ...   \n",
       "19612                 67000.000000      67000.000000             3  ...   \n",
       "54086                 65179.112976      65179.112976             1  ...   \n",
       "48152                 73443.894544      73443.894544             4  ...   \n",
       "38798                133871.424355     133871.424355             2  ...   \n",
       "\n",
       "       Management  Office and Administrative Support  \\\n",
       "38549           0                                  0   \n",
       "19612           0                                  0   \n",
       "54086           0                                  0   \n",
       "48152           0                                  0   \n",
       "38798           0                                  0   \n",
       "\n",
       "       Personal Care and Service  Production  Sales and Related  \\\n",
       "38549                          0           0                  0   \n",
       "19612                          0           0                  0   \n",
       "54086                          0           0                  0   \n",
       "48152                          0           0                  0   \n",
       "38798                          0           0                  0   \n",
       "\n",
       "       Transportation and Material Moving  AGENT_REP_Y  H1B_DEP_Y  \\\n",
       "38549                                   0            0          1   \n",
       "19612                                   0            0          1   \n",
       "54086                                   0            0          1   \n",
       "48152                                   0            0          0   \n",
       "38798                                   0            0          0   \n",
       "\n",
       "       LABOR_CON_AGREE_Y  SUPPORT_H1B_Y  \n",
       "38549                  1              1  \n",
       "19612                  1              1  \n",
       "54086                  0              1  \n",
       "48152                  1              1  \n",
       "38798                  1              0  \n",
       "\n",
       "[5 rows x 35 columns]"
      ]
     },
     "execution_count": 8,
     "metadata": {},
     "output_type": "execute_result"
    }
   ],
   "source": [
    "df3 = df2.drop(['WILLFUL_VIOLATOR','PW_WAGE_LEVEL',\n",
    "               'H1B_DEPENDENT','LABOR_CON_AGREE',\n",
    "                'AGENT_REPRESENTING_EMPLOYER','SOC_GROUP','SUPPORT_H1B'], axis=1)\n",
    "df3.head()"
   ]
  },
  {
   "cell_type": "code",
   "execution_count": 9,
   "metadata": {},
   "outputs": [],
   "source": [
    "cont_vars = ['TOTAL_WORKERS','ANNUALIZED_PREVAILING_WAGE', \n",
    "           'PREVAILING_WAGE', 'ANNUALIZED_WAGE_RATE_OF_PAY',\n",
    "                'WAGE_RATE_OF_PAY','DAYS_PROCESS']"
   ]
  },
  {
   "cell_type": "code",
   "execution_count": 10,
   "metadata": {},
   "outputs": [
    {
     "data": {
      "text/plain": [
       "(37420, 35)"
      ]
     },
     "execution_count": 10,
     "metadata": {},
     "output_type": "execute_result"
    }
   ],
   "source": [
    "pd.set_option('display.max_columns', 100)\n",
    "df3.shape"
   ]
  },
  {
   "cell_type": "code",
   "execution_count": 11,
   "metadata": {},
   "outputs": [
    {
     "name": "stdout",
     "output_type": "stream",
     "text": [
      "<class 'pandas.core.frame.DataFrame'>\n",
      "Int64Index: 37420 entries, 38549 to 47069\n",
      "Data columns (total 35 columns):\n",
      " #   Column                                          Non-Null Count  Dtype  \n",
      "---  ------                                          --------------  -----  \n",
      " 0   TOTAL_WORKERS                                   37420 non-null  int64  \n",
      " 1   NEW_EMPLOYMENT                                  37420 non-null  int64  \n",
      " 2   CONTINUED_EMPLOYMENT                            37420 non-null  int64  \n",
      " 3   CHANGE_PREVIOUS_EMPLOYMENT                      37420 non-null  int64  \n",
      " 4   NEW_CONCURRENT_EMPLOYMENT                       37420 non-null  int64  \n",
      " 5   ANNUALIZED_PREVAILING_WAGE                      37420 non-null  float64\n",
      " 6   PREVAILING_WAGE                                 37420 non-null  float64\n",
      " 7   ANNUALIZED_WAGE_RATE_OF_PAY                     37420 non-null  float64\n",
      " 8   WAGE_RATE_OF_PAY                                37420 non-null  float64\n",
      " 9   DAYS_PROCESS                                    37420 non-null  int64  \n",
      " 10  CASE_STATUS_CODE                                37420 non-null  int64  \n",
      " 11  WILL_VIOL_Y                                     37420 non-null  uint8  \n",
      " 12  Arts, Design, Entertainment, Sports, and Media  37420 non-null  uint8  \n",
      " 13  Building and Grounds Cleaning and Maintenance   37420 non-null  uint8  \n",
      " 14  Business and Financial Operations               37420 non-null  uint8  \n",
      " 15  Community and Social Service                    37420 non-null  uint8  \n",
      " 16  Computer and Mathematical                       37420 non-null  uint8  \n",
      " 17  Construction and Extraction                     37420 non-null  uint8  \n",
      " 18  Education, Training, and Library                37420 non-null  uint8  \n",
      " 19  Food Preparation and Serving Related            37420 non-null  uint8  \n",
      " 20  Healthcare Practitioners and Technical          37420 non-null  uint8  \n",
      " 21  Healthcare Support                              37420 non-null  uint8  \n",
      " 22  Installation, Maintenance, and Repair           37420 non-null  uint8  \n",
      " 23  Legal                                           37420 non-null  uint8  \n",
      " 24  Life, Physical, and Social Science              37420 non-null  uint8  \n",
      " 25  Management                                      37420 non-null  uint8  \n",
      " 26  Office and Administrative Support               37420 non-null  uint8  \n",
      " 27  Personal Care and Service                       37420 non-null  uint8  \n",
      " 28  Production                                      37420 non-null  uint8  \n",
      " 29  Sales and Related                               37420 non-null  uint8  \n",
      " 30  Transportation and Material Moving              37420 non-null  uint8  \n",
      " 31  AGENT_REP_Y                                     37420 non-null  uint8  \n",
      " 32  H1B_DEP_Y                                       37420 non-null  uint8  \n",
      " 33  LABOR_CON_AGREE_Y                               37420 non-null  uint8  \n",
      " 34  SUPPORT_H1B_Y                                   37420 non-null  uint8  \n",
      "dtypes: float64(4), int64(7), uint8(24)\n",
      "memory usage: 4.3 MB\n"
     ]
    }
   ],
   "source": [
    "df3.info()"
   ]
  },
  {
   "cell_type": "markdown",
   "metadata": {},
   "source": [
    "### SECTION 1 - CREATE MODELS:  Logistic Regression and SVM "
   ]
  },
  {
   "cell_type": "markdown",
   "metadata": {},
   "source": [
    "Preparing the training and testing subsets - - Scaling the data\n",
    "\n",
    "The data is wide-spread for wage features, days processed and total workers, which will skew against the other features which are primarily yes/no.\n",
    "\n",
    "Scaling the data brings all values onto one scale to minimize the effects of this."
   ]
  },
  {
   "cell_type": "code",
   "execution_count": 12,
   "metadata": {},
   "outputs": [],
   "source": [
    "# divide data set to x and y and Scale data\n",
    "\n",
    "y = df3['CASE_STATUS_CODE']\n",
    "x = df3.drop(['CASE_STATUS_CODE'], axis=1)"
   ]
  },
  {
   "cell_type": "code",
   "execution_count": 13,
   "metadata": {},
   "outputs": [
    {
     "name": "stdout",
     "output_type": "stream",
     "text": [
      "(7484, 34)\n",
      "(7484,)\n"
     ]
    }
   ],
   "source": [
    "a = df3['CASE_STATUS_CODE'].values\n",
    "bb = df3.drop(['CASE_STATUS_CODE'], axis=1)\n",
    "b = bb.values\n",
    "\n",
    "x_t = x[:7484]\n",
    "y_t = y[:7484]\n",
    "\n",
    "print(x_t.shape)\n",
    "print(y_t.shape)"
   ]
  },
  {
   "cell_type": "code",
   "execution_count": 14,
   "metadata": {
    "scrolled": true
   },
   "outputs": [
    {
     "name": "stdout",
     "output_type": "stream",
     "text": [
      "(29936,)\n",
      "(7484, 34)\n"
     ]
    }
   ],
   "source": [
    "# create train set\n",
    "import random\n",
    "random.seed(0)\n",
    "x_train,x_test,y_train,y_test = train_test_split(x,y,test_size=0.2, random_state=0)\n",
    "print(y_train.shape)\n",
    "print(x_test.shape)"
   ]
  },
  {
   "cell_type": "markdown",
   "metadata": {},
   "source": [
    "### Logistic Regression\n"
   ]
  },
  {
   "cell_type": "markdown",
   "metadata": {},
   "source": [
    "#### Running the Grid Search"
   ]
  },
  {
   "cell_type": "code",
   "execution_count": 15,
   "metadata": {},
   "outputs": [],
   "source": [
    "def print_results(results):\n",
    "    print('BEST PARAMS: {}\\n'.format(results.best_params_))\n",
    "\n",
    "    means = results.cv_results_['mean_test_score']\n",
    "    stds = results.cv_results_['std_test_score']\n",
    "    for mean, std, params in zip(means, stds, results.cv_results_['params']):\n",
    "        print('{} (+/-{}) for {}'.format(round(mean, 3), round(std * 2, 3), params))"
   ]
  },
  {
   "cell_type": "code",
   "execution_count": 16,
   "metadata": {},
   "outputs": [
    {
     "name": "stdout",
     "output_type": "stream",
     "text": [
      "Fitting 5 folds for each of 4 candidates, totalling 20 fits\n",
      "BEST PARAMS: {'C': 0.1, 'penalty': 'l2', 'solver': 'sag'}\n",
      "\n",
      "0.591 (+/-0.012) for {'C': 0.1, 'penalty': 'l2', 'solver': 'sag'}\n",
      "0.591 (+/-0.012) for {'C': 1, 'penalty': 'l2', 'solver': 'sag'}\n",
      "0.591 (+/-0.012) for {'C': 10, 'penalty': 'l2', 'solver': 'sag'}\n",
      "0.591 (+/-0.012) for {'C': 100, 'penalty': 'l2', 'solver': 'sag'}\n"
     ]
    }
   ],
   "source": [
    "# grid search\n",
    "params = {\n",
    "    'penalty':['l2'],        # l1 is Lasso, l2 is Ridge\n",
    "    'solver':['sag'],\n",
    "    'C': [0.1,1,10,100]\n",
    "}\n",
    "\n",
    "lr = LogisticRegression()\n",
    "lr_gs = GridSearchCV(lr, params, cv=5, verbose=1).fit(x_train, y_train)\n",
    "\n",
    "print_results(lr_gs)"
   ]
  },
  {
   "cell_type": "markdown",
   "metadata": {},
   "source": [
    "#### Logistic Regression Model"
   ]
  },
  {
   "cell_type": "markdown",
   "metadata": {},
   "source": [
    "Applying a scale it to the entire data before splitting into training and test sets will bias the model evaluation because information would have leaked from the test set to the training set. scikit learn developers recommend using StandardScaler within a Pipeline in order to prevent most risks of data leaking: pipe = make_pipeline(StandardScaler(), LogisticRegression())."
   ]
  },
  {
   "cell_type": "code",
   "execution_count": 17,
   "metadata": {},
   "outputs": [
    {
     "data": {
      "text/plain": [
       "Pipeline(steps=[('scale', StandardScaler()),\n",
       "                ('lg',\n",
       "                 LogisticRegression(C=0.1, random_state=0, solver='sag'))])"
      ]
     },
     "execution_count": 17,
     "metadata": {},
     "output_type": "execute_result"
    }
   ],
   "source": [
    "# Create pipeline\n",
    "pipe = Pipeline([\n",
    "        ('scale', StandardScaler()),\n",
    "        ('lg', LogisticRegression(penalty='l2',solver='sag', random_state=0,C=0.1))])\n",
    "pipe.fit(x_train,y_train)"
   ]
  },
  {
   "cell_type": "markdown",
   "metadata": {},
   "source": [
    "#### 10 fold Cross Validation "
   ]
  },
  {
   "cell_type": "code",
   "execution_count": 18,
   "metadata": {},
   "outputs": [],
   "source": [
    "# cross validation\n",
    "random.seed(10)\n",
    "from sklearn.model_selection import ShuffleSplit\n",
    "num_cv_iterations = 10\n",
    "cv_object = ShuffleSplit(n_splits=num_cv_iterations,test_size  = 0.2)"
   ]
  },
  {
   "cell_type": "code",
   "execution_count": 19,
   "metadata": {},
   "outputs": [
    {
     "name": "stdout",
     "output_type": "stream",
     "text": [
      "[0.85838343 0.83767535 0.81830327 0.82765531 0.83366733 0.84368737\n",
      " 0.84034736 0.82030728 0.83433534 0.82832331]\n"
     ]
    }
   ],
   "source": [
    "# accuracies fom cross validation\n",
    "\n",
    "from sklearn.model_selection import cross_val_score\n",
    "accuracies = cross_val_score(pipe, x_t, y=y_t, cv=cv_object)\n",
    "print(accuracies)"
   ]
  },
  {
   "cell_type": "code",
   "execution_count": 20,
   "metadata": {},
   "outputs": [
    {
     "name": "stdout",
     "output_type": "stream",
     "text": [
      "====Iteration 0  ====\n",
      "accuracy 0.8309727418492785\n",
      "precision 0.8157031052764453\n",
      "recall 0.8579394583112055\n",
      "f1-score 0.836288339588456\n",
      "confusion matrix\n",
      " [[2988  730]\n",
      " [ 535 3231]]\n",
      "====Iteration 1  ====\n",
      "accuracy 0.8397915553180118\n",
      "precision 0.8291878172588832\n",
      "recall 0.8613234906406538\n",
      "f1-score 0.844950213371266\n",
      "confusion matrix\n",
      " [[3018  673]\n",
      " [ 526 3267]]\n",
      "====Iteration 2  ====\n",
      "accuracy 0.8347140566541956\n",
      "precision 0.8185308420783209\n",
      "recall 0.8582930756843801\n",
      "f1-score 0.8379405214201493\n",
      "confusion matrix\n",
      " [[3049  709]\n",
      " [ 528 3198]]\n",
      "====Iteration 3  ====\n",
      "accuracy 0.8333778727952966\n",
      "precision 0.8170699973978662\n",
      "recall 0.8523344191096635\n",
      "f1-score 0.8343297462468448\n",
      "confusion matrix\n",
      " [[3097  703]\n",
      " [ 544 3140]]\n",
      "====Iteration 4  ====\n",
      "accuracy 0.8369855692143239\n",
      "precision 0.8133333333333334\n",
      "recall 0.8657205240174672\n",
      "f1-score 0.8387096774193548\n",
      "confusion matrix\n",
      " [[3092  728]\n",
      " [ 492 3172]]\n",
      "====Iteration 5  ====\n",
      "accuracy 0.8305718866916088\n",
      "precision 0.8229140086756825\n",
      "recall 0.8489076072650698\n",
      "f1-score 0.83570873283234\n",
      "confusion matrix\n",
      " [[2991  694]\n",
      " [ 574 3225]]\n",
      "====Iteration 6  ====\n",
      "accuracy 0.832843399251737\n",
      "precision 0.8161652218255991\n",
      "recall 0.8579469311176628\n",
      "f1-score 0.8365346922775382\n",
      "confusion matrix\n",
      " [[3032  721]\n",
      " [ 530 3201]]\n",
      "====Iteration 7  ====\n",
      "accuracy 0.8345804382683057\n",
      "precision 0.8210715201230454\n",
      "recall 0.8557306973016298\n",
      "f1-score 0.8380429094714811\n",
      "confusion matrix\n",
      " [[3043  698]\n",
      " [ 540 3203]]\n",
      "====Iteration 8  ====\n",
      "accuracy 0.8270978086584714\n",
      "precision 0.8112244897959183\n",
      "recall 0.8516336368505624\n",
      "f1-score 0.8309380715965508\n",
      "confusion matrix\n",
      " [[3010  740]\n",
      " [ 554 3180]]\n",
      "====Iteration 9  ====\n",
      "accuracy 0.8356493853554249\n",
      "precision 0.8291869710182098\n",
      "recall 0.8514616802739005\n",
      "f1-score 0.8401767151767152\n",
      "confusion matrix\n",
      " [[3021  666]\n",
      " [ 564 3233]]\n"
     ]
    }
   ],
   "source": [
    "pd.set_option('display.max_rows', None)\n",
    "from sklearn import metrics as mt\n",
    "iter_num=0\n",
    "average_accuracy = []\n",
    "average_precision = []\n",
    "average_recall = []\n",
    "average_f1_score=[]\n",
    "average_matrix=[]\n",
    "\n",
    "for iter_num, (train_indices, test_indices) in enumerate(cv_object.split(b,a)):\n",
    "    pipe.fit(b[train_indices],a[train_indices])  # train object\n",
    "    y_hat = pipe.predict(b[test_indices])\n",
    "    average_accuracy.append(mt.accuracy_score(a[test_indices],y_hat))\n",
    "    average_precision.append(mt.precision_score(a[test_indices],y_hat))\n",
    "    average_recall.append(mt.recall_score(a[test_indices],y_hat))\n",
    "    average_f1_score.append(mt.f1_score(a[test_indices],y_hat)) \n",
    "    average_matrix.append(mt.confusion_matrix(a[test_indices],y_hat))\n",
    "    \n",
    "    print(\"====Iteration\",iter_num,\" ====\")\n",
    "    print(\"accuracy\", mt.accuracy_score(a[test_indices],y_hat))\n",
    "    print(\"precision\", mt.precision_score(a[test_indices],y_hat)) \n",
    "    print(\"recall\", mt.recall_score(a[test_indices],y_hat)) \n",
    "    print(\"f1-score\", mt.f1_score(a[test_indices],y_hat))\n",
    "    print(\"confusion matrix\\n\",mt.confusion_matrix(a[test_indices],y_hat))\n",
    "#    print(classification_report(a[test_indices],y_hat))"
   ]
  },
  {
   "cell_type": "code",
   "execution_count": 21,
   "metadata": {},
   "outputs": [
    {
     "name": "stdout",
     "output_type": "stream",
     "text": [
      "logistic regression averaged results\n",
      "average accuracy 0.8336584714056654\n",
      "average precision 0.8194387306783305\n",
      "average recall 0.8561291520572196\n",
      "average f1_score 0.8373619619400696\n",
      "confusion matrix\n",
      " [[3034.1  706.2]\n",
      " [ 538.7 3205. ]]\n"
     ]
    }
   ],
   "source": [
    "final_accuracy = sum(average_accuracy)/len(average_accuracy)\n",
    "final_precision = sum(average_precision)/len(average_precision)\n",
    "final_recall = sum(average_recall)/len(average_recall)\n",
    "final_f1_score = sum(average_f1_score)/len(average_accuracy)\n",
    "final_confusion_mat = sum(average_matrix)/len(average_matrix)\n",
    "\n",
    "print(\"logistic regression averaged results\")\n",
    "print(\"average accuracy\",final_accuracy)\n",
    "print(\"average precision\",final_precision)\n",
    "print(\"average recall\",final_recall)\n",
    "print(\"average f1_score\",final_f1_score)\n",
    "print(\"confusion matrix\\n\",final_confusion_mat)"
   ]
  },
  {
   "cell_type": "code",
   "execution_count": 22,
   "metadata": {},
   "outputs": [
    {
     "data": {
      "image/png": "[encoded data removed]",
      "text/plain": [
       "<Figure size 432x288 with 1 Axes>"
      ]
     },
     "metadata": {
      "needs_background": "light"
     },
     "output_type": "display_data"
    }
   ],
   "source": [
    "from matplotlib import pyplot as plt\n",
    "from sklearn.metrics import roc_auc_score\n",
    "from sklearn.metrics import roc_curve\n",
    "logit_roc_auc = roc_auc_score(y_test, pipe.predict(x_test))\n",
    "fpr, tpr, thresholds = roc_curve(y_test, pipe.predict_proba(x_test)[:,1])\n",
    "plt.figure()\n",
    "plt.plot(fpr, tpr, label='Logistic Regression (area = %0.2f)' % logit_roc_auc)\n",
    "plt.plot([0, 1], [0, 1],'r--')\n",
    "plt.xlim([0.0, 1.0])\n",
    "plt.ylim([0.0, 1.05])\n",
    "plt.xlabel('False Positive Rate')\n",
    "plt.ylabel('True Positive Rate')\n",
    "plt.title('Receiver operating characteristic')\n",
    "plt.legend(loc=\"lower right\")\n",
    "plt.savefig('Log_ROC')\n",
    "plt.show()"
   ]
  },
  {
   "cell_type": "markdown",
   "metadata": {},
   "source": [
    "### Support Vector Machines"
   ]
  },
  {
   "cell_type": "code",
   "execution_count": 23,
   "metadata": {},
   "outputs": [
    {
     "data": {
      "text/plain": [
       "(11420, 35)"
      ]
     },
     "execution_count": 23,
     "metadata": {},
     "output_type": "execute_result"
    }
   ],
   "source": [
    "# reducing data set size for SVC\n",
    "\n",
    "df4=df3.sort_values(by=['CASE_STATUS_CODE'])\n",
    "df4=df4.iloc[13000:, :]\n",
    "df4=df4.iloc[:11420, :]\n",
    "df4.shape"
   ]
  },
  {
   "cell_type": "code",
   "execution_count": 24,
   "metadata": {},
   "outputs": [
    {
     "data": {
      "text/html": [
       "<div>\n",
       "<style scoped>\n",
       "    .dataframe tbody tr th:only-of-type {\n",
       "        vertical-align: middle;\n",
       "    }\n",
       "\n",
       "    .dataframe tbody tr th {\n",
       "        vertical-align: top;\n",
       "    }\n",
       "\n",
       "    .dataframe thead th {\n",
       "        text-align: right;\n",
       "    }\n",
       "</style>\n",
       "<table border=\"1\" class=\"dataframe\">\n",
       "  <thead>\n",
       "    <tr style=\"text-align: right;\">\n",
       "      <th></th>\n",
       "      <th>TOTAL_WORKERS</th>\n",
       "      <th>NEW_EMPLOYMENT</th>\n",
       "      <th>CONTINUED_EMPLOYMENT</th>\n",
       "      <th>CHANGE_PREVIOUS_EMPLOYMENT</th>\n",
       "      <th>NEW_CONCURRENT_EMPLOYMENT</th>\n",
       "      <th>ANNUALIZED_PREVAILING_WAGE</th>\n",
       "      <th>PREVAILING_WAGE</th>\n",
       "      <th>ANNUALIZED_WAGE_RATE_OF_PAY</th>\n",
       "      <th>WAGE_RATE_OF_PAY</th>\n",
       "      <th>DAYS_PROCESS</th>\n",
       "      <th>CASE_STATUS_CODE</th>\n",
       "      <th>WILL_VIOL_Y</th>\n",
       "      <th>Arts, Design, Entertainment, Sports, and Media</th>\n",
       "      <th>Building and Grounds Cleaning and Maintenance</th>\n",
       "      <th>Business and Financial Operations</th>\n",
       "      <th>Community and Social Service</th>\n",
       "      <th>Computer and Mathematical</th>\n",
       "      <th>Construction and Extraction</th>\n",
       "      <th>Education, Training, and Library</th>\n",
       "      <th>Food Preparation and Serving Related</th>\n",
       "      <th>Healthcare Practitioners and Technical</th>\n",
       "      <th>Healthcare Support</th>\n",
       "      <th>Installation, Maintenance, and Repair</th>\n",
       "      <th>Legal</th>\n",
       "      <th>Life, Physical, and Social Science</th>\n",
       "      <th>Management</th>\n",
       "      <th>Office and Administrative Support</th>\n",
       "      <th>Personal Care and Service</th>\n",
       "      <th>Production</th>\n",
       "      <th>Sales and Related</th>\n",
       "      <th>Transportation and Material Moving</th>\n",
       "      <th>AGENT_REP_Y</th>\n",
       "      <th>H1B_DEP_Y</th>\n",
       "      <th>LABOR_CON_AGREE_Y</th>\n",
       "      <th>SUPPORT_H1B_Y</th>\n",
       "    </tr>\n",
       "  </thead>\n",
       "  <tbody>\n",
       "    <tr>\n",
       "      <th>52604</th>\n",
       "      <td>1</td>\n",
       "      <td>0</td>\n",
       "      <td>0</td>\n",
       "      <td>0</td>\n",
       "      <td>0</td>\n",
       "      <td>94852.759620</td>\n",
       "      <td>94852.759620</td>\n",
       "      <td>109047.040989</td>\n",
       "      <td>109047.040989</td>\n",
       "      <td>2</td>\n",
       "      <td>0</td>\n",
       "      <td>0</td>\n",
       "      <td>0</td>\n",
       "      <td>0</td>\n",
       "      <td>0</td>\n",
       "      <td>0</td>\n",
       "      <td>1</td>\n",
       "      <td>0</td>\n",
       "      <td>0</td>\n",
       "      <td>0</td>\n",
       "      <td>0</td>\n",
       "      <td>0</td>\n",
       "      <td>0</td>\n",
       "      <td>0</td>\n",
       "      <td>0</td>\n",
       "      <td>0</td>\n",
       "      <td>0</td>\n",
       "      <td>0</td>\n",
       "      <td>0</td>\n",
       "      <td>0</td>\n",
       "      <td>0</td>\n",
       "      <td>0</td>\n",
       "      <td>1</td>\n",
       "      <td>1</td>\n",
       "      <td>0</td>\n",
       "    </tr>\n",
       "    <tr>\n",
       "      <th>42159</th>\n",
       "      <td>1</td>\n",
       "      <td>0</td>\n",
       "      <td>0</td>\n",
       "      <td>0</td>\n",
       "      <td>0</td>\n",
       "      <td>76168.564873</td>\n",
       "      <td>36.619502</td>\n",
       "      <td>58642.046244</td>\n",
       "      <td>58642.046244</td>\n",
       "      <td>6</td>\n",
       "      <td>0</td>\n",
       "      <td>0</td>\n",
       "      <td>0</td>\n",
       "      <td>0</td>\n",
       "      <td>0</td>\n",
       "      <td>0</td>\n",
       "      <td>1</td>\n",
       "      <td>0</td>\n",
       "      <td>0</td>\n",
       "      <td>0</td>\n",
       "      <td>0</td>\n",
       "      <td>0</td>\n",
       "      <td>0</td>\n",
       "      <td>0</td>\n",
       "      <td>0</td>\n",
       "      <td>0</td>\n",
       "      <td>0</td>\n",
       "      <td>0</td>\n",
       "      <td>0</td>\n",
       "      <td>0</td>\n",
       "      <td>0</td>\n",
       "      <td>0</td>\n",
       "      <td>1</td>\n",
       "      <td>1</td>\n",
       "      <td>1</td>\n",
       "    </tr>\n",
       "    <tr>\n",
       "      <th>14500</th>\n",
       "      <td>1</td>\n",
       "      <td>0</td>\n",
       "      <td>0</td>\n",
       "      <td>1</td>\n",
       "      <td>0</td>\n",
       "      <td>74818.000000</td>\n",
       "      <td>74818.000000</td>\n",
       "      <td>74818.000000</td>\n",
       "      <td>74818.000000</td>\n",
       "      <td>6</td>\n",
       "      <td>1</td>\n",
       "      <td>0</td>\n",
       "      <td>0</td>\n",
       "      <td>0</td>\n",
       "      <td>0</td>\n",
       "      <td>0</td>\n",
       "      <td>1</td>\n",
       "      <td>0</td>\n",
       "      <td>0</td>\n",
       "      <td>0</td>\n",
       "      <td>0</td>\n",
       "      <td>0</td>\n",
       "      <td>0</td>\n",
       "      <td>0</td>\n",
       "      <td>0</td>\n",
       "      <td>0</td>\n",
       "      <td>0</td>\n",
       "      <td>0</td>\n",
       "      <td>0</td>\n",
       "      <td>0</td>\n",
       "      <td>0</td>\n",
       "      <td>0</td>\n",
       "      <td>1</td>\n",
       "      <td>0</td>\n",
       "      <td>1</td>\n",
       "    </tr>\n",
       "    <tr>\n",
       "      <th>55186</th>\n",
       "      <td>1</td>\n",
       "      <td>1</td>\n",
       "      <td>0</td>\n",
       "      <td>0</td>\n",
       "      <td>0</td>\n",
       "      <td>47304.114811</td>\n",
       "      <td>22.742363</td>\n",
       "      <td>46777.124289</td>\n",
       "      <td>22.489002</td>\n",
       "      <td>6</td>\n",
       "      <td>0</td>\n",
       "      <td>0</td>\n",
       "      <td>0</td>\n",
       "      <td>0</td>\n",
       "      <td>0</td>\n",
       "      <td>0</td>\n",
       "      <td>0</td>\n",
       "      <td>0</td>\n",
       "      <td>0</td>\n",
       "      <td>0</td>\n",
       "      <td>0</td>\n",
       "      <td>1</td>\n",
       "      <td>0</td>\n",
       "      <td>0</td>\n",
       "      <td>0</td>\n",
       "      <td>0</td>\n",
       "      <td>0</td>\n",
       "      <td>0</td>\n",
       "      <td>0</td>\n",
       "      <td>0</td>\n",
       "      <td>0</td>\n",
       "      <td>0</td>\n",
       "      <td>1</td>\n",
       "      <td>1</td>\n",
       "      <td>1</td>\n",
       "    </tr>\n",
       "    <tr>\n",
       "      <th>8534</th>\n",
       "      <td>1</td>\n",
       "      <td>1</td>\n",
       "      <td>0</td>\n",
       "      <td>0</td>\n",
       "      <td>0</td>\n",
       "      <td>56285.000000</td>\n",
       "      <td>56285.000000</td>\n",
       "      <td>80000.000000</td>\n",
       "      <td>80000.000000</td>\n",
       "      <td>6</td>\n",
       "      <td>1</td>\n",
       "      <td>0</td>\n",
       "      <td>0</td>\n",
       "      <td>0</td>\n",
       "      <td>0</td>\n",
       "      <td>0</td>\n",
       "      <td>1</td>\n",
       "      <td>0</td>\n",
       "      <td>0</td>\n",
       "      <td>0</td>\n",
       "      <td>0</td>\n",
       "      <td>0</td>\n",
       "      <td>0</td>\n",
       "      <td>0</td>\n",
       "      <td>0</td>\n",
       "      <td>0</td>\n",
       "      <td>0</td>\n",
       "      <td>0</td>\n",
       "      <td>0</td>\n",
       "      <td>0</td>\n",
       "      <td>0</td>\n",
       "      <td>0</td>\n",
       "      <td>1</td>\n",
       "      <td>1</td>\n",
       "      <td>1</td>\n",
       "    </tr>\n",
       "  </tbody>\n",
       "</table>\n",
       "</div>"
      ],
      "text/plain": [
       "       TOTAL_WORKERS  NEW_EMPLOYMENT  CONTINUED_EMPLOYMENT  \\\n",
       "52604              1               0                     0   \n",
       "42159              1               0                     0   \n",
       "14500              1               0                     0   \n",
       "55186              1               1                     0   \n",
       "8534               1               1                     0   \n",
       "\n",
       "       CHANGE_PREVIOUS_EMPLOYMENT  NEW_CONCURRENT_EMPLOYMENT  \\\n",
       "52604                           0                          0   \n",
       "42159                           0                          0   \n",
       "14500                           1                          0   \n",
       "55186                           0                          0   \n",
       "8534                            0                          0   \n",
       "\n",
       "       ANNUALIZED_PREVAILING_WAGE  PREVAILING_WAGE  \\\n",
       "52604                94852.759620     94852.759620   \n",
       "42159                76168.564873        36.619502   \n",
       "14500                74818.000000     74818.000000   \n",
       "55186                47304.114811        22.742363   \n",
       "8534                 56285.000000     56285.000000   \n",
       "\n",
       "       ANNUALIZED_WAGE_RATE_OF_PAY  WAGE_RATE_OF_PAY  DAYS_PROCESS  \\\n",
       "52604                109047.040989     109047.040989             2   \n",
       "42159                 58642.046244      58642.046244             6   \n",
       "14500                 74818.000000      74818.000000             6   \n",
       "55186                 46777.124289         22.489002             6   \n",
       "8534                  80000.000000      80000.000000             6   \n",
       "\n",
       "       CASE_STATUS_CODE  WILL_VIOL_Y  \\\n",
       "52604                 0            0   \n",
       "42159                 0            0   \n",
       "14500                 1            0   \n",
       "55186                 0            0   \n",
       "8534                  1            0   \n",
       "\n",
       "       Arts, Design, Entertainment, Sports, and Media  \\\n",
       "52604                                               0   \n",
       "42159                                               0   \n",
       "14500                                               0   \n",
       "55186                                               0   \n",
       "8534                                                0   \n",
       "\n",
       "       Building and Grounds Cleaning and Maintenance  \\\n",
       "52604                                              0   \n",
       "42159                                              0   \n",
       "14500                                              0   \n",
       "55186                                              0   \n",
       "8534                                               0   \n",
       "\n",
       "       Business and Financial Operations  Community and Social Service  \\\n",
       "52604                                  0                             0   \n",
       "42159                                  0                             0   \n",
       "14500                                  0                             0   \n",
       "55186                                  0                             0   \n",
       "8534                                   0                             0   \n",
       "\n",
       "       Computer and Mathematical  Construction and Extraction  \\\n",
       "52604                          1                            0   \n",
       "42159                          1                            0   \n",
       "14500                          1                            0   \n",
       "55186                          0                            0   \n",
       "8534                           1                            0   \n",
       "\n",
       "       Education, Training, and Library  Food Preparation and Serving Related  \\\n",
       "52604                                 0                                     0   \n",
       "42159                                 0                                     0   \n",
       "14500                                 0                                     0   \n",
       "55186                                 0                                     0   \n",
       "8534                                  0                                     0   \n",
       "\n",
       "       Healthcare Practitioners and Technical  Healthcare Support  \\\n",
       "52604                                       0                   0   \n",
       "42159                                       0                   0   \n",
       "14500                                       0                   0   \n",
       "55186                                       0                   1   \n",
       "8534                                        0                   0   \n",
       "\n",
       "       Installation, Maintenance, and Repair  Legal  \\\n",
       "52604                                      0      0   \n",
       "42159                                      0      0   \n",
       "14500                                      0      0   \n",
       "55186                                      0      0   \n",
       "8534                                       0      0   \n",
       "\n",
       "       Life, Physical, and Social Science  Management  \\\n",
       "52604                                   0           0   \n",
       "42159                                   0           0   \n",
       "14500                                   0           0   \n",
       "55186                                   0           0   \n",
       "8534                                    0           0   \n",
       "\n",
       "       Office and Administrative Support  Personal Care and Service  \\\n",
       "52604                                  0                          0   \n",
       "42159                                  0                          0   \n",
       "14500                                  0                          0   \n",
       "55186                                  0                          0   \n",
       "8534                                   0                          0   \n",
       "\n",
       "       Production  Sales and Related  Transportation and Material Moving  \\\n",
       "52604           0                  0                                   0   \n",
       "42159           0                  0                                   0   \n",
       "14500           0                  0                                   0   \n",
       "55186           0                  0                                   0   \n",
       "8534            0                  0                                   0   \n",
       "\n",
       "       AGENT_REP_Y  H1B_DEP_Y  LABOR_CON_AGREE_Y  SUPPORT_H1B_Y  \n",
       "52604            0          1                  1              0  \n",
       "42159            0          1                  1              1  \n",
       "14500            0          1                  0              1  \n",
       "55186            0          1                  1              1  \n",
       "8534             0          1                  1              1  "
      ]
     },
     "execution_count": 24,
     "metadata": {},
     "output_type": "execute_result"
    }
   ],
   "source": [
    "df4 = df4.sample(frac = 1) \n",
    "df4.head(5)"
   ]
  },
  {
   "cell_type": "code",
   "execution_count": 25,
   "metadata": {},
   "outputs": [
    {
     "data": {
      "text/plain": [
       "<AxesSubplot:title={'center':'count (target)'}>"
      ]
     },
     "execution_count": 25,
     "metadata": {},
     "output_type": "execute_result"
    },
    {
     "data": {
      "image/png": "[encoded data removed]",
      "text/plain": [
       "<Figure size 432x288 with 1 Axes>"
      ]
     },
     "metadata": {
      "needs_background": "light"
     },
     "output_type": "display_data"
    }
   ],
   "source": [
    "df4['CASE_STATUS_CODE'].value_counts().plot(kind='bar', title='count (target)')"
   ]
  },
  {
   "cell_type": "code",
   "execution_count": 26,
   "metadata": {},
   "outputs": [],
   "source": [
    "from sklearn import svm"
   ]
  },
  {
   "cell_type": "markdown",
   "metadata": {},
   "source": [
    "#### Test/Train Split for SVM \n",
    "The scikit learn SVC model classifier needs a smaller data set to function, due to the requirements of this lab and the capabilities of the scikitlearn model another test train split set has been created this will allow the support vectors to be accessed at the end of the lab."
   ]
  },
  {
   "cell_type": "code",
   "execution_count": 27,
   "metadata": {},
   "outputs": [
    {
     "name": "stdout",
     "output_type": "stream",
     "text": [
      "(11420, 34)\n",
      "(11420,)\n"
     ]
    }
   ],
   "source": [
    "# Reduced data set preprocessing for SVC\n",
    "# divide data set to x and y and Scale data\n",
    "#from sklearn import preprocessing\n",
    "\n",
    "y = df4['CASE_STATUS_CODE']\n",
    "x = df4.drop(['CASE_STATUS_CODE'], axis=1)\n",
    "#x = preprocessing.scale(x) \n",
    "\n",
    "a = df4['CASE_STATUS_CODE'].values\n",
    "bb = df4.drop(['CASE_STATUS_CODE'], axis=1)\n",
    "b = bb.values\n",
    "#b = preprocessing.scale(b) \n",
    "\n",
    "x_t = x[:2284]\n",
    "y_t = y[:2284]\n",
    "\n",
    "print(x.shape)\n",
    "print(y.shape)"
   ]
  },
  {
   "cell_type": "code",
   "execution_count": 28,
   "metadata": {},
   "outputs": [
    {
     "name": "stdout",
     "output_type": "stream",
     "text": [
      "(9136,)\n",
      "(2284, 34)\n"
     ]
    }
   ],
   "source": [
    "x_train,x_test,y_train,y_test = train_test_split(x,y,test_size=0.2, random_state=0)\n",
    "print(y_train.shape)\n",
    "print(x_test.shape)"
   ]
  },
  {
   "cell_type": "code",
   "execution_count": 29,
   "metadata": {},
   "outputs": [
    {
     "name": "stdout",
     "output_type": "stream",
     "text": [
      "Fitting 5 folds for each of 3 candidates, totalling 15 fits\n",
      "BEST PARAMS: {'C': 10, 'kernel': 'rbf'}\n",
      "\n",
      "0.804 (+/-0.017) for {'C': 1, 'kernel': 'rbf'}\n",
      "0.805 (+/-0.016) for {'C': 10, 'kernel': 'rbf'}\n",
      "0.805 (+/-0.017) for {'C': 100, 'kernel': 'rbf'}\n"
     ]
    }
   ],
   "source": [
    "# Grid search\n",
    "svc = GridSearchCV(svm.SVC(gamma='auto',random_state=89),{\n",
    "            'C':[1,10,100],\n",
    "                'kernel':['rbf']}, cv=5, verbose=1,)\n",
    "\n",
    "sv_gs = svc.fit(x_train, y_train)\n",
    "print_results(sv_gs)"
   ]
  },
  {
   "cell_type": "code",
   "execution_count": 30,
   "metadata": {},
   "outputs": [
    {
     "data": {
      "text/plain": [
       "Pipeline(steps=[('scale', StandardScaler()),\n",
       "                ('sv', SVC(C=10, random_state=89))])"
      ]
     },
     "execution_count": 30,
     "metadata": {},
     "output_type": "execute_result"
    }
   ],
   "source": [
    "# Create pipeline\n",
    "pipesv = Pipeline([\n",
    "        ('scale', StandardScaler()),\n",
    "        ('sv', svm.SVC(C=10,kernel= 'rbf',random_state=89))])\n",
    "pipesv.fit(x_train,y_train)"
   ]
  },
  {
   "cell_type": "code",
   "execution_count": 31,
   "metadata": {},
   "outputs": [
    {
     "name": "stdout",
     "output_type": "stream",
     "text": [
      "====Iteration 0  ====\n",
      "accuracy 0.8822241681260946\n",
      "precision 0.8521809369951535\n",
      "recall 0.9246275197195443\n",
      "f1-score 0.8869272803699033\n",
      "confusion matrix\n",
      " [[ 960  183]\n",
      " [  86 1055]]\n",
      "====Iteration 1  ====\n",
      "accuracy 0.8809106830122592\n",
      "precision 0.8477366255144033\n",
      "recall 0.9221128021486124\n",
      "f1-score 0.8833619210977701\n",
      "confusion matrix\n",
      " [[ 982  185]\n",
      " [  87 1030]]\n",
      "====Iteration 2  ====\n",
      "accuracy 0.8739054290718039\n",
      "precision 0.8387358184764991\n",
      "recall 0.9208185053380783\n",
      "f1-score 0.8778625954198472\n",
      "confusion matrix\n",
      " [[ 961  199]\n",
      " [  89 1035]]\n",
      "====Iteration 3  ====\n",
      "accuracy 0.8804728546409807\n",
      "precision 0.8486574450772986\n",
      "recall 0.9230088495575222\n",
      "f1-score 0.884272997032641\n",
      "confusion matrix\n",
      " [[ 968  186]\n",
      " [  87 1043]]\n",
      "====Iteration 4  ====\n",
      "accuracy 0.8620840630472855\n",
      "precision 0.8281758957654723\n",
      "recall 0.9072256913470116\n",
      "f1-score 0.8659003831417625\n",
      "confusion matrix\n",
      " [[ 952  211]\n",
      " [ 104 1017]]\n",
      "====Iteration 5  ====\n",
      "accuracy 0.8835376532399299\n",
      "precision 0.8473895582329317\n",
      "recall 0.9328028293545535\n",
      "f1-score 0.8880471380471381\n",
      "confusion matrix\n",
      " [[ 963  190]\n",
      " [  76 1055]]\n",
      "====Iteration 6  ====\n",
      "accuracy 0.8765323992994746\n",
      "precision 0.8553615960099751\n",
      "recall 0.9050131926121372\n",
      "f1-score 0.8794871794871796\n",
      "confusion matrix\n",
      " [[ 973  174]\n",
      " [ 108 1029]]\n",
      "====Iteration 7  ====\n",
      "accuracy 0.8690893169877408\n",
      "precision 0.8387351778656127\n",
      "recall 0.9178200692041523\n",
      "f1-score 0.8764973151590252\n",
      "confusion matrix\n",
      " [[ 924  204]\n",
      " [  95 1061]]\n",
      "====Iteration 8  ====\n",
      "accuracy 0.8839754816112084\n",
      "precision 0.8541666666666666\n",
      "recall 0.927763272410792\n",
      "f1-score 0.8894451397580307\n",
      "confusion matrix\n",
      " [[ 953  182]\n",
      " [  83 1066]]\n",
      "====Iteration 9  ====\n",
      "accuracy 0.8704028021015762\n",
      "precision 0.8434991974317817\n",
      "recall 0.9123263888888888\n",
      "f1-score 0.8765638031693077\n",
      "confusion matrix\n",
      " [[ 937  195]\n",
      " [ 101 1051]]\n"
     ]
    }
   ],
   "source": [
    "iter_num=0\n",
    "ave_accuracy = []\n",
    "ave_precision = []\n",
    "ave_recall = []\n",
    "ave_f1_score=[]\n",
    "ave_matrix=[]\n",
    "\n",
    "for iter_num, (train_indices, test_indices) in enumerate(cv_object.split(b,a)):\n",
    "    pipesv.fit(b[train_indices],a[train_indices])  # train object\n",
    "    y_hat = pipesv.predict(b[test_indices])\n",
    "    ave_accuracy.append(mt.accuracy_score(a[test_indices],y_hat))\n",
    "    ave_precision.append(mt.precision_score(a[test_indices],y_hat))\n",
    "    ave_recall.append(mt.recall_score(a[test_indices],y_hat))\n",
    "    ave_f1_score.append(mt.f1_score(a[test_indices],y_hat))\n",
    "    ave_matrix.append(mt.confusion_matrix(a[test_indices],y_hat))\n",
    "    \n",
    "    print(\"====Iteration\",iter_num,\" ====\")\n",
    "    print(\"accuracy\", mt.accuracy_score(a[test_indices],y_hat)) \n",
    "    print(\"precision\", mt.precision_score(a[test_indices],y_hat)) \n",
    "    print(\"recall\", mt.recall_score(a[test_indices],y_hat)) \n",
    "    print(\"f1-score\", mt.f1_score(a[test_indices],y_hat))\n",
    "    print(\"confusion matrix\\n\",mt.confusion_matrix(a[test_indices],y_hat))\n",
    "#    print(classification_report(a[test_indices],y_hat))"
   ]
  },
  {
   "cell_type": "code",
   "execution_count": 32,
   "metadata": {},
   "outputs": [
    {
     "name": "stdout",
     "output_type": "stream",
     "text": [
      "SVM averaged results\n",
      "average accuracy 0.8763134851138353\n",
      "average precision 0.8454638918035796\n",
      "average recall 0.9193519120581293\n",
      "average f1_score 0.8808365752682606\n",
      "confusion matrix\n",
      " [[ 957.3  190.9]\n",
      " [  91.6 1044.2]]\n"
     ]
    }
   ],
   "source": [
    "fin_accuracy = sum(ave_accuracy)/len(ave_accuracy)\n",
    "fin_precision = sum(ave_precision)/len(ave_precision)\n",
    "fin_recall = sum(ave_recall)/len(ave_recall)\n",
    "fin_f1_score = sum(ave_f1_score)/len(ave_accuracy)\n",
    "fin_confusion_mat = sum(ave_matrix)/len(ave_matrix)\n",
    "\n",
    "print('SVM averaged results')\n",
    "print(\"average accuracy\",fin_accuracy)\n",
    "print(\"average precision\",fin_precision)\n",
    "print(\"average recall\",fin_recall)\n",
    "print(\"average f1_score\",fin_f1_score)\n",
    "print(\"confusion matrix\\n\",fin_confusion_mat)"
   ]
  },
  {
   "cell_type": "code",
   "execution_count": 34,
   "metadata": {},
   "outputs": [],
   "source": [
    "scaler = StandardScaler()\n",
    "for train_indices, test_indices in cv_object.split(b,a):\n",
    "    X_train = b[train_indices]\n",
    "    y_train = a[train_indices]\n",
    "    \n",
    "    X_test = b[test_indices]\n",
    "    y_test = a[test_indices]\n",
    "    \n",
    "X_train_scaled = scaler.fit_transform(X_train) # apply to training\n",
    "X_test_scaled = scaler.fit_transform(X_test)"
   ]
  },
  {
   "cell_type": "markdown",
   "metadata": {},
   "source": [
    "#### Assess how well each model performs"
   ]
  },
  {
   "cell_type": "markdown",
   "metadata": {},
   "source": [
    "Logistic Regression, (run on the full dataset) had an overall accuracy average of 83.3%.   SVM (run on a subset of the data) had an overall accuracy average of 87.6%.  The other effectivenss measures are shown below.\n",
    "\n",
    "Since SVM was run on a subset of the data we cannot come to the conclusion that it was a more effective model vs. Logistic Regression.\n",
    "\n",
    "Based on the fact that we were able to use Logistic Regression on the full dataset, our preference is to use that model for the data. "
   ]
  },
  {
   "attachments": {
    "image-2.png": {
     "image/png": "[encoded data removed]"
    },
    "image.png": {
     "image/png": "[encoded data removed]"
    }
   },
   "cell_type": "markdown",
   "metadata": {},
   "source": [
    "Logistic Regression Model Effectiveness Measures\n",
    "\n",
    "![image.png](attachment:image.png)\n",
    "\n",
    "Support Vector Machines Effectiveness Measures\n",
    "\n",
    "![image-2.png](attachment:image-2.png)"
   ]
  },
  {
   "cell_type": "markdown",
   "metadata": {},
   "source": [
    "### SECTION 2 - MODEL ADVANTAGES"
   ]
  },
  {
   "cell_type": "markdown",
   "metadata": {},
   "source": [
    "As stated above, Logistic Regression had an overall accuracy of 83% and SVM had an overall accuracy of 87%.\n",
    "\n",
    "We were not able to run SVM on the full dataset.  Since the performance measures are based on a subset of the data we cannot come to the conclusion that it was a more effective model vs. Logistic Regression.\n",
    "\n",
    "Logistic regression is preferred in cases of a binary outcome (T/F, Y/N) and the objective is to determine if a new sample fits best into a category as it is simpler and more efficient.  Examples of problems where logistic regression is applied include cancer detection (yes/no), test scores (pass/fail), marketing (customer will purchase or not).  \n",
    "\n",
    "SVM is preferred for unstructured and semi-strutured data like text and images.  It is best when there is an understandable margin of dissociation between classes and is more efficient in high dimensional spaces or when the number of dimensions is larger than the number of specimans.\n",
    "\n",
    "Based on the fact that we were able to use Logistic Regression on the full dataset, our preference is to use that model for the data.  The model was quick to run and we could interprate the results. We could not do this with the SVM Model. The logistic regression model not only provided a measure of how appropriate a feature was, but also provided the diretion of association so we could interpret the feature importance to the model.  \n",
    "\n",
    "The downside in using Logistic Regression as opposed to SVM is that Logistic Regression is vulnerable to overfitting because it constructs linear boundaries, so that needs to be taken into account.  Since SVM tries to find the best margin, this reduces that risk.  However, we applied Lasso Regularization to avoid overfitting, so this is not enough of a reason to sway our decision on model appropriateness.  Finally, as we discovered, SVM algorithms are not acceptable for large data sets.  \n",
    "\n",
    "\n"
   ]
  },
  {
   "cell_type": "markdown",
   "metadata": {},
   "source": [
    "### Section 3 -  Logistic Regression Weight Interpretation"
   ]
  },
  {
   "cell_type": "code",
   "execution_count": 35,
   "metadata": {
    "scrolled": true
   },
   "outputs": [],
   "source": [
    "# predictions for logistic regression\n",
    "pd.set_option('display.max_rows', None)\n",
    "\n",
    "lg = LogisticRegression(penalty='l2',solver='sag', random_state=0,C=0.1)\n",
    "lg.fit(X_train_scaled, y_train)\n",
    "\n",
    "y_pred = lg.predict(X_test)\n",
    "coef = lg.coef_\n",
    "\n",
    "coefs = []\n",
    "for i in coef[0]:\n",
    "    coefs.append(round(i,6))"
   ]
  },
  {
   "cell_type": "code",
   "execution_count": 36,
   "metadata": {},
   "outputs": [],
   "source": [
    "coef = [i for i in coefs]\n",
    "coef_abs = [abs(i) for i in coefs]\n",
    "odds = [math.exp(i) for i in coef ]\n",
    "scale = scaler.scale_\n",
    "zip_vars = zip(coef,coef_abs,odds,scale,bb.columns) # combine attributes\n",
    "zip_vars = sorted(zip_vars)"
   ]
  },
  {
   "cell_type": "code",
   "execution_count": 37,
   "metadata": {},
   "outputs": [],
   "source": [
    "df_weights = pd.DataFrame(zip_vars, columns = ['coef','coef_abs','odds','std_dev','feature_names' ])"
   ]
  },
  {
   "cell_type": "code",
   "execution_count": 38,
   "metadata": {},
   "outputs": [
    {
     "data": {
      "text/html": [
       "<div>\n",
       "<style scoped>\n",
       "    .dataframe tbody tr th:only-of-type {\n",
       "        vertical-align: middle;\n",
       "    }\n",
       "\n",
       "    .dataframe tbody tr th {\n",
       "        vertical-align: top;\n",
       "    }\n",
       "\n",
       "    .dataframe thead th {\n",
       "        text-align: right;\n",
       "    }\n",
       "</style>\n",
       "<table border=\"1\" class=\"dataframe\">\n",
       "  <thead>\n",
       "    <tr style=\"text-align: right;\">\n",
       "      <th></th>\n",
       "      <th>coef</th>\n",
       "      <th>coef_abs</th>\n",
       "      <th>odds</th>\n",
       "      <th>std_dev</th>\n",
       "      <th>feature_names</th>\n",
       "    </tr>\n",
       "  </thead>\n",
       "  <tbody>\n",
       "    <tr>\n",
       "      <th>0</th>\n",
       "      <td>-0.786417</td>\n",
       "      <td>0.786417</td>\n",
       "      <td>0.455474</td>\n",
       "      <td>2.210284</td>\n",
       "      <td>TOTAL_WORKERS</td>\n",
       "    </tr>\n",
       "    <tr>\n",
       "      <th>1</th>\n",
       "      <td>-0.559879</td>\n",
       "      <td>0.559879</td>\n",
       "      <td>0.571278</td>\n",
       "      <td>0.101968</td>\n",
       "      <td>Food Preparation and Serving Related</td>\n",
       "    </tr>\n",
       "    <tr>\n",
       "      <th>2</th>\n",
       "      <td>-0.531075</td>\n",
       "      <td>0.531075</td>\n",
       "      <td>0.587973</td>\n",
       "      <td>0.146329</td>\n",
       "      <td>Community and Social Service</td>\n",
       "    </tr>\n",
       "    <tr>\n",
       "      <th>3</th>\n",
       "      <td>-0.424827</td>\n",
       "      <td>0.424827</td>\n",
       "      <td>0.653883</td>\n",
       "      <td>0.085952</td>\n",
       "      <td>Construction and Extraction</td>\n",
       "    </tr>\n",
       "    <tr>\n",
       "      <th>4</th>\n",
       "      <td>-0.388260</td>\n",
       "      <td>0.388260</td>\n",
       "      <td>0.678236</td>\n",
       "      <td>0.069231</td>\n",
       "      <td>Legal</td>\n",
       "    </tr>\n",
       "    <tr>\n",
       "      <th>5</th>\n",
       "      <td>-0.371948</td>\n",
       "      <td>0.371948</td>\n",
       "      <td>0.689390</td>\n",
       "      <td>0.072293</td>\n",
       "      <td>Building and Grounds Cleaning and Maintenance</td>\n",
       "    </tr>\n",
       "    <tr>\n",
       "      <th>6</th>\n",
       "      <td>-0.338179</td>\n",
       "      <td>0.338179</td>\n",
       "      <td>0.713068</td>\n",
       "      <td>0.083404</td>\n",
       "      <td>Installation, Maintenance, and Repair</td>\n",
       "    </tr>\n",
       "    <tr>\n",
       "      <th>7</th>\n",
       "      <td>-0.326962</td>\n",
       "      <td>0.326962</td>\n",
       "      <td>0.721111</td>\n",
       "      <td>0.062649</td>\n",
       "      <td>Healthcare Support</td>\n",
       "    </tr>\n",
       "    <tr>\n",
       "      <th>28</th>\n",
       "      <td>0.351515</td>\n",
       "      <td>0.351515</td>\n",
       "      <td>1.421219</td>\n",
       "      <td>0.569769</td>\n",
       "      <td>CONTINUED_EMPLOYMENT</td>\n",
       "    </tr>\n",
       "    <tr>\n",
       "      <th>29</th>\n",
       "      <td>0.371945</td>\n",
       "      <td>0.371945</td>\n",
       "      <td>1.450553</td>\n",
       "      <td>0.338734</td>\n",
       "      <td>SUPPORT_H1B_Y</td>\n",
       "    </tr>\n",
       "    <tr>\n",
       "      <th>30</th>\n",
       "      <td>0.522920</td>\n",
       "      <td>0.522920</td>\n",
       "      <td>1.686946</td>\n",
       "      <td>1.107655</td>\n",
       "      <td>NEW_EMPLOYMENT</td>\n",
       "    </tr>\n",
       "    <tr>\n",
       "      <th>31</th>\n",
       "      <td>0.667460</td>\n",
       "      <td>0.667460</td>\n",
       "      <td>1.949280</td>\n",
       "      <td>0.377438</td>\n",
       "      <td>H1B_DEP_Y</td>\n",
       "    </tr>\n",
       "    <tr>\n",
       "      <th>32</th>\n",
       "      <td>0.706461</td>\n",
       "      <td>0.706461</td>\n",
       "      <td>2.026806</td>\n",
       "      <td>0.435264</td>\n",
       "      <td>AGENT_REP_Y</td>\n",
       "    </tr>\n",
       "    <tr>\n",
       "      <th>33</th>\n",
       "      <td>1.895657</td>\n",
       "      <td>1.895657</td>\n",
       "      <td>6.656921</td>\n",
       "      <td>1.661064</td>\n",
       "      <td>DAYS_PROCESS</td>\n",
       "    </tr>\n",
       "  </tbody>\n",
       "</table>\n",
       "</div>"
      ],
      "text/plain": [
       "        coef  coef_abs      odds   std_dev  \\\n",
       "0  -0.786417  0.786417  0.455474  2.210284   \n",
       "1  -0.559879  0.559879  0.571278  0.101968   \n",
       "2  -0.531075  0.531075  0.587973  0.146329   \n",
       "3  -0.424827  0.424827  0.653883  0.085952   \n",
       "4  -0.388260  0.388260  0.678236  0.069231   \n",
       "5  -0.371948  0.371948  0.689390  0.072293   \n",
       "6  -0.338179  0.338179  0.713068  0.083404   \n",
       "7  -0.326962  0.326962  0.721111  0.062649   \n",
       "28  0.351515  0.351515  1.421219  0.569769   \n",
       "29  0.371945  0.371945  1.450553  0.338734   \n",
       "30  0.522920  0.522920  1.686946  1.107655   \n",
       "31  0.667460  0.667460  1.949280  0.377438   \n",
       "32  0.706461  0.706461  2.026806  0.435264   \n",
       "33  1.895657  1.895657  6.656921  1.661064   \n",
       "\n",
       "                                    feature_names  \n",
       "0                                   TOTAL_WORKERS  \n",
       "1            Food Preparation and Serving Related  \n",
       "2                    Community and Social Service  \n",
       "3                     Construction and Extraction  \n",
       "4                                           Legal  \n",
       "5   Building and Grounds Cleaning and Maintenance  \n",
       "6           Installation, Maintenance, and Repair  \n",
       "7                              Healthcare Support  \n",
       "28                           CONTINUED_EMPLOYMENT  \n",
       "29                                  SUPPORT_H1B_Y  \n",
       "30                                 NEW_EMPLOYMENT  \n",
       "31                                      H1B_DEP_Y  \n",
       "32                                    AGENT_REP_Y  \n",
       "33                                   DAYS_PROCESS  "
      ]
     },
     "execution_count": 38,
     "metadata": {},
     "output_type": "execute_result"
    }
   ],
   "source": [
    "# features with highest weights\n",
    "df_coef = df_weights[df_weights['coef_abs'] > 0.3]\n",
    "df_coef"
   ]
  },
  {
   "cell_type": "code",
   "execution_count": 39,
   "metadata": {},
   "outputs": [
    {
     "data": {
      "image/png": "[encoded data removed]",
      "text/plain": [
       "<Figure size 432x288 with 1 Axes>"
      ]
     },
     "metadata": {},
     "output_type": "display_data"
    }
   ],
   "source": [
    "from matplotlib import pyplot as plt\n",
    "%matplotlib inline\n",
    "plt.style.use('ggplot')\n",
    "\n",
    "\n",
    "ax = df_coef.plot.bar(y='coef', x = 'feature_names')\n",
    "plt.show()"
   ]
  },
  {
   "attachments": {
    "image.png": {
     "image/png": "[encoded data removed]"
    }
   },
   "cell_type": "markdown",
   "metadata": {},
   "source": [
    "The dependent variable of logistic regression is binary and the “log-odds” of the dependent variable’s probability is modeled by a linear combination of independent variables:\n",
    "![image.png](attachment:image.png)\n",
    "The logit function is defined as the logged odds of probability p:"
   ]
  },
  {
   "cell_type": "markdown",
   "metadata": {},
   "source": [
    "\n",
    "The odds of an event is the probability of it happens over the probability of it doesn’t happen.<br>\n",
    "The above variables show the features with the highest weights (coefficients), our target variables are certified = 1, denied=0, our model has been validated using cross-validation to check for overfitting.<br>"
   ]
  },
  {
   "attachments": {
    "image-2.png": {
     "image/png": "[encoded data removed]"
    }
   },
   "cell_type": "markdown",
   "metadata": {},
   "source": [
    "### Binary Variables\n",
    "Most of the prominent weights were from the binary variables the only features that were continuous from the above table was the TOTAL_WORKERS and DAYS_PROCESS.<br>\n",
    "Based on magnitude of the coefficient one of the largest  binary coefficient is the SOC_GROUP categorical variable of community and social service which tells us if the person being applied for was for this feild of work. It has a coefficient of -0.5920 which means providing all the other metrics are the same, and flipping the SOC_GROUP from Community and Social Service to NOT Community and Social Service, the log-odds of getting certified will decrease by 0.5920.\n",
    "![image-2.png](attachment:image-2.png)"
   ]
  },
  {
   "attachments": {
    "image.png": {
     "image/png": "[encoded data removed]"
    }
   },
   "cell_type": "markdown",
   "metadata": {},
   "source": [
    "To convert log-odds to odds, we want to take the exponential on both sides of equation which results in the ratio of the odds being 0.507.\n",
    "![image.png](attachment:image.png)\n",
    "the coefficient of the SOC_GROUP categorical variable community and social service being -0.5920 can be interpreted as the odds of application for an employee in the feild community and social service getting certified over the odds of an applicant that is not in that feild is 0.5531 with all the other variables fixed. In terms of percentage change, the odds community and social service getting certified are xx% lower than the odds for applicant that is not in that feild to get certified this tells us that if if a company wants to appply for such a candidate they may less likely get their candidate certified"
   ]
  },
  {
   "cell_type": "markdown",
   "metadata": {},
   "source": [
    "### Continuous variables (Standardised)"
   ]
  },
  {
   "cell_type": "markdown",
   "metadata": {},
   "source": [
    "One common pre-processing step when performing logistic regression is to scale the independent variables to the same level (zero mean and unit variance). The motivation of this type of scaling, named standardization, is to make the feature coefficient scales comparable with each other.<br>\n",
    "<br>To get the standardized coefficients back to odds ratio with interpretable units we convert the standardized unit back to the original unit of the feature. The most prominent continuous variable in our study is DAYS_PROCESS with standard deviation of 1.66 from the table value called std_dev from the scaling algorithm, and the fitted logistic regression gives this feature a standardized coefficient of 1.9421. This means by increasing one standardized unit of DAYS_PROCESS, the odds ratio of getting certified is exp(1.9421) = 6.9734 (i.e. the odds of getting certified increase by 597.34%).<br>\n",
    "<br>From the scaling transformation we know that one standardized unit of age equals to 1.66 days, which is the standard deviation of days before the transformation. Plugging this information back, we can conclude that increasing the DAYS_PROCESS by 1.66 days will lead to an increase of odds of getting certified by 597.34%."
   ]
  },
  {
   "cell_type": "markdown",
   "metadata": {},
   "source": [
    "#### Feature Importance"
   ]
  },
  {
   "cell_type": "markdown",
   "metadata": {},
   "source": [
    "Days_Process positively impacts obtaining a certified status for an application.  This is reasonable as a longer review period could indicate issues with the appliacation or those requiring in-depth review as it may not meet the criteria for certification. These criteria include specialty occupation, wage rate lower than prevailing wage or wage level classification not aligned with complexity of role. \n",
    "\n",
    "Agent_Rep_Y we would expect that applications that had legal involvement would have improved chances of being certified based on an attorney's understanding of the legal process involved in obtaining a Visa.\n",
    "\n",
    "H1B_Dep_Y also has a larger impact on a certification result. This feature denotes that this is an employer who hires ‘too many’ H1B workers.  An H1B dependent employer is subject to additional attestation and paperwork requirements when filing for an H1B in an effort to protect U.S. workers. (https://www.visapro.com/resources/article/h1b-dependent-employer/)\n",
    "\n",
    "Agent_Rep_Y we would expect that applications that had legal involvement would have improved chances of being certified based on an attorney's understanding of the legal process involved in obtaining a Visa.\n",
    "\n",
    "New_Employment This suggests that it is easier to get an application certified if it isa new application vs. an extension under recertification.\n",
    "\n",
    "Total_Workers had the largest negative impact. Since this is a continuous variable, we need to investigate this further in order to determine if applications with more or less headcount impacts this.\n",
    "\n",
    "From an Occupation Group perspective, those with the most negative impact were Food Preparation/Serving Related, Community/Social Services, Construction and Extraction, & Building Grounds & Construction.  This is also reasonable as one of the criteria for certification are specialized occupations."
   ]
  },
  {
   "cell_type": "markdown",
   "metadata": {},
   "source": [
    "#### Other prominent Interpretations"
   ]
  },
  {
   "cell_type": "code",
   "execution_count": 40,
   "metadata": {},
   "outputs": [
    {
     "name": "stdout",
     "output_type": "stream",
     "text": [
      "The odds of CONTINUED_EMPLOYMENT getting certified over the alternative is 42.12 %\n",
      "The odds of SUPPORT_H1B_Y getting certified over the alternative is 45.06 %\n",
      "The odds of NEW_EMPLOYMENT getting certified over the alternative is 68.69 %\n",
      "The odds of H1B_DEP_Y getting certified over the alternative is 94.93 %\n",
      "The odds of AGENT_REP_Y getting certified over the alternative is 102.68 %\n"
     ]
    }
   ],
   "source": [
    "cont_vars = ['TOTAL_WORKERS','ANNUALIZED_PREVAILING_WAGE', \n",
    "           'PREVAILING_WAGE', 'ANNUALIZED_WAGE_RATE_OF_PAY',\n",
    "                'WAGE_RATE_OF_PAY','DAYS_PROCESS']\n",
    "\n",
    "feat = list(df_coef['feature_names'])\n",
    "ods = list(df_coef['odds'])\n",
    "cofs = list(df_coef['coef'])\n",
    "inter = zip(ods,feat,cofs)\n",
    "\n",
    "for ods,feature,cof in inter:\n",
    "    od = round((ods*100)-100,2)\n",
    "    if  cof >0 and feature not in cont_vars:\n",
    "        print('The odds of',feature,'getting certified over the alternative is', od,'%')"
   ]
  },
  {
   "cell_type": "code",
   "execution_count": 41,
   "metadata": {},
   "outputs": [
    {
     "name": "stdout",
     "output_type": "stream",
     "text": [
      "Increasing the DAYS_PROCESS by 1.6611 will lead to an increase of odds of getting certified by 565.69 %\n"
     ]
    }
   ],
   "source": [
    "feat = list(df_coef['feature_names'])\n",
    "ods = list(df_coef['odds'])\n",
    "cofs = list(df_coef['coef'])\n",
    "scale = list(round(df_coef['std_dev'],4))\n",
    "inter = zip(ods,feat,cofs,scale)\n",
    "\n",
    "for ods,feature,cof,scale in inter:\n",
    "    od = round((ods*100)-100,2)\n",
    "    if  od >0 and feature in cont_vars:\n",
    "        print('Increasing the',feature, 'by' ,scale, 'will lead to an increase of odds of getting certified by', od,'%')"
   ]
  },
  {
   "cell_type": "markdown",
   "metadata": {},
   "source": [
    "https://medium.com/axum-labs/logistic-regression-vs-support-vector-machines-svm-c335610a3d16\n",
    "\n",
    "https://www.geeksforgeeks.org/advantages-and-disadvantages-of-logistic-regression/?ref=rp\n",
    "\n",
    "https://www.geeksforgeeks.org/support-vector-machine-algorithm/?ref=rp\n",
    "\n",
    "https://sciphy-stats.com/post/interpreting-logistic-regression-coefficients-odds-ratios/"
   ]
  },
  {
   "cell_type": "markdown",
   "metadata": {},
   "source": [
    "### SECTION 4 - Support Vectors Interpretation"
   ]
  },
  {
   "cell_type": "code",
   "execution_count": 42,
   "metadata": {},
   "outputs": [],
   "source": [
    "scaler = StandardScaler()\n",
    "for train_indices, test_indices in cv_object.split(b,a):\n",
    "    X_train = b[train_indices]\n",
    "    y_train = a[train_indices]\n",
    "    \n",
    "    X_test = b[test_indices]\n",
    "    y_test = a[test_indices]\n",
    "    \n",
    "X_train_scaled = scaler.fit_transform(X_train) # apply to training\n",
    "X_test_scaled = scaler.fit_transform(X_test)"
   ]
  },
  {
   "cell_type": "code",
   "execution_count": 43,
   "metadata": {},
   "outputs": [
    {
     "data": {
      "text/plain": [
       "SVC(C=100, random_state=89)"
      ]
     },
     "execution_count": 43,
     "metadata": {},
     "output_type": "execute_result"
    }
   ],
   "source": [
    "svmc = svm.SVC(C=100,kernel= 'rbf',random_state=89)\n",
    "svmc.fit(X_train_scaled, y_train)"
   ]
  },
  {
   "cell_type": "code",
   "execution_count": 44,
   "metadata": {},
   "outputs": [],
   "source": [
    "# Get support vectors themselves\n",
    "support_vectors = svmc.support_vectors_\n",
    "\n",
    "# Visualize support vectors\n",
    "#plt.scatter(x_train[:,7], x_train[:,6])\n",
    "#plt.scatter(support_vectors[:,7], support_vectors[:,6], color='green')\n",
    "#plt.title('Linearly separable data with support vectors')\n",
    "#plt.xlabel('X1')\n",
    "#plt.ylabel('X2')\n",
    "#plt.show()"
   ]
  },
  {
   "cell_type": "code",
   "execution_count": 45,
   "metadata": {},
   "outputs": [
    {
     "name": "stdout",
     "output_type": "stream",
     "text": [
      "(2552, 34)\n",
      "(2552,)\n",
      "[1266 1286]\n"
     ]
    }
   ],
   "source": [
    "# to call the suppport vector foe each variable use the [column index]\n",
    "\n",
    "svc = svmc.support_vectors_\n",
    "\n",
    "# look at the support vectors\n",
    "print(svmc.support_vectors_.shape)\n",
    "print(svmc.support_.shape)\n",
    "print(svmc.n_support_ )"
   ]
  },
  {
   "cell_type": "code",
   "execution_count": 46,
   "metadata": {},
   "outputs": [],
   "source": [
    "df_test =  df4.iloc[train_indices].copy()\n",
    "df_support = df_test.iloc[svmc.support_,:].copy()\n",
    "\n",
    "df_support['CASE_STATUS_CODE'] = a[svmc.support_]"
   ]
  },
  {
   "cell_type": "code",
   "execution_count": 47,
   "metadata": {},
   "outputs": [
    {
     "data": {
      "image/png": "[encoded data removed]",
      "text/plain": [
       "<Figure size 720x288 with 2 Axes>"
      ]
     },
     "metadata": {},
     "output_type": "display_data"
    },
    {
     "data": {
      "image/png": "[encoded data removed]",
      "text/plain": [
       "<Figure size 720x288 with 2 Axes>"
      ]
     },
     "metadata": {},
     "output_type": "display_data"
    },
    {
     "data": {
      "image/png": "[encoded data removed]",
      "text/plain": [
       "<Figure size 720x288 with 2 Axes>"
      ]
     },
     "metadata": {},
     "output_type": "display_data"
    },
    {
     "data": {
      "image/png": "[encoded data removed]",
      "text/plain": [
       "<Figure size 720x288 with 2 Axes>"
      ]
     },
     "metadata": {},
     "output_type": "display_data"
    }
   ],
   "source": [
    "df_grouped_support = df_support.groupby(['CASE_STATUS_CODE'])\n",
    "df_grouped = df4.groupby(['CASE_STATUS_CODE'])\n",
    "\n",
    "# plot KDE of Different variables\n",
    "vars_to_plot = ['DAYS_PROCESS','TOTAL_WORKERS','H1B_DEP_Y','PREVAILING_WAGE']\n",
    "\n",
    "for v in vars_to_plot:\n",
    "    plt.figure(figsize=(10,4))\n",
    "    # plot support vector stats\n",
    "    plt.subplot(1,2,1)\n",
    "    ax = df_grouped_support[v].plot.kde() \n",
    "    plt.legend(['Certified','Denied'])\n",
    "    plt.title(v+' (Instances chosen as Support Vectors)')\n",
    "    \n",
    "    # plot original distributions\n",
    "    plt.subplot(1,2,2)\n",
    "    ax = df_grouped[v].plot.kde() \n",
    "    plt.legend(['Certified','Denied'])\n",
    "    plt.title(v+' (Original)')"
   ]
  },
  {
   "cell_type": "markdown",
   "metadata": {},
   "source": [
    "https://medium.com/ro-data-team-blog/interpret-the-impact-size-with-logistic-regression-coefficients-5eec21baaac8"
   ]
  },
  {
   "cell_type": "markdown",
   "metadata": {},
   "source": [
    "The support vector analysis shows the original statistics of these variables as well as the statistics of the support vectors.  \n",
    "\n",
    "Days_Process & H1B_Dep\n",
    "The separation in distribution of the original data is very distinct.  This is not the case with the support vectors for the certified class for Days_Process & H1B_Dep.  This indicates that they are close to the class boundary resulting in a distribution separation that is not as large and indicates that these cases have been missclassified.  \n",
    "\n",
    "Total_Workers & Prevailing_Wage\n",
    "The support vectors follow the distribution of the original data. However, they do appear to overstate the certified category and did not do well in preserving the orginal data integrity."
   ]
  },
  {
   "cell_type": "markdown",
   "metadata": {},
   "source": [
    "#### Exceptional Work"
   ]
  },
  {
   "cell_type": "markdown",
   "metadata": {},
   "source": [
    "We are requesting consideration for exceptional points as our group is now down to 2 people with the departure of Senthil Kumar"
   ]
  }
 ],
 "metadata": {
  "kernelspec": {
   "display_name": "Python 3",
   "language": "python",
   "name": "python3"
  },
  "language_info": {
   "codemirror_mode": {
    "name": "ipython",
    "version": 3
   },
   "file_extension": ".py",
   "mimetype": "text/x-python",
   "name": "python",
   "nbconvert_exporter": "python",
   "pygments_lexer": "ipython3",
   "version": "3.7.1"
  }
 },
 "nbformat": 4,
 "nbformat_minor": 2
}
