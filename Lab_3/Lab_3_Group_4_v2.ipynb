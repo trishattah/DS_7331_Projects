{
 "cells": [
  {
   "cell_type": "markdown",
   "id": "suffering-criticism",
   "metadata": {},
   "source": [
    "# DS_7331 Machine Learning - Lab 3 Recommender System - Group 4"
   ]
  },
  {
   "cell_type": "markdown",
   "id": "still-frame",
   "metadata": {},
   "source": [
    "### Paticia Attah\n",
    "### Linda Eliasen"
   ]
  },
  {
   "cell_type": "code",
   "execution_count": 116,
   "id": "administrative-withdrawal",
   "metadata": {},
   "outputs": [],
   "source": [
    "import numpy as np\n",
    "import pickle\n",
    "import pandas as pd\n",
    "import seaborn as sns\n",
    "import matplotlib.pyplot as plt\n",
    "%matplotlib inline\n",
    "from surprise import Dataset\n",
    "from surprise import Reader\n",
    "from surprise import KNNWithMeans\n",
    "from surprise import SlopeOne\n",
    "from surprise import CoClustering\n",
    "from surprise import SVD\n",
    "from surprise import SVDpp\n",
    "from surprise import NMF\n",
    "from surprise import BaselineOnly\n",
    "from surprise.model_selection import cross_validate\n",
    "from surprise.model_selection import KFold\n",
    "from surprise import accuracy\n",
    "from surprise.model_selection import GridSearchCV\n",
    "from collections import defaultdict\n",
    "import os\n",
    "from surprise.model_selection import train_test_split\n",
    "from mlxtend.evaluate import paired_ttest_5x2cv\n",
    "\n",
    "import warnings\n",
    "warnings.filterwarnings('ignore')"
   ]
  },
  {
   "cell_type": "markdown",
   "id": "meaningful-collect",
   "metadata": {},
   "source": [
    "## BUSINESS UNDERSTANDING 1"
   ]
  },
  {
   "cell_type": "markdown",
   "id": "direct-attack",
   "metadata": {},
   "source": [
    "XXXX"
   ]
  },
  {
   "cell_type": "markdown",
   "id": "pressing-weather",
   "metadata": {},
   "source": [
    "## DATA UNDERSTANDING 1"
   ]
  },
  {
   "cell_type": "markdown",
   "id": "biological-wrong",
   "metadata": {},
   "source": [
    "#### DATA MEANING & TYPE"
   ]
  },
  {
   "cell_type": "markdown",
   "id": "verified-virtue",
   "metadata": {},
   "source": [
    "xxx"
   ]
  },
  {
   "cell_type": "markdown",
   "id": "equipped-investor",
   "metadata": {},
   "source": [
    "Bringing in the data"
   ]
  },
  {
   "cell_type": "code",
   "execution_count": 2,
   "id": "loaded-payday",
   "metadata": {},
   "outputs": [
    {
     "data": {
      "text/html": [
       "<div>\n",
       "<style scoped>\n",
       "    .dataframe tbody tr th:only-of-type {\n",
       "        vertical-align: middle;\n",
       "    }\n",
       "\n",
       "    .dataframe tbody tr th {\n",
       "        vertical-align: top;\n",
       "    }\n",
       "\n",
       "    .dataframe thead th {\n",
       "        text-align: right;\n",
       "    }\n",
       "</style>\n",
       "<table border=\"1\" class=\"dataframe\">\n",
       "  <thead>\n",
       "    <tr style=\"text-align: right;\">\n",
       "      <th></th>\n",
       "      <th>userId</th>\n",
       "      <th>productId</th>\n",
       "      <th>Rating</th>\n",
       "      <th>timestamp</th>\n",
       "    </tr>\n",
       "  </thead>\n",
       "  <tbody>\n",
       "    <tr>\n",
       "      <th>0</th>\n",
       "      <td>AKM1MP6P0OYPR</td>\n",
       "      <td>0132793040</td>\n",
       "      <td>5.0</td>\n",
       "      <td>1365811200</td>\n",
       "    </tr>\n",
       "    <tr>\n",
       "      <th>1</th>\n",
       "      <td>A2CX7LUOHB2NDG</td>\n",
       "      <td>0321732944</td>\n",
       "      <td>5.0</td>\n",
       "      <td>1341100800</td>\n",
       "    </tr>\n",
       "    <tr>\n",
       "      <th>2</th>\n",
       "      <td>A2NWSAGRHCP8N5</td>\n",
       "      <td>0439886341</td>\n",
       "      <td>1.0</td>\n",
       "      <td>1367193600</td>\n",
       "    </tr>\n",
       "    <tr>\n",
       "      <th>3</th>\n",
       "      <td>A2WNBOD3WNDNKT</td>\n",
       "      <td>0439886341</td>\n",
       "      <td>3.0</td>\n",
       "      <td>1374451200</td>\n",
       "    </tr>\n",
       "    <tr>\n",
       "      <th>4</th>\n",
       "      <td>A1GI0U4ZRJA8WN</td>\n",
       "      <td>0439886341</td>\n",
       "      <td>1.0</td>\n",
       "      <td>1334707200</td>\n",
       "    </tr>\n",
       "    <tr>\n",
       "      <th>5</th>\n",
       "      <td>A1QGNMC6O1VW39</td>\n",
       "      <td>0511189877</td>\n",
       "      <td>5.0</td>\n",
       "      <td>1397433600</td>\n",
       "    </tr>\n",
       "    <tr>\n",
       "      <th>6</th>\n",
       "      <td>A3J3BRHTDRFJ2G</td>\n",
       "      <td>0511189877</td>\n",
       "      <td>2.0</td>\n",
       "      <td>1397433600</td>\n",
       "    </tr>\n",
       "    <tr>\n",
       "      <th>7</th>\n",
       "      <td>A2TY0BTJOTENPG</td>\n",
       "      <td>0511189877</td>\n",
       "      <td>5.0</td>\n",
       "      <td>1395878400</td>\n",
       "    </tr>\n",
       "    <tr>\n",
       "      <th>8</th>\n",
       "      <td>A34ATBPOK6HCHY</td>\n",
       "      <td>0511189877</td>\n",
       "      <td>5.0</td>\n",
       "      <td>1395532800</td>\n",
       "    </tr>\n",
       "    <tr>\n",
       "      <th>9</th>\n",
       "      <td>A89DO69P0XZ27</td>\n",
       "      <td>0511189877</td>\n",
       "      <td>5.0</td>\n",
       "      <td>1395446400</td>\n",
       "    </tr>\n",
       "  </tbody>\n",
       "</table>\n",
       "</div>"
      ],
      "text/plain": [
       "           userId   productId  Rating   timestamp\n",
       "0   AKM1MP6P0OYPR  0132793040     5.0  1365811200\n",
       "1  A2CX7LUOHB2NDG  0321732944     5.0  1341100800\n",
       "2  A2NWSAGRHCP8N5  0439886341     1.0  1367193600\n",
       "3  A2WNBOD3WNDNKT  0439886341     3.0  1374451200\n",
       "4  A1GI0U4ZRJA8WN  0439886341     1.0  1334707200\n",
       "5  A1QGNMC6O1VW39  0511189877     5.0  1397433600\n",
       "6  A3J3BRHTDRFJ2G  0511189877     2.0  1397433600\n",
       "7  A2TY0BTJOTENPG  0511189877     5.0  1395878400\n",
       "8  A34ATBPOK6HCHY  0511189877     5.0  1395532800\n",
       "9   A89DO69P0XZ27  0511189877     5.0  1395446400"
      ]
     },
     "execution_count": 2,
     "metadata": {},
     "output_type": "execute_result"
    }
   ],
   "source": [
    "df1 = pd.read_csv('ratings_Electronics.csv', names=['userId', 'productId','Rating','timestamp'])\n",
    "\n",
    "df1.head(10)"
   ]
  },
  {
   "cell_type": "code",
   "execution_count": 3,
   "id": "minimal-dining",
   "metadata": {},
   "outputs": [],
   "source": [
    "#Dropping the Timestamp column as it is not needed \n",
    "df1.drop(['timestamp'], axis=1,inplace=True)"
   ]
  },
  {
   "cell_type": "code",
   "execution_count": 4,
   "id": "clean-royalty",
   "metadata": {},
   "outputs": [
    {
     "data": {
      "text/plain": [
       "(7824482, 3)"
      ]
     },
     "execution_count": 4,
     "metadata": {},
     "output_type": "execute_result"
    }
   ],
   "source": [
    "df1.shape"
   ]
  },
  {
   "cell_type": "code",
   "execution_count": 5,
   "id": "sized-dollar",
   "metadata": {},
   "outputs": [
    {
     "name": "stdout",
     "output_type": "stream",
     "text": [
      "<class 'pandas.core.frame.DataFrame'>\n",
      "RangeIndex: 7824482 entries, 0 to 7824481\n",
      "Data columns (total 3 columns):\n",
      " #   Column     Dtype  \n",
      "---  ------     -----  \n",
      " 0   userId     object \n",
      " 1   productId  object \n",
      " 2   Rating     float64\n",
      "dtypes: float64(1), object(2)\n",
      "memory usage: 179.1+ MB\n"
     ]
    }
   ],
   "source": [
    "df1.info()"
   ]
  },
  {
   "cell_type": "code",
   "execution_count": 6,
   "id": "electrical-thong",
   "metadata": {},
   "outputs": [
    {
     "data": {
      "text/html": [
       "<div>\n",
       "<style scoped>\n",
       "    .dataframe tbody tr th:only-of-type {\n",
       "        vertical-align: middle;\n",
       "    }\n",
       "\n",
       "    .dataframe tbody tr th {\n",
       "        vertical-align: top;\n",
       "    }\n",
       "\n",
       "    .dataframe thead th {\n",
       "        text-align: right;\n",
       "    }\n",
       "</style>\n",
       "<table border=\"1\" class=\"dataframe\">\n",
       "  <thead>\n",
       "    <tr style=\"text-align: right;\">\n",
       "      <th></th>\n",
       "      <th>Rating</th>\n",
       "    </tr>\n",
       "  </thead>\n",
       "  <tbody>\n",
       "    <tr>\n",
       "      <th>count</th>\n",
       "      <td>7.824482e+06</td>\n",
       "    </tr>\n",
       "    <tr>\n",
       "      <th>mean</th>\n",
       "      <td>4.012337e+00</td>\n",
       "    </tr>\n",
       "    <tr>\n",
       "      <th>std</th>\n",
       "      <td>1.380910e+00</td>\n",
       "    </tr>\n",
       "    <tr>\n",
       "      <th>min</th>\n",
       "      <td>1.000000e+00</td>\n",
       "    </tr>\n",
       "    <tr>\n",
       "      <th>25%</th>\n",
       "      <td>3.000000e+00</td>\n",
       "    </tr>\n",
       "    <tr>\n",
       "      <th>50%</th>\n",
       "      <td>5.000000e+00</td>\n",
       "    </tr>\n",
       "    <tr>\n",
       "      <th>75%</th>\n",
       "      <td>5.000000e+00</td>\n",
       "    </tr>\n",
       "    <tr>\n",
       "      <th>max</th>\n",
       "      <td>5.000000e+00</td>\n",
       "    </tr>\n",
       "  </tbody>\n",
       "</table>\n",
       "</div>"
      ],
      "text/plain": [
       "             Rating\n",
       "count  7.824482e+06\n",
       "mean   4.012337e+00\n",
       "std    1.380910e+00\n",
       "min    1.000000e+00\n",
       "25%    3.000000e+00\n",
       "50%    5.000000e+00\n",
       "75%    5.000000e+00\n",
       "max    5.000000e+00"
      ]
     },
     "execution_count": 6,
     "metadata": {},
     "output_type": "execute_result"
    }
   ],
   "source": [
    "#summary statistics\n",
    "\n",
    "dfssc = pd.DataFrame([df1.Rating]).T\n",
    "dfssc.describe()"
   ]
  },
  {
   "cell_type": "markdown",
   "id": "median-excitement",
   "metadata": {},
   "source": [
    "#### DATA QUALITY"
   ]
  },
  {
   "cell_type": "code",
   "execution_count": 7,
   "id": "british-camping",
   "metadata": {},
   "outputs": [
    {
     "name": "stdout",
     "output_type": "stream",
     "text": [
      "Minimum rating is: 1\n",
      "Maximum rating is: 5\n"
     ]
    }
   ],
   "source": [
    "# minimum and maximum ratings\n",
    "\n",
    "print('Minimum rating is: %d' %(df1.Rating.min()))\n",
    "print('Maximum rating is: %d' %(df1.Rating.max()))"
   ]
  },
  {
   "cell_type": "code",
   "execution_count": 8,
   "id": "sustained-canyon",
   "metadata": {},
   "outputs": [
    {
     "name": "stdout",
     "output_type": "stream",
     "text": [
      "Number of missing values across columns: \n",
      " userId       0\n",
      "productId    0\n",
      "Rating       0\n",
      "dtype: int64\n"
     ]
    }
   ],
   "source": [
    "#Check for missing values\n",
    "\n",
    "print('Number of missing values across columns: \\n',df1.isnull().sum())"
   ]
  },
  {
   "cell_type": "markdown",
   "id": "illegal-sending",
   "metadata": {},
   "source": [
    "To eliminate cases where one rater is unfairly impacting a product's overall rating, we do not want duplicates in the dataset.  We will run through and drop any duplicates.  We can see that there were no duplicates as the shape of the dataset did not change. "
   ]
  },
  {
   "cell_type": "code",
   "execution_count": 120,
   "id": "polyphonic-moscow",
   "metadata": {},
   "outputs": [],
   "source": [
    "df1 = df1.drop_duplicates()"
   ]
  },
  {
   "cell_type": "code",
   "execution_count": 121,
   "id": "infrared-certificate",
   "metadata": {},
   "outputs": [
    {
     "data": {
      "text/plain": [
       "(7824482, 3)"
      ]
     },
     "execution_count": 121,
     "metadata": {},
     "output_type": "execute_result"
    }
   ],
   "source": [
    "df1.shape"
   ]
  },
  {
   "cell_type": "markdown",
   "id": "behind-arbor",
   "metadata": {},
   "source": [
    "### DATA UNDERSTANDING 2"
   ]
  },
  {
   "cell_type": "code",
   "execution_count": 9,
   "id": "spanish-consistency",
   "metadata": {},
   "outputs": [
    {
     "data": {
      "image/png": "[encoded data removed]",
      "text/plain": [
       "<Figure size 720x360 with 1 Axes>"
      ]
     },
     "metadata": {},
     "output_type": "display_data"
    }
   ],
   "source": [
    "# Check the distribution of the rating\n",
    "with sns.axes_style('white'):\n",
    "    g = sns.factorplot(\"Rating\", data=df1, aspect=2.0,kind='count')\n",
    "    g.set_ylabels(\"Total number of ratings\")"
   ]
  },
  {
   "cell_type": "code",
   "execution_count": null,
   "id": "seven-brazilian",
   "metadata": {},
   "outputs": [],
   "source": [
    "# GRAPH OF POPULAR ITEMS"
   ]
  },
  {
   "cell_type": "code",
   "execution_count": 10,
   "id": "graduate-avatar",
   "metadata": {},
   "outputs": [
    {
     "name": "stdout",
     "output_type": "stream",
     "text": [
      "Total data \n",
      "--------------------------------------------------\n",
      "\n",
      "Total no of ratings : 7824482\n",
      "Total No of Users   : 4201696\n",
      "Total No of products  : 476002\n"
     ]
    }
   ],
   "source": [
    "print(\"Total data \")\n",
    "print(\"-\"*50)\n",
    "print(\"\\nTotal no of ratings :\",df1.shape[0])\n",
    "print(\"Total No of Users   :\", len(np.unique(df1.userId)))\n",
    "print(\"Total No of products  :\", len(np.unique(df1.productId)))"
   ]
  },
  {
   "cell_type": "code",
   "execution_count": 108,
   "id": "absolute-photographer",
   "metadata": {},
   "outputs": [
    {
     "data": {
      "text/plain": [
       "<AxesSubplot:>"
      ]
     },
     "execution_count": 108,
     "metadata": {},
     "output_type": "execute_result"
    },
    {
     "data": {
      "image/png": "[encoded data removed]",
      "text/plain": [
       "<Figure size 432x288 with 1 Axes>"
      ]
     },
     "metadata": {
      "needs_background": "light"
     },
     "output_type": "display_data"
    }
   ],
   "source": [
    "#Top 20 rated products \n",
    "prd = df1['productId'].value_counts()[:20]\n",
    "sns.barplot(x= prd.values, y = prd.index)"
   ]
  },
  {
   "cell_type": "code",
   "execution_count": 109,
   "id": "moderate-triumph",
   "metadata": {},
   "outputs": [
    {
     "data": {
      "text/plain": [
       "<AxesSubplot:>"
      ]
     },
     "execution_count": 109,
     "metadata": {},
     "output_type": "execute_result"
    },
    {
     "data": {
      "image/png": "[encoded data removed]",
      "text/plain": [
       "<Figure size 432x288 with 1 Axes>"
      ]
     },
     "metadata": {
      "needs_background": "light"
     },
     "output_type": "display_data"
    }
   ],
   "source": [
    "#Top 20 users based on number of ratings\n",
    "usr = df1['userId'].value_counts()[:20]\n",
    "sns.barplot(x= usr.values, y = usr.index)"
   ]
  },
  {
   "cell_type": "code",
   "execution_count": 11,
   "id": "present-landing",
   "metadata": {},
   "outputs": [
    {
     "data": {
      "text/plain": [
       "userId\n",
       "A5JLAU2ARJ0BO     520\n",
       "ADLVFFE4VBT8      501\n",
       "A3OXHLG6DIBRW8    498\n",
       "A6FIAB28IS79      431\n",
       "A680RUE1FDO8B     406\n",
       "Name: Rating, dtype: int64"
      ]
     },
     "execution_count": 11,
     "metadata": {},
     "output_type": "execute_result"
    }
   ],
   "source": [
    "#Ratings per user\n",
    "\n",
    "RPU = df1.groupby(by='userId')['Rating'].count().sort_values(ascending=False)\n",
    "\n",
    "RPU.head()"
   ]
  },
  {
   "cell_type": "code",
   "execution_count": 12,
   "id": "involved-astrology",
   "metadata": {},
   "outputs": [
    {
     "data": {
      "text/plain": [
       "userId\n",
       "A2HRB8UOXH92SQ    1\n",
       "A2HRBA4HO2E4GU    1\n",
       "A2HRBCM00IDK56    1\n",
       "A2HRBEBDTIB8MT    1\n",
       "AZZZY1W55XHZR     1\n",
       "Name: Rating, dtype: int64"
      ]
     },
     "execution_count": 12,
     "metadata": {},
     "output_type": "execute_result"
    }
   ],
   "source": [
    "RPU.tail()\n"
   ]
  },
  {
   "cell_type": "code",
   "execution_count": 13,
   "id": "portable-wilderness",
   "metadata": {},
   "outputs": [
    {
     "data": {
      "text/plain": [
       "count    4.201696e+06\n",
       "mean     1.862220e+00\n",
       "std      2.885110e+00\n",
       "min      1.000000e+00\n",
       "25%      1.000000e+00\n",
       "50%      1.000000e+00\n",
       "75%      2.000000e+00\n",
       "max      5.200000e+02\n",
       "Name: Rating, dtype: float64"
      ]
     },
     "execution_count": 13,
     "metadata": {},
     "output_type": "execute_result"
    }
   ],
   "source": [
    "RPU.describe()"
   ]
  },
  {
   "cell_type": "markdown",
   "id": "great-feedback",
   "metadata": {},
   "source": [
    "### MODELING AND EVALUATION 1"
   ]
  },
  {
   "cell_type": "markdown",
   "id": "passive-walnut",
   "metadata": {},
   "source": [
    "To reduce the dimensionality of the dataset and improve processing time, rarely rated products and users who infrequently rated products are filtered out.  The final dataset will consist of users who provided 20 or more ratings and then a subsequent filter of products that received at least 50 ratings. "
   ]
  },
  {
   "cell_type": "code",
   "execution_count": 14,
   "id": "sapphire-arrow",
   "metadata": {},
   "outputs": [],
   "source": [
    "#Subset of the data containing users who gave 20 or more ratings\n",
    "\n",
    "df2=df1.groupby(\"userId\").filter(lambda x:x['Rating'].count() >=20)"
   ]
  },
  {
   "cell_type": "code",
   "execution_count": 15,
   "id": "circular-assembly",
   "metadata": {},
   "outputs": [],
   "source": [
    "# Additional subset of the data containing products with 50 or more ratings\n",
    "\n",
    "df3=df2.groupby(\"productId\").filter(lambda x:x['Rating'].count() >=50)"
   ]
  },
  {
   "cell_type": "code",
   "execution_count": 16,
   "id": "indoor-brass",
   "metadata": {},
   "outputs": [
    {
     "name": "stdout",
     "output_type": "stream",
     "text": [
      "Total data \n",
      "--------------------------------------------------\n",
      "\n",
      "Total no of ratings : 85410\n",
      "Total No of Users   : 12933\n",
      "Total No of products  : 880\n"
     ]
    }
   ],
   "source": [
    "#Resulting dataset\n",
    "\n",
    "print(\"Total data \")\n",
    "print(\"-\"*50)\n",
    "print(\"\\nTotal no of ratings :\",df3.shape[0])\n",
    "print(\"Total No of Users   :\", len(np.unique(df3.userId)))\n",
    "print(\"Total No of products  :\", len(np.unique(df3.productId)))"
   ]
  },
  {
   "cell_type": "code",
   "execution_count": 111,
   "id": "spatial-tooth",
   "metadata": {},
   "outputs": [
    {
     "data": {
      "text/html": [
       "<div>\n",
       "<style scoped>\n",
       "    .dataframe tbody tr th:only-of-type {\n",
       "        vertical-align: middle;\n",
       "    }\n",
       "\n",
       "    .dataframe tbody tr th {\n",
       "        vertical-align: top;\n",
       "    }\n",
       "\n",
       "    .dataframe thead th {\n",
       "        text-align: right;\n",
       "    }\n",
       "</style>\n",
       "<table border=\"1\" class=\"dataframe\">\n",
       "  <thead>\n",
       "    <tr style=\"text-align: right;\">\n",
       "      <th></th>\n",
       "      <th>Rating</th>\n",
       "    </tr>\n",
       "  </thead>\n",
       "  <tbody>\n",
       "    <tr>\n",
       "      <th>count</th>\n",
       "      <td>85410.000000</td>\n",
       "    </tr>\n",
       "    <tr>\n",
       "      <th>mean</th>\n",
       "      <td>4.407259</td>\n",
       "    </tr>\n",
       "    <tr>\n",
       "      <th>std</th>\n",
       "      <td>1.009711</td>\n",
       "    </tr>\n",
       "    <tr>\n",
       "      <th>min</th>\n",
       "      <td>1.000000</td>\n",
       "    </tr>\n",
       "    <tr>\n",
       "      <th>25%</th>\n",
       "      <td>4.000000</td>\n",
       "    </tr>\n",
       "    <tr>\n",
       "      <th>50%</th>\n",
       "      <td>5.000000</td>\n",
       "    </tr>\n",
       "    <tr>\n",
       "      <th>75%</th>\n",
       "      <td>5.000000</td>\n",
       "    </tr>\n",
       "    <tr>\n",
       "      <th>max</th>\n",
       "      <td>5.000000</td>\n",
       "    </tr>\n",
       "  </tbody>\n",
       "</table>\n",
       "</div>"
      ],
      "text/plain": [
       "             Rating\n",
       "count  85410.000000\n",
       "mean       4.407259\n",
       "std        1.009711\n",
       "min        1.000000\n",
       "25%        4.000000\n",
       "50%        5.000000\n",
       "75%        5.000000\n",
       "max        5.000000"
      ]
     },
     "execution_count": 111,
     "metadata": {},
     "output_type": "execute_result"
    }
   ],
   "source": [
    "#Revisiting 5 pt Summary and ratings distribution of condensed dataset\n",
    "\n",
    "dfssc = pd.DataFrame([df3.Rating]).T\n",
    "dfssc.describe()"
   ]
  },
  {
   "cell_type": "code",
   "execution_count": 112,
   "id": "tired-interstate",
   "metadata": {},
   "outputs": [
    {
     "data": {
      "image/png": "[encoded data removed]",
      "text/plain": [
       "<Figure size 720x360 with 1 Axes>"
      ]
     },
     "metadata": {},
     "output_type": "display_data"
    }
   ],
   "source": [
    "with sns.axes_style('white'):\n",
    "    g = sns.factorplot(\"Rating\", data=df3, aspect=2.0,kind='count')\n",
    "    g.set_ylabels(\"Total number of ratings\")"
   ]
  },
  {
   "cell_type": "markdown",
   "id": "reported-headquarters",
   "metadata": {},
   "source": [
    "Reading the Data into Surprise"
   ]
  },
  {
   "cell_type": "code",
   "execution_count": 19,
   "id": "resident-nomination",
   "metadata": {},
   "outputs": [],
   "source": [
    "#Reading the dataset into Surprise\n",
    "reader = Reader(rating_scale=(1, 5))\n",
    "data = Dataset.load_from_df(df3,reader)"
   ]
  },
  {
   "cell_type": "code",
   "execution_count": 20,
   "id": "electoral-springfield",
   "metadata": {},
   "outputs": [],
   "source": [
    "#Splitting the dataset into train and test - - reserving 30% for testing\n",
    "trainset, testset = train_test_split(data, test_size=0.3,random_state=28)"
   ]
  },
  {
   "cell_type": "code",
   "execution_count": 21,
   "id": "contemporary-concord",
   "metadata": {},
   "outputs": [
    {
     "name": "stdout",
     "output_type": "stream",
     "text": [
      "Number of users:  12484 \n",
      "\n",
      "Number of products:  880 \n",
      "\n"
     ]
    }
   ],
   "source": [
    "print('Number of users: ', trainset.n_users, '\\n')\n",
    "print('Number of products: ', trainset.n_items, '\\n')"
   ]
  },
  {
   "cell_type": "markdown",
   "id": "refined-spyware",
   "metadata": {},
   "source": [
    "**GridSearchCV** \n",
    "\n",
    "Utilized to compare accuracy metrics for the selected algorithms on various combinations of parameters, with  a cross-validation of five to identify the best set of parameters for each algorithm.\n",
    "\n",
    "n_factors: determines the size of pᵤ and qᵢ vectors - - how many latent factors the model will try to find. \n",
    "\n",
    "n_epochs: determines how many times the gradient descent calculations are repeated. \n",
    "\n",
    "lr_all: Learning rate factor for all of the parameters. Step sizes the model will use to minimise the cost function\n",
    "\n",
    "reg_all: Regularisation factor for all of the parameters. Surprise uses an L2 regularisation"
   ]
  },
  {
   "cell_type": "markdown",
   "id": "confirmed-motion",
   "metadata": {},
   "source": [
    "\n",
    "MSD (mean square difference) similarities will be computed between user - item similarity for all models.  Cosine was attempted but the processing became prohibitive.  When compared using the KNN algorithm, the difference in RMSE with MSD and Cosine was not significant enough to warrant the level of processing required."
   ]
  },
  {
   "cell_type": "code",
   "execution_count": 23,
   "id": "contemporary-smart",
   "metadata": {},
   "outputs": [],
   "source": [
    "# Grid Search Parameters\n",
    "\n",
    "param_grid = {'n_factors': [5, 10, 20],\n",
    "              'n_epochs': [20, 30, 50],\n",
    "              'lr_all': [0.002, 0.005, 0.01],\n",
    "              'reg_all': [0.02, 0.05, 0.1]}\n",
    "\n"
   ]
  },
  {
   "cell_type": "markdown",
   "id": "backed-flower",
   "metadata": {},
   "source": [
    "#### Neighborhood-based algorithm"
   ]
  },
  {
   "cell_type": "markdown",
   "id": "secure-costs",
   "metadata": {},
   "source": [
    "**KNN with Means**\n",
    "\n",
    "Basic collaborative filtering algorithm, taking into account the mean ratings of each user.\n"
   ]
  },
  {
   "cell_type": "code",
   "execution_count": 24,
   "id": "valuable-murray",
   "metadata": {},
   "outputs": [
    {
     "name": "stdout",
     "output_type": "stream",
     "text": [
      "Computing the msd similarity matrix...\n",
      "Done computing similarity matrix.\n",
      "Computing the msd similarity matrix...\n",
      "Done computing similarity matrix.\n",
      "Computing the msd similarity matrix...\n",
      "Done computing similarity matrix.\n",
      "Computing the msd similarity matrix...\n",
      "Done computing similarity matrix.\n",
      "Computing the msd similarity matrix...\n",
      "Done computing similarity matrix.\n",
      "Computing the msd similarity matrix...\n",
      "Done computing similarity matrix.\n",
      "Computing the msd similarity matrix...\n",
      "Done computing similarity matrix.\n",
      "Computing the msd similarity matrix...\n",
      "Done computing similarity matrix.\n",
      "Computing the msd similarity matrix...\n",
      "Done computing similarity matrix.\n",
      "Computing the msd similarity matrix...\n",
      "Done computing similarity matrix.\n",
      "Computing the msd similarity matrix...\n",
      "Done computing similarity matrix.\n",
      "Computing the msd similarity matrix...\n",
      "Done computing similarity matrix.\n",
      "Computing the msd similarity matrix...\n",
      "Done computing similarity matrix.\n",
      "Computing the msd similarity matrix...\n",
      "Done computing similarity matrix.\n",
      "Computing the msd similarity matrix...\n",
      "Done computing similarity matrix.\n",
      "Computing the msd similarity matrix...\n",
      "Done computing similarity matrix.\n",
      "Computing the msd similarity matrix...\n",
      "Done computing similarity matrix.\n",
      "Computing the msd similarity matrix...\n",
      "Done computing similarity matrix.\n",
      "Computing the msd similarity matrix...\n",
      "Done computing similarity matrix.\n",
      "Computing the msd similarity matrix...\n",
      "Done computing similarity matrix.\n",
      "Computing the msd similarity matrix...\n",
      "Done computing similarity matrix.\n",
      "Computing the msd similarity matrix...\n",
      "Done computing similarity matrix.\n",
      "Computing the msd similarity matrix...\n",
      "Done computing similarity matrix.\n",
      "Computing the msd similarity matrix...\n",
      "Done computing similarity matrix.\n",
      "Computing the msd similarity matrix...\n",
      "Done computing similarity matrix.\n",
      "Computing the msd similarity matrix...\n",
      "Done computing similarity matrix.\n",
      "Computing the msd similarity matrix...\n",
      "Done computing similarity matrix.\n",
      "Computing the msd similarity matrix...\n",
      "Done computing similarity matrix.\n",
      "Computing the msd similarity matrix...\n",
      "Done computing similarity matrix.\n",
      "Computing the msd similarity matrix...\n",
      "Done computing similarity matrix.\n",
      "Computing the msd similarity matrix...\n",
      "Done computing similarity matrix.\n",
      "Computing the msd similarity matrix...\n",
      "Done computing similarity matrix.\n",
      "Computing the msd similarity matrix...\n",
      "Done computing similarity matrix.\n",
      "Computing the msd similarity matrix...\n",
      "Done computing similarity matrix.\n",
      "Computing the msd similarity matrix...\n",
      "Done computing similarity matrix.\n",
      "Computing the msd similarity matrix...\n",
      "Done computing similarity matrix.\n",
      "Computing the msd similarity matrix...\n",
      "Done computing similarity matrix.\n",
      "Computing the msd similarity matrix...\n",
      "Done computing similarity matrix.\n",
      "Computing the msd similarity matrix...\n",
      "Done computing similarity matrix.\n",
      "Computing the msd similarity matrix...\n",
      "Done computing similarity matrix.\n",
      "Computing the msd similarity matrix...\n",
      "Done computing similarity matrix.\n",
      "Computing the msd similarity matrix...\n",
      "Done computing similarity matrix.\n",
      "Computing the msd similarity matrix...\n",
      "Done computing similarity matrix.\n",
      "Computing the msd similarity matrix...\n",
      "Done computing similarity matrix.\n",
      "Computing the msd similarity matrix...\n",
      "Done computing similarity matrix.\n",
      "Computing the msd similarity matrix...\n",
      "Done computing similarity matrix.\n",
      "Computing the msd similarity matrix...\n",
      "Done computing similarity matrix.\n",
      "Computing the msd similarity matrix...\n",
      "Done computing similarity matrix.\n",
      "Computing the msd similarity matrix...\n",
      "Done computing similarity matrix.\n",
      "Computing the msd similarity matrix...\n",
      "Done computing similarity matrix.\n",
      "Computing the msd similarity matrix...\n",
      "Done computing similarity matrix.\n",
      "Computing the msd similarity matrix...\n",
      "Done computing similarity matrix.\n",
      "Computing the msd similarity matrix...\n",
      "Done computing similarity matrix.\n",
      "Computing the msd similarity matrix...\n",
      "Done computing similarity matrix.\n",
      "Computing the msd similarity matrix...\n",
      "Done computing similarity matrix.\n",
      "Computing the msd similarity matrix...\n",
      "Done computing similarity matrix.\n",
      "Computing the msd similarity matrix...\n",
      "Done computing similarity matrix.\n",
      "Computing the msd similarity matrix...\n",
      "Done computing similarity matrix.\n",
      "Computing the msd similarity matrix...\n",
      "Done computing similarity matrix.\n",
      "Computing the msd similarity matrix...\n",
      "Done computing similarity matrix.\n",
      "Computing the msd similarity matrix...\n",
      "Done computing similarity matrix.\n",
      "Computing the msd similarity matrix...\n",
      "Done computing similarity matrix.\n",
      "Computing the msd similarity matrix...\n",
      "Done computing similarity matrix.\n",
      "Computing the msd similarity matrix...\n",
      "Done computing similarity matrix.\n",
      "Computing the msd similarity matrix...\n",
      "Done computing similarity matrix.\n",
      "Computing the msd similarity matrix...\n",
      "Done computing similarity matrix.\n",
      "Computing the msd similarity matrix...\n",
      "Done computing similarity matrix.\n",
      "Computing the msd similarity matrix...\n",
      "Done computing similarity matrix.\n",
      "Computing the msd similarity matrix...\n",
      "Done computing similarity matrix.\n",
      "Computing the msd similarity matrix...\n",
      "Done computing similarity matrix.\n",
      "Computing the msd similarity matrix...\n",
      "Done computing similarity matrix.\n",
      "Computing the msd similarity matrix...\n",
      "Done computing similarity matrix.\n",
      "Computing the msd similarity matrix...\n",
      "Done computing similarity matrix.\n",
      "Computing the msd similarity matrix...\n",
      "Done computing similarity matrix.\n",
      "Computing the msd similarity matrix...\n",
      "Done computing similarity matrix.\n",
      "Computing the msd similarity matrix...\n",
      "Done computing similarity matrix.\n",
      "Computing the msd similarity matrix...\n",
      "Done computing similarity matrix.\n",
      "Computing the msd similarity matrix...\n",
      "Done computing similarity matrix.\n",
      "Computing the msd similarity matrix...\n",
      "Done computing similarity matrix.\n",
      "Computing the msd similarity matrix...\n",
      "Done computing similarity matrix.\n",
      "Computing the msd similarity matrix...\n",
      "Done computing similarity matrix.\n",
      "Computing the msd similarity matrix...\n",
      "Done computing similarity matrix.\n",
      "Computing the msd similarity matrix...\n",
      "Done computing similarity matrix.\n",
      "Computing the msd similarity matrix...\n",
      "Done computing similarity matrix.\n",
      "Computing the msd similarity matrix...\n",
      "Done computing similarity matrix.\n",
      "Computing the msd similarity matrix...\n",
      "Done computing similarity matrix.\n",
      "Computing the msd similarity matrix...\n",
      "Done computing similarity matrix.\n",
      "Computing the msd similarity matrix...\n",
      "Done computing similarity matrix.\n",
      "Computing the msd similarity matrix...\n",
      "Done computing similarity matrix.\n",
      "Computing the msd similarity matrix...\n",
      "Done computing similarity matrix.\n",
      "Computing the msd similarity matrix...\n",
      "Done computing similarity matrix.\n",
      "Computing the msd similarity matrix...\n",
      "Done computing similarity matrix.\n",
      "Computing the msd similarity matrix...\n",
      "Done computing similarity matrix.\n",
      "Computing the msd similarity matrix...\n",
      "Done computing similarity matrix.\n",
      "Computing the msd similarity matrix...\n",
      "Done computing similarity matrix.\n",
      "Computing the msd similarity matrix...\n",
      "Done computing similarity matrix.\n",
      "Computing the msd similarity matrix...\n",
      "Done computing similarity matrix.\n",
      "Computing the msd similarity matrix...\n",
      "Done computing similarity matrix.\n",
      "Computing the msd similarity matrix...\n",
      "Done computing similarity matrix.\n",
      "Computing the msd similarity matrix...\n",
      "Done computing similarity matrix.\n",
      "Computing the msd similarity matrix...\n",
      "Done computing similarity matrix.\n",
      "Computing the msd similarity matrix...\n",
      "Done computing similarity matrix.\n",
      "Computing the msd similarity matrix...\n",
      "Done computing similarity matrix.\n",
      "Computing the msd similarity matrix...\n",
      "Done computing similarity matrix.\n",
      "Computing the msd similarity matrix...\n",
      "Done computing similarity matrix.\n",
      "Computing the msd similarity matrix...\n",
      "Done computing similarity matrix.\n",
      "Computing the msd similarity matrix...\n",
      "Done computing similarity matrix.\n",
      "Computing the msd similarity matrix...\n",
      "Done computing similarity matrix.\n",
      "Computing the msd similarity matrix...\n",
      "Done computing similarity matrix.\n",
      "Computing the msd similarity matrix...\n",
      "Done computing similarity matrix.\n",
      "Computing the msd similarity matrix...\n",
      "Done computing similarity matrix.\n",
      "Computing the msd similarity matrix...\n",
      "Done computing similarity matrix.\n",
      "Computing the msd similarity matrix...\n"
     ]
    },
    {
     "name": "stdout",
     "output_type": "stream",
     "text": [
      "Done computing similarity matrix.\n",
      "Computing the msd similarity matrix...\n",
      "Done computing similarity matrix.\n",
      "Computing the msd similarity matrix...\n",
      "Done computing similarity matrix.\n",
      "Computing the msd similarity matrix...\n",
      "Done computing similarity matrix.\n",
      "Computing the msd similarity matrix...\n",
      "Done computing similarity matrix.\n",
      "Computing the msd similarity matrix...\n",
      "Done computing similarity matrix.\n",
      "Computing the msd similarity matrix...\n",
      "Done computing similarity matrix.\n",
      "Computing the msd similarity matrix...\n",
      "Done computing similarity matrix.\n",
      "Computing the msd similarity matrix...\n",
      "Done computing similarity matrix.\n",
      "Computing the msd similarity matrix...\n",
      "Done computing similarity matrix.\n",
      "Computing the msd similarity matrix...\n",
      "Done computing similarity matrix.\n",
      "Computing the msd similarity matrix...\n",
      "Done computing similarity matrix.\n",
      "Computing the msd similarity matrix...\n",
      "Done computing similarity matrix.\n",
      "Computing the msd similarity matrix...\n",
      "Done computing similarity matrix.\n",
      "Computing the msd similarity matrix...\n",
      "Done computing similarity matrix.\n",
      "Computing the msd similarity matrix...\n",
      "Done computing similarity matrix.\n",
      "Computing the msd similarity matrix...\n",
      "Done computing similarity matrix.\n",
      "Computing the msd similarity matrix...\n",
      "Done computing similarity matrix.\n",
      "Computing the msd similarity matrix...\n",
      "Done computing similarity matrix.\n",
      "Computing the msd similarity matrix...\n",
      "Done computing similarity matrix.\n",
      "Computing the msd similarity matrix...\n",
      "Done computing similarity matrix.\n",
      "Computing the msd similarity matrix...\n",
      "Done computing similarity matrix.\n",
      "Computing the msd similarity matrix...\n",
      "Done computing similarity matrix.\n",
      "Computing the msd similarity matrix...\n",
      "Done computing similarity matrix.\n",
      "Computing the msd similarity matrix...\n",
      "Done computing similarity matrix.\n",
      "Computing the msd similarity matrix...\n",
      "Done computing similarity matrix.\n",
      "Computing the msd similarity matrix...\n",
      "Done computing similarity matrix.\n",
      "Computing the msd similarity matrix...\n",
      "Done computing similarity matrix.\n",
      "Computing the msd similarity matrix...\n",
      "Done computing similarity matrix.\n",
      "Computing the msd similarity matrix...\n",
      "Done computing similarity matrix.\n",
      "Computing the msd similarity matrix...\n",
      "Done computing similarity matrix.\n",
      "Computing the msd similarity matrix...\n",
      "Done computing similarity matrix.\n",
      "Computing the msd similarity matrix...\n",
      "Done computing similarity matrix.\n",
      "Computing the msd similarity matrix...\n",
      "Done computing similarity matrix.\n",
      "Computing the msd similarity matrix...\n",
      "Done computing similarity matrix.\n",
      "Computing the msd similarity matrix...\n",
      "Done computing similarity matrix.\n",
      "Computing the msd similarity matrix...\n",
      "Done computing similarity matrix.\n",
      "Computing the msd similarity matrix...\n",
      "Done computing similarity matrix.\n",
      "Computing the msd similarity matrix...\n",
      "Done computing similarity matrix.\n",
      "Computing the msd similarity matrix...\n",
      "Done computing similarity matrix.\n",
      "Computing the msd similarity matrix...\n",
      "Done computing similarity matrix.\n",
      "Computing the msd similarity matrix...\n",
      "Done computing similarity matrix.\n",
      "Computing the msd similarity matrix...\n",
      "Done computing similarity matrix.\n",
      "Computing the msd similarity matrix...\n",
      "Done computing similarity matrix.\n",
      "Computing the msd similarity matrix...\n",
      "Done computing similarity matrix.\n",
      "Computing the msd similarity matrix...\n",
      "Done computing similarity matrix.\n",
      "Computing the msd similarity matrix...\n",
      "Done computing similarity matrix.\n",
      "Computing the msd similarity matrix...\n",
      "Done computing similarity matrix.\n",
      "Computing the msd similarity matrix...\n",
      "Done computing similarity matrix.\n",
      "Computing the msd similarity matrix...\n",
      "Done computing similarity matrix.\n",
      "Computing the msd similarity matrix...\n",
      "Done computing similarity matrix.\n",
      "Computing the msd similarity matrix...\n",
      "Done computing similarity matrix.\n",
      "Computing the msd similarity matrix...\n",
      "Done computing similarity matrix.\n",
      "Computing the msd similarity matrix...\n",
      "Done computing similarity matrix.\n",
      "Computing the msd similarity matrix...\n",
      "Done computing similarity matrix.\n",
      "Computing the msd similarity matrix...\n",
      "Done computing similarity matrix.\n",
      "Computing the msd similarity matrix...\n",
      "Done computing similarity matrix.\n",
      "Computing the msd similarity matrix...\n",
      "Done computing similarity matrix.\n",
      "Computing the msd similarity matrix...\n",
      "Done computing similarity matrix.\n",
      "Computing the msd similarity matrix...\n",
      "Done computing similarity matrix.\n",
      "Computing the msd similarity matrix...\n",
      "Done computing similarity matrix.\n",
      "Computing the msd similarity matrix...\n",
      "Done computing similarity matrix.\n",
      "Computing the msd similarity matrix...\n",
      "Done computing similarity matrix.\n",
      "Computing the msd similarity matrix...\n",
      "Done computing similarity matrix.\n",
      "Computing the msd similarity matrix...\n",
      "Done computing similarity matrix.\n",
      "Computing the msd similarity matrix...\n",
      "Done computing similarity matrix.\n",
      "Computing the msd similarity matrix...\n",
      "Done computing similarity matrix.\n",
      "Computing the msd similarity matrix...\n",
      "Done computing similarity matrix.\n",
      "Computing the msd similarity matrix...\n",
      "Done computing similarity matrix.\n",
      "Computing the msd similarity matrix...\n",
      "Done computing similarity matrix.\n",
      "Computing the msd similarity matrix...\n",
      "Done computing similarity matrix.\n",
      "Computing the msd similarity matrix...\n",
      "Done computing similarity matrix.\n",
      "Computing the msd similarity matrix...\n",
      "Done computing similarity matrix.\n",
      "Computing the msd similarity matrix...\n",
      "Done computing similarity matrix.\n",
      "Computing the msd similarity matrix...\n",
      "Done computing similarity matrix.\n",
      "Computing the msd similarity matrix...\n",
      "Done computing similarity matrix.\n",
      "Computing the msd similarity matrix...\n",
      "Done computing similarity matrix.\n",
      "Computing the msd similarity matrix...\n",
      "Done computing similarity matrix.\n",
      "Computing the msd similarity matrix...\n",
      "Done computing similarity matrix.\n",
      "Computing the msd similarity matrix...\n",
      "Done computing similarity matrix.\n",
      "Computing the msd similarity matrix...\n",
      "Done computing similarity matrix.\n",
      "Computing the msd similarity matrix...\n",
      "Done computing similarity matrix.\n",
      "Computing the msd similarity matrix...\n",
      "Done computing similarity matrix.\n",
      "Computing the msd similarity matrix...\n",
      "Done computing similarity matrix.\n",
      "Computing the msd similarity matrix...\n",
      "Done computing similarity matrix.\n",
      "Computing the msd similarity matrix...\n",
      "Done computing similarity matrix.\n",
      "Computing the msd similarity matrix...\n",
      "Done computing similarity matrix.\n",
      "Computing the msd similarity matrix...\n",
      "Done computing similarity matrix.\n",
      "Computing the msd similarity matrix...\n",
      "Done computing similarity matrix.\n",
      "Computing the msd similarity matrix...\n",
      "Done computing similarity matrix.\n",
      "Computing the msd similarity matrix...\n",
      "Done computing similarity matrix.\n",
      "Computing the msd similarity matrix...\n",
      "Done computing similarity matrix.\n",
      "Computing the msd similarity matrix...\n",
      "Done computing similarity matrix.\n",
      "Computing the msd similarity matrix...\n",
      "Done computing similarity matrix.\n",
      "Computing the msd similarity matrix...\n",
      "Done computing similarity matrix.\n",
      "Computing the msd similarity matrix...\n",
      "Done computing similarity matrix.\n",
      "Computing the msd similarity matrix...\n",
      "Done computing similarity matrix.\n",
      "Computing the msd similarity matrix...\n",
      "Done computing similarity matrix.\n",
      "Computing the msd similarity matrix...\n",
      "Done computing similarity matrix.\n",
      "Computing the msd similarity matrix...\n",
      "Done computing similarity matrix.\n",
      "Computing the msd similarity matrix...\n",
      "Done computing similarity matrix.\n",
      "Computing the msd similarity matrix...\n",
      "Done computing similarity matrix.\n",
      "Computing the msd similarity matrix...\n",
      "Done computing similarity matrix.\n",
      "Computing the msd similarity matrix...\n",
      "Done computing similarity matrix.\n",
      "Computing the msd similarity matrix...\n",
      "Done computing similarity matrix.\n",
      "Computing the msd similarity matrix...\n",
      "Done computing similarity matrix.\n",
      "Computing the msd similarity matrix...\n",
      "Done computing similarity matrix.\n",
      "Computing the msd similarity matrix...\n",
      "Done computing similarity matrix.\n",
      "Computing the msd similarity matrix...\n",
      "Done computing similarity matrix.\n",
      "Computing the msd similarity matrix...\n",
      "Done computing similarity matrix.\n",
      "Computing the msd similarity matrix...\n",
      "Done computing similarity matrix.\n",
      "Computing the msd similarity matrix...\n",
      "Done computing similarity matrix.\n",
      "Computing the msd similarity matrix...\n",
      "Done computing similarity matrix.\n"
     ]
    },
    {
     "name": "stdout",
     "output_type": "stream",
     "text": [
      "Computing the msd similarity matrix...\n",
      "Done computing similarity matrix.\n",
      "Computing the msd similarity matrix...\n",
      "Done computing similarity matrix.\n",
      "Computing the msd similarity matrix...\n",
      "Done computing similarity matrix.\n",
      "Computing the msd similarity matrix...\n",
      "Done computing similarity matrix.\n",
      "Computing the msd similarity matrix...\n",
      "Done computing similarity matrix.\n",
      "Computing the msd similarity matrix...\n",
      "Done computing similarity matrix.\n",
      "Computing the msd similarity matrix...\n",
      "Done computing similarity matrix.\n",
      "Computing the msd similarity matrix...\n",
      "Done computing similarity matrix.\n",
      "Computing the msd similarity matrix...\n",
      "Done computing similarity matrix.\n",
      "Computing the msd similarity matrix...\n",
      "Done computing similarity matrix.\n",
      "Computing the msd similarity matrix...\n",
      "Done computing similarity matrix.\n",
      "Computing the msd similarity matrix...\n",
      "Done computing similarity matrix.\n",
      "Computing the msd similarity matrix...\n",
      "Done computing similarity matrix.\n",
      "Computing the msd similarity matrix...\n",
      "Done computing similarity matrix.\n",
      "Computing the msd similarity matrix...\n",
      "Done computing similarity matrix.\n",
      "Computing the msd similarity matrix...\n",
      "Done computing similarity matrix.\n",
      "Computing the msd similarity matrix...\n",
      "Done computing similarity matrix.\n",
      "Computing the msd similarity matrix...\n",
      "Done computing similarity matrix.\n",
      "Computing the msd similarity matrix...\n",
      "Done computing similarity matrix.\n",
      "Computing the msd similarity matrix...\n",
      "Done computing similarity matrix.\n",
      "Computing the msd similarity matrix...\n",
      "Done computing similarity matrix.\n",
      "Computing the msd similarity matrix...\n",
      "Done computing similarity matrix.\n",
      "Computing the msd similarity matrix...\n",
      "Done computing similarity matrix.\n",
      "Computing the msd similarity matrix...\n",
      "Done computing similarity matrix.\n",
      "Computing the msd similarity matrix...\n",
      "Done computing similarity matrix.\n",
      "Computing the msd similarity matrix...\n",
      "Done computing similarity matrix.\n",
      "Computing the msd similarity matrix...\n",
      "Done computing similarity matrix.\n",
      "Computing the msd similarity matrix...\n",
      "Done computing similarity matrix.\n",
      "Computing the msd similarity matrix...\n",
      "Done computing similarity matrix.\n",
      "Computing the msd similarity matrix...\n",
      "Done computing similarity matrix.\n",
      "Computing the msd similarity matrix...\n",
      "Done computing similarity matrix.\n",
      "Computing the msd similarity matrix...\n",
      "Done computing similarity matrix.\n",
      "Computing the msd similarity matrix...\n",
      "Done computing similarity matrix.\n",
      "Computing the msd similarity matrix...\n",
      "Done computing similarity matrix.\n",
      "Computing the msd similarity matrix...\n",
      "Done computing similarity matrix.\n",
      "Computing the msd similarity matrix...\n",
      "Done computing similarity matrix.\n",
      "Computing the msd similarity matrix...\n",
      "Done computing similarity matrix.\n",
      "Computing the msd similarity matrix...\n",
      "Done computing similarity matrix.\n",
      "Computing the msd similarity matrix...\n",
      "Done computing similarity matrix.\n",
      "Computing the msd similarity matrix...\n",
      "Done computing similarity matrix.\n",
      "Computing the msd similarity matrix...\n",
      "Done computing similarity matrix.\n",
      "Computing the msd similarity matrix...\n",
      "Done computing similarity matrix.\n",
      "Computing the msd similarity matrix...\n",
      "Done computing similarity matrix.\n",
      "Computing the msd similarity matrix...\n",
      "Done computing similarity matrix.\n",
      "Computing the msd similarity matrix...\n",
      "Done computing similarity matrix.\n",
      "Computing the msd similarity matrix...\n",
      "Done computing similarity matrix.\n",
      "Computing the msd similarity matrix...\n",
      "Done computing similarity matrix.\n",
      "Computing the msd similarity matrix...\n",
      "Done computing similarity matrix.\n",
      "Computing the msd similarity matrix...\n",
      "Done computing similarity matrix.\n",
      "Computing the msd similarity matrix...\n",
      "Done computing similarity matrix.\n",
      "Computing the msd similarity matrix...\n",
      "Done computing similarity matrix.\n",
      "Computing the msd similarity matrix...\n",
      "Done computing similarity matrix.\n",
      "Computing the msd similarity matrix...\n",
      "Done computing similarity matrix.\n",
      "Computing the msd similarity matrix...\n",
      "Done computing similarity matrix.\n",
      "Computing the msd similarity matrix...\n",
      "Done computing similarity matrix.\n",
      "Computing the msd similarity matrix...\n",
      "Done computing similarity matrix.\n",
      "Computing the msd similarity matrix...\n",
      "Done computing similarity matrix.\n",
      "Computing the msd similarity matrix...\n",
      "Done computing similarity matrix.\n",
      "Computing the msd similarity matrix...\n",
      "Done computing similarity matrix.\n",
      "Computing the msd similarity matrix...\n",
      "Done computing similarity matrix.\n",
      "Computing the msd similarity matrix...\n",
      "Done computing similarity matrix.\n",
      "Computing the msd similarity matrix...\n",
      "Done computing similarity matrix.\n",
      "Computing the msd similarity matrix...\n",
      "Done computing similarity matrix.\n",
      "Computing the msd similarity matrix...\n",
      "Done computing similarity matrix.\n",
      "Computing the msd similarity matrix...\n",
      "Done computing similarity matrix.\n",
      "Computing the msd similarity matrix...\n",
      "Done computing similarity matrix.\n",
      "Computing the msd similarity matrix...\n",
      "Done computing similarity matrix.\n",
      "Computing the msd similarity matrix...\n",
      "Done computing similarity matrix.\n",
      "Computing the msd similarity matrix...\n",
      "Done computing similarity matrix.\n",
      "Computing the msd similarity matrix...\n",
      "Done computing similarity matrix.\n",
      "Computing the msd similarity matrix...\n",
      "Done computing similarity matrix.\n",
      "Computing the msd similarity matrix...\n",
      "Done computing similarity matrix.\n",
      "Computing the msd similarity matrix...\n",
      "Done computing similarity matrix.\n",
      "Computing the msd similarity matrix...\n",
      "Done computing similarity matrix.\n",
      "Computing the msd similarity matrix...\n",
      "Done computing similarity matrix.\n",
      "Computing the msd similarity matrix...\n",
      "Done computing similarity matrix.\n",
      "Computing the msd similarity matrix...\n",
      "Done computing similarity matrix.\n",
      "Computing the msd similarity matrix...\n",
      "Done computing similarity matrix.\n",
      "Computing the msd similarity matrix...\n",
      "Done computing similarity matrix.\n",
      "Computing the msd similarity matrix...\n",
      "Done computing similarity matrix.\n",
      "Computing the msd similarity matrix...\n",
      "Done computing similarity matrix.\n",
      "Computing the msd similarity matrix...\n",
      "Done computing similarity matrix.\n",
      "Computing the msd similarity matrix...\n",
      "Done computing similarity matrix.\n",
      "Computing the msd similarity matrix...\n",
      "Done computing similarity matrix.\n",
      "Computing the msd similarity matrix...\n",
      "Done computing similarity matrix.\n",
      "Computing the msd similarity matrix...\n",
      "Done computing similarity matrix.\n",
      "Computing the msd similarity matrix...\n",
      "Done computing similarity matrix.\n",
      "Computing the msd similarity matrix...\n",
      "Done computing similarity matrix.\n",
      "Computing the msd similarity matrix...\n",
      "Done computing similarity matrix.\n",
      "Computing the msd similarity matrix...\n",
      "Done computing similarity matrix.\n",
      "Computing the msd similarity matrix...\n",
      "Done computing similarity matrix.\n",
      "Computing the msd similarity matrix...\n",
      "Done computing similarity matrix.\n",
      "Computing the msd similarity matrix...\n",
      "Done computing similarity matrix.\n",
      "Computing the msd similarity matrix...\n",
      "Done computing similarity matrix.\n",
      "Computing the msd similarity matrix...\n",
      "Done computing similarity matrix.\n",
      "Computing the msd similarity matrix...\n",
      "Done computing similarity matrix.\n",
      "Computing the msd similarity matrix...\n",
      "Done computing similarity matrix.\n",
      "Computing the msd similarity matrix...\n",
      "Done computing similarity matrix.\n",
      "Computing the msd similarity matrix...\n",
      "Done computing similarity matrix.\n",
      "Computing the msd similarity matrix...\n",
      "Done computing similarity matrix.\n",
      "Computing the msd similarity matrix...\n",
      "Done computing similarity matrix.\n",
      "Computing the msd similarity matrix...\n",
      "Done computing similarity matrix.\n",
      "Computing the msd similarity matrix...\n",
      "Done computing similarity matrix.\n",
      "Computing the msd similarity matrix...\n",
      "Done computing similarity matrix.\n",
      "Computing the msd similarity matrix...\n",
      "Done computing similarity matrix.\n",
      "Computing the msd similarity matrix...\n",
      "Done computing similarity matrix.\n",
      "Computing the msd similarity matrix...\n",
      "Done computing similarity matrix.\n",
      "Computing the msd similarity matrix...\n",
      "Done computing similarity matrix.\n",
      "Computing the msd similarity matrix...\n",
      "Done computing similarity matrix.\n",
      "Computing the msd similarity matrix...\n",
      "Done computing similarity matrix.\n",
      "Computing the msd similarity matrix...\n",
      "Done computing similarity matrix.\n",
      "Computing the msd similarity matrix...\n",
      "Done computing similarity matrix.\n",
      "Computing the msd similarity matrix...\n"
     ]
    },
    {
     "name": "stdout",
     "output_type": "stream",
     "text": [
      "Done computing similarity matrix.\n",
      "Computing the msd similarity matrix...\n",
      "Done computing similarity matrix.\n",
      "Computing the msd similarity matrix...\n",
      "Done computing similarity matrix.\n",
      "Computing the msd similarity matrix...\n",
      "Done computing similarity matrix.\n",
      "Computing the msd similarity matrix...\n",
      "Done computing similarity matrix.\n",
      "Computing the msd similarity matrix...\n",
      "Done computing similarity matrix.\n",
      "Computing the msd similarity matrix...\n",
      "Done computing similarity matrix.\n",
      "Computing the msd similarity matrix...\n",
      "Done computing similarity matrix.\n",
      "Computing the msd similarity matrix...\n",
      "Done computing similarity matrix.\n",
      "Computing the msd similarity matrix...\n",
      "Done computing similarity matrix.\n",
      "Computing the msd similarity matrix...\n",
      "Done computing similarity matrix.\n",
      "Computing the msd similarity matrix...\n",
      "Done computing similarity matrix.\n",
      "Computing the msd similarity matrix...\n",
      "Done computing similarity matrix.\n",
      "Computing the msd similarity matrix...\n",
      "Done computing similarity matrix.\n",
      "Computing the msd similarity matrix...\n",
      "Done computing similarity matrix.\n",
      "Computing the msd similarity matrix...\n",
      "Done computing similarity matrix.\n",
      "Computing the msd similarity matrix...\n",
      "Done computing similarity matrix.\n",
      "Computing the msd similarity matrix...\n",
      "Done computing similarity matrix.\n",
      "Computing the msd similarity matrix...\n",
      "Done computing similarity matrix.\n",
      "Computing the msd similarity matrix...\n",
      "Done computing similarity matrix.\n",
      "Computing the msd similarity matrix...\n",
      "Done computing similarity matrix.\n",
      "Computing the msd similarity matrix...\n",
      "Done computing similarity matrix.\n",
      "Computing the msd similarity matrix...\n",
      "Done computing similarity matrix.\n",
      "Computing the msd similarity matrix...\n",
      "Done computing similarity matrix.\n",
      "Computing the msd similarity matrix...\n",
      "Done computing similarity matrix.\n",
      "Computing the msd similarity matrix...\n",
      "Done computing similarity matrix.\n",
      "Computing the msd similarity matrix...\n",
      "Done computing similarity matrix.\n",
      "Computing the msd similarity matrix...\n",
      "Done computing similarity matrix.\n",
      "Computing the msd similarity matrix...\n",
      "Done computing similarity matrix.\n",
      "Computing the msd similarity matrix...\n",
      "Done computing similarity matrix.\n",
      "Computing the msd similarity matrix...\n",
      "Done computing similarity matrix.\n",
      "Computing the msd similarity matrix...\n",
      "Done computing similarity matrix.\n",
      "Computing the msd similarity matrix...\n",
      "Done computing similarity matrix.\n",
      "Computing the msd similarity matrix...\n",
      "Done computing similarity matrix.\n",
      "Computing the msd similarity matrix...\n",
      "Done computing similarity matrix.\n",
      "Computing the msd similarity matrix...\n",
      "Done computing similarity matrix.\n",
      "Computing the msd similarity matrix...\n",
      "Done computing similarity matrix.\n",
      "Computing the msd similarity matrix...\n",
      "Done computing similarity matrix.\n",
      "Computing the msd similarity matrix...\n",
      "Done computing similarity matrix.\n",
      "Computing the msd similarity matrix...\n",
      "Done computing similarity matrix.\n",
      "Computing the msd similarity matrix...\n",
      "Done computing similarity matrix.\n",
      "Computing the msd similarity matrix...\n",
      "Done computing similarity matrix.\n",
      "Computing the msd similarity matrix...\n",
      "Done computing similarity matrix.\n",
      "Computing the msd similarity matrix...\n",
      "Done computing similarity matrix.\n",
      "Computing the msd similarity matrix...\n",
      "Done computing similarity matrix.\n",
      "Computing the msd similarity matrix...\n",
      "Done computing similarity matrix.\n",
      "Computing the msd similarity matrix...\n",
      "Done computing similarity matrix.\n",
      "Computing the msd similarity matrix...\n",
      "Done computing similarity matrix.\n",
      "Computing the msd similarity matrix...\n",
      "Done computing similarity matrix.\n",
      "Computing the msd similarity matrix...\n",
      "Done computing similarity matrix.\n",
      "Computing the msd similarity matrix...\n",
      "Done computing similarity matrix.\n",
      "Computing the msd similarity matrix...\n",
      "Done computing similarity matrix.\n",
      "Computing the msd similarity matrix...\n",
      "Done computing similarity matrix.\n",
      "Computing the msd similarity matrix...\n",
      "Done computing similarity matrix.\n",
      "Computing the msd similarity matrix...\n",
      "Done computing similarity matrix.\n",
      "Computing the msd similarity matrix...\n",
      "Done computing similarity matrix.\n",
      "Computing the msd similarity matrix...\n",
      "Done computing similarity matrix.\n",
      "Computing the msd similarity matrix...\n",
      "Done computing similarity matrix.\n",
      "Computing the msd similarity matrix...\n",
      "Done computing similarity matrix.\n",
      "Computing the msd similarity matrix...\n",
      "Done computing similarity matrix.\n",
      "Computing the msd similarity matrix...\n",
      "Done computing similarity matrix.\n",
      "Computing the msd similarity matrix...\n",
      "Done computing similarity matrix.\n",
      "Computing the msd similarity matrix...\n",
      "Done computing similarity matrix.\n",
      "Computing the msd similarity matrix...\n",
      "Done computing similarity matrix.\n",
      "Computing the msd similarity matrix...\n",
      "Done computing similarity matrix.\n",
      "Computing the msd similarity matrix...\n",
      "Done computing similarity matrix.\n",
      "Computing the msd similarity matrix...\n",
      "Done computing similarity matrix.\n",
      "Computing the msd similarity matrix...\n",
      "Done computing similarity matrix.\n"
     ]
    }
   ],
   "source": [
    "# Tune algorithm parameters with GridSearchCV and k=5 cross-validation \n",
    "gskn = GridSearchCV(KNNWithMeans, param_grid, measures = ['rmse', 'mae'], cv = 5)\n",
    "gskn.fit(data)"
   ]
  },
  {
   "cell_type": "code",
   "execution_count": 25,
   "id": "tested-brunswick",
   "metadata": {},
   "outputs": [
    {
     "data": {
      "text/plain": [
       "{'rmse': 1.0504323772786677, 'mae': 0.6977829957974389}"
      ]
     },
     "execution_count": 25,
     "metadata": {},
     "output_type": "execute_result"
    }
   ],
   "source": [
    "# Best RMSE scores\n",
    "gskn.best_score"
   ]
  },
  {
   "cell_type": "code",
   "execution_count": 26,
   "id": "facial-frederick",
   "metadata": {},
   "outputs": [
    {
     "data": {
      "text/plain": [
       "{'rmse': {'n_factors': 5, 'n_epochs': 20, 'lr_all': 0.002, 'reg_all': 0.02},\n",
       " 'mae': {'n_factors': 5, 'n_epochs': 20, 'lr_all': 0.002, 'reg_all': 0.02}}"
      ]
     },
     "execution_count": 26,
     "metadata": {},
     "output_type": "execute_result"
    }
   ],
   "source": [
    "# Combination of parameters that gave the best scores\n",
    "gskn.best_params"
   ]
  },
  {
   "cell_type": "code",
   "execution_count": 28,
   "id": "expressed-puppy",
   "metadata": {},
   "outputs": [
    {
     "data": {
      "text/plain": [
       "1.073823036512019"
      ]
     },
     "execution_count": 28,
     "metadata": {},
     "output_type": "execute_result"
    }
   ],
   "source": [
    "algo = KNNWithMeans(n_factors=5, n_epochs=20, lr_all=0.002, reg_all=0.02, verbose=False)\n",
    "algo.fit = algo.fit(trainset)\n",
    "predictions = algo.test(testset)\n",
    "accuracy.rmse(predictions, verbose=False)"
   ]
  },
  {
   "cell_type": "markdown",
   "id": "rental-grocery",
   "metadata": {},
   "source": [
    "#### Matrix Factorization-based algorithms"
   ]
  },
  {
   "cell_type": "markdown",
   "id": "documentary-sacrifice",
   "metadata": {},
   "source": [
    "**SVD**\n",
    "\n",
    "Singular Value Decomposition (SVD) for dimension reduction of a large User-Item Sparse matrix. Through this reduction we can get a useful part of the data, that is hidden correlation (latent factors) and remove redundant parts. This tends to provide more robust recommendations while avoiding computational complexity."
   ]
  },
  {
   "cell_type": "code",
   "execution_count": 30,
   "id": "crazy-sequence",
   "metadata": {},
   "outputs": [],
   "source": [
    "# Tune algorithm parameters with GridSearchCV and k=5 cross-validation \n",
    "gssvd = GridSearchCV(SVD, param_grid, measures = ['rmse', 'mae'], cv = 5)\n",
    "gssvd.fit(data)"
   ]
  },
  {
   "cell_type": "code",
   "execution_count": 31,
   "id": "surprised-hepatitis",
   "metadata": {},
   "outputs": [
    {
     "data": {
      "text/plain": [
       "{'rmse': 0.9394581826721069, 'mae': 0.6581228758095697}"
      ]
     },
     "execution_count": 31,
     "metadata": {},
     "output_type": "execute_result"
    }
   ],
   "source": [
    "# Best RMSE and MAE scores\n",
    "gssvd.best_score"
   ]
  },
  {
   "cell_type": "code",
   "execution_count": 32,
   "id": "promotional-springer",
   "metadata": {},
   "outputs": [
    {
     "data": {
      "text/plain": [
       "{'rmse': {'n_factors': 5, 'n_epochs': 30, 'lr_all': 0.005, 'reg_all': 0.1},\n",
       " 'mae': {'n_factors': 5, 'n_epochs': 50, 'lr_all': 0.005, 'reg_all': 0.05}}"
      ]
     },
     "execution_count": 32,
     "metadata": {},
     "output_type": "execute_result"
    }
   ],
   "source": [
    "# Combination of parameters that gave the best scores\n",
    "gssvd.best_params"
   ]
  },
  {
   "cell_type": "code",
   "execution_count": 33,
   "id": "needed-movie",
   "metadata": {},
   "outputs": [
    {
     "data": {
      "text/plain": [
       "0.9419744271430601"
      ]
     },
     "execution_count": 33,
     "metadata": {},
     "output_type": "execute_result"
    }
   ],
   "source": [
    "algo = SVD(n_factors=5, n_epochs=30, lr_all=0.005, reg_all=0.01, verbose=False)\n",
    "algo.fit = algo.fit(trainset)\n",
    "predictions = algo.test(testset)\n",
    "accuracy.rmse(predictions, verbose=False)"
   ]
  },
  {
   "cell_type": "code",
   "execution_count": null,
   "id": "fifteen-calcium",
   "metadata": {},
   "outputs": [],
   "source": []
  },
  {
   "cell_type": "markdown",
   "id": "inappropriate-beverage",
   "metadata": {},
   "source": [
    "**SVD++**\n",
    "\n",
    "Similar to SVD but also takes into account user and item bias.\n"
   ]
  },
  {
   "cell_type": "code",
   "execution_count": 34,
   "id": "statistical-firmware",
   "metadata": {},
   "outputs": [],
   "source": [
    "# Tune algorithm parameters with GridSearchCV and k=5 cross-validation \n",
    "gssvdp = GridSearchCV(SVDpp, param_grid, measures = ['rmse', 'mae'], cv = 5)\n",
    "gssvdp.fit(data)"
   ]
  },
  {
   "cell_type": "code",
   "execution_count": 35,
   "id": "specialized-aquarium",
   "metadata": {},
   "outputs": [
    {
     "data": {
      "text/plain": [
       "{'rmse': 0.9396307342812678, 'mae': 0.6577531041830068}"
      ]
     },
     "execution_count": 35,
     "metadata": {},
     "output_type": "execute_result"
    }
   ],
   "source": [
    "# Best RMSE and MAE scores\n",
    "gssvdp.best_score"
   ]
  },
  {
   "cell_type": "code",
   "execution_count": 36,
   "id": "coral-defense",
   "metadata": {},
   "outputs": [
    {
     "data": {
      "text/plain": [
       "{'rmse': {'n_factors': 5, 'n_epochs': 30, 'lr_all': 0.005, 'reg_all': 0.1},\n",
       " 'mae': {'n_factors': 5, 'n_epochs': 30, 'lr_all': 0.01, 'reg_all': 0.1}}"
      ]
     },
     "execution_count": 36,
     "metadata": {},
     "output_type": "execute_result"
    }
   ],
   "source": [
    "# Combination of parameters that gave the best scores\n",
    "gssvdp.best_params"
   ]
  },
  {
   "cell_type": "code",
   "execution_count": 37,
   "id": "regulated-columbus",
   "metadata": {},
   "outputs": [
    {
     "data": {
      "text/plain": [
       "0.9477580434669421"
      ]
     },
     "execution_count": 37,
     "metadata": {},
     "output_type": "execute_result"
    }
   ],
   "source": [
    "algo = SVDpp(n_factors=5, n_epochs=30, lr_all=0.005, reg_all=0.01, verbose=False)\n",
    "algo.fit = algo.fit(trainset)\n",
    "predictions = algo.test(testset)\n",
    "accuracy.rmse(predictions, verbose=False)"
   ]
  },
  {
   "cell_type": "markdown",
   "id": "incredible-outline",
   "metadata": {},
   "source": [
    "### MODELING & EVALUATION 2 - Evaluate and Compare"
   ]
  },
  {
   "cell_type": "markdown",
   "id": "falling-kingdom",
   "metadata": {},
   "source": [
    "RMSE comparison between the three models on the test dataset"
   ]
  },
  {
   "attachments": {
    "image.png": {
     "image/png": "[encoded data removed]"
    }
   },
   "cell_type": "markdown",
   "id": "tropical-device",
   "metadata": {},
   "source": [
    "\n",
    "![image.png](attachment:image.png)"
   ]
  },
  {
   "cell_type": "markdown",
   "id": "blind-audience",
   "metadata": {},
   "source": [
    "PRECISION AND RECALL\n",
    "https://surprise.readthedocs.io/en/stable/FAQ.html"
   ]
  },
  {
   "attachments": {
    "image.png": {
     "image/png": "[encoded data removed]"
    }
   },
   "cell_type": "markdown",
   "id": "thick-theory",
   "metadata": {},
   "source": [
    "![image.png](attachment:image.png)"
   ]
  },
  {
   "cell_type": "markdown",
   "id": "damaged-contents",
   "metadata": {},
   "source": [
    "In addition to RMSE, Precision, Recall and F1 scores will be evaluated among the three models."
   ]
  },
  {
   "attachments": {
    "image.png": {
     "image/png": "[encoded data removed]"
    }
   },
   "cell_type": "markdown",
   "id": "helpful-guess",
   "metadata": {},
   "source": [
    "![image.png](attachment:image.png)"
   ]
  },
  {
   "cell_type": "code",
   "execution_count": 42,
   "id": "unusual-mandate",
   "metadata": {},
   "outputs": [],
   "source": [
    "# Returns the precision and recall of the model at k metrics\n",
    "def get_precision_vs_recall(algo, k_max = 10, verbose = False):\n",
    "    precision_list = []\n",
    "    recall_list = []\n",
    "    f1_score_list = []\n",
    "    \n",
    "    if algo:\n",
    "        for k_curr in range(1, k_max + 1):\n",
    "            algo.fit(trainset)\n",
    "            predictions = algo.test(testset)\n",
    "            \n",
    "            # Get precision and recall at k metrics for each user\n",
    "            precisions, recalls = precision_recall_at_k(predictions, k = k_curr, threshold = 4)\n",
    "            \n",
    "            # Precision and recall can then be averaged over all users\n",
    "            precision = sum(prec for prec in precisions.values()) / len(precisions)\n",
    "            recall = sum(rec for rec in recalls.values()) / len(recalls)\n",
    "            f1_score = 2 * (precision * recall) / (precision + recall)\n",
    "            \n",
    "            # Save measures\n",
    "            precision_list.append(precision)\n",
    "            recall_list.append(recall)\n",
    "            f1_score_list.append(f1_score)\n",
    "            \n",
    "            if verbose:\n",
    "                print('K =', k_curr, '- Precision:', precision, ', Recall:', recall, ', F1 score:', f1_score)\n",
    "    \n",
    "    return {'precision': precision_list, 'recall': recall_list, 'f1_score': f1_score_list};"
   ]
  },
  {
   "cell_type": "code",
   "execution_count": null,
   "id": "governmental-enzyme",
   "metadata": {},
   "outputs": [],
   "source": []
  },
  {
   "cell_type": "markdown",
   "id": "representative-oklahoma",
   "metadata": {},
   "source": [
    "**kNN with Means**"
   ]
  },
  {
   "cell_type": "code",
   "execution_count": 59,
   "id": "minor-consequence",
   "metadata": {},
   "outputs": [],
   "source": [
    "# Use KNN algorithm with the best params\n",
    "#algo = gssvdp.best_estimator['rmse'] \n",
    "algo = KNNWithMeans(n_factors=5, n_epochs=20, lr_all=0.002, reg_all=0.02, verbose=False)"
   ]
  },
  {
   "cell_type": "code",
   "execution_count": 60,
   "id": "present-tokyo",
   "metadata": {
    "scrolled": true
   },
   "outputs": [
    {
     "name": "stdout",
     "output_type": "stream",
     "text": [
      "K = 1 - Precision: 0.9122755372387401 , Recall: 0.5178742422641204 , F1 score: 0.6606916413298106\n",
      "K = 2 - Precision: 0.9078108134628594 , Recall: 0.6883906718726991 , F1 score: 0.7830195643272752\n",
      "K = 3 - Precision: 0.9062735093055987 , Recall: 0.7537310430645283 , F1 score: 0.8229934990182526\n",
      "K = 4 - Precision: 0.9052350112844683 , Recall: 0.7806247983443343 , F1 score: 0.8383246271156571\n",
      "K = 5 - Precision: 0.9048081640663362 , Recall: 0.7921030736516965 , F1 score: 0.8447128074723541\n",
      "K = 6 - Precision: 0.9044549111961557 , Recall: 0.7976513907697537 , F1 score: 0.8477023050451017\n",
      "K = 7 - Precision: 0.9044408932251167 , Recall: 0.8007845552518759 , F1 score: 0.849462221056756\n",
      "K = 8 - Precision: 0.9043497764133642 , Recall: 0.8024066687749046 , F1 score: 0.8503337351324685\n",
      "K = 9 - Precision: 0.9042543763326828 , Recall: 0.8033216241283083 , F1 score: 0.8508049937743263\n",
      "K = 10 - Precision: 0.9042064037206833 , Recall: 0.8039289097966504 , F1 score: 0.8511242202205572\n"
     ]
    }
   ],
   "source": [
    "# Calculate the precision and recall of the model at k metrics\n",
    "k_max = 10\n",
    "metrics = get_precision_vs_recall(algo, k_max, True)"
   ]
  },
  {
   "cell_type": "code",
   "execution_count": 61,
   "id": "identical-exhaust",
   "metadata": {},
   "outputs": [
    {
     "data": {
      "image/png": "[encoded data removed]",
      "text/plain": [
       "<Figure size 720x360 with 1 Axes>"
      ]
     },
     "metadata": {
      "needs_background": "light"
     },
     "output_type": "display_data"
    }
   ],
   "source": [
    "# Get data\n",
    "c1 = metrics['precision']\n",
    "c2 = metrics['recall']\n",
    "c3 = metrics['f1_score']\n",
    "x = np.arange(len(c1))\n",
    "\n",
    "# Set up the matplotlib figure\n",
    "fig, ax1 = plt.subplots(figsize = (10, 5))\n",
    "plt.xticks(np.arange(min(x), max(x) + 1, 1.0))\n",
    "plt.ylim(0, 1)\n",
    "ax1.plot(x, c1, marker = 'o')\n",
    "ax1.plot(x, c2, marker = 'o')\n",
    "ax1.plot(x, c3, marker = 'o')\n",
    "ax1.axvline(x = 5, color = \"#8b0000\", linestyle = \"--\")\n",
    "\n",
    "# Chart setup\n",
    "plt.title(\"KNNWithMeans Model's metrics\", fontsize = 12)\n",
    "plt.xlabel(\"k\", fontsize = 10)\n",
    "plt.ylabel(\"Precision and Recall\", fontsize = 10)\n",
    "plt.legend((\"Precision\", \"Recall\", \"F1 score\"), loc = \"best\")\n",
    "plt.draw()"
   ]
  },
  {
   "cell_type": "code",
   "execution_count": 79,
   "id": "smaller-workplace",
   "metadata": {},
   "outputs": [
    {
     "data": {
      "image/png": "[encoded data removed]",
      "text/plain": [
       "<Figure size 360x360 with 1 Axes>"
      ]
     },
     "metadata": {
      "needs_background": "light"
     },
     "output_type": "display_data"
    }
   ],
   "source": [
    "# Get data\n",
    "x = metrics['recall']\n",
    "y = metrics['precision']\n",
    "\n",
    "# Create scatter plot with the precision and recall results\n",
    "fig, ax2 = plt.subplots(figsize = (5, 5))\n",
    "\n",
    "# Create 2D scatter plot\n",
    "sns.regplot(ax = ax2, x = x, y = y, fit_reg = False, marker = \"o\", color = \"#1f77b4\", scatter_kws = {\"s\": 30})\n",
    "\n",
    "# Plot setup\n",
    "ax2.set_title(\"Precision vs Recall\", fontsize = 12)\n",
    "ax2.set_xlabel(\"Recall\", fontsize = 10)\n",
    "ax2.set_ylabel(\"Precision\", fontsize = 10)\n",
    "ax2.grid()"
   ]
  },
  {
   "cell_type": "markdown",
   "id": "catholic-delhi",
   "metadata": {},
   "source": [
    "**SVD**\n",
    "\n",
    "xx"
   ]
  },
  {
   "cell_type": "code",
   "execution_count": 82,
   "id": "extraordinary-saskatchewan",
   "metadata": {},
   "outputs": [],
   "source": [
    "# Use SVD algorithm with the best params\n",
    "#algo = gssvd.best_estimator['rmse'] \n",
    "algo = SVD(n_factors=5, n_epochs=30, lr_all=0.005, reg_all=0.01, verbose=False)"
   ]
  },
  {
   "cell_type": "code",
   "execution_count": 83,
   "id": "dated-wales",
   "metadata": {},
   "outputs": [
    {
     "name": "stdout",
     "output_type": "stream",
     "text": [
      "K = 1 - Precision: 0.9123736630360122 , Recall: 0.5711086494579026 , F1 score: 0.7024883089053937\n",
      "K = 2 - Precision: 0.9042782847610636 , Recall: 0.7555479710656188 , F1 score: 0.8232495671538063\n",
      "K = 3 - Precision: 0.8999443953815487 , Recall: 0.8265070954991033 , F1 score: 0.861663860544483\n",
      "K = 4 - Precision: 0.898333496876331 , Recall: 0.8554583714263627 , F1 score: 0.8763718479083966\n",
      "K = 5 - Precision: 0.8973424263238842 , Recall: 0.86799908123007 , F1 score: 0.8824268825776622\n",
      "K = 6 - Precision: 0.8973064468648835 , Recall: 0.8744081028591119 , F1 score: 0.8857093012061148\n",
      "K = 7 - Precision: 0.8966971323903938 , Recall: 0.8760654790928876 , F1 score: 0.8862612487427421\n",
      "K = 8 - Precision: 0.8979474185906358 , Recall: 0.8785021541506365 , F1 score: 0.8881183610842268\n",
      "K = 9 - Precision: 0.897436852934353 , Recall: 0.8795971935400622 , F1 score: 0.8884274769935845\n",
      "K = 10 - Precision: 0.897568972311395 , Recall: 0.879260123244914 , F1 score: 0.8883202185162752\n"
     ]
    }
   ],
   "source": [
    "# Calculate the precision and recall of the model at k metrics\n",
    "k_max = 10\n",
    "metrics = get_precision_vs_recall(algo, k_max, True)"
   ]
  },
  {
   "cell_type": "code",
   "execution_count": 84,
   "id": "funny-locking",
   "metadata": {},
   "outputs": [
    {
     "data": {
      "image/png": "[encoded data removed]",
      "text/plain": [
       "<Figure size 720x360 with 1 Axes>"
      ]
     },
     "metadata": {
      "needs_background": "light"
     },
     "output_type": "display_data"
    }
   ],
   "source": [
    "# Get data\n",
    "c1 = metrics['precision']\n",
    "c2 = metrics['recall']\n",
    "c3 = metrics['f1_score']\n",
    "x = np.arange(len(c1))\n",
    "\n",
    "# Set up the matplotlib figure\n",
    "fig, ax1 = plt.subplots(figsize = (10, 5))\n",
    "plt.xticks(np.arange(min(x), max(x) + 1, 1.0))\n",
    "plt.ylim(0, 1)\n",
    "ax1.plot(x, c1, marker = 'o')\n",
    "ax1.plot(x, c2, marker = 'o')\n",
    "ax1.plot(x, c3, marker = 'o')\n",
    "ax1.axvline(x = 6, color = \"#8b0000\", linestyle = \"--\")\n",
    "\n",
    "# Chart setup\n",
    "plt.title(\"SVD Model's metrics\", fontsize = 12)\n",
    "plt.xlabel(\"k\", fontsize = 10)\n",
    "plt.ylabel(\"Precision and Recall\", fontsize = 10)\n",
    "plt.legend((\"Precision\", \"Recall\", \"F1 score\"), loc = \"best\")\n",
    "plt.draw()"
   ]
  },
  {
   "cell_type": "code",
   "execution_count": 85,
   "id": "driving-breach",
   "metadata": {},
   "outputs": [
    {
     "data": {
      "image/png": "[encoded data removed]",
      "text/plain": [
       "<Figure size 360x360 with 1 Axes>"
      ]
     },
     "metadata": {
      "needs_background": "light"
     },
     "output_type": "display_data"
    }
   ],
   "source": [
    "# Get data\n",
    "x = metrics['recall']\n",
    "y = metrics['precision']\n",
    "\n",
    "# Create scatter plot with the precision and recall results\n",
    "fig, ax2 = plt.subplots(figsize = (5, 5))\n",
    "\n",
    "# Create 2D scatter plot\n",
    "sns.regplot(ax = ax2, x = x, y = y, fit_reg = False, marker = \"o\", color = \"#1f77b4\", scatter_kws = {\"s\": 30})\n",
    "\n",
    "# Plot setup\n",
    "ax2.set_title(\"Precision vs Recall\", fontsize = 12)\n",
    "ax2.set_xlabel(\"Recall\", fontsize = 10)\n",
    "ax2.set_ylabel(\"Precision\", fontsize = 10)\n",
    "ax2.grid()"
   ]
  },
  {
   "cell_type": "markdown",
   "id": "encouraging-gnome",
   "metadata": {},
   "source": [
    "SVD ++"
   ]
  },
  {
   "cell_type": "code",
   "execution_count": 88,
   "id": "voluntary-lotus",
   "metadata": {},
   "outputs": [],
   "source": [
    "# Use SVD algorithm with the best params\n",
    "#algo = gssvdp.best_estimator['rmse'] \n",
    "algo = SVDpp(n_factors=5, n_epochs=30, lr_all=0.005, reg_all=0.1, verbose=False)"
   ]
  },
  {
   "cell_type": "code",
   "execution_count": 89,
   "id": "resistant-mirror",
   "metadata": {},
   "outputs": [
    {
     "name": "stdout",
     "output_type": "stream",
     "text": [
      "K = 1 - Precision: 0.9132567952114611 , Recall: 0.576743994660107 , F1 score: 0.7070001248336869\n",
      "K = 2 - Precision: 0.9025610833088019 , Recall: 0.7643156997553378 , F1 score: 0.8277055784447366\n",
      "K = 3 - Precision: 0.8986033428188306 , Recall: 0.8363556097559195 , F1 score: 0.8663627984934361\n",
      "K = 4 - Precision: 0.896166552186572 , Recall: 0.8656415317935088 , F1 score: 0.8806396043142033\n",
      "K = 5 - Precision: 0.8955598076734412 , Recall: 0.8797110570942388 , F1 score: 0.8875646874344616\n",
      "K = 6 - Precision: 0.8953864520982593 , Recall: 0.8838879469282993 , F1 score: 0.8896000451482146\n",
      "K = 7 - Precision: 0.8944841620290573 , Recall: 0.8896586955905432 , F1 score: 0.8920649032319158\n",
      "K = 8 - Precision: 0.8946861376284423 , Recall: 0.8906021517010312 , F1 score: 0.892639473446885\n",
      "K = 9 - Precision: 0.8937026990824485 , Recall: 0.890190401400382 , F1 score: 0.8919430925692586\n",
      "K = 10 - Precision: 0.8942319164279745 , Recall: 0.8916970618446429 , F1 score: 0.8929626902160166\n"
     ]
    }
   ],
   "source": [
    "# Calculate the precision and recall of the model at k metrics\n",
    "k_max = 10\n",
    "metrics = get_precision_vs_recall(algo, k_max, True)"
   ]
  },
  {
   "cell_type": "code",
   "execution_count": 90,
   "id": "nasty-tracker",
   "metadata": {},
   "outputs": [
    {
     "data": {
      "image/png": "[encoded data removed]",
      "text/plain": [
       "<Figure size 720x360 with 1 Axes>"
      ]
     },
     "metadata": {
      "needs_background": "light"
     },
     "output_type": "display_data"
    }
   ],
   "source": [
    "# Get data\n",
    "c1 = metrics['precision']\n",
    "c2 = metrics['recall']\n",
    "c3 = metrics['f1_score']\n",
    "x = np.arange(len(c1))\n",
    "\n",
    "# Set up the matplotlib figure\n",
    "fig, ax1 = plt.subplots(figsize = (10, 5))\n",
    "plt.xticks(np.arange(min(x), max(x) + 1, 1.0))\n",
    "plt.ylim(0, 1)\n",
    "ax1.plot(x, c1, marker = 'o')\n",
    "ax1.plot(x, c2, marker = 'o')\n",
    "ax1.plot(x, c3, marker = 'o')\n",
    "ax1.axvline(x = 5, color = \"#8b0000\", linestyle = \"--\")\n",
    "\n",
    "# Chart setup\n",
    "plt.title(\"SVD++ Model's metrics\", fontsize = 12)\n",
    "plt.xlabel(\"k\", fontsize = 10)\n",
    "plt.ylabel(\"Precision and Recall\", fontsize = 10)\n",
    "plt.legend((\"Precision\", \"Recall\", \"F1 score\"), loc = \"best\")\n",
    "plt.draw()"
   ]
  },
  {
   "cell_type": "code",
   "execution_count": 91,
   "id": "sharp-legislature",
   "metadata": {},
   "outputs": [
    {
     "data": {
      "image/png": "[encoded data removed]",
      "text/plain": [
       "<Figure size 360x360 with 1 Axes>"
      ]
     },
     "metadata": {
      "needs_background": "light"
     },
     "output_type": "display_data"
    }
   ],
   "source": [
    "# Get data\n",
    "x = metrics['recall']\n",
    "y = metrics['precision']\n",
    "\n",
    "# Create scatter plot with the precision and recall results\n",
    "fig, ax2 = plt.subplots(figsize = (5, 5))\n",
    "\n",
    "# Create 2D scatter plot\n",
    "sns.regplot(ax = ax2, x = x, y = y, fit_reg = False, marker = \"o\", color = \"#1f77b4\", scatter_kws = {\"s\": 30})\n",
    "\n",
    "# Plot setup\n",
    "ax2.set_title(\"Precision vs Recall\", fontsize = 12)\n",
    "ax2.set_xlabel(\"Recall\", fontsize = 10)\n",
    "ax2.set_ylabel(\"Precision\", fontsize = 10)\n",
    "ax2.grid()"
   ]
  },
  {
   "cell_type": "markdown",
   "id": "operating-prospect",
   "metadata": {},
   "source": [
    "### MODELING AND EVALUATION 3 - Visualize Results"
   ]
  },
  {
   "cell_type": "code",
   "execution_count": 94,
   "id": "wrong-inflation",
   "metadata": {},
   "outputs": [
    {
     "data": {
      "text/plain": [
       "{'n_factors': 5, 'n_epochs': 30, 'lr_all': 0.005, 'reg_all': 0.1}"
      ]
     },
     "execution_count": 94,
     "metadata": {},
     "output_type": "execute_result"
    }
   ],
   "source": [
    "# Show best params for best algo\n",
    "gssvd.best_params['rmse']"
   ]
  },
  {
   "cell_type": "code",
   "execution_count": 125,
   "id": "variable-sustainability",
   "metadata": {},
   "outputs": [],
   "source": [
    "# Use SVD algorithm with the best params\n",
    "#algo = gssvd.best_estimator['rmse'] \n",
    "algo = SVD(n_factors=5, n_epochs=30, lr_all=0.005, reg_all=0.01, verbose=False)"
   ]
  },
  {
   "cell_type": "code",
   "execution_count": 126,
   "id": "special-apartment",
   "metadata": {
    "scrolled": true
   },
   "outputs": [
    {
     "data": {
      "text/html": [
       "<div>\n",
       "<style scoped>\n",
       "    .dataframe tbody tr th:only-of-type {\n",
       "        vertical-align: middle;\n",
       "    }\n",
       "\n",
       "    .dataframe tbody tr th {\n",
       "        vertical-align: top;\n",
       "    }\n",
       "\n",
       "    .dataframe thead th {\n",
       "        text-align: right;\n",
       "    }\n",
       "</style>\n",
       "<table border=\"1\" class=\"dataframe\">\n",
       "  <thead>\n",
       "    <tr style=\"text-align: right;\">\n",
       "      <th></th>\n",
       "      <th>user_id</th>\n",
       "      <th>product</th>\n",
       "      <th>actual_rating</th>\n",
       "      <th>pred_rating</th>\n",
       "      <th>abs_err</th>\n",
       "    </tr>\n",
       "  </thead>\n",
       "  <tbody>\n",
       "    <tr>\n",
       "      <th>8863</th>\n",
       "      <td>AAOYSXSQU36FL</td>\n",
       "      <td>B005HMKKH4</td>\n",
       "      <td>5.0</td>\n",
       "      <td>5.000000</td>\n",
       "      <td>0.000000</td>\n",
       "    </tr>\n",
       "    <tr>\n",
       "      <th>22681</th>\n",
       "      <td>A1BMG34CO5CMZ5</td>\n",
       "      <td>B008X9Z528</td>\n",
       "      <td>3.0</td>\n",
       "      <td>3.603751</td>\n",
       "      <td>0.603751</td>\n",
       "    </tr>\n",
       "    <tr>\n",
       "      <th>6215</th>\n",
       "      <td>A1JZFGZEZVWQPY</td>\n",
       "      <td>B004Q3R9AQ</td>\n",
       "      <td>4.0</td>\n",
       "      <td>4.403018</td>\n",
       "      <td>0.403018</td>\n",
       "    </tr>\n",
       "    <tr>\n",
       "      <th>3960</th>\n",
       "      <td>A1257AT05CKW91</td>\n",
       "      <td>B001S4OTS6</td>\n",
       "      <td>1.0</td>\n",
       "      <td>3.793032</td>\n",
       "      <td>2.793032</td>\n",
       "    </tr>\n",
       "    <tr>\n",
       "      <th>15640</th>\n",
       "      <td>A2KOV8XWZOZ0FQ</td>\n",
       "      <td>B001TH7T2U</td>\n",
       "      <td>5.0</td>\n",
       "      <td>4.882355</td>\n",
       "      <td>0.117645</td>\n",
       "    </tr>\n",
       "    <tr>\n",
       "      <th>722</th>\n",
       "      <td>A35WINR58PK2NS</td>\n",
       "      <td>B004R7A9NU</td>\n",
       "      <td>2.0</td>\n",
       "      <td>4.370553</td>\n",
       "      <td>2.370553</td>\n",
       "    </tr>\n",
       "    <tr>\n",
       "      <th>3232</th>\n",
       "      <td>APH5FNOADM1N4</td>\n",
       "      <td>B001EPVOQY</td>\n",
       "      <td>5.0</td>\n",
       "      <td>4.911073</td>\n",
       "      <td>0.088927</td>\n",
       "    </tr>\n",
       "    <tr>\n",
       "      <th>13509</th>\n",
       "      <td>A2LUDI2PC7A9FZ</td>\n",
       "      <td>B0002CPBWI</td>\n",
       "      <td>5.0</td>\n",
       "      <td>4.250462</td>\n",
       "      <td>0.749538</td>\n",
       "    </tr>\n",
       "    <tr>\n",
       "      <th>11564</th>\n",
       "      <td>A2DRYHBYLO5S8T</td>\n",
       "      <td>B000065BP9</td>\n",
       "      <td>5.0</td>\n",
       "      <td>4.765930</td>\n",
       "      <td>0.234070</td>\n",
       "    </tr>\n",
       "    <tr>\n",
       "      <th>21974</th>\n",
       "      <td>A1NNSDU1DUZRJ7</td>\n",
       "      <td>B005X1Y7I2</td>\n",
       "      <td>5.0</td>\n",
       "      <td>4.641407</td>\n",
       "      <td>0.358593</td>\n",
       "    </tr>\n",
       "    <tr>\n",
       "      <th>11778</th>\n",
       "      <td>AIL6VNBJC2MDF</td>\n",
       "      <td>B007P4VOWC</td>\n",
       "      <td>3.0</td>\n",
       "      <td>4.512127</td>\n",
       "      <td>1.512127</td>\n",
       "    </tr>\n",
       "    <tr>\n",
       "      <th>8300</th>\n",
       "      <td>A29CJR2LAN3LJ0</td>\n",
       "      <td>B004GUT1QO</td>\n",
       "      <td>5.0</td>\n",
       "      <td>4.376289</td>\n",
       "      <td>0.623711</td>\n",
       "    </tr>\n",
       "    <tr>\n",
       "      <th>7131</th>\n",
       "      <td>A3NHUQ33CFH3VM</td>\n",
       "      <td>B00F3F0EIU</td>\n",
       "      <td>5.0</td>\n",
       "      <td>4.320445</td>\n",
       "      <td>0.679555</td>\n",
       "    </tr>\n",
       "    <tr>\n",
       "      <th>24709</th>\n",
       "      <td>AGKUAO9LYVRWS</td>\n",
       "      <td>B000I23TTE</td>\n",
       "      <td>4.0</td>\n",
       "      <td>4.191697</td>\n",
       "      <td>0.191697</td>\n",
       "    </tr>\n",
       "    <tr>\n",
       "      <th>14856</th>\n",
       "      <td>A1JX8MOFREFLHQ</td>\n",
       "      <td>B000S5Q9CA</td>\n",
       "      <td>5.0</td>\n",
       "      <td>4.656645</td>\n",
       "      <td>0.343355</td>\n",
       "    </tr>\n",
       "    <tr>\n",
       "      <th>19672</th>\n",
       "      <td>A2EW01G2LNJN06</td>\n",
       "      <td>B000EW8074</td>\n",
       "      <td>4.0</td>\n",
       "      <td>4.491364</td>\n",
       "      <td>0.491364</td>\n",
       "    </tr>\n",
       "    <tr>\n",
       "      <th>18435</th>\n",
       "      <td>A38RMU1Y5TDP9</td>\n",
       "      <td>B00DR8LAE2</td>\n",
       "      <td>5.0</td>\n",
       "      <td>3.735043</td>\n",
       "      <td>1.264957</td>\n",
       "    </tr>\n",
       "    <tr>\n",
       "      <th>12332</th>\n",
       "      <td>A1V9JPD85POOYC</td>\n",
       "      <td>B001FA1O18</td>\n",
       "      <td>5.0</td>\n",
       "      <td>4.606190</td>\n",
       "      <td>0.393810</td>\n",
       "    </tr>\n",
       "    <tr>\n",
       "      <th>21723</th>\n",
       "      <td>A1TS45JWJVOSSW</td>\n",
       "      <td>B003YKG2XM</td>\n",
       "      <td>4.0</td>\n",
       "      <td>4.680023</td>\n",
       "      <td>0.680023</td>\n",
       "    </tr>\n",
       "    <tr>\n",
       "      <th>805</th>\n",
       "      <td>A28AHI180H69GK</td>\n",
       "      <td>B003ELYQGG</td>\n",
       "      <td>3.0</td>\n",
       "      <td>4.189135</td>\n",
       "      <td>1.189135</td>\n",
       "    </tr>\n",
       "    <tr>\n",
       "      <th>23430</th>\n",
       "      <td>A11P105WVK5240</td>\n",
       "      <td>B00006RVPW</td>\n",
       "      <td>5.0</td>\n",
       "      <td>5.000000</td>\n",
       "      <td>0.000000</td>\n",
       "    </tr>\n",
       "    <tr>\n",
       "      <th>11319</th>\n",
       "      <td>AA292EN15N5OW</td>\n",
       "      <td>B001TOD7ME</td>\n",
       "      <td>4.0</td>\n",
       "      <td>4.696095</td>\n",
       "      <td>0.696095</td>\n",
       "    </tr>\n",
       "    <tr>\n",
       "      <th>22033</th>\n",
       "      <td>ADY836HK6QSYR</td>\n",
       "      <td>B004JWA70I</td>\n",
       "      <td>2.0</td>\n",
       "      <td>3.665543</td>\n",
       "      <td>1.665543</td>\n",
       "    </tr>\n",
       "    <tr>\n",
       "      <th>10370</th>\n",
       "      <td>AO2EURP2Y4JZM</td>\n",
       "      <td>B0088PUEPK</td>\n",
       "      <td>4.0</td>\n",
       "      <td>4.306454</td>\n",
       "      <td>0.306454</td>\n",
       "    </tr>\n",
       "    <tr>\n",
       "      <th>19735</th>\n",
       "      <td>A256T5PCQ0UZIM</td>\n",
       "      <td>B004VM1T5S</td>\n",
       "      <td>5.0</td>\n",
       "      <td>4.193397</td>\n",
       "      <td>0.806603</td>\n",
       "    </tr>\n",
       "    <tr>\n",
       "      <th>11129</th>\n",
       "      <td>A1BTI221EBPDZF</td>\n",
       "      <td>B000CKVOOY</td>\n",
       "      <td>5.0</td>\n",
       "      <td>4.727239</td>\n",
       "      <td>0.272761</td>\n",
       "    </tr>\n",
       "    <tr>\n",
       "      <th>10025</th>\n",
       "      <td>A2ZMIPZCWKO16D</td>\n",
       "      <td>B00691WMJG</td>\n",
       "      <td>5.0</td>\n",
       "      <td>4.339599</td>\n",
       "      <td>0.660401</td>\n",
       "    </tr>\n",
       "    <tr>\n",
       "      <th>9232</th>\n",
       "      <td>A1O3FDAZQK8FJC</td>\n",
       "      <td>B007FGYZFI</td>\n",
       "      <td>4.0</td>\n",
       "      <td>4.718039</td>\n",
       "      <td>0.718039</td>\n",
       "    </tr>\n",
       "    <tr>\n",
       "      <th>17100</th>\n",
       "      <td>ATLCOMAE8J7FO</td>\n",
       "      <td>B00BP5KOPA</td>\n",
       "      <td>5.0</td>\n",
       "      <td>4.432875</td>\n",
       "      <td>0.567125</td>\n",
       "    </tr>\n",
       "    <tr>\n",
       "      <th>10432</th>\n",
       "      <td>A2FTHCGH06O4Y5</td>\n",
       "      <td>B000RQSGYO</td>\n",
       "      <td>3.0</td>\n",
       "      <td>4.036442</td>\n",
       "      <td>1.036442</td>\n",
       "    </tr>\n",
       "    <tr>\n",
       "      <th>9860</th>\n",
       "      <td>A22AUF8HFWBJ1H</td>\n",
       "      <td>B005DSPLCQ</td>\n",
       "      <td>5.0</td>\n",
       "      <td>4.973961</td>\n",
       "      <td>0.026039</td>\n",
       "    </tr>\n",
       "    <tr>\n",
       "      <th>22747</th>\n",
       "      <td>A1RWW5E04UJXQW</td>\n",
       "      <td>B000065BP9</td>\n",
       "      <td>1.0</td>\n",
       "      <td>4.256773</td>\n",
       "      <td>3.256773</td>\n",
       "    </tr>\n",
       "    <tr>\n",
       "      <th>5201</th>\n",
       "      <td>A1VUN4JU731CBH</td>\n",
       "      <td>B0009Y7APU</td>\n",
       "      <td>4.0</td>\n",
       "      <td>4.014937</td>\n",
       "      <td>0.014937</td>\n",
       "    </tr>\n",
       "    <tr>\n",
       "      <th>16663</th>\n",
       "      <td>A20DZX38KRBIT8</td>\n",
       "      <td>B009W8YQ6K</td>\n",
       "      <td>1.0</td>\n",
       "      <td>3.327608</td>\n",
       "      <td>2.327608</td>\n",
       "    </tr>\n",
       "    <tr>\n",
       "      <th>10846</th>\n",
       "      <td>A1CO79U5URPQGP</td>\n",
       "      <td>B0049XGNKK</td>\n",
       "      <td>3.0</td>\n",
       "      <td>4.727794</td>\n",
       "      <td>1.727794</td>\n",
       "    </tr>\n",
       "    <tr>\n",
       "      <th>16116</th>\n",
       "      <td>A3956O40ZZYFMY</td>\n",
       "      <td>B000HPV3RW</td>\n",
       "      <td>5.0</td>\n",
       "      <td>4.794875</td>\n",
       "      <td>0.205125</td>\n",
       "    </tr>\n",
       "    <tr>\n",
       "      <th>3534</th>\n",
       "      <td>ALHWZSTAELK9I</td>\n",
       "      <td>B00E055H5O</td>\n",
       "      <td>5.0</td>\n",
       "      <td>5.000000</td>\n",
       "      <td>0.000000</td>\n",
       "    </tr>\n",
       "    <tr>\n",
       "      <th>16630</th>\n",
       "      <td>A1HNVP4C60ZCS8</td>\n",
       "      <td>B0015AARJI</td>\n",
       "      <td>5.0</td>\n",
       "      <td>4.708219</td>\n",
       "      <td>0.291781</td>\n",
       "    </tr>\n",
       "    <tr>\n",
       "      <th>12779</th>\n",
       "      <td>A3V2EZ6MA32FF6</td>\n",
       "      <td>B0081H8TRA</td>\n",
       "      <td>5.0</td>\n",
       "      <td>4.162568</td>\n",
       "      <td>0.837432</td>\n",
       "    </tr>\n",
       "    <tr>\n",
       "      <th>14103</th>\n",
       "      <td>A11548ZOIDAELN</td>\n",
       "      <td>B004W2JKWG</td>\n",
       "      <td>5.0</td>\n",
       "      <td>4.576054</td>\n",
       "      <td>0.423946</td>\n",
       "    </tr>\n",
       "    <tr>\n",
       "      <th>3877</th>\n",
       "      <td>A3CUYX2VXZM9KO</td>\n",
       "      <td>B000S5Q9CA</td>\n",
       "      <td>4.0</td>\n",
       "      <td>4.079332</td>\n",
       "      <td>0.079332</td>\n",
       "    </tr>\n",
       "    <tr>\n",
       "      <th>23866</th>\n",
       "      <td>ADLVFFE4VBT8</td>\n",
       "      <td>B0079TOEQQ</td>\n",
       "      <td>5.0</td>\n",
       "      <td>4.041252</td>\n",
       "      <td>0.958748</td>\n",
       "    </tr>\n",
       "    <tr>\n",
       "      <th>21005</th>\n",
       "      <td>A3PVROM0U6RJIA</td>\n",
       "      <td>B008LTBITY</td>\n",
       "      <td>5.0</td>\n",
       "      <td>5.000000</td>\n",
       "      <td>0.000000</td>\n",
       "    </tr>\n",
       "    <tr>\n",
       "      <th>23330</th>\n",
       "      <td>AO2INKUSNP8Y</td>\n",
       "      <td>B001FA1O18</td>\n",
       "      <td>5.0</td>\n",
       "      <td>4.261262</td>\n",
       "      <td>0.738738</td>\n",
       "    </tr>\n",
       "    <tr>\n",
       "      <th>988</th>\n",
       "      <td>A944SUQYY8SJZ</td>\n",
       "      <td>B00275XTSQ</td>\n",
       "      <td>5.0</td>\n",
       "      <td>4.674941</td>\n",
       "      <td>0.325059</td>\n",
       "    </tr>\n",
       "    <tr>\n",
       "      <th>12654</th>\n",
       "      <td>A16J281SJ9QXIQ</td>\n",
       "      <td>B002SZEOLG</td>\n",
       "      <td>5.0</td>\n",
       "      <td>4.373900</td>\n",
       "      <td>0.626100</td>\n",
       "    </tr>\n",
       "    <tr>\n",
       "      <th>12838</th>\n",
       "      <td>A2465B935KYILR</td>\n",
       "      <td>B003BLQHN4</td>\n",
       "      <td>5.0</td>\n",
       "      <td>4.201523</td>\n",
       "      <td>0.798477</td>\n",
       "    </tr>\n",
       "    <tr>\n",
       "      <th>18763</th>\n",
       "      <td>AF64NAM5XBWAY</td>\n",
       "      <td>B005KG44V0</td>\n",
       "      <td>4.0</td>\n",
       "      <td>3.584443</td>\n",
       "      <td>0.415557</td>\n",
       "    </tr>\n",
       "    <tr>\n",
       "      <th>18397</th>\n",
       "      <td>A2JAEZ0FMAMJVW</td>\n",
       "      <td>B00829THEG</td>\n",
       "      <td>4.0</td>\n",
       "      <td>4.824661</td>\n",
       "      <td>0.824661</td>\n",
       "    </tr>\n",
       "    <tr>\n",
       "      <th>8547</th>\n",
       "      <td>A2XA8CW5DF4MNZ</td>\n",
       "      <td>B0025ZH43O</td>\n",
       "      <td>5.0</td>\n",
       "      <td>4.594824</td>\n",
       "      <td>0.405176</td>\n",
       "    </tr>\n",
       "  </tbody>\n",
       "</table>\n",
       "</div>"
      ],
      "text/plain": [
       "              user_id     product  actual_rating  pred_rating   abs_err\n",
       "8863    AAOYSXSQU36FL  B005HMKKH4            5.0     5.000000  0.000000\n",
       "22681  A1BMG34CO5CMZ5  B008X9Z528            3.0     3.603751  0.603751\n",
       "6215   A1JZFGZEZVWQPY  B004Q3R9AQ            4.0     4.403018  0.403018\n",
       "3960   A1257AT05CKW91  B001S4OTS6            1.0     3.793032  2.793032\n",
       "15640  A2KOV8XWZOZ0FQ  B001TH7T2U            5.0     4.882355  0.117645\n",
       "722    A35WINR58PK2NS  B004R7A9NU            2.0     4.370553  2.370553\n",
       "3232    APH5FNOADM1N4  B001EPVOQY            5.0     4.911073  0.088927\n",
       "13509  A2LUDI2PC7A9FZ  B0002CPBWI            5.0     4.250462  0.749538\n",
       "11564  A2DRYHBYLO5S8T  B000065BP9            5.0     4.765930  0.234070\n",
       "21974  A1NNSDU1DUZRJ7  B005X1Y7I2            5.0     4.641407  0.358593\n",
       "11778   AIL6VNBJC2MDF  B007P4VOWC            3.0     4.512127  1.512127\n",
       "8300   A29CJR2LAN3LJ0  B004GUT1QO            5.0     4.376289  0.623711\n",
       "7131   A3NHUQ33CFH3VM  B00F3F0EIU            5.0     4.320445  0.679555\n",
       "24709   AGKUAO9LYVRWS  B000I23TTE            4.0     4.191697  0.191697\n",
       "14856  A1JX8MOFREFLHQ  B000S5Q9CA            5.0     4.656645  0.343355\n",
       "19672  A2EW01G2LNJN06  B000EW8074            4.0     4.491364  0.491364\n",
       "18435   A38RMU1Y5TDP9  B00DR8LAE2            5.0     3.735043  1.264957\n",
       "12332  A1V9JPD85POOYC  B001FA1O18            5.0     4.606190  0.393810\n",
       "21723  A1TS45JWJVOSSW  B003YKG2XM            4.0     4.680023  0.680023\n",
       "805    A28AHI180H69GK  B003ELYQGG            3.0     4.189135  1.189135\n",
       "23430  A11P105WVK5240  B00006RVPW            5.0     5.000000  0.000000\n",
       "11319   AA292EN15N5OW  B001TOD7ME            4.0     4.696095  0.696095\n",
       "22033   ADY836HK6QSYR  B004JWA70I            2.0     3.665543  1.665543\n",
       "10370   AO2EURP2Y4JZM  B0088PUEPK            4.0     4.306454  0.306454\n",
       "19735  A256T5PCQ0UZIM  B004VM1T5S            5.0     4.193397  0.806603\n",
       "11129  A1BTI221EBPDZF  B000CKVOOY            5.0     4.727239  0.272761\n",
       "10025  A2ZMIPZCWKO16D  B00691WMJG            5.0     4.339599  0.660401\n",
       "9232   A1O3FDAZQK8FJC  B007FGYZFI            4.0     4.718039  0.718039\n",
       "17100   ATLCOMAE8J7FO  B00BP5KOPA            5.0     4.432875  0.567125\n",
       "10432  A2FTHCGH06O4Y5  B000RQSGYO            3.0     4.036442  1.036442\n",
       "9860   A22AUF8HFWBJ1H  B005DSPLCQ            5.0     4.973961  0.026039\n",
       "22747  A1RWW5E04UJXQW  B000065BP9            1.0     4.256773  3.256773\n",
       "5201   A1VUN4JU731CBH  B0009Y7APU            4.0     4.014937  0.014937\n",
       "16663  A20DZX38KRBIT8  B009W8YQ6K            1.0     3.327608  2.327608\n",
       "10846  A1CO79U5URPQGP  B0049XGNKK            3.0     4.727794  1.727794\n",
       "16116  A3956O40ZZYFMY  B000HPV3RW            5.0     4.794875  0.205125\n",
       "3534    ALHWZSTAELK9I  B00E055H5O            5.0     5.000000  0.000000\n",
       "16630  A1HNVP4C60ZCS8  B0015AARJI            5.0     4.708219  0.291781\n",
       "12779  A3V2EZ6MA32FF6  B0081H8TRA            5.0     4.162568  0.837432\n",
       "14103  A11548ZOIDAELN  B004W2JKWG            5.0     4.576054  0.423946\n",
       "3877   A3CUYX2VXZM9KO  B000S5Q9CA            4.0     4.079332  0.079332\n",
       "23866    ADLVFFE4VBT8  B0079TOEQQ            5.0     4.041252  0.958748\n",
       "21005  A3PVROM0U6RJIA  B008LTBITY            5.0     5.000000  0.000000\n",
       "23330    AO2INKUSNP8Y  B001FA1O18            5.0     4.261262  0.738738\n",
       "988     A944SUQYY8SJZ  B00275XTSQ            5.0     4.674941  0.325059\n",
       "12654  A16J281SJ9QXIQ  B002SZEOLG            5.0     4.373900  0.626100\n",
       "12838  A2465B935KYILR  B003BLQHN4            5.0     4.201523  0.798477\n",
       "18763   AF64NAM5XBWAY  B005KG44V0            4.0     3.584443  0.415557\n",
       "18397  A2JAEZ0FMAMJVW  B00829THEG            4.0     4.824661  0.824661\n",
       "8547   A2XA8CW5DF4MNZ  B0025ZH43O            5.0     4.594824  0.405176"
      ]
     },
     "execution_count": 126,
     "metadata": {},
     "output_type": "execute_result"
    }
   ],
   "source": [
    "df_pred = pd.DataFrame(predictions, columns=['user_id', 'product', 'actual_rating', 'pred_rating', 'details'])\n",
    "\n",
    "df_pred['abs_err'] = abs(df_pred['pred_rating'] - df_pred['actual_rating'])\n",
    "df_pred.drop(['details'], axis=1, inplace=True)\n",
    "\n",
    "df_pred.sample(50)"
   ]
  },
  {
   "cell_type": "code",
   "execution_count": 87,
   "id": "binary-discussion",
   "metadata": {},
   "outputs": [
    {
     "data": {
      "image/png": "[encoded data removed]",
      "text/plain": [
       "<Figure size 1008x288 with 2 Axes>"
      ]
     },
     "metadata": {
      "needs_background": "light"
     },
     "output_type": "display_data"
    }
   ],
   "source": [
    "df_pred_err = df_pred.groupby('actual_rating')['abs_err'].mean().reset_index()\n",
    "\n",
    "fig, (ax1, ax2) = plt.subplots(nrows=1, ncols=2, figsize=(14, 4))\n",
    "\n",
    "sns.distplot(df_pred['abs_err'], color='#2f6194', ax=ax1)\n",
    "ax1.set_title('Distribution of absolute error in test set')\n",
    "\n",
    "sns.barplot(x='actual_rating', y='abs_err', data=df_pred_err, palette=palette, ax=ax2)\n",
    "ax2.set_title('Mean absolute error for rating in test set')\n",
    "\n",
    "plt.show()"
   ]
  },
  {
   "cell_type": "code",
   "execution_count": null,
   "id": "seasonal-conducting",
   "metadata": {},
   "outputs": [],
   "source": [
    "# to be added"
   ]
  },
  {
   "cell_type": "markdown",
   "id": "naked-movie",
   "metadata": {},
   "source": [
    "### MODELING AND EVALUATION 4 -Summarize the Ramifications"
   ]
  },
  {
   "cell_type": "markdown",
   "id": "downtown-reserve",
   "metadata": {},
   "source": [
    "Good scores for precision and recall.  But the ratings for the products tended to be higher rated -- 4 and 5"
   ]
  },
  {
   "cell_type": "code",
   "execution_count": null,
   "id": "received-latitude",
   "metadata": {},
   "outputs": [],
   "source": []
  },
  {
   "cell_type": "markdown",
   "id": "secondary-metadata",
   "metadata": {},
   "source": [
    "### DEPLOYMENT"
   ]
  },
  {
   "cell_type": "code",
   "execution_count": null,
   "id": "fresh-saint",
   "metadata": {},
   "outputs": [],
   "source": []
  },
  {
   "cell_type": "markdown",
   "id": "unusual-attachment",
   "metadata": {},
   "source": [
    "### EXCEPTIONAL WORK"
   ]
  },
  {
   "cell_type": "code",
   "execution_count": null,
   "id": "minimal-township",
   "metadata": {},
   "outputs": [],
   "source": []
  },
  {
   "cell_type": "code",
   "execution_count": null,
   "id": "palestinian-flash",
   "metadata": {},
   "outputs": [],
   "source": []
  },
  {
   "cell_type": "code",
   "execution_count": null,
   "id": "local-chocolate",
   "metadata": {},
   "outputs": [],
   "source": [
    "#https://nbviewer.jupyter.org/github/NicolasHug/Surprise/blob/master/examples/notebooks/Compare.ipynb\n",
    "#http://webcache.googleusercontent.com/search?q=cache:AqFH2uo4cQsJ:https://towardsdatascience.com/movie-recommender-system-52e4651f3ae7&hl=en&gl=us&strip=1&vwsrc=0\n",
    "#https://surprise.readthedocs.io/en/v1.0.1/getting_started.html\n",
    "#https://towardsdatascience.com/building-and-testing-recommender-systems-with-surprise-step-by-step-d4ba702ef80b\n",
    "#https://www.kaggle.com/saurav9786/recommender-system-using-amazon-reviews"
   ]
  },
  {
   "cell_type": "markdown",
   "id": "ultimate-speech",
   "metadata": {},
   "source": [
    "SCRATCH PAD AREA"
   ]
  }
 ],
 "metadata": {
  "kernelspec": {
   "display_name": "Python 3",
   "language": "python",
   "name": "python3"
  },
  "language_info": {
   "codemirror_mode": {
    "name": "ipython",
    "version": 3
   },
   "file_extension": ".py",
   "mimetype": "text/x-python",
   "name": "python",
   "nbconvert_exporter": "python",
   "pygments_lexer": "ipython3",
   "version": "3.7.1"
  }
 },
 "nbformat": 4,
 "nbformat_minor": 5
}
