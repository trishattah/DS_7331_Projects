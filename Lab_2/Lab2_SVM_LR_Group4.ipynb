{
 "cells": [
  {
   "cell_type": "markdown",
   "metadata": {},
   "source": [
    "## MSDS 7331: Data Mining\n",
    "## Mini Lab: Logistic Regression and SVMs\n",
    "## Classification Task\n",
    "\n",
    "#### Paticia Attah\n",
    "#### Linda Eliasen\n",
    "\n",
    "\n",
    "Using logistic regression and SVM we will predict the case status (certified / non certified) of an application submitted by the employer to hire non-immigrant workers under the H-1B visa program. Employers can hire non-immigrant workers only after their LCA petition is certified. The certified LCA petition is then submitted as part of the Petition for a Non-immigrant Worker application for work authorizations for H-1B visa status.<br>\n",
    "\n",
    "The goal is to uncover insights that can help employers understand the process of getting their LCA approved. The results will help employers understand which applications that they may consider submitting will be certified. This information is important to an employer's buisness operations. It can pinpoint errors or informtion on the appication that may need adjusting to avoid processing delays and also drive the recruiting strategy in denial situations.<br>\n",
    "\n",
    "Measures of success include accuracy, precision, recall and utltimatley the F Score, which we will compare among models.\n",
    "The H-1B Dataset contains data from employers Labor Condition Applications and the case certification determinations processed by the Office of Foreign Labor Certification (OFLC) where the date of the determination was issued on or after October 1, 2016 and on or before June 30, 2017."
   ]
  },
  {
   "cell_type": "code",
   "execution_count": 1,
   "metadata": {},
   "outputs": [],
   "source": [
    "from sklearn.preprocessing import StandardScaler\n",
    "from sklearn.pipeline import Pipeline\n",
    "from sklearn.model_selection import train_test_split,cross_val_score\n",
    "from sklearn.svm import SVC\n",
    "from sklearn.metrics import confusion_matrix, classification_report, accuracy_score,plot_confusion_matrix\n",
    "from sklearn.linear_model import LogisticRegression\n",
    "import pandas as pd\n",
    "import statsmodels.api as sm \n",
    "import numpy as np\n",
    "import random\n",
    "from sklearn.model_selection import GridSearchCV\n",
    "import math\n",
    "\n",
    "import warnings\n",
    "warnings.filterwarnings(\"ignore\") # ignore warnings for clean report"
   ]
  },
  {
   "cell_type": "markdown",
   "metadata": {},
   "source": [
    "### Preparing Data\n",
    "This is the initial dataset that is divided into 3 groups(certified, certified-withdrawn, denied) for logistic regression purposes we reduce this to 2 groups (certified and denied). this data has been cleaned and outliers removed from the previous lab."
   ]
  },
  {
   "cell_type": "code",
   "execution_count": 2,
   "metadata": {},
   "outputs": [
    {
     "data": {
      "text/plain": [
       "<AxesSubplot:title={'center':'count (target)'}>"
      ]
     },
     "execution_count": 2,
     "metadata": {},
     "output_type": "execute_result"
    },
    {
     "data": {
      "image/png": "[encoded data removed]",
      "text/plain": [
       "<Figure size 432x288 with 1 Axes>"
      ]
     },
     "metadata": {
      "needs_background": "light"
     },
     "output_type": "display_data"
    }
   ],
   "source": [
    "df = pd.read_csv ('Balanced_Visa_Data.csv')\n",
    "df = df.sample(frac = 1) \n",
    "df['CASE_STATUS_CODE'].value_counts().plot(kind='bar', title='count (target)')"
   ]
  },
  {
   "cell_type": "code",
   "execution_count": 3,
   "metadata": {},
   "outputs": [
    {
     "data": {
      "text/plain": [
       "array([0, 1])"
      ]
     },
     "execution_count": 3,
     "metadata": {},
     "output_type": "execute_result"
    }
   ],
   "source": [
    "df1 = df.loc[(df['CASE_STATUS_CODE']==0) | (df['CASE_STATUS_CODE']==2)] \n",
    "df1['CASE_STATUS_CODE'] = np.select([df1.CASE_STATUS_CODE==0],[1],0)\n",
    "np.unique(df1.CASE_STATUS_CODE)"
   ]
  },
  {
   "cell_type": "code",
   "execution_count": 4,
   "metadata": {},
   "outputs": [
    {
     "data": {
      "text/plain": [
       "<AxesSubplot:title={'center':'count (target)'}>"
      ]
     },
     "execution_count": 4,
     "metadata": {},
     "output_type": "execute_result"
    },
    {
     "data": {
      "image/png": "[encoded data removed]",
      "text/plain": [
       "<Figure size 432x288 with 1 Axes>"
      ]
     },
     "metadata": {
      "needs_background": "light"
     },
     "output_type": "display_data"
    }
   ],
   "source": [
    "df1['CASE_STATUS_CODE'].value_counts().plot(kind='bar', title='count (target)')"
   ]
  },
  {
   "cell_type": "markdown",
   "metadata": {},
   "source": [
    "## Create Dummmies\n",
    "At this point we are removing the categorical columns and replacing them with dummy variable that will 0,1 value for the model. Out target variable is 1 which means certified and 0 which specifies denied. In this phase we also removed some unnecesarry varibale incuding the unit of pay and wage unit of pay which specifies how the salary was recorded for an example weekly, bi-weekly monthly."
   ]
  },
  {
   "cell_type": "code",
   "execution_count": 5,
   "metadata": {},
   "outputs": [],
   "source": [
    "df2 = df1.drop(['CASE_STATUS','EMPLOYER_NAME_CODE', 'EMPLOYER_CITY_CODE',\n",
    "           'SOC_NAME_CODE', 'EMPLOYER_STATE_CODE','WILLFUL_VIOLATOR_CODE',\n",
    "           'AGENT_REPRESENTING_EMPLOYER_CODE', 'JOB_TITLE_CODE', 'EMPLOYER_STATE',\n",
    "           'WORKSITE_CITY_CODE', 'WORKSITE_STATE_CODE', 'WORKSITE_STATE',\n",
    "           'PW_UNIT_OF_PAY_CODE', 'PW_WAGE_LEVEL_CODE', 'WAGE_UNIT_OF_PAY_CODE',\n",
    "           'H1B_DEPENDENT_CODE', 'SUPPORT_H1B_CODE', 'LABOR_CON_AGREE_CODE',\n",
    "           'Unnamed: 0','WORKSITE_CITY','EMPLOYER_NAME','PW_UNIT_OF_PAY',\n",
    "            'EMPLOYER_CITY','WILLFUL_VIOLATOR_CODE', 'WORKSITE_CITY_CODE',\n",
    "            'SOC_GROUP_Code','SOC_NAME','JOB_TITLE','SOC_GROUP_CODE',\n",
    "            'WAGE_UNIT_OF_PAY'], axis=1)"
   ]
  },
  {
   "cell_type": "code",
   "execution_count": 6,
   "metadata": {},
   "outputs": [],
   "source": [
    "WILLFUL_VIOLATOR = pd.get_dummies(df2.WILLFUL_VIOLATOR, prefix='WILL_VIOL',drop_first=True)\n",
    "df2 = pd.concat([df2, WILLFUL_VIOLATOR], axis=1)\n",
    "\n",
    "SOC_GROUP = pd.get_dummies(df2['SOC_GROUP'],drop_first=True)\n",
    "df2 = pd.concat([df2, SOC_GROUP], axis=1)\n",
    "\n",
    "PW_WAGE_LEVEL = pd.get_dummies(df2.PW_WAGE_LEVEL, prefix='PW_LEVEL',drop_first=True)\n",
    "df2 = pd.concat([df2, PW_WAGE_LEVEL], axis=1)\n",
    "\n",
    "AGENT_REPRESENTING_EMPLOYER = pd.get_dummies(df2.AGENT_REPRESENTING_EMPLOYER, prefix='AGENT_REP',drop_first=True)\n",
    "df2 = pd.concat([df2, AGENT_REPRESENTING_EMPLOYER], axis=1)  \n",
    "\n",
    "H1B_DEPENDENT = pd.get_dummies(df2.H1B_DEPENDENT, prefix='H1B_DEP',drop_first=True)\n",
    "df2 = pd.concat([df2, H1B_DEPENDENT], axis=1)\n",
    "\n",
    "LABOR_CON_AGREE = pd.get_dummies(df2.LABOR_CON_AGREE, prefix='LABOR_CON_AGREE',drop_first=True)\n",
    "df2 = pd.concat([df2, LABOR_CON_AGREE], axis=1)\n",
    "\n",
    "SUPPORT_H1B = pd.get_dummies(df2.SUPPORT_H1B, prefix='SUPPORT_H1B',drop_first=True)\n",
    "df2 = pd.concat([df2, SUPPORT_H1B], axis=1)"
   ]
  },
  {
   "cell_type": "code",
   "execution_count": 7,
   "metadata": {},
   "outputs": [
    {
     "data": {
      "text/plain": [
       "(37420, 42)"
      ]
     },
     "execution_count": 7,
     "metadata": {},
     "output_type": "execute_result"
    }
   ],
   "source": [
    "df2.shape"
   ]
  },
  {
   "cell_type": "code",
   "execution_count": 8,
   "metadata": {},
   "outputs": [
    {
     "data": {
      "text/html": [
       "<div>\n",
       "<style scoped>\n",
       "    .dataframe tbody tr th:only-of-type {\n",
       "        vertical-align: middle;\n",
       "    }\n",
       "\n",
       "    .dataframe tbody tr th {\n",
       "        vertical-align: top;\n",
       "    }\n",
       "\n",
       "    .dataframe thead th {\n",
       "        text-align: right;\n",
       "    }\n",
       "</style>\n",
       "<table border=\"1\" class=\"dataframe\">\n",
       "  <thead>\n",
       "    <tr style=\"text-align: right;\">\n",
       "      <th></th>\n",
       "      <th>TOTAL_WORKERS</th>\n",
       "      <th>NEW_EMPLOYMENT</th>\n",
       "      <th>CONTINUED_EMPLOYMENT</th>\n",
       "      <th>CHANGE_PREVIOUS_EMPLOYMENT</th>\n",
       "      <th>NEW_CONCURRENT_EMPLOYMENT</th>\n",
       "      <th>ANNUALIZED_PREVAILING_WAGE</th>\n",
       "      <th>PREVAILING_WAGE</th>\n",
       "      <th>ANNUALIZED_WAGE_RATE_OF_PAY</th>\n",
       "      <th>WAGE_RATE_OF_PAY</th>\n",
       "      <th>DAYS_PROCESS</th>\n",
       "      <th>...</th>\n",
       "      <th>Management</th>\n",
       "      <th>Office and Administrative Support</th>\n",
       "      <th>Personal Care and Service</th>\n",
       "      <th>Production</th>\n",
       "      <th>Sales and Related</th>\n",
       "      <th>Transportation and Material Moving</th>\n",
       "      <th>AGENT_REP_Y</th>\n",
       "      <th>H1B_DEP_Y</th>\n",
       "      <th>LABOR_CON_AGREE_Y</th>\n",
       "      <th>SUPPORT_H1B_Y</th>\n",
       "    </tr>\n",
       "  </thead>\n",
       "  <tbody>\n",
       "    <tr>\n",
       "      <th>12343</th>\n",
       "      <td>1</td>\n",
       "      <td>0</td>\n",
       "      <td>0</td>\n",
       "      <td>0</td>\n",
       "      <td>0</td>\n",
       "      <td>66830.400000</td>\n",
       "      <td>32.130000</td>\n",
       "      <td>66830.400000</td>\n",
       "      <td>32.130000</td>\n",
       "      <td>4</td>\n",
       "      <td>...</td>\n",
       "      <td>0</td>\n",
       "      <td>0</td>\n",
       "      <td>0</td>\n",
       "      <td>0</td>\n",
       "      <td>0</td>\n",
       "      <td>0</td>\n",
       "      <td>0</td>\n",
       "      <td>1</td>\n",
       "      <td>1</td>\n",
       "      <td>0</td>\n",
       "    </tr>\n",
       "    <tr>\n",
       "      <th>55773</th>\n",
       "      <td>3</td>\n",
       "      <td>0</td>\n",
       "      <td>0</td>\n",
       "      <td>0</td>\n",
       "      <td>0</td>\n",
       "      <td>59576.065954</td>\n",
       "      <td>59576.065954</td>\n",
       "      <td>59576.065954</td>\n",
       "      <td>59576.065954</td>\n",
       "      <td>4</td>\n",
       "      <td>...</td>\n",
       "      <td>0</td>\n",
       "      <td>0</td>\n",
       "      <td>0</td>\n",
       "      <td>0</td>\n",
       "      <td>0</td>\n",
       "      <td>0</td>\n",
       "      <td>1</td>\n",
       "      <td>1</td>\n",
       "      <td>1</td>\n",
       "      <td>1</td>\n",
       "    </tr>\n",
       "    <tr>\n",
       "      <th>51783</th>\n",
       "      <td>1</td>\n",
       "      <td>1</td>\n",
       "      <td>0</td>\n",
       "      <td>0</td>\n",
       "      <td>0</td>\n",
       "      <td>54662.000000</td>\n",
       "      <td>54662.000000</td>\n",
       "      <td>55000.000000</td>\n",
       "      <td>55000.000000</td>\n",
       "      <td>2</td>\n",
       "      <td>...</td>\n",
       "      <td>0</td>\n",
       "      <td>0</td>\n",
       "      <td>0</td>\n",
       "      <td>0</td>\n",
       "      <td>0</td>\n",
       "      <td>0</td>\n",
       "      <td>0</td>\n",
       "      <td>1</td>\n",
       "      <td>1</td>\n",
       "      <td>1</td>\n",
       "    </tr>\n",
       "    <tr>\n",
       "      <th>16786</th>\n",
       "      <td>1</td>\n",
       "      <td>0</td>\n",
       "      <td>0</td>\n",
       "      <td>0</td>\n",
       "      <td>0</td>\n",
       "      <td>41018.000000</td>\n",
       "      <td>41018.000000</td>\n",
       "      <td>60000.000000</td>\n",
       "      <td>60000.000000</td>\n",
       "      <td>6</td>\n",
       "      <td>...</td>\n",
       "      <td>0</td>\n",
       "      <td>0</td>\n",
       "      <td>0</td>\n",
       "      <td>0</td>\n",
       "      <td>0</td>\n",
       "      <td>0</td>\n",
       "      <td>0</td>\n",
       "      <td>1</td>\n",
       "      <td>1</td>\n",
       "      <td>1</td>\n",
       "    </tr>\n",
       "    <tr>\n",
       "      <th>51681</th>\n",
       "      <td>1</td>\n",
       "      <td>1</td>\n",
       "      <td>0</td>\n",
       "      <td>0</td>\n",
       "      <td>0</td>\n",
       "      <td>54662.000000</td>\n",
       "      <td>54662.000000</td>\n",
       "      <td>55000.000000</td>\n",
       "      <td>55000.000000</td>\n",
       "      <td>4</td>\n",
       "      <td>...</td>\n",
       "      <td>0</td>\n",
       "      <td>0</td>\n",
       "      <td>0</td>\n",
       "      <td>0</td>\n",
       "      <td>0</td>\n",
       "      <td>0</td>\n",
       "      <td>0</td>\n",
       "      <td>1</td>\n",
       "      <td>1</td>\n",
       "      <td>1</td>\n",
       "    </tr>\n",
       "  </tbody>\n",
       "</table>\n",
       "<p>5 rows × 35 columns</p>\n",
       "</div>"
      ],
      "text/plain": [
       "       TOTAL_WORKERS  NEW_EMPLOYMENT  CONTINUED_EMPLOYMENT  \\\n",
       "12343              1               0                     0   \n",
       "55773              3               0                     0   \n",
       "51783              1               1                     0   \n",
       "16786              1               0                     0   \n",
       "51681              1               1                     0   \n",
       "\n",
       "       CHANGE_PREVIOUS_EMPLOYMENT  NEW_CONCURRENT_EMPLOYMENT  \\\n",
       "12343                           0                          0   \n",
       "55773                           0                          0   \n",
       "51783                           0                          0   \n",
       "16786                           0                          0   \n",
       "51681                           0                          0   \n",
       "\n",
       "       ANNUALIZED_PREVAILING_WAGE  PREVAILING_WAGE  \\\n",
       "12343                66830.400000        32.130000   \n",
       "55773                59576.065954     59576.065954   \n",
       "51783                54662.000000     54662.000000   \n",
       "16786                41018.000000     41018.000000   \n",
       "51681                54662.000000     54662.000000   \n",
       "\n",
       "       ANNUALIZED_WAGE_RATE_OF_PAY  WAGE_RATE_OF_PAY  DAYS_PROCESS  ...  \\\n",
       "12343                 66830.400000         32.130000             4  ...   \n",
       "55773                 59576.065954      59576.065954             4  ...   \n",
       "51783                 55000.000000      55000.000000             2  ...   \n",
       "16786                 60000.000000      60000.000000             6  ...   \n",
       "51681                 55000.000000      55000.000000             4  ...   \n",
       "\n",
       "       Management  Office and Administrative Support  \\\n",
       "12343           0                                  0   \n",
       "55773           0                                  0   \n",
       "51783           0                                  0   \n",
       "16786           0                                  0   \n",
       "51681           0                                  0   \n",
       "\n",
       "       Personal Care and Service  Production  Sales and Related  \\\n",
       "12343                          0           0                  0   \n",
       "55773                          0           0                  0   \n",
       "51783                          0           0                  0   \n",
       "16786                          0           0                  0   \n",
       "51681                          0           0                  0   \n",
       "\n",
       "       Transportation and Material Moving  AGENT_REP_Y  H1B_DEP_Y  \\\n",
       "12343                                   0            0          1   \n",
       "55773                                   0            1          1   \n",
       "51783                                   0            0          1   \n",
       "16786                                   0            0          1   \n",
       "51681                                   0            0          1   \n",
       "\n",
       "       LABOR_CON_AGREE_Y  SUPPORT_H1B_Y  \n",
       "12343                  1              0  \n",
       "55773                  1              1  \n",
       "51783                  1              1  \n",
       "16786                  1              1  \n",
       "51681                  1              1  \n",
       "\n",
       "[5 rows x 35 columns]"
      ]
     },
     "execution_count": 8,
     "metadata": {},
     "output_type": "execute_result"
    }
   ],
   "source": [
    "df3 = df2.drop(['WILLFUL_VIOLATOR','PW_WAGE_LEVEL',\n",
    "               'H1B_DEPENDENT','LABOR_CON_AGREE',\n",
    "                'AGENT_REPRESENTING_EMPLOYER','SOC_GROUP','SUPPORT_H1B'], axis=1)\n",
    "df3.head()"
   ]
  },
  {
   "cell_type": "code",
   "execution_count": 9,
   "metadata": {},
   "outputs": [],
   "source": [
    "cont_vars = ['TOTAL_WORKERS','ANNUALIZED_PREVAILING_WAGE', \n",
    "           'PREVAILING_WAGE', 'ANNUALIZED_WAGE_RATE_OF_PAY',\n",
    "                'WAGE_RATE_OF_PAY','DAYS_PROCESS']"
   ]
  },
  {
   "cell_type": "code",
   "execution_count": 10,
   "metadata": {},
   "outputs": [
    {
     "data": {
      "text/plain": [
       "(37420, 35)"
      ]
     },
     "execution_count": 10,
     "metadata": {},
     "output_type": "execute_result"
    }
   ],
   "source": [
    "pd.set_option('display.max_columns', 100)\n",
    "df3.shape"
   ]
  },
  {
   "cell_type": "code",
   "execution_count": 11,
   "metadata": {},
   "outputs": [
    {
     "name": "stdout",
     "output_type": "stream",
     "text": [
      "<class 'pandas.core.frame.DataFrame'>\n",
      "Int64Index: 37420 entries, 12343 to 4748\n",
      "Data columns (total 35 columns):\n",
      " #   Column                                          Non-Null Count  Dtype  \n",
      "---  ------                                          --------------  -----  \n",
      " 0   TOTAL_WORKERS                                   37420 non-null  int64  \n",
      " 1   NEW_EMPLOYMENT                                  37420 non-null  int64  \n",
      " 2   CONTINUED_EMPLOYMENT                            37420 non-null  int64  \n",
      " 3   CHANGE_PREVIOUS_EMPLOYMENT                      37420 non-null  int64  \n",
      " 4   NEW_CONCURRENT_EMPLOYMENT                       37420 non-null  int64  \n",
      " 5   ANNUALIZED_PREVAILING_WAGE                      37420 non-null  float64\n",
      " 6   PREVAILING_WAGE                                 37420 non-null  float64\n",
      " 7   ANNUALIZED_WAGE_RATE_OF_PAY                     37420 non-null  float64\n",
      " 8   WAGE_RATE_OF_PAY                                37420 non-null  float64\n",
      " 9   DAYS_PROCESS                                    37420 non-null  int64  \n",
      " 10  CASE_STATUS_CODE                                37420 non-null  int64  \n",
      " 11  WILL_VIOL_Y                                     37420 non-null  uint8  \n",
      " 12  Arts, Design, Entertainment, Sports, and Media  37420 non-null  uint8  \n",
      " 13  Building and Grounds Cleaning and Maintenance   37420 non-null  uint8  \n",
      " 14  Business and Financial Operations               37420 non-null  uint8  \n",
      " 15  Community and Social Service                    37420 non-null  uint8  \n",
      " 16  Computer and Mathematical                       37420 non-null  uint8  \n",
      " 17  Construction and Extraction                     37420 non-null  uint8  \n",
      " 18  Education, Training, and Library                37420 non-null  uint8  \n",
      " 19  Food Preparation and Serving Related            37420 non-null  uint8  \n",
      " 20  Healthcare Practitioners and Technical          37420 non-null  uint8  \n",
      " 21  Healthcare Support                              37420 non-null  uint8  \n",
      " 22  Installation, Maintenance, and Repair           37420 non-null  uint8  \n",
      " 23  Legal                                           37420 non-null  uint8  \n",
      " 24  Life, Physical, and Social Science              37420 non-null  uint8  \n",
      " 25  Management                                      37420 non-null  uint8  \n",
      " 26  Office and Administrative Support               37420 non-null  uint8  \n",
      " 27  Personal Care and Service                       37420 non-null  uint8  \n",
      " 28  Production                                      37420 non-null  uint8  \n",
      " 29  Sales and Related                               37420 non-null  uint8  \n",
      " 30  Transportation and Material Moving              37420 non-null  uint8  \n",
      " 31  AGENT_REP_Y                                     37420 non-null  uint8  \n",
      " 32  H1B_DEP_Y                                       37420 non-null  uint8  \n",
      " 33  LABOR_CON_AGREE_Y                               37420 non-null  uint8  \n",
      " 34  SUPPORT_H1B_Y                                   37420 non-null  uint8  \n",
      "dtypes: float64(4), int64(7), uint8(24)\n",
      "memory usage: 4.3 MB\n"
     ]
    }
   ],
   "source": [
    "df3.info()"
   ]
  },
  {
   "cell_type": "markdown",
   "metadata": {},
   "source": [
    "### Test/Train split"
   ]
  },
  {
   "cell_type": "code",
   "execution_count": 12,
   "metadata": {},
   "outputs": [],
   "source": [
    "# divide data set to x and y and Scale data\n",
    "\n",
    "y = df3['CASE_STATUS_CODE']\n",
    "x = df3.drop(['CASE_STATUS_CODE'], axis=1)"
   ]
  },
  {
   "cell_type": "code",
   "execution_count": 13,
   "metadata": {},
   "outputs": [
    {
     "name": "stdout",
     "output_type": "stream",
     "text": [
      "(7484, 34)\n",
      "(7484,)\n"
     ]
    }
   ],
   "source": [
    "a = df3['CASE_STATUS_CODE'].values\n",
    "bb = df3.drop(['CASE_STATUS_CODE'], axis=1)\n",
    "b = bb.values\n",
    "\n",
    "x_t = x[:7484]\n",
    "y_t = y[:7484]\n",
    "\n",
    "print(x_t.shape)\n",
    "print(y_t.shape)"
   ]
  },
  {
   "cell_type": "code",
   "execution_count": 14,
   "metadata": {
    "scrolled": true
   },
   "outputs": [
    {
     "name": "stdout",
     "output_type": "stream",
     "text": [
      "(29936,)\n",
      "(7484, 34)\n"
     ]
    }
   ],
   "source": [
    "# create train set\n",
    "import random\n",
    "random.seed(0)\n",
    "x_train,x_test,y_train,y_test = train_test_split(x,y,test_size=0.2, random_state=0)\n",
    "print(y_train.shape)\n",
    "print(x_test.shape)"
   ]
  },
  {
   "cell_type": "markdown",
   "metadata": {},
   "source": [
    "### Logistic Regression Grid search\n"
   ]
  },
  {
   "cell_type": "code",
   "execution_count": 15,
   "metadata": {},
   "outputs": [],
   "source": [
    "def print_results(results):\n",
    "    print('BEST PARAMS: {}\\n'.format(results.best_params_))\n",
    "\n",
    "    means = results.cv_results_['mean_test_score']\n",
    "    stds = results.cv_results_['std_test_score']\n",
    "    for mean, std, params in zip(means, stds, results.cv_results_['params']):\n",
    "        print('{} (+/-{}) for {}'.format(round(mean, 3), round(std * 2, 3), params))"
   ]
  },
  {
   "cell_type": "code",
   "execution_count": 16,
   "metadata": {},
   "outputs": [
    {
     "name": "stdout",
     "output_type": "stream",
     "text": [
      "Fitting 5 folds for each of 4 candidates, totalling 20 fits\n",
      "BEST PARAMS: {'C': 0.1, 'penalty': 'l2', 'solver': 'sag'}\n",
      "\n",
      "0.591 (+/-0.011) for {'C': 0.1, 'penalty': 'l2', 'solver': 'sag'}\n",
      "0.591 (+/-0.011) for {'C': 1, 'penalty': 'l2', 'solver': 'sag'}\n",
      "0.591 (+/-0.011) for {'C': 10, 'penalty': 'l2', 'solver': 'sag'}\n",
      "0.591 (+/-0.011) for {'C': 100, 'penalty': 'l2', 'solver': 'sag'}\n"
     ]
    }
   ],
   "source": [
    "# grid search\n",
    "params = {\n",
    "    'penalty':['l2'],        # l1 is Lasso, l2 is Ridge\n",
    "    'solver':['sag'],\n",
    "    'C': [0.1,1,10,100]\n",
    "}\n",
    "\n",
    "lr = LogisticRegression()\n",
    "lr_gs = GridSearchCV(lr, params, cv=5, verbose=1).fit(x_train, y_train)\n",
    "\n",
    "print_results(lr_gs)"
   ]
  },
  {
   "cell_type": "markdown",
   "metadata": {},
   "source": [
    "### Logistic Regression Model"
   ]
  },
  {
   "cell_type": "markdown",
   "metadata": {},
   "source": [
    "Applying a scale it to the entire data before splitting into training and test sets will bias the model evaluation because information would have leaked from the test set to the training set. scikit learn developers recommend using StandardScaler within a Pipeline in order to prevent most risks of data leaking: pipe = make_pipeline(StandardScaler(), LogisticRegression())."
   ]
  },
  {
   "cell_type": "code",
   "execution_count": 17,
   "metadata": {},
   "outputs": [
    {
     "data": {
      "text/plain": [
       "Pipeline(steps=[('scale', StandardScaler()),\n",
       "                ('lg',\n",
       "                 LogisticRegression(C=0.1, random_state=0, solver='sag'))])"
      ]
     },
     "execution_count": 17,
     "metadata": {},
     "output_type": "execute_result"
    }
   ],
   "source": [
    "# Create pipeline\n",
    "pipe = Pipeline([\n",
    "        ('scale', StandardScaler()),\n",
    "        ('lg', LogisticRegression(penalty='l2',solver='sag', random_state=0,C=0.1))])\n",
    "pipe.fit(x_train,y_train)"
   ]
  },
  {
   "cell_type": "markdown",
   "metadata": {},
   "source": [
    "### 10fold Cross Validation "
   ]
  },
  {
   "cell_type": "code",
   "execution_count": 18,
   "metadata": {},
   "outputs": [],
   "source": [
    "# cross validation\n",
    "random.seed(10)\n",
    "from sklearn.model_selection import ShuffleSplit\n",
    "num_cv_iterations = 10\n",
    "cv_object = ShuffleSplit(n_splits=num_cv_iterations,test_size  = 0.2)"
   ]
  },
  {
   "cell_type": "code",
   "execution_count": 19,
   "metadata": {},
   "outputs": [],
   "source": [
    "# accuracies fom cross validation\n",
    "\n",
    "#from sklearn.model_selection import cross_val_score\n",
    "#accuracies = cross_val_score(pipe, x_t, y=y_t, cv=cv_object)\n",
    "#print(accuracies)"
   ]
  },
  {
   "cell_type": "code",
   "execution_count": 20,
   "metadata": {},
   "outputs": [
    {
     "name": "stdout",
     "output_type": "stream",
     "text": [
      "====Iteration 0  ====\n",
      "accuracy 0.8380545163014431\n",
      "precision 0.8281769368447968\n",
      "recall 0.8571050542471553\n",
      "f1-score 0.8423927178153446\n",
      "confusion matrix\n",
      " [[3033  672]\n",
      " [ 540 3239]]\n",
      "====Iteration 1  ====\n",
      "accuracy 0.8337787279529664\n",
      "precision 0.8183908045977012\n",
      "recall 0.8573722237088574\n",
      "f1-score 0.8374281233664401\n",
      "confusion matrix\n",
      " [[3036  711]\n",
      " [ 533 3204]]\n",
      "====Iteration 2  ====\n",
      "accuracy 0.8345804382683057\n",
      "precision 0.8164251207729468\n",
      "recall 0.861550845183794\n",
      "f1-score 0.8383812010443865\n",
      "confusion matrix\n",
      " [[3035  722]\n",
      " [ 516 3211]]\n",
      "====Iteration 3  ====\n",
      "accuracy 0.832843399251737\n",
      "precision 0.8125160297512183\n",
      "recall 0.8590021691973969\n",
      "f1-score 0.8351126927639383\n",
      "confusion matrix\n",
      " [[3065  731]\n",
      " [ 520 3168]]\n",
      "====Iteration 4  ====\n",
      "accuracy 0.8297701763762694\n",
      "precision 0.8171355498721228\n",
      "recall 0.851092168353756\n",
      "f1-score 0.8337682672233822\n",
      "confusion matrix\n",
      " [[3015  715]\n",
      " [ 559 3195]]\n",
      "====Iteration 5  ====\n",
      "accuracy 0.8400587920897915\n",
      "precision 0.8250319284802043\n",
      "recall 0.863174772848744\n",
      "f1-score 0.8436724565756825\n",
      "confusion matrix\n",
      " [[3057  685]\n",
      " [ 512 3230]]\n",
      "====Iteration 6  ====\n",
      "accuracy 0.8387226082308926\n",
      "precision 0.8226051697921947\n",
      "recall 0.864908073541167\n",
      "f1-score 0.843226393038057\n",
      "confusion matrix\n",
      " [[3031  700]\n",
      " [ 507 3246]]\n",
      "====Iteration 7  ====\n",
      "accuracy 0.8401924104756815\n",
      "precision 0.8302461304237503\n",
      "recall 0.8612792840221111\n",
      "f1-score 0.8454780361757106\n",
      "confusion matrix\n",
      " [[3016  669]\n",
      " [ 527 3272]]\n",
      "====Iteration 8  ====\n",
      "accuracy 0.840726884019241\n",
      "precision 0.8248587570621468\n",
      "recall 0.8629768941429339\n",
      "f1-score 0.8434873949579832\n",
      "confusion matrix\n",
      " [[3080  682]\n",
      " [ 510 3212]]\n",
      "====Iteration 9  ====\n",
      "accuracy 0.8396579369321219\n",
      "precision 0.8218419728233518\n",
      "recall 0.8690792974986695\n",
      "f1-score 0.8448008277289188\n",
      "confusion matrix\n",
      " [[3018  708]\n",
      " [ 492 3266]]\n"
     ]
    }
   ],
   "source": [
    "pd.set_option('display.max_rows', None)\n",
    "from sklearn import metrics as mt\n",
    "iter_num=0\n",
    "average_accuracy = []\n",
    "average_precision = []\n",
    "average_recall = []\n",
    "average_f1_score=[]\n",
    "average_matrix=[]\n",
    "\n",
    "for iter_num, (train_indices, test_indices) in enumerate(cv_object.split(b,a)):\n",
    "    pipe.fit(b[train_indices],a[train_indices])  # train object\n",
    "    y_hat = pipe.predict(b[test_indices])\n",
    "    average_accuracy.append(mt.accuracy_score(a[test_indices],y_hat))\n",
    "    average_precision.append(mt.precision_score(a[test_indices],y_hat))\n",
    "    average_recall.append(mt.recall_score(a[test_indices],y_hat))\n",
    "    average_f1_score.append(mt.f1_score(a[test_indices],y_hat)) \n",
    "    average_matrix.append(mt.confusion_matrix(a[test_indices],y_hat))\n",
    "    \n",
    "    print(\"====Iteration\",iter_num,\" ====\")\n",
    "    print(\"accuracy\", mt.accuracy_score(a[test_indices],y_hat))\n",
    "    print(\"precision\", mt.precision_score(a[test_indices],y_hat)) \n",
    "    print(\"recall\", mt.recall_score(a[test_indices],y_hat)) \n",
    "    print(\"f1-score\", mt.f1_score(a[test_indices],y_hat))\n",
    "    print(\"confusion matrix\\n\",mt.confusion_matrix(a[test_indices],y_hat))\n",
    "#    print(classification_report(a[test_indices],y_hat))"
   ]
  },
  {
   "cell_type": "code",
   "execution_count": 21,
   "metadata": {},
   "outputs": [
    {
     "name": "stdout",
     "output_type": "stream",
     "text": [
      "logistic regression averaged results\n",
      "average accuracy 0.8368385889898449\n",
      "average precision 0.8217228400420433\n",
      "average recall 0.8607540782744586\n",
      "average f1_score 0.8407748110689844\n",
      "confusion matrix\n",
      " [[3038.6  699.5]\n",
      " [ 521.6 3224.3]]\n"
     ]
    }
   ],
   "source": [
    "final_accuracy = sum(average_accuracy)/len(average_accuracy)\n",
    "final_precision = sum(average_precision)/len(average_precision)\n",
    "final_recall = sum(average_recall)/len(average_recall)\n",
    "final_f1_score = sum(average_f1_score)/len(average_accuracy)\n",
    "final_confusion_mat = sum(average_matrix)/len(average_matrix)\n",
    "\n",
    "print(\"logistic regression averaged results\")\n",
    "print(\"average accuracy\",final_accuracy)\n",
    "print(\"average precision\",final_precision)\n",
    "print(\"average recall\",final_recall)\n",
    "print(\"average f1_score\",final_f1_score)\n",
    "print(\"confusion matrix\\n\",final_confusion_mat)"
   ]
  },
  {
   "cell_type": "code",
   "execution_count": 22,
   "metadata": {},
   "outputs": [
    {
     "data": {
      "image/png": "[encoded data removed]",
      "text/plain": [
       "<Figure size 432x288 with 1 Axes>"
      ]
     },
     "metadata": {
      "needs_background": "light"
     },
     "output_type": "display_data"
    }
   ],
   "source": [
    "from matplotlib import pyplot as plt\n",
    "from sklearn.metrics import roc_auc_score\n",
    "from sklearn.metrics import roc_curve\n",
    "logit_roc_auc = roc_auc_score(y_test, pipe.predict(x_test))\n",
    "fpr, tpr, thresholds = roc_curve(y_test, pipe.predict_proba(x_test)[:,1])\n",
    "plt.figure()\n",
    "plt.plot(fpr, tpr, label='Logistic Regression (area = %0.2f)' % logit_roc_auc)\n",
    "plt.plot([0, 1], [0, 1],'r--')\n",
    "plt.xlim([0.0, 1.0])\n",
    "plt.ylim([0.0, 1.05])\n",
    "plt.xlabel('False Positive Rate')\n",
    "plt.ylabel('True Positive Rate')\n",
    "plt.title('Receiver operating characteristic')\n",
    "plt.legend(loc=\"lower right\")\n",
    "plt.savefig('Log_ROC')\n",
    "plt.show()"
   ]
  },
  {
   "cell_type": "markdown",
   "metadata": {},
   "source": [
    "## Support Vector Machines"
   ]
  },
  {
   "cell_type": "code",
   "execution_count": 23,
   "metadata": {},
   "outputs": [
    {
     "data": {
      "text/plain": [
       "(11420, 35)"
      ]
     },
     "execution_count": 23,
     "metadata": {},
     "output_type": "execute_result"
    }
   ],
   "source": [
    "# reducing data set size for SVC\n",
    "\n",
    "df4=df3.sort_values(by=['CASE_STATUS_CODE'])\n",
    "df4=df4.iloc[13000:, :]\n",
    "df4=df4.iloc[:11420, :]\n",
    "df4.shape"
   ]
  },
  {
   "cell_type": "code",
   "execution_count": 24,
   "metadata": {},
   "outputs": [
    {
     "data": {
      "text/html": [
       "<div>\n",
       "<style scoped>\n",
       "    .dataframe tbody tr th:only-of-type {\n",
       "        vertical-align: middle;\n",
       "    }\n",
       "\n",
       "    .dataframe tbody tr th {\n",
       "        vertical-align: top;\n",
       "    }\n",
       "\n",
       "    .dataframe thead th {\n",
       "        text-align: right;\n",
       "    }\n",
       "</style>\n",
       "<table border=\"1\" class=\"dataframe\">\n",
       "  <thead>\n",
       "    <tr style=\"text-align: right;\">\n",
       "      <th></th>\n",
       "      <th>TOTAL_WORKERS</th>\n",
       "      <th>NEW_EMPLOYMENT</th>\n",
       "      <th>CONTINUED_EMPLOYMENT</th>\n",
       "      <th>CHANGE_PREVIOUS_EMPLOYMENT</th>\n",
       "      <th>NEW_CONCURRENT_EMPLOYMENT</th>\n",
       "      <th>ANNUALIZED_PREVAILING_WAGE</th>\n",
       "      <th>PREVAILING_WAGE</th>\n",
       "      <th>ANNUALIZED_WAGE_RATE_OF_PAY</th>\n",
       "      <th>WAGE_RATE_OF_PAY</th>\n",
       "      <th>DAYS_PROCESS</th>\n",
       "      <th>CASE_STATUS_CODE</th>\n",
       "      <th>WILL_VIOL_Y</th>\n",
       "      <th>Arts, Design, Entertainment, Sports, and Media</th>\n",
       "      <th>Building and Grounds Cleaning and Maintenance</th>\n",
       "      <th>Business and Financial Operations</th>\n",
       "      <th>Community and Social Service</th>\n",
       "      <th>Computer and Mathematical</th>\n",
       "      <th>Construction and Extraction</th>\n",
       "      <th>Education, Training, and Library</th>\n",
       "      <th>Food Preparation and Serving Related</th>\n",
       "      <th>Healthcare Practitioners and Technical</th>\n",
       "      <th>Healthcare Support</th>\n",
       "      <th>Installation, Maintenance, and Repair</th>\n",
       "      <th>Legal</th>\n",
       "      <th>Life, Physical, and Social Science</th>\n",
       "      <th>Management</th>\n",
       "      <th>Office and Administrative Support</th>\n",
       "      <th>Personal Care and Service</th>\n",
       "      <th>Production</th>\n",
       "      <th>Sales and Related</th>\n",
       "      <th>Transportation and Material Moving</th>\n",
       "      <th>AGENT_REP_Y</th>\n",
       "      <th>H1B_DEP_Y</th>\n",
       "      <th>LABOR_CON_AGREE_Y</th>\n",
       "      <th>SUPPORT_H1B_Y</th>\n",
       "    </tr>\n",
       "  </thead>\n",
       "  <tbody>\n",
       "    <tr>\n",
       "      <th>13557</th>\n",
       "      <td>1</td>\n",
       "      <td>1</td>\n",
       "      <td>0</td>\n",
       "      <td>0</td>\n",
       "      <td>0</td>\n",
       "      <td>59779.000000</td>\n",
       "      <td>59779.000000</td>\n",
       "      <td>62000.000000</td>\n",
       "      <td>62000.000000</td>\n",
       "      <td>7</td>\n",
       "      <td>1</td>\n",
       "      <td>0</td>\n",
       "      <td>0</td>\n",
       "      <td>0</td>\n",
       "      <td>0</td>\n",
       "      <td>0</td>\n",
       "      <td>1</td>\n",
       "      <td>0</td>\n",
       "      <td>0</td>\n",
       "      <td>0</td>\n",
       "      <td>0</td>\n",
       "      <td>0</td>\n",
       "      <td>0</td>\n",
       "      <td>0</td>\n",
       "      <td>0</td>\n",
       "      <td>0</td>\n",
       "      <td>0</td>\n",
       "      <td>0</td>\n",
       "      <td>0</td>\n",
       "      <td>0</td>\n",
       "      <td>0</td>\n",
       "      <td>0</td>\n",
       "      <td>1</td>\n",
       "      <td>1</td>\n",
       "      <td>1</td>\n",
       "    </tr>\n",
       "    <tr>\n",
       "      <th>48909</th>\n",
       "      <td>1</td>\n",
       "      <td>0</td>\n",
       "      <td>0</td>\n",
       "      <td>0</td>\n",
       "      <td>0</td>\n",
       "      <td>50558.557343</td>\n",
       "      <td>50558.557343</td>\n",
       "      <td>50558.557343</td>\n",
       "      <td>50558.557343</td>\n",
       "      <td>2</td>\n",
       "      <td>0</td>\n",
       "      <td>0</td>\n",
       "      <td>0</td>\n",
       "      <td>0</td>\n",
       "      <td>0</td>\n",
       "      <td>0</td>\n",
       "      <td>1</td>\n",
       "      <td>0</td>\n",
       "      <td>0</td>\n",
       "      <td>0</td>\n",
       "      <td>0</td>\n",
       "      <td>0</td>\n",
       "      <td>0</td>\n",
       "      <td>0</td>\n",
       "      <td>0</td>\n",
       "      <td>0</td>\n",
       "      <td>0</td>\n",
       "      <td>0</td>\n",
       "      <td>0</td>\n",
       "      <td>0</td>\n",
       "      <td>0</td>\n",
       "      <td>0</td>\n",
       "      <td>0</td>\n",
       "      <td>1</td>\n",
       "      <td>0</td>\n",
       "    </tr>\n",
       "    <tr>\n",
       "      <th>6331</th>\n",
       "      <td>1</td>\n",
       "      <td>1</td>\n",
       "      <td>0</td>\n",
       "      <td>0</td>\n",
       "      <td>0</td>\n",
       "      <td>64522.000000</td>\n",
       "      <td>64522.000000</td>\n",
       "      <td>64522.000000</td>\n",
       "      <td>64522.000000</td>\n",
       "      <td>6</td>\n",
       "      <td>1</td>\n",
       "      <td>0</td>\n",
       "      <td>0</td>\n",
       "      <td>0</td>\n",
       "      <td>0</td>\n",
       "      <td>0</td>\n",
       "      <td>1</td>\n",
       "      <td>0</td>\n",
       "      <td>0</td>\n",
       "      <td>0</td>\n",
       "      <td>0</td>\n",
       "      <td>0</td>\n",
       "      <td>0</td>\n",
       "      <td>0</td>\n",
       "      <td>0</td>\n",
       "      <td>0</td>\n",
       "      <td>0</td>\n",
       "      <td>0</td>\n",
       "      <td>0</td>\n",
       "      <td>0</td>\n",
       "      <td>0</td>\n",
       "      <td>0</td>\n",
       "      <td>1</td>\n",
       "      <td>1</td>\n",
       "      <td>1</td>\n",
       "    </tr>\n",
       "    <tr>\n",
       "      <th>47694</th>\n",
       "      <td>1</td>\n",
       "      <td>0</td>\n",
       "      <td>0</td>\n",
       "      <td>0</td>\n",
       "      <td>0</td>\n",
       "      <td>69292.293901</td>\n",
       "      <td>69292.293901</td>\n",
       "      <td>69495.216763</td>\n",
       "      <td>69495.216763</td>\n",
       "      <td>3</td>\n",
       "      <td>0</td>\n",
       "      <td>0</td>\n",
       "      <td>0</td>\n",
       "      <td>0</td>\n",
       "      <td>0</td>\n",
       "      <td>0</td>\n",
       "      <td>1</td>\n",
       "      <td>0</td>\n",
       "      <td>0</td>\n",
       "      <td>0</td>\n",
       "      <td>0</td>\n",
       "      <td>0</td>\n",
       "      <td>0</td>\n",
       "      <td>0</td>\n",
       "      <td>0</td>\n",
       "      <td>0</td>\n",
       "      <td>0</td>\n",
       "      <td>0</td>\n",
       "      <td>0</td>\n",
       "      <td>0</td>\n",
       "      <td>0</td>\n",
       "      <td>0</td>\n",
       "      <td>1</td>\n",
       "      <td>1</td>\n",
       "      <td>1</td>\n",
       "    </tr>\n",
       "    <tr>\n",
       "      <th>90</th>\n",
       "      <td>1</td>\n",
       "      <td>1</td>\n",
       "      <td>0</td>\n",
       "      <td>0</td>\n",
       "      <td>0</td>\n",
       "      <td>52312.000000</td>\n",
       "      <td>52312.000000</td>\n",
       "      <td>54000.000000</td>\n",
       "      <td>54000.000000</td>\n",
       "      <td>6</td>\n",
       "      <td>1</td>\n",
       "      <td>0</td>\n",
       "      <td>0</td>\n",
       "      <td>0</td>\n",
       "      <td>0</td>\n",
       "      <td>0</td>\n",
       "      <td>1</td>\n",
       "      <td>0</td>\n",
       "      <td>0</td>\n",
       "      <td>0</td>\n",
       "      <td>0</td>\n",
       "      <td>0</td>\n",
       "      <td>0</td>\n",
       "      <td>0</td>\n",
       "      <td>0</td>\n",
       "      <td>0</td>\n",
       "      <td>0</td>\n",
       "      <td>0</td>\n",
       "      <td>0</td>\n",
       "      <td>0</td>\n",
       "      <td>0</td>\n",
       "      <td>1</td>\n",
       "      <td>1</td>\n",
       "      <td>1</td>\n",
       "      <td>0</td>\n",
       "    </tr>\n",
       "  </tbody>\n",
       "</table>\n",
       "</div>"
      ],
      "text/plain": [
       "       TOTAL_WORKERS  NEW_EMPLOYMENT  CONTINUED_EMPLOYMENT  \\\n",
       "13557              1               1                     0   \n",
       "48909              1               0                     0   \n",
       "6331               1               1                     0   \n",
       "47694              1               0                     0   \n",
       "90                 1               1                     0   \n",
       "\n",
       "       CHANGE_PREVIOUS_EMPLOYMENT  NEW_CONCURRENT_EMPLOYMENT  \\\n",
       "13557                           0                          0   \n",
       "48909                           0                          0   \n",
       "6331                            0                          0   \n",
       "47694                           0                          0   \n",
       "90                              0                          0   \n",
       "\n",
       "       ANNUALIZED_PREVAILING_WAGE  PREVAILING_WAGE  \\\n",
       "13557                59779.000000     59779.000000   \n",
       "48909                50558.557343     50558.557343   \n",
       "6331                 64522.000000     64522.000000   \n",
       "47694                69292.293901     69292.293901   \n",
       "90                   52312.000000     52312.000000   \n",
       "\n",
       "       ANNUALIZED_WAGE_RATE_OF_PAY  WAGE_RATE_OF_PAY  DAYS_PROCESS  \\\n",
       "13557                 62000.000000      62000.000000             7   \n",
       "48909                 50558.557343      50558.557343             2   \n",
       "6331                  64522.000000      64522.000000             6   \n",
       "47694                 69495.216763      69495.216763             3   \n",
       "90                    54000.000000      54000.000000             6   \n",
       "\n",
       "       CASE_STATUS_CODE  WILL_VIOL_Y  \\\n",
       "13557                 1            0   \n",
       "48909                 0            0   \n",
       "6331                  1            0   \n",
       "47694                 0            0   \n",
       "90                    1            0   \n",
       "\n",
       "       Arts, Design, Entertainment, Sports, and Media  \\\n",
       "13557                                               0   \n",
       "48909                                               0   \n",
       "6331                                                0   \n",
       "47694                                               0   \n",
       "90                                                  0   \n",
       "\n",
       "       Building and Grounds Cleaning and Maintenance  \\\n",
       "13557                                              0   \n",
       "48909                                              0   \n",
       "6331                                               0   \n",
       "47694                                              0   \n",
       "90                                                 0   \n",
       "\n",
       "       Business and Financial Operations  Community and Social Service  \\\n",
       "13557                                  0                             0   \n",
       "48909                                  0                             0   \n",
       "6331                                   0                             0   \n",
       "47694                                  0                             0   \n",
       "90                                     0                             0   \n",
       "\n",
       "       Computer and Mathematical  Construction and Extraction  \\\n",
       "13557                          1                            0   \n",
       "48909                          1                            0   \n",
       "6331                           1                            0   \n",
       "47694                          1                            0   \n",
       "90                             1                            0   \n",
       "\n",
       "       Education, Training, and Library  Food Preparation and Serving Related  \\\n",
       "13557                                 0                                     0   \n",
       "48909                                 0                                     0   \n",
       "6331                                  0                                     0   \n",
       "47694                                 0                                     0   \n",
       "90                                    0                                     0   \n",
       "\n",
       "       Healthcare Practitioners and Technical  Healthcare Support  \\\n",
       "13557                                       0                   0   \n",
       "48909                                       0                   0   \n",
       "6331                                        0                   0   \n",
       "47694                                       0                   0   \n",
       "90                                          0                   0   \n",
       "\n",
       "       Installation, Maintenance, and Repair  Legal  \\\n",
       "13557                                      0      0   \n",
       "48909                                      0      0   \n",
       "6331                                       0      0   \n",
       "47694                                      0      0   \n",
       "90                                         0      0   \n",
       "\n",
       "       Life, Physical, and Social Science  Management  \\\n",
       "13557                                   0           0   \n",
       "48909                                   0           0   \n",
       "6331                                    0           0   \n",
       "47694                                   0           0   \n",
       "90                                      0           0   \n",
       "\n",
       "       Office and Administrative Support  Personal Care and Service  \\\n",
       "13557                                  0                          0   \n",
       "48909                                  0                          0   \n",
       "6331                                   0                          0   \n",
       "47694                                  0                          0   \n",
       "90                                     0                          0   \n",
       "\n",
       "       Production  Sales and Related  Transportation and Material Moving  \\\n",
       "13557           0                  0                                   0   \n",
       "48909           0                  0                                   0   \n",
       "6331            0                  0                                   0   \n",
       "47694           0                  0                                   0   \n",
       "90              0                  0                                   0   \n",
       "\n",
       "       AGENT_REP_Y  H1B_DEP_Y  LABOR_CON_AGREE_Y  SUPPORT_H1B_Y  \n",
       "13557            0          1                  1              1  \n",
       "48909            0          0                  1              0  \n",
       "6331             0          1                  1              1  \n",
       "47694            0          1                  1              1  \n",
       "90               1          1                  1              0  "
      ]
     },
     "execution_count": 24,
     "metadata": {},
     "output_type": "execute_result"
    }
   ],
   "source": [
    "df4 = df4.sample(frac = 1) \n",
    "df4.head(5)"
   ]
  },
  {
   "cell_type": "code",
   "execution_count": 25,
   "metadata": {},
   "outputs": [
    {
     "data": {
      "text/plain": [
       "<AxesSubplot:title={'center':'count (target)'}>"
      ]
     },
     "execution_count": 25,
     "metadata": {},
     "output_type": "execute_result"
    },
    {
     "data": {
      "image/png": "[encoded data removed]",
      "text/plain": [
       "<Figure size 432x288 with 1 Axes>"
      ]
     },
     "metadata": {
      "needs_background": "light"
     },
     "output_type": "display_data"
    }
   ],
   "source": [
    "df4['CASE_STATUS_CODE'].value_counts().plot(kind='bar', title='count (target)')"
   ]
  },
  {
   "cell_type": "code",
   "execution_count": 26,
   "metadata": {},
   "outputs": [],
   "source": [
    "from sklearn import svm"
   ]
  },
  {
   "cell_type": "markdown",
   "metadata": {},
   "source": [
    "### Test/Train Split for SVM \n",
    "The scikit learn SVC model classifier needs a smaller data set to function, due to the requirements of this lab and the capabilities of the scikitlearn model another test train split set has been created this will allow the support vectors to be accessed at the end of the lab."
   ]
  },
  {
   "cell_type": "code",
   "execution_count": 27,
   "metadata": {},
   "outputs": [
    {
     "name": "stdout",
     "output_type": "stream",
     "text": [
      "(11420, 34)\n",
      "(11420,)\n"
     ]
    }
   ],
   "source": [
    "# Reduced data set preprocessing for SVC\n",
    "# divide data set to x and y and Scale data\n",
    "#from sklearn import preprocessing\n",
    "\n",
    "y = df4['CASE_STATUS_CODE']\n",
    "x = df4.drop(['CASE_STATUS_CODE'], axis=1)\n",
    "#x = preprocessing.scale(x) \n",
    "\n",
    "a = df4['CASE_STATUS_CODE'].values\n",
    "bb = df4.drop(['CASE_STATUS_CODE'], axis=1)\n",
    "b = bb.values\n",
    "#b = preprocessing.scale(b) \n",
    "\n",
    "x_t = x[:2284]\n",
    "y_t = y[:2284]\n",
    "\n",
    "print(x.shape)\n",
    "print(y.shape)"
   ]
  },
  {
   "cell_type": "code",
   "execution_count": 28,
   "metadata": {},
   "outputs": [
    {
     "name": "stdout",
     "output_type": "stream",
     "text": [
      "(9136,)\n",
      "(2284, 34)\n"
     ]
    }
   ],
   "source": [
    "x_train,x_test,y_train,y_test = train_test_split(x,y,test_size=0.2, random_state=0)\n",
    "print(y_train.shape)\n",
    "print(x_test.shape)"
   ]
  },
  {
   "cell_type": "code",
   "execution_count": 29,
   "metadata": {},
   "outputs": [
    {
     "name": "stdout",
     "output_type": "stream",
     "text": [
      "Fitting 5 folds for each of 3 candidates, totalling 15 fits\n",
      "BEST PARAMS: {'C': 100, 'kernel': 'rbf'}\n",
      "\n",
      "0.808 (+/-0.015) for {'C': 1, 'kernel': 'rbf'}\n",
      "0.808 (+/-0.016) for {'C': 10, 'kernel': 'rbf'}\n",
      "0.809 (+/-0.014) for {'C': 100, 'kernel': 'rbf'}\n"
     ]
    }
   ],
   "source": [
    "# Grid search\n",
    "svc = GridSearchCV(svm.SVC(gamma='auto',random_state=89),{\n",
    "            'C':[1,10,100],\n",
    "                'kernel':['rbf']}, cv=5, verbose=1,)\n",
    "\n",
    "sv_gs = svc.fit(x_train, y_train)\n",
    "print_results(sv_gs)"
   ]
  },
  {
   "cell_type": "code",
   "execution_count": 30,
   "metadata": {},
   "outputs": [
    {
     "data": {
      "text/plain": [
       "Pipeline(steps=[('scale', StandardScaler()),\n",
       "                ('sv', SVC(C=10, random_state=89))])"
      ]
     },
     "execution_count": 30,
     "metadata": {},
     "output_type": "execute_result"
    }
   ],
   "source": [
    "# Create pipeline\n",
    "pipesv = Pipeline([\n",
    "        ('scale', StandardScaler()),\n",
    "        ('sv', svm.SVC(C=10,kernel= 'rbf',random_state=89))])\n",
    "pipesv.fit(x_train,y_train)"
   ]
  },
  {
   "cell_type": "code",
   "execution_count": 31,
   "metadata": {},
   "outputs": [
    {
     "name": "stdout",
     "output_type": "stream",
     "text": [
      "====Iteration 0  ====\n",
      "accuracy 0.8957968476357268\n",
      "precision 0.8667776852622814\n",
      "recall 0.9302949061662198\n",
      "f1-score 0.8974137931034482\n",
      "confusion matrix\n",
      " [[1005  160]\n",
      " [  78 1041]]\n",
      "====Iteration 1  ====\n",
      "accuracy 0.8830998248686515\n",
      "precision 0.8609053497942387\n",
      "recall 0.9143356643356644\n",
      "f1-score 0.8868164476473082\n",
      "confusion matrix\n",
      " [[ 971  169]\n",
      " [  98 1046]]\n",
      "====Iteration 2  ====\n",
      "accuracy 0.8962346760070052\n",
      "precision 0.8647746243739566\n",
      "recall 0.9324932493249325\n",
      "f1-score 0.8973581637072325\n",
      "confusion matrix\n",
      " [[1011  162]\n",
      " [  75 1036]]\n",
      "====Iteration 3  ====\n",
      "accuracy 0.876970227670753\n",
      "precision 0.8528455284552846\n",
      "recall 0.9129677980852916\n",
      "f1-score 0.8818831441782261\n",
      "confusion matrix\n",
      " [[ 954  181]\n",
      " [ 100 1049]]\n",
      "====Iteration 4  ====\n",
      "accuracy 0.8835376532399299\n",
      "precision 0.8625514403292182\n",
      "recall 0.9136878814298169\n",
      "f1-score 0.8873835732430144\n",
      "confusion matrix\n",
      " [[ 970  167]\n",
      " [  99 1048]]\n",
      "====Iteration 5  ====\n",
      "accuracy 0.8809106830122592\n",
      "precision 0.8553259141494436\n",
      "recall 0.9228130360205832\n",
      "f1-score 0.8877887788778878\n",
      "confusion matrix\n",
      " [[ 936  182]\n",
      " [  90 1076]]\n",
      "====Iteration 6  ====\n",
      "accuracy 0.8887915936952715\n",
      "precision 0.8513289036544851\n",
      "recall 0.9318181818181818\n",
      "f1-score 0.8897569444444444\n",
      "confusion matrix\n",
      " [[1005  179]\n",
      " [  75 1025]]\n",
      "====Iteration 7  ====\n",
      "accuracy 0.8927320490367776\n",
      "precision 0.8631147540983607\n",
      "recall 0.9310344827586207\n",
      "f1-score 0.8957890259464057\n",
      "confusion matrix\n",
      " [[ 986  167]\n",
      " [  78 1053]]\n",
      "====Iteration 8  ====\n",
      "accuracy 0.887478108581436\n",
      "precision 0.8621821164889254\n",
      "recall 0.9219298245614035\n",
      "f1-score 0.8910555320050869\n",
      "confusion matrix\n",
      " [[ 976  168]\n",
      " [  89 1051]]\n",
      "====Iteration 9  ====\n",
      "accuracy 0.8809106830122592\n",
      "precision 0.853448275862069\n",
      "recall 0.9275979557069847\n",
      "f1-score 0.8889795918367347\n",
      "confusion matrix\n",
      " [[ 923  187]\n",
      " [  85 1089]]\n"
     ]
    }
   ],
   "source": [
    "iter_num=0\n",
    "ave_accuracy = []\n",
    "ave_precision = []\n",
    "ave_recall = []\n",
    "ave_f1_score=[]\n",
    "ave_matrix=[]\n",
    "\n",
    "for iter_num, (train_indices, test_indices) in enumerate(cv_object.split(b,a)):\n",
    "    pipesv.fit(b[train_indices],a[train_indices])  # train object\n",
    "    y_hat = pipesv.predict(b[test_indices])\n",
    "    ave_accuracy.append(mt.accuracy_score(a[test_indices],y_hat))\n",
    "    ave_precision.append(mt.precision_score(a[test_indices],y_hat))\n",
    "    ave_recall.append(mt.recall_score(a[test_indices],y_hat))\n",
    "    ave_f1_score.append(mt.f1_score(a[test_indices],y_hat))\n",
    "    ave_matrix.append(mt.confusion_matrix(a[test_indices],y_hat))\n",
    "    \n",
    "    print(\"====Iteration\",iter_num,\" ====\")\n",
    "    print(\"accuracy\", mt.accuracy_score(a[test_indices],y_hat)) \n",
    "    print(\"precision\", mt.precision_score(a[test_indices],y_hat)) \n",
    "    print(\"recall\", mt.recall_score(a[test_indices],y_hat)) \n",
    "    print(\"f1-score\", mt.f1_score(a[test_indices],y_hat))\n",
    "    print(\"confusion matrix\\n\",mt.confusion_matrix(a[test_indices],y_hat))\n",
    "#    print(classification_report(a[test_indices],y_hat))"
   ]
  },
  {
   "cell_type": "code",
   "execution_count": 32,
   "metadata": {},
   "outputs": [
    {
     "name": "stdout",
     "output_type": "stream",
     "text": [
      "SVM averaged results\n",
      "average accuracy 0.886646234676007\n",
      "average precision 0.8593254592468265\n",
      "average recall 0.9238972980207698\n",
      "average f1_score 0.8904224994989789\n",
      "confusion matrix\n",
      " [[ 973.7  172.2]\n",
      " [  86.7 1051.4]]\n"
     ]
    }
   ],
   "source": [
    "fin_accuracy = sum(ave_accuracy)/len(ave_accuracy)\n",
    "fin_precision = sum(ave_precision)/len(ave_precision)\n",
    "fin_recall = sum(ave_recall)/len(ave_recall)\n",
    "fin_f1_score = sum(ave_f1_score)/len(ave_accuracy)\n",
    "fin_confusion_mat = sum(ave_matrix)/len(ave_matrix)\n",
    "\n",
    "print('SVM averaged results')\n",
    "print(\"average accuracy\",fin_accuracy)\n",
    "print(\"average precision\",fin_precision)\n",
    "print(\"average recall\",fin_recall)\n",
    "print(\"average f1_score\",fin_f1_score)\n",
    "print(\"confusion matrix\\n\",fin_confusion_mat)"
   ]
  },
  {
   "cell_type": "code",
   "execution_count": 33,
   "metadata": {},
   "outputs": [],
   "source": [
    "scaler = StandardScaler()\n",
    "for train_indices, test_indices in cv_object.split(b,a):\n",
    "    X_train = b[train_indices]\n",
    "    y_train = a[train_indices]\n",
    "    \n",
    "    X_test = b[test_indices]\n",
    "    y_test = a[test_indices]\n",
    "    \n",
    "X_train_scaled = scaler.fit_transform(X_train) # apply to training\n",
    "X_test_scaled = scaler.fit_transform(X_test)"
   ]
  },
  {
   "attachments": {
    "a.png": {
     "image/png": "[encoded data removed]"
    },
    "b.png": {
     "image/png": "[encoded data removed]"
    }
   },
   "cell_type": "markdown",
   "metadata": {},
   "source": [
    "#### Assess how well each model performs\n",
    "Logistic Regression, (run on the full dataset) had an overall accuracy of 83.6% on the best iteration.   SVM (run on a subset of the data) had an overall accuracy of 88.6% on the best iteration.  The other effectivenss measures are shown below.\n",
    "\n",
    "Since SVM was run on a subset of the data we cannot come to the conclusion that it was a more effective model vs. Logistic Regression.\n",
    "\n",
    "Based on the fact that we were able to use Logistic Regression on the full dataset, our preference is to use that model for the data.  \n",
    "\n",
    "Logistic Regression Model Effectiveness Measures\n",
    "![a.png](attachment:a.png)\n",
    "Support Vector Machines Effectiveness Measures\n",
    "![b.png](attachment:b.png)"
   ]
  },
  {
   "cell_type": "markdown",
   "metadata": {},
   "source": [
    "### SECTION 2 - Model Advantages\n",
    "\n",
    "As stated above, Logistic Regression had an overall accuracy of 83.6% and SVM had an overall accuracy of 88.6%.\n",
    "\n",
    "We were not able to run SVM on the full dataset.  Since the performance measures are based on a subset of the data we cannot come to the conclusion that it was a more effective model vs. Logistic Regression.\n",
    "\n",
    "Logistic regression is preferred in cases of a binary outcome (T/F, Y/N) and the objective is to determine if a new sample fits best into a category as it is simpler and more efficient.  Examples of problems where logistic regression is applied include cancer detection (yes/no), test scores (pass/fail), marketing (customer will purchase or not).  \n",
    "\n",
    "SVM is preferred for unstructured and semi-strutured data like text and images.  It is best when there is an understandable margin of dissociation between classes and is more efficient in high dimensional spaces or when the number of dimensions is larger than the number of specimans.\n",
    "\n",
    "Based on the fact that we were able to use Logistic Regression on the full dataset, our preference is to use that model for the data.  The model was quick to run and we could interprate the results. We could not do this with the SVM Model. The logistic regression model not only provided a measure of how appropriate a feature was, but also provided the diretion of association so we could interpret the feature importance to the model.  \n",
    "\n",
    "The downside in using Logistic Regression as opposed to SVM is that Logistic Regression is vulnerable to overfitting because it constructs linear boundaries, so that needs to be taken into account.  Since SVM tries to find the best margin, this reduces that risk.  However, we applied Lasso Regularization to avoid overfitting, so this is not enough of a reason to sway our decision on model appropriateness.  Finally, as we discovered, SVM algorithms are not acceptable for large data sets."
   ]
  },
  {
   "cell_type": "markdown",
   "metadata": {},
   "source": [
    "### SECTION 3 Logistic Regression Weight Interpretation"
   ]
  },
  {
   "cell_type": "code",
   "execution_count": 34,
   "metadata": {
    "scrolled": true
   },
   "outputs": [],
   "source": [
    "# predictions for logistic regression\n",
    "pd.set_option('display.max_rows', None)\n",
    "\n",
    "lg = LogisticRegression(penalty='l2',solver='sag', random_state=0,C=0.1)\n",
    "lg.fit(X_train_scaled, y_train)\n",
    "\n",
    "y_pred = lg.predict(X_test)\n",
    "coef = lg.coef_\n",
    "\n",
    "coefs = []\n",
    "for i in coef[0]:\n",
    "    coefs.append(round(i,6))"
   ]
  },
  {
   "cell_type": "code",
   "execution_count": 35,
   "metadata": {},
   "outputs": [],
   "source": [
    "coef = [i for i in coefs]\n",
    "coef_abs = [abs(i) for i in coefs]\n",
    "odds = [math.exp(i) for i in coef ]\n",
    "scale = scaler.scale_\n",
    "zip_vars = zip(coef,coef_abs,odds,scale,bb.columns) # combine attributes\n",
    "zip_vars = sorted(zip_vars)"
   ]
  },
  {
   "cell_type": "code",
   "execution_count": 36,
   "metadata": {},
   "outputs": [],
   "source": [
    "df_weights = pd.DataFrame(zip_vars, columns = ['coef','coef_abs','odds','std_dev','feature_names' ])"
   ]
  },
  {
   "cell_type": "code",
   "execution_count": 37,
   "metadata": {},
   "outputs": [
    {
     "data": {
      "text/html": [
       "<div>\n",
       "<style scoped>\n",
       "    .dataframe tbody tr th:only-of-type {\n",
       "        vertical-align: middle;\n",
       "    }\n",
       "\n",
       "    .dataframe tbody tr th {\n",
       "        vertical-align: top;\n",
       "    }\n",
       "\n",
       "    .dataframe thead th {\n",
       "        text-align: right;\n",
       "    }\n",
       "</style>\n",
       "<table border=\"1\" class=\"dataframe\">\n",
       "  <thead>\n",
       "    <tr style=\"text-align: right;\">\n",
       "      <th></th>\n",
       "      <th>coef</th>\n",
       "      <th>coef_abs</th>\n",
       "      <th>odds</th>\n",
       "      <th>std_dev</th>\n",
       "      <th>feature_names</th>\n",
       "    </tr>\n",
       "  </thead>\n",
       "  <tbody>\n",
       "    <tr>\n",
       "      <th>0</th>\n",
       "      <td>-0.716242</td>\n",
       "      <td>0.716242</td>\n",
       "      <td>0.488585</td>\n",
       "      <td>2.069909</td>\n",
       "      <td>TOTAL_WORKERS</td>\n",
       "    </tr>\n",
       "    <tr>\n",
       "      <th>1</th>\n",
       "      <td>-0.634919</td>\n",
       "      <td>0.634919</td>\n",
       "      <td>0.529978</td>\n",
       "      <td>0.141966</td>\n",
       "      <td>Community and Social Service</td>\n",
       "    </tr>\n",
       "    <tr>\n",
       "      <th>2</th>\n",
       "      <td>-0.522674</td>\n",
       "      <td>0.522674</td>\n",
       "      <td>0.592933</td>\n",
       "      <td>0.093166</td>\n",
       "      <td>Food Preparation and Serving Related</td>\n",
       "    </tr>\n",
       "    <tr>\n",
       "      <th>3</th>\n",
       "      <td>-0.428836</td>\n",
       "      <td>0.428836</td>\n",
       "      <td>0.651267</td>\n",
       "      <td>0.093166</td>\n",
       "      <td>Building and Grounds Cleaning and Maintenance</td>\n",
       "    </tr>\n",
       "    <tr>\n",
       "      <th>4</th>\n",
       "      <td>-0.388581</td>\n",
       "      <td>0.388581</td>\n",
       "      <td>0.678018</td>\n",
       "      <td>0.106085</td>\n",
       "      <td>Construction and Extraction</td>\n",
       "    </tr>\n",
       "    <tr>\n",
       "      <th>5</th>\n",
       "      <td>-0.384686</td>\n",
       "      <td>0.384686</td>\n",
       "      <td>0.680664</td>\n",
       "      <td>0.062649</td>\n",
       "      <td>Healthcare Support</td>\n",
       "    </tr>\n",
       "    <tr>\n",
       "      <th>6</th>\n",
       "      <td>-0.374541</td>\n",
       "      <td>0.374541</td>\n",
       "      <td>0.687605</td>\n",
       "      <td>0.066024</td>\n",
       "      <td>Legal</td>\n",
       "    </tr>\n",
       "    <tr>\n",
       "      <th>28</th>\n",
       "      <td>0.329671</td>\n",
       "      <td>0.329671</td>\n",
       "      <td>1.390511</td>\n",
       "      <td>0.346186</td>\n",
       "      <td>SUPPORT_H1B_Y</td>\n",
       "    </tr>\n",
       "    <tr>\n",
       "      <th>29</th>\n",
       "      <td>0.425181</td>\n",
       "      <td>0.425181</td>\n",
       "      <td>1.529867</td>\n",
       "      <td>1.207763</td>\n",
       "      <td>NEW_EMPLOYMENT</td>\n",
       "    </tr>\n",
       "    <tr>\n",
       "      <th>30</th>\n",
       "      <td>0.472741</td>\n",
       "      <td>0.472741</td>\n",
       "      <td>1.604386</td>\n",
       "      <td>0.421411</td>\n",
       "      <td>CONTINUED_EMPLOYMENT</td>\n",
       "    </tr>\n",
       "    <tr>\n",
       "      <th>31</th>\n",
       "      <td>0.617701</td>\n",
       "      <td>0.617701</td>\n",
       "      <td>1.854659</td>\n",
       "      <td>0.436494</td>\n",
       "      <td>AGENT_REP_Y</td>\n",
       "    </tr>\n",
       "    <tr>\n",
       "      <th>32</th>\n",
       "      <td>0.709338</td>\n",
       "      <td>0.709338</td>\n",
       "      <td>2.032645</td>\n",
       "      <td>0.366833</td>\n",
       "      <td>H1B_DEP_Y</td>\n",
       "    </tr>\n",
       "    <tr>\n",
       "      <th>33</th>\n",
       "      <td>1.927758</td>\n",
       "      <td>1.927758</td>\n",
       "      <td>6.874081</td>\n",
       "      <td>1.673834</td>\n",
       "      <td>DAYS_PROCESS</td>\n",
       "    </tr>\n",
       "  </tbody>\n",
       "</table>\n",
       "</div>"
      ],
      "text/plain": [
       "        coef  coef_abs      odds   std_dev  \\\n",
       "0  -0.716242  0.716242  0.488585  2.069909   \n",
       "1  -0.634919  0.634919  0.529978  0.141966   \n",
       "2  -0.522674  0.522674  0.592933  0.093166   \n",
       "3  -0.428836  0.428836  0.651267  0.093166   \n",
       "4  -0.388581  0.388581  0.678018  0.106085   \n",
       "5  -0.384686  0.384686  0.680664  0.062649   \n",
       "6  -0.374541  0.374541  0.687605  0.066024   \n",
       "28  0.329671  0.329671  1.390511  0.346186   \n",
       "29  0.425181  0.425181  1.529867  1.207763   \n",
       "30  0.472741  0.472741  1.604386  0.421411   \n",
       "31  0.617701  0.617701  1.854659  0.436494   \n",
       "32  0.709338  0.709338  2.032645  0.366833   \n",
       "33  1.927758  1.927758  6.874081  1.673834   \n",
       "\n",
       "                                    feature_names  \n",
       "0                                   TOTAL_WORKERS  \n",
       "1                    Community and Social Service  \n",
       "2            Food Preparation and Serving Related  \n",
       "3   Building and Grounds Cleaning and Maintenance  \n",
       "4                     Construction and Extraction  \n",
       "5                              Healthcare Support  \n",
       "6                                           Legal  \n",
       "28                                  SUPPORT_H1B_Y  \n",
       "29                                 NEW_EMPLOYMENT  \n",
       "30                           CONTINUED_EMPLOYMENT  \n",
       "31                                    AGENT_REP_Y  \n",
       "32                                      H1B_DEP_Y  \n",
       "33                                   DAYS_PROCESS  "
      ]
     },
     "execution_count": 37,
     "metadata": {},
     "output_type": "execute_result"
    }
   ],
   "source": [
    "# features with highest weights\n",
    "df_coef = df_weights[df_weights['coef_abs'] > 0.3]\n",
    "df_coef"
   ]
  },
  {
   "cell_type": "code",
   "execution_count": 38,
   "metadata": {},
   "outputs": [
    {
     "data": {
      "image/png": "[encoded data removed]",
      "text/plain": [
       "<Figure size 432x288 with 1 Axes>"
      ]
     },
     "metadata": {},
     "output_type": "display_data"
    }
   ],
   "source": [
    "from matplotlib import pyplot as plt\n",
    "%matplotlib inline\n",
    "plt.style.use('ggplot')\n",
    "\n",
    "\n",
    "ax = df_coef.plot.bar(y='coef', x = 'feature_names')\n",
    "plt.show()"
   ]
  },
  {
   "attachments": {
    "image.png": {
     "image/png": "[encoded data removed]"
    }
   },
   "cell_type": "markdown",
   "metadata": {},
   "source": [
    "Interpretation of results\n",
    "\n",
    "The dependent variable of logistic regression is binary and the “log-odds” of the dependent variable’s probability is modeled by a linear combination of independent variables:\n",
    "![image.png](attachment:image.png)\n",
    "The logit function is defined as the logged odds of probability p:"
   ]
  },
  {
   "attachments": {
    "c.png": {
     "image/png": "[encoded data removed]"
    }
   },
   "cell_type": "markdown",
   "metadata": {},
   "source": [
    "![c.png](attachment:c.png)\n",
    "The odds of an event is the probability of it happens over the probability of it doesn’t happen.<br>\n",
    "The above variables show the features with the highest weights (coefficients), our target variables are certified = 1, denied=0, our model has been validated using cross-validation to check for overfitting.<br>"
   ]
  },
  {
   "attachments": {
    "e.png": {
     "image/png": "[encoded data removed]"
    }
   },
   "cell_type": "markdown",
   "metadata": {},
   "source": [
    "### Binary Variables\n",
    "When running the model, the attributes were scaled to have the same dynamic range and are comparable.  For a binary outcome there is an assumption of a linear relationship and we can mathematically describe the influence of each variable on the likelihood of an application being certified with odds ratios by taking the exponent.\n",
    "\n",
    "Based on magnitude of the coefficient one of the largest  binary coefficient is the SOC_GROUP categorical variable of community and social service which tells us if the person being applied for was for this feild of work. It has a coefficient of -0.6349 which means providing all the other metrics are the same, and flipping the SOC_GROUP from Community and Social Service to NOT Community and Social Service, the log-odds of getting certified will decrease by 0.6349.\n",
    "![e.png](attachment:e.png)"
   ]
  },
  {
   "attachments": {
    "f.png": {
     "image/png": "[encoded data removed]"
    }
   },
   "cell_type": "markdown",
   "metadata": {},
   "source": [
    "To convert log-odds to odds, we want to take the exponential on both sides of equation which results in the ratio of the odds being 0.5299.\n",
    "![f.png](attachment:f.png)\n",
    "the coefficient of the SOC_GROUP categorical variable community and social service being -0.6349 can be interpreted as the odds of application for an employee in the feild community and social service getting certified over the odds of an applicant that is not in that feild is 0.5299 with all the other variables fixed. In terms of percentage change, the odds community and social service getting certified are 47% lower than the odds for applicant that is not in that feild to get certified this tells us that if if a company wants to appply for such a candidate they may less likely get their candidate certified.\n",
    "\n",
    "H1B_Dep_Y (0.7093 / 39.05% change in odds of being certified over the campany not being H1B_Dep) also has a larger impact on a negative certification result. This feature denotes that this is an employer who hires ‘too many’ H1B workers. An H1B dependent employer is subject to additional attestation and paperwork requirements when filing for an H1B in an effort to protect U.S. workers. (https://www.visapro.com/resources/article/h1b-dependent-employer/)\n",
    "\n",
    "Agent_Rep_Y (0.617701 / 85.47% change in odds of being certified over not having legal representation) Meaning that applications that had legal involvement would have improved chances of being certified.\n",
    "\n",
    "New_Employment This suggests that it is easier to get an application certified if it isa new application vs. an extension under recertification.\n",
    "\n",
    "From an Occupation Group perspective, those with the most negative impact were Food Preparation/Serving Related, Community/Social Services, Construction and Extraction, & Building Grounds & Construction. This is also reasonable as one of the criteria for certification are specialized occupations."
   ]
  },
  {
   "cell_type": "markdown",
   "metadata": {},
   "source": [
    "### Continuous variables (Standardised)"
   ]
  },
  {
   "cell_type": "markdown",
   "metadata": {},
   "source": [
    "One common pre-processing step when performing logistic regression is to scale the independent variables to the same level (zero mean and unit variance). The motivation of this type of scaling, named standardization, is to make the feature coefficient scales comparable with each other.<br>\n",
    "<br>To get the standardized coefficients back to odds ratio with interpretable units we convert the standardized unit back to the original unit of the feature. The most prominent continuous variable in our study is DAYS_PROCESS with standard deviation of 1.67 from the table value called std_dev from the scaling algorithm, and the fitted logistic regression gives this feature a standardized coefficient of 1.9421. This means by increasing one standardized unit of DAYS_PROCESS, the odds ratio of getting certified is exp(1.9277) = 6.874 (i.e. the odds of getting certified increase by 587.41%).<br>\n",
    "<br>From the scaling transformation we know that one standardized unit of age equals to 1.67 days, which is the standard deviation of days before the transformation. Plugging this information back, we can conclude that increasing the DAYS_PROCESS by 1.67 days will lead to an increase of odds of getting certified by 587.41%."
   ]
  },
  {
   "cell_type": "markdown",
   "metadata": {},
   "source": [
    "### Other prominent Interpretations"
   ]
  },
  {
   "cell_type": "code",
   "execution_count": 39,
   "metadata": {},
   "outputs": [
    {
     "name": "stdout",
     "output_type": "stream",
     "text": [
      "The odds of SUPPORT_H1B_Y getting certified over the alternative is 39.05 %\n",
      "The odds of NEW_EMPLOYMENT getting certified over the alternative is 52.99 %\n",
      "The odds of CONTINUED_EMPLOYMENT getting certified over the alternative is 60.44 %\n",
      "The odds of AGENT_REP_Y getting certified over the alternative is 85.47 %\n",
      "The odds of H1B_DEP_Y getting certified over the alternative is 103.26 %\n"
     ]
    }
   ],
   "source": [
    "cont_vars = ['TOTAL_WORKERS','ANNUALIZED_PREVAILING_WAGE', \n",
    "           'PREVAILING_WAGE', 'ANNUALIZED_WAGE_RATE_OF_PAY',\n",
    "                'WAGE_RATE_OF_PAY','DAYS_PROCESS']\n",
    "\n",
    "feat = list(df_coef['feature_names'])\n",
    "ods = list(df_coef['odds'])\n",
    "cofs = list(df_coef['coef'])\n",
    "inter = zip(ods,feat,cofs)\n",
    "\n",
    "for ods,feature,cof in inter:\n",
    "    od = round((ods*100)-100,2)\n",
    "    if  cof >0 and feature not in cont_vars:\n",
    "        print('The odds of',feature,'getting certified over the alternative is', od,'%')"
   ]
  },
  {
   "cell_type": "code",
   "execution_count": 40,
   "metadata": {},
   "outputs": [
    {
     "name": "stdout",
     "output_type": "stream",
     "text": [
      "Increasing the DAYS_PROCESS by 1.6738 will lead to an increase of odds of getting certified by 587.41 %\n"
     ]
    }
   ],
   "source": [
    "feat = list(df_coef['feature_names'])\n",
    "ods = list(df_coef['odds'])\n",
    "cofs = list(df_coef['coef'])\n",
    "scale = list(round(df_coef['std_dev'],4))\n",
    "inter = zip(ods,feat,cofs,scale)\n",
    "\n",
    "for ods,feature,cof,scale in inter:\n",
    "    od = round((ods*100)-100,2)\n",
    "    if  od >0 and feature in cont_vars:\n",
    "        print('Increasing the',feature, 'by' ,scale, 'will lead to an increase of odds of getting certified by', od,'%')"
   ]
  },
  {
   "cell_type": "markdown",
   "metadata": {},
   "source": [
    "## Support Vectors Interpretation"
   ]
  },
  {
   "cell_type": "code",
   "execution_count": 41,
   "metadata": {},
   "outputs": [],
   "source": [
    "scaler = StandardScaler()\n",
    "for train_indices, test_indices in cv_object.split(b,a):\n",
    "    X_train = b[train_indices]\n",
    "    y_train = a[train_indices]\n",
    "    \n",
    "    X_test = b[test_indices]\n",
    "    y_test = a[test_indices]\n",
    "    \n",
    "X_train_scaled = scaler.fit_transform(X_train) # apply to training\n",
    "X_test_scaled = scaler.fit_transform(X_test)"
   ]
  },
  {
   "cell_type": "code",
   "execution_count": 42,
   "metadata": {},
   "outputs": [
    {
     "data": {
      "text/plain": [
       "SVC(C=100, random_state=89)"
      ]
     },
     "execution_count": 42,
     "metadata": {},
     "output_type": "execute_result"
    }
   ],
   "source": [
    "svmc = svm.SVC(C=100,kernel= 'rbf',random_state=89)\n",
    "svmc.fit(X_train_scaled, y_train)"
   ]
  },
  {
   "cell_type": "code",
   "execution_count": 44,
   "metadata": {},
   "outputs": [
    {
     "name": "stdout",
     "output_type": "stream",
     "text": [
      "(2496, 34)\n",
      "(2496,)\n",
      "[1236 1260]\n"
     ]
    }
   ],
   "source": [
    "# to call the suppport vector foe each variable use the [column index]\n",
    "\n",
    "svc = svmc.support_vectors_\n",
    "\n",
    "# look at the support vectors\n",
    "print(svmc.support_vectors_.shape)\n",
    "print(svmc.support_.shape)\n",
    "print(svmc.n_support_ )"
   ]
  },
  {
   "cell_type": "code",
   "execution_count": 45,
   "metadata": {},
   "outputs": [],
   "source": [
    "df_test =  df4.iloc[train_indices].copy()\n",
    "df_support = df_test.iloc[svmc.support_,:].copy()\n",
    "\n",
    "df_support['CASE_STATUS_CODE'] = a[svmc.support_]"
   ]
  },
  {
   "cell_type": "code",
   "execution_count": 46,
   "metadata": {},
   "outputs": [
    {
     "data": {
      "image/png": "[encoded data removed]",
      "text/plain": [
       "<Figure size 720x288 with 2 Axes>"
      ]
     },
     "metadata": {},
     "output_type": "display_data"
    },
    {
     "data": {
      "image/png": "[encoded data removed]",
      "text/plain": [
       "<Figure size 720x288 with 2 Axes>"
      ]
     },
     "metadata": {},
     "output_type": "display_data"
    },
    {
     "data": {
      "image/png": "[encoded data removed]",
      "text/plain": [
       "<Figure size 720x288 with 2 Axes>"
      ]
     },
     "metadata": {},
     "output_type": "display_data"
    },
    {
     "data": {
      "image/png": "[encoded data removed]",
      "text/plain": [
       "<Figure size 720x288 with 2 Axes>"
      ]
     },
     "metadata": {},
     "output_type": "display_data"
    }
   ],
   "source": [
    "df_grouped_support = df_support.groupby(['CASE_STATUS_CODE'])\n",
    "df_grouped = df4.groupby(['CASE_STATUS_CODE'])\n",
    "\n",
    "# plot KDE of Different variables\n",
    "vars_to_plot = ['DAYS_PROCESS','TOTAL_WORKERS','H1B_DEP_Y','PREVAILING_WAGE']\n",
    "\n",
    "for v in vars_to_plot:\n",
    "    plt.figure(figsize=(10,4))\n",
    "    # plot support vector stats\n",
    "    plt.subplot(1,2,1)\n",
    "    ax = df_grouped_support[v].plot.kde() \n",
    "    plt.legend(['Certified','Denied'])\n",
    "    plt.title(v+' (Instances chosen as Support Vectors)')\n",
    "    \n",
    "    # plot original distributions\n",
    "    plt.subplot(1,2,2)\n",
    "    ax = df_grouped[v].plot.kde() \n",
    "    plt.legend(['Certified','Denied'])\n",
    "    plt.title(v+' (Original)')"
   ]
  },
  {
   "cell_type": "markdown",
   "metadata": {},
   "source": [
    "The support vector analysis shows the original statistics of these variables as well as the statistics of the support vectors.\n",
    "\n",
    "Days_Process & H1B_Dep The separation in distribution of the original data is very distinct. This is not the case with the support vectors for the certified class for Days_Process & H1B_Dep. This indicates that they are close to the class boundary resulting in a distribution separation that is not as large and indicates that these cases have been missclassified.\n",
    "\n",
    "Total_Workers & Prevailing_Wage The support vectors follow the distribution of the original data. However, they do appear to overstate the certified category and did not do well in preserving the orginal data integrity.\n",
    "\n",
    "#### Exceptional Work\n",
    "We are requesting consideration for exceptional points as our group is now down to 2 people with the departure of Senthil Kumar"
   ]
  },
  {
   "cell_type": "markdown",
   "metadata": {},
   "source": [
    "https://medium.com/ro-data-team-blog/interpret-the-impact-size-with-logistic-regression-coefficients-5eec21baaac8\n",
    "\n",
    "\n",
    "https://medium.com/axum-labs/logistic-regression-vs-support-vector-machines-svm-c335610a3d16\n",
    "\n",
    "https://www.geeksforgeeks.org/advantages-and-disadvantages-of-logistic-regression/?ref=rp\n",
    "\n",
    "https://www.geeksforgeeks.org/support-vector-machine-algorithm/?ref=rp\n",
    "\n",
    "https://sciphy-stats.com/post/interpreting-logistic-regression-coefficients-odds-ratios/"
   ]
  }
 ],
 "metadata": {
  "kernelspec": {
   "display_name": "Python [conda env:ML7331]",
   "language": "python",
   "name": "conda-env-ML7331-py"
  },
  "language_info": {
   "codemirror_mode": {
    "name": "ipython",
    "version": 3
   },
   "file_extension": ".py",
   "mimetype": "text/x-python",
   "name": "python",
   "nbconvert_exporter": "python",
   "pygments_lexer": "ipython3",
   "version": "3.7.9"
  }
 },
 "nbformat": 4,
 "nbformat_minor": 2
}
