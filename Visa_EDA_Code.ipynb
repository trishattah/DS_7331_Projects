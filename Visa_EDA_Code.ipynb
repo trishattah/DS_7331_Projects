{
 "cells": [
  {
   "cell_type": "code",
   "execution_count": 1,
   "metadata": {},
   "outputs": [
    {
     "data": {
      "text/plain": [
       "(575582, 29)"
      ]
     },
     "execution_count": 1,
     "metadata": {},
     "output_type": "execute_result"
    }
   ],
   "source": [
    "import pandas as pd\n",
    "df= pd.read_csv (r'Visa_Data.csv')\n",
    "df.shape"
   ]
  },
  {
   "cell_type": "code",
   "execution_count": 2,
   "metadata": {
    "scrolled": true
   },
   "outputs": [
    {
     "data": {
      "text/html": [
       "<div>\n",
       "<style scoped>\n",
       "    .dataframe tbody tr th:only-of-type {\n",
       "        vertical-align: middle;\n",
       "    }\n",
       "\n",
       "    .dataframe tbody tr th {\n",
       "        vertical-align: top;\n",
       "    }\n",
       "\n",
       "    .dataframe thead th {\n",
       "        text-align: right;\n",
       "    }\n",
       "</style>\n",
       "<table border=\"1\" class=\"dataframe\">\n",
       "  <thead>\n",
       "    <tr style=\"text-align: right;\">\n",
       "      <th></th>\n",
       "      <th>CASE_NUMBER</th>\n",
       "      <th>CASE_STATUS</th>\n",
       "      <th>VISA_CLASS</th>\n",
       "      <th>EMPLOYMENT_START_DATE</th>\n",
       "      <th>EMPLOYMENT_END_DATE</th>\n",
       "      <th>EMPLOYER_NAME</th>\n",
       "      <th>EMPLOYER_CITY</th>\n",
       "      <th>EMPLOYER_STATE</th>\n",
       "      <th>AGENT_REPRESENTING_EMPLOYER</th>\n",
       "      <th>JOB_TITLE</th>\n",
       "      <th>...</th>\n",
       "      <th>PW_UNIT_OF_PAY</th>\n",
       "      <th>PW_WAGE_LEVEL</th>\n",
       "      <th>ANNUALIZED_WAGE_RATE_OF_PAY</th>\n",
       "      <th>WAGE_RATE_OF_PAY</th>\n",
       "      <th>WAGE_UNIT_OF_PAY</th>\n",
       "      <th>H1B_DEPENDENT</th>\n",
       "      <th>WILLFUL_VIOLATOR</th>\n",
       "      <th>WORKSITE_CITY</th>\n",
       "      <th>WORKSITE_STATE</th>\n",
       "      <th>DAYS_PROCESS</th>\n",
       "    </tr>\n",
       "  </thead>\n",
       "  <tbody>\n",
       "    <tr>\n",
       "      <th>0</th>\n",
       "      <td>I-200-17073-999091</td>\n",
       "      <td>CERTIFIED</td>\n",
       "      <td>H-1B</td>\n",
       "      <td>2017-07-01</td>\n",
       "      <td>2020-06-30</td>\n",
       "      <td>LONE STAR GLOBAL ACQUISITIONS, LLC</td>\n",
       "      <td>DALLAS</td>\n",
       "      <td>TX</td>\n",
       "      <td>Y</td>\n",
       "      <td>EXECUTIVE VP &amp; CHIEF OF STAFF</td>\n",
       "      <td>...</td>\n",
       "      <td>Year</td>\n",
       "      <td>Level IV</td>\n",
       "      <td>1025000.0</td>\n",
       "      <td>1025000.0</td>\n",
       "      <td>Year</td>\n",
       "      <td>N</td>\n",
       "      <td>N</td>\n",
       "      <td>DALLAS</td>\n",
       "      <td>TX</td>\n",
       "      <td>1095.0</td>\n",
       "    </tr>\n",
       "    <tr>\n",
       "      <th>1</th>\n",
       "      <td>I-200-17080-322151</td>\n",
       "      <td>CERTIFIED</td>\n",
       "      <td>H-1B</td>\n",
       "      <td>2017-07-01</td>\n",
       "      <td>2020-06-30</td>\n",
       "      <td>LONE STAR NORTH AMERICA ACQUISITIONS, LLC</td>\n",
       "      <td>DALLAS</td>\n",
       "      <td>TX</td>\n",
       "      <td>Y</td>\n",
       "      <td>EXECUTIVE VP &amp; CHIEF OF STAFF</td>\n",
       "      <td>...</td>\n",
       "      <td>Year</td>\n",
       "      <td>Level IV</td>\n",
       "      <td>1025000.0</td>\n",
       "      <td>1025000.0</td>\n",
       "      <td>Year</td>\n",
       "      <td>N</td>\n",
       "      <td>N</td>\n",
       "      <td>DALLAS</td>\n",
       "      <td>TX</td>\n",
       "      <td>1095.0</td>\n",
       "    </tr>\n",
       "    <tr>\n",
       "      <th>2</th>\n",
       "      <td>I-200-17081-110694</td>\n",
       "      <td>DENIED</td>\n",
       "      <td>H-1B</td>\n",
       "      <td>2017-07-01</td>\n",
       "      <td>2020-06-30</td>\n",
       "      <td>LONE STAR GLOBAL ACQUISITIONS, LLC</td>\n",
       "      <td>DALLAS</td>\n",
       "      <td>TX</td>\n",
       "      <td>Y</td>\n",
       "      <td>EXECUTIVE VP &amp; CHIEF OF STAFF</td>\n",
       "      <td>...</td>\n",
       "      <td>Year</td>\n",
       "      <td>Level IV</td>\n",
       "      <td>1025000.0</td>\n",
       "      <td>1025000.0</td>\n",
       "      <td>Year</td>\n",
       "      <td>N</td>\n",
       "      <td>N</td>\n",
       "      <td>NEW YORK</td>\n",
       "      <td>TX</td>\n",
       "      <td>1095.0</td>\n",
       "    </tr>\n",
       "    <tr>\n",
       "      <th>3</th>\n",
       "      <td>I-200-17083-430434</td>\n",
       "      <td>CERTIFIED</td>\n",
       "      <td>H-1B</td>\n",
       "      <td>2017-07-01</td>\n",
       "      <td>2020-06-30</td>\n",
       "      <td>LONE STAR GLOBAL ACQUISITIONS, LLC</td>\n",
       "      <td>DALLAS</td>\n",
       "      <td>TX</td>\n",
       "      <td>Y</td>\n",
       "      <td>EXECUTIVE VP &amp; CHIEF OF STAFF</td>\n",
       "      <td>...</td>\n",
       "      <td>Year</td>\n",
       "      <td>Level IV</td>\n",
       "      <td>1025000.0</td>\n",
       "      <td>1025000.0</td>\n",
       "      <td>Year</td>\n",
       "      <td>N</td>\n",
       "      <td>N</td>\n",
       "      <td>NEW YORK</td>\n",
       "      <td>NY</td>\n",
       "      <td>1095.0</td>\n",
       "    </tr>\n",
       "    <tr>\n",
       "      <th>4</th>\n",
       "      <td>I-200-17131-986807</td>\n",
       "      <td>CERTIFIED</td>\n",
       "      <td>H-1B</td>\n",
       "      <td>2017-05-20</td>\n",
       "      <td>2020-05-19</td>\n",
       "      <td>GEISINGER CLINIC</td>\n",
       "      <td>DANVILLE</td>\n",
       "      <td>PA</td>\n",
       "      <td>Y</td>\n",
       "      <td>PHYSICIAN, NEURO AND ENDOVASCULAR SURGERY</td>\n",
       "      <td>...</td>\n",
       "      <td>Year</td>\n",
       "      <td>Level IV</td>\n",
       "      <td>712500.0</td>\n",
       "      <td>712500.0</td>\n",
       "      <td>Year</td>\n",
       "      <td>N</td>\n",
       "      <td>N</td>\n",
       "      <td>DANVILLE</td>\n",
       "      <td>PA</td>\n",
       "      <td>1095.0</td>\n",
       "    </tr>\n",
       "  </tbody>\n",
       "</table>\n",
       "<p>5 rows × 30 columns</p>\n",
       "</div>"
      ],
      "text/plain": [
       "          CASE_NUMBER CASE_STATUS VISA_CLASS EMPLOYMENT_START_DATE  \\\n",
       "0  I-200-17073-999091   CERTIFIED       H-1B            2017-07-01   \n",
       "1  I-200-17080-322151   CERTIFIED       H-1B            2017-07-01   \n",
       "2  I-200-17081-110694      DENIED       H-1B            2017-07-01   \n",
       "3  I-200-17083-430434   CERTIFIED       H-1B            2017-07-01   \n",
       "4  I-200-17131-986807   CERTIFIED       H-1B            2017-05-20   \n",
       "\n",
       "  EMPLOYMENT_END_DATE                              EMPLOYER_NAME  \\\n",
       "0          2020-06-30         LONE STAR GLOBAL ACQUISITIONS, LLC   \n",
       "1          2020-06-30  LONE STAR NORTH AMERICA ACQUISITIONS, LLC   \n",
       "2          2020-06-30         LONE STAR GLOBAL ACQUISITIONS, LLC   \n",
       "3          2020-06-30         LONE STAR GLOBAL ACQUISITIONS, LLC   \n",
       "4          2020-05-19                           GEISINGER CLINIC   \n",
       "\n",
       "  EMPLOYER_CITY EMPLOYER_STATE AGENT_REPRESENTING_EMPLOYER  \\\n",
       "0        DALLAS             TX                           Y   \n",
       "1        DALLAS             TX                           Y   \n",
       "2        DALLAS             TX                           Y   \n",
       "3        DALLAS             TX                           Y   \n",
       "4      DANVILLE             PA                           Y   \n",
       "\n",
       "                                   JOB_TITLE  ... PW_UNIT_OF_PAY  \\\n",
       "0              EXECUTIVE VP & CHIEF OF STAFF  ...           Year   \n",
       "1              EXECUTIVE VP & CHIEF OF STAFF  ...           Year   \n",
       "2              EXECUTIVE VP & CHIEF OF STAFF  ...           Year   \n",
       "3              EXECUTIVE VP & CHIEF OF STAFF  ...           Year   \n",
       "4  PHYSICIAN, NEURO AND ENDOVASCULAR SURGERY  ...           Year   \n",
       "\n",
       "   PW_WAGE_LEVEL  ANNUALIZED_WAGE_RATE_OF_PAY  WAGE_RATE_OF_PAY  \\\n",
       "0       Level IV                    1025000.0         1025000.0   \n",
       "1       Level IV                    1025000.0         1025000.0   \n",
       "2       Level IV                    1025000.0         1025000.0   \n",
       "3       Level IV                    1025000.0         1025000.0   \n",
       "4       Level IV                     712500.0          712500.0   \n",
       "\n",
       "   WAGE_UNIT_OF_PAY  H1B_DEPENDENT  WILLFUL_VIOLATOR WORKSITE_CITY  \\\n",
       "0              Year              N                 N        DALLAS   \n",
       "1              Year              N                 N        DALLAS   \n",
       "2              Year              N                 N      NEW YORK   \n",
       "3              Year              N                 N      NEW YORK   \n",
       "4              Year              N                 N      DANVILLE   \n",
       "\n",
       "   WORKSITE_STATE  DAYS_PROCESS  \n",
       "0              TX        1095.0  \n",
       "1              TX        1095.0  \n",
       "2              TX        1095.0  \n",
       "3              NY        1095.0  \n",
       "4              PA        1095.0  \n",
       "\n",
       "[5 rows x 30 columns]"
      ]
     },
     "execution_count": 2,
     "metadata": {},
     "output_type": "execute_result"
    }
   ],
   "source": [
    "df['EMPLOYMENT_START_DATE'] = pd.to_datetime(df['EMPLOYMENT_START_DATE'])\n",
    "df['EMPLOYMENT_END_DATE'] = pd.to_datetime(df['EMPLOYMENT_END_DATE'])\n",
    "\n",
    "#df['DAYS_PROCESS'] = df['EMPLOYMENT_END_DATE'].sub(df['EMPLOYMENT_START_DATE'], axis=0)\n",
    "#df['DAYS_PROCESS'] = df['DAYS_PROCESS'] / np.timedelta64(1, 'D')\n",
    "\n",
    "df['DAYS_PROCESS'] = abs((df['EMPLOYMENT_START_DATE'] - df['EMPLOYMENT_END_DATE']).dt.days)\n",
    "\n",
    "df.head()  "
   ]
  },
  {
   "cell_type": "code",
   "execution_count": 3,
   "metadata": {},
   "outputs": [
    {
     "data": {
      "text/plain": [
       "CASE_NUMBER                            object\n",
       "CASE_STATUS                            object\n",
       "VISA_CLASS                             object\n",
       "EMPLOYMENT_START_DATE          datetime64[ns]\n",
       "EMPLOYMENT_END_DATE            datetime64[ns]\n",
       "EMPLOYER_NAME                          object\n",
       "EMPLOYER_CITY                          object\n",
       "EMPLOYER_STATE                         object\n",
       "AGENT_REPRESENTING_EMPLOYER            object\n",
       "JOB_TITLE                              object\n",
       "SOC_NAME                               object\n",
       "TOTAL_WORKERS                           int64\n",
       "NEW_EMPLOYMENT                          int64\n",
       "CONTINUED_EMPLOYMENT                    int64\n",
       "CHANGE_PREVIOUS_EMPLOYMENT              int64\n",
       "NEW_CONCURRENT_EMPLOYMENT               int64\n",
       "CHANGE_EMPLOYER                         int64\n",
       "FULL_TIME_POSITION                     object\n",
       "ANNUALIZED_PREVAILING_WAGE            float64\n",
       "PREVAILING_WAGE                       float64\n",
       "PW_UNIT_OF_PAY                         object\n",
       "PW_WAGE_LEVEL                          object\n",
       "ANNUALIZED_WAGE_RATE_OF_PAY           float64\n",
       "WAGE_RATE_OF_PAY                      float64\n",
       "WAGE_UNIT_OF_PAY                       object\n",
       "H1B_DEPENDENT                          object\n",
       "WILLFUL_VIOLATOR                       object\n",
       "WORKSITE_CITY                          object\n",
       "WORKSITE_STATE                         object\n",
       "DAYS_PROCESS                          float64\n",
       "dtype: object"
      ]
     },
     "execution_count": 3,
     "metadata": {},
     "output_type": "execute_result"
    }
   ],
   "source": [
    "df.dtypes"
   ]
  },
  {
   "cell_type": "code",
   "execution_count": 4,
   "metadata": {},
   "outputs": [
    {
     "name": "stdout",
     "output_type": "stream",
     "text": [
      "  WAGE_UNIT_OF_PAY  counts\n",
      "0        Bi-Weekly      88\n",
      "1             Hour   22350\n",
      "2            Month     361\n",
      "3             Week     137\n",
      "4             Year  552644\n"
     ]
    }
   ],
   "source": [
    "VisaStatus_df = df.groupby(['WAGE_UNIT_OF_PAY']).size().reset_index(name='counts')\n",
    "print(VisaStatus_df)"
   ]
  },
  {
   "cell_type": "code",
   "execution_count": 5,
   "metadata": {},
   "outputs": [
    {
     "data": {
      "text/html": [
       "<div>\n",
       "<style scoped>\n",
       "    .dataframe tbody tr th:only-of-type {\n",
       "        vertical-align: middle;\n",
       "    }\n",
       "\n",
       "    .dataframe tbody tr th {\n",
       "        vertical-align: top;\n",
       "    }\n",
       "\n",
       "    .dataframe thead th {\n",
       "        text-align: right;\n",
       "    }\n",
       "</style>\n",
       "<table border=\"1\" class=\"dataframe\">\n",
       "  <thead>\n",
       "    <tr style=\"text-align: right;\">\n",
       "      <th></th>\n",
       "      <th>CASE_NUMBER</th>\n",
       "      <th>CASE_STATUS</th>\n",
       "      <th>VISA_CLASS</th>\n",
       "      <th>EMPLOYMENT_START_DATE</th>\n",
       "      <th>EMPLOYMENT_END_DATE</th>\n",
       "      <th>EMPLOYER_NAME</th>\n",
       "      <th>EMPLOYER_CITY</th>\n",
       "      <th>EMPLOYER_STATE</th>\n",
       "      <th>AGENT_REPRESENTING_EMPLOYER</th>\n",
       "      <th>JOB_TITLE</th>\n",
       "      <th>...</th>\n",
       "      <th>PW_UNIT_OF_PAY</th>\n",
       "      <th>PW_WAGE_LEVEL</th>\n",
       "      <th>ANNUALIZED_WAGE_RATE_OF_PAY</th>\n",
       "      <th>WAGE_RATE_OF_PAY</th>\n",
       "      <th>WAGE_UNIT_OF_PAY</th>\n",
       "      <th>H1B_DEPENDENT</th>\n",
       "      <th>WILLFUL_VIOLATOR</th>\n",
       "      <th>WORKSITE_CITY</th>\n",
       "      <th>WORKSITE_STATE</th>\n",
       "      <th>DAYS_PROCESS</th>\n",
       "    </tr>\n",
       "  </thead>\n",
       "  <tbody>\n",
       "    <tr>\n",
       "      <th>0</th>\n",
       "      <td>I-200-17073-999091</td>\n",
       "      <td>CERTIFIED</td>\n",
       "      <td>H-1B</td>\n",
       "      <td>2017-07-01</td>\n",
       "      <td>2020-06-30</td>\n",
       "      <td>LONE STAR GLOBAL ACQUISITIONS, LLC</td>\n",
       "      <td>DALLAS</td>\n",
       "      <td>TX</td>\n",
       "      <td>Y</td>\n",
       "      <td>EXECUTIVE VP &amp; CHIEF OF STAFF</td>\n",
       "      <td>...</td>\n",
       "      <td>Year</td>\n",
       "      <td>Level IV</td>\n",
       "      <td>1025000.0</td>\n",
       "      <td>1025000.0</td>\n",
       "      <td>Year</td>\n",
       "      <td>N</td>\n",
       "      <td>N</td>\n",
       "      <td>DALLAS</td>\n",
       "      <td>TX</td>\n",
       "      <td>1095.0</td>\n",
       "    </tr>\n",
       "    <tr>\n",
       "      <th>1</th>\n",
       "      <td>I-200-17080-322151</td>\n",
       "      <td>CERTIFIED</td>\n",
       "      <td>H-1B</td>\n",
       "      <td>2017-07-01</td>\n",
       "      <td>2020-06-30</td>\n",
       "      <td>LONE STAR NORTH AMERICA ACQUISITIONS, LLC</td>\n",
       "      <td>DALLAS</td>\n",
       "      <td>TX</td>\n",
       "      <td>Y</td>\n",
       "      <td>EXECUTIVE VP &amp; CHIEF OF STAFF</td>\n",
       "      <td>...</td>\n",
       "      <td>Year</td>\n",
       "      <td>Level IV</td>\n",
       "      <td>1025000.0</td>\n",
       "      <td>1025000.0</td>\n",
       "      <td>Year</td>\n",
       "      <td>N</td>\n",
       "      <td>N</td>\n",
       "      <td>DALLAS</td>\n",
       "      <td>TX</td>\n",
       "      <td>1095.0</td>\n",
       "    </tr>\n",
       "    <tr>\n",
       "      <th>2</th>\n",
       "      <td>I-200-17081-110694</td>\n",
       "      <td>DENIED</td>\n",
       "      <td>H-1B</td>\n",
       "      <td>2017-07-01</td>\n",
       "      <td>2020-06-30</td>\n",
       "      <td>LONE STAR GLOBAL ACQUISITIONS, LLC</td>\n",
       "      <td>DALLAS</td>\n",
       "      <td>TX</td>\n",
       "      <td>Y</td>\n",
       "      <td>EXECUTIVE VP &amp; CHIEF OF STAFF</td>\n",
       "      <td>...</td>\n",
       "      <td>Year</td>\n",
       "      <td>Level IV</td>\n",
       "      <td>1025000.0</td>\n",
       "      <td>1025000.0</td>\n",
       "      <td>Year</td>\n",
       "      <td>N</td>\n",
       "      <td>N</td>\n",
       "      <td>NEW YORK</td>\n",
       "      <td>TX</td>\n",
       "      <td>1095.0</td>\n",
       "    </tr>\n",
       "  </tbody>\n",
       "</table>\n",
       "<p>3 rows × 30 columns</p>\n",
       "</div>"
      ],
      "text/plain": [
       "          CASE_NUMBER CASE_STATUS VISA_CLASS EMPLOYMENT_START_DATE  \\\n",
       "0  I-200-17073-999091   CERTIFIED       H-1B            2017-07-01   \n",
       "1  I-200-17080-322151   CERTIFIED       H-1B            2017-07-01   \n",
       "2  I-200-17081-110694      DENIED       H-1B            2017-07-01   \n",
       "\n",
       "  EMPLOYMENT_END_DATE                              EMPLOYER_NAME  \\\n",
       "0          2020-06-30         LONE STAR GLOBAL ACQUISITIONS, LLC   \n",
       "1          2020-06-30  LONE STAR NORTH AMERICA ACQUISITIONS, LLC   \n",
       "2          2020-06-30         LONE STAR GLOBAL ACQUISITIONS, LLC   \n",
       "\n",
       "  EMPLOYER_CITY EMPLOYER_STATE AGENT_REPRESENTING_EMPLOYER  \\\n",
       "0        DALLAS             TX                           Y   \n",
       "1        DALLAS             TX                           Y   \n",
       "2        DALLAS             TX                           Y   \n",
       "\n",
       "                       JOB_TITLE  ... PW_UNIT_OF_PAY  PW_WAGE_LEVEL  \\\n",
       "0  EXECUTIVE VP & CHIEF OF STAFF  ...           Year       Level IV   \n",
       "1  EXECUTIVE VP & CHIEF OF STAFF  ...           Year       Level IV   \n",
       "2  EXECUTIVE VP & CHIEF OF STAFF  ...           Year       Level IV   \n",
       "\n",
       "   ANNUALIZED_WAGE_RATE_OF_PAY  WAGE_RATE_OF_PAY  WAGE_UNIT_OF_PAY  \\\n",
       "0                    1025000.0         1025000.0              Year   \n",
       "1                    1025000.0         1025000.0              Year   \n",
       "2                    1025000.0         1025000.0              Year   \n",
       "\n",
       "   H1B_DEPENDENT  WILLFUL_VIOLATOR WORKSITE_CITY  WORKSITE_STATE  DAYS_PROCESS  \n",
       "0              N                 N        DALLAS              TX        1095.0  \n",
       "1              N                 N        DALLAS              TX        1095.0  \n",
       "2              N                 N      NEW YORK              TX        1095.0  \n",
       "\n",
       "[3 rows x 30 columns]"
      ]
     },
     "execution_count": 5,
     "metadata": {},
     "output_type": "execute_result"
    }
   ],
   "source": [
    "col_types = df.dtypes\n",
    "col_types.head(53)\n",
    "df.head(3)"
   ]
  },
  {
   "cell_type": "code",
   "execution_count": 6,
   "metadata": {},
   "outputs": [],
   "source": [
    "#df.isnull().sum()"
   ]
  },
  {
   "cell_type": "code",
   "execution_count": 7,
   "metadata": {},
   "outputs": [],
   "source": [
    "df = df.dropna(subset=['EMPLOYMENT_START_DATE','EMPLOYMENT_END_DATE','EMPLOYER_NAME',\n",
    "                         'AGENT_REPRESENTING_EMPLOYER','JOB_TITLE','SOC_NAME',\n",
    "                        'PREVAILING_WAGE','PW_UNIT_OF_PAY','WAGE_UNIT_OF_PAY',\n",
    "                        'EMPLOYER_CITY','WAGE_UNIT_OF_PAY','WILLFUL_VIOLATOR',\n",
    "                         'WORKSITE_CITY','WILLFUL_VIOLATOR'])"
   ]
  },
  {
   "cell_type": "code",
   "execution_count": 8,
   "metadata": {},
   "outputs": [
    {
     "data": {
      "text/plain": [
       "(488395, 30)"
      ]
     },
     "execution_count": 8,
     "metadata": {},
     "output_type": "execute_result"
    }
   ],
   "source": [
    "df.shape"
   ]
  },
  {
   "cell_type": "code",
   "execution_count": 9,
   "metadata": {},
   "outputs": [
    {
     "data": {
      "text/plain": [
       "CASE_NUMBER                    0\n",
       "CASE_STATUS                    0\n",
       "VISA_CLASS                     0\n",
       "EMPLOYMENT_START_DATE          0\n",
       "EMPLOYMENT_END_DATE            0\n",
       "EMPLOYER_NAME                  0\n",
       "EMPLOYER_CITY                  0\n",
       "EMPLOYER_STATE                 0\n",
       "AGENT_REPRESENTING_EMPLOYER    0\n",
       "JOB_TITLE                      0\n",
       "SOC_NAME                       0\n",
       "TOTAL_WORKERS                  0\n",
       "NEW_EMPLOYMENT                 0\n",
       "CONTINUED_EMPLOYMENT           0\n",
       "CHANGE_PREVIOUS_EMPLOYMENT     0\n",
       "NEW_CONCURRENT_EMPLOYMENT      0\n",
       "CHANGE_EMPLOYER                0\n",
       "FULL_TIME_POSITION             0\n",
       "ANNUALIZED_PREVAILING_WAGE     0\n",
       "PREVAILING_WAGE                0\n",
       "PW_UNIT_OF_PAY                 0\n",
       "PW_WAGE_LEVEL                  0\n",
       "ANNUALIZED_WAGE_RATE_OF_PAY    0\n",
       "WAGE_RATE_OF_PAY               0\n",
       "WAGE_UNIT_OF_PAY               0\n",
       "H1B_DEPENDENT                  0\n",
       "WILLFUL_VIOLATOR               0\n",
       "WORKSITE_CITY                  0\n",
       "WORKSITE_STATE                 0\n",
       "DAYS_PROCESS                   0\n",
       "dtype: int64"
      ]
     },
     "execution_count": 9,
     "metadata": {},
     "output_type": "execute_result"
    }
   ],
   "source": [
    "df.to_csv(r'/Users/patriciaattah/anaconda_files/yelp_dataset/cleaned_Visa_Data.csv')\n",
    "df.isnull().sum()"
   ]
  },
  {
   "cell_type": "code",
   "execution_count": 10,
   "metadata": {},
   "outputs": [
    {
     "data": {
      "text/plain": [
       "(488395, 30)"
      ]
     },
     "execution_count": 10,
     "metadata": {},
     "output_type": "execute_result"
    }
   ],
   "source": [
    "pd.set_option('display.max_columns', 100)\n",
    "df.shape"
   ]
  },
  {
   "cell_type": "code",
   "execution_count": 11,
   "metadata": {
    "scrolled": true
   },
   "outputs": [
    {
     "name": "stdout",
     "output_type": "stream",
     "text": [
      "           CASE_STATUS  counts\n",
      "0            CERTIFIED  440499\n",
      "1  CERTIFIED-WITHDRAWN   42100\n",
      "2               DENIED    5796\n"
     ]
    }
   ],
   "source": [
    "VisaStatus_df = df.groupby(['CASE_STATUS']).size().reset_index(name='counts')\n",
    "print(VisaStatus_df)"
   ]
  },
  {
   "cell_type": "code",
   "execution_count": 12,
   "metadata": {},
   "outputs": [],
   "source": [
    "#conda install -c conda-forge imbalanced-learn"
   ]
  },
  {
   "cell_type": "code",
   "execution_count": 13,
   "metadata": {},
   "outputs": [
    {
     "name": "stdout",
     "output_type": "stream",
     "text": [
      "56579\n",
      "(488395, 30)\n"
     ]
    }
   ],
   "source": [
    "employer_count = df['EMPLOYER_NAME'].unique()\n",
    "count=0\n",
    "for i in employer_count:\n",
    "    count += 1\n",
    "print(count)\n",
    "print(df.shape)"
   ]
  },
  {
   "cell_type": "code",
   "execution_count": 14,
   "metadata": {},
   "outputs": [],
   "source": [
    "from imblearn.over_sampling import SMOTE\n",
    "from sklearn.preprocessing import LabelEncoder"
   ]
  },
  {
   "cell_type": "code",
   "execution_count": 15,
   "metadata": {},
   "outputs": [
    {
     "data": {
      "text/html": [
       "<div>\n",
       "<style scoped>\n",
       "    .dataframe tbody tr th:only-of-type {\n",
       "        vertical-align: middle;\n",
       "    }\n",
       "\n",
       "    .dataframe tbody tr th {\n",
       "        vertical-align: top;\n",
       "    }\n",
       "\n",
       "    .dataframe thead th {\n",
       "        text-align: right;\n",
       "    }\n",
       "</style>\n",
       "<table border=\"1\" class=\"dataframe\">\n",
       "  <thead>\n",
       "    <tr style=\"text-align: right;\">\n",
       "      <th></th>\n",
       "      <th>CASE_STATUS</th>\n",
       "      <th>EMPLOYER_NAME</th>\n",
       "      <th>EMPLOYER_CITY</th>\n",
       "      <th>EMPLOYER_STATE</th>\n",
       "      <th>AGENT_REPRESENTING_EMPLOYER</th>\n",
       "      <th>JOB_TITLE</th>\n",
       "      <th>SOC_NAME</th>\n",
       "      <th>TOTAL_WORKERS</th>\n",
       "      <th>NEW_EMPLOYMENT</th>\n",
       "      <th>CONTINUED_EMPLOYMENT</th>\n",
       "      <th>CHANGE_PREVIOUS_EMPLOYMENT</th>\n",
       "      <th>NEW_CONCURRENT_EMPLOYMENT</th>\n",
       "      <th>CHANGE_EMPLOYER</th>\n",
       "      <th>ANNUALIZED_PREVAILING_WAGE</th>\n",
       "      <th>PREVAILING_WAGE</th>\n",
       "      <th>PW_UNIT_OF_PAY</th>\n",
       "      <th>PW_WAGE_LEVEL</th>\n",
       "      <th>ANNUALIZED_WAGE_RATE_OF_PAY</th>\n",
       "      <th>WAGE_RATE_OF_PAY</th>\n",
       "      <th>WAGE_UNIT_OF_PAY</th>\n",
       "      <th>H1B_DEPENDENT</th>\n",
       "      <th>WILLFUL_VIOLATOR</th>\n",
       "      <th>WORKSITE_CITY</th>\n",
       "      <th>WORKSITE_STATE</th>\n",
       "      <th>DAYS_PROCESS</th>\n",
       "      <th>EMPLOYER_NAME_CODE</th>\n",
       "      <th>EMPLOYER_CITY_CODE</th>\n",
       "      <th>SOC_NAME_CODE</th>\n",
       "      <th>EMPLOYER_STATE_CODE</th>\n",
       "      <th>AGENT_REPRESENTING_EMPLOYER_CODE</th>\n",
       "      <th>JOB_TITLE_CODE</th>\n",
       "      <th>WILLFUL_VIOLATOR_CODE</th>\n",
       "      <th>WORKSITE_CITY_CODE</th>\n",
       "      <th>WORKSITE_STATE_CODE</th>\n",
       "      <th>PW_UNIT_OF_PAY_CODE</th>\n",
       "      <th>PW_WAGE_LEVEL_CODE</th>\n",
       "      <th>WAGE_UNIT_OF_PAY_CODE</th>\n",
       "      <th>H1B_DEPENDENT_CODE</th>\n",
       "    </tr>\n",
       "  </thead>\n",
       "  <tbody>\n",
       "    <tr>\n",
       "      <th>0</th>\n",
       "      <td>CERTIFIED</td>\n",
       "      <td>LONE STAR GLOBAL ACQUISITIONS, LLC</td>\n",
       "      <td>DALLAS</td>\n",
       "      <td>TX</td>\n",
       "      <td>Y</td>\n",
       "      <td>EXECUTIVE VP &amp; CHIEF OF STAFF</td>\n",
       "      <td>FINANCIAL MANAGERS</td>\n",
       "      <td>1</td>\n",
       "      <td>0</td>\n",
       "      <td>0</td>\n",
       "      <td>1</td>\n",
       "      <td>0</td>\n",
       "      <td>0</td>\n",
       "      <td>180502.0</td>\n",
       "      <td>180502.0</td>\n",
       "      <td>Year</td>\n",
       "      <td>Level IV</td>\n",
       "      <td>1025000.0</td>\n",
       "      <td>1025000.0</td>\n",
       "      <td>Year</td>\n",
       "      <td>N</td>\n",
       "      <td>N</td>\n",
       "      <td>DALLAS</td>\n",
       "      <td>TX</td>\n",
       "      <td>1095.0</td>\n",
       "      <td>29720</td>\n",
       "      <td>904</td>\n",
       "      <td>326</td>\n",
       "      <td>46</td>\n",
       "      <td>1</td>\n",
       "      <td>21882</td>\n",
       "      <td>0</td>\n",
       "      <td>1482</td>\n",
       "      <td>42</td>\n",
       "      <td>4</td>\n",
       "      <td>3</td>\n",
       "      <td>4</td>\n",
       "      <td>0</td>\n",
       "    </tr>\n",
       "    <tr>\n",
       "      <th>1</th>\n",
       "      <td>CERTIFIED</td>\n",
       "      <td>LONE STAR NORTH AMERICA ACQUISITIONS, LLC</td>\n",
       "      <td>DALLAS</td>\n",
       "      <td>TX</td>\n",
       "      <td>Y</td>\n",
       "      <td>EXECUTIVE VP &amp; CHIEF OF STAFF</td>\n",
       "      <td>FINANCIAL MANAGERS</td>\n",
       "      <td>1</td>\n",
       "      <td>0</td>\n",
       "      <td>0</td>\n",
       "      <td>1</td>\n",
       "      <td>0</td>\n",
       "      <td>0</td>\n",
       "      <td>180502.0</td>\n",
       "      <td>180502.0</td>\n",
       "      <td>Year</td>\n",
       "      <td>Level IV</td>\n",
       "      <td>1025000.0</td>\n",
       "      <td>1025000.0</td>\n",
       "      <td>Year</td>\n",
       "      <td>N</td>\n",
       "      <td>N</td>\n",
       "      <td>DALLAS</td>\n",
       "      <td>TX</td>\n",
       "      <td>1095.0</td>\n",
       "      <td>29722</td>\n",
       "      <td>904</td>\n",
       "      <td>326</td>\n",
       "      <td>46</td>\n",
       "      <td>1</td>\n",
       "      <td>21882</td>\n",
       "      <td>0</td>\n",
       "      <td>1482</td>\n",
       "      <td>42</td>\n",
       "      <td>4</td>\n",
       "      <td>3</td>\n",
       "      <td>4</td>\n",
       "      <td>0</td>\n",
       "    </tr>\n",
       "    <tr>\n",
       "      <th>2</th>\n",
       "      <td>DENIED</td>\n",
       "      <td>LONE STAR GLOBAL ACQUISITIONS, LLC</td>\n",
       "      <td>DALLAS</td>\n",
       "      <td>TX</td>\n",
       "      <td>Y</td>\n",
       "      <td>EXECUTIVE VP &amp; CHIEF OF STAFF</td>\n",
       "      <td>FINANCIAL MANAGERS</td>\n",
       "      <td>1</td>\n",
       "      <td>0</td>\n",
       "      <td>0</td>\n",
       "      <td>0</td>\n",
       "      <td>0</td>\n",
       "      <td>1</td>\n",
       "      <td>231899.0</td>\n",
       "      <td>231899.0</td>\n",
       "      <td>Year</td>\n",
       "      <td>Level IV</td>\n",
       "      <td>1025000.0</td>\n",
       "      <td>1025000.0</td>\n",
       "      <td>Year</td>\n",
       "      <td>N</td>\n",
       "      <td>N</td>\n",
       "      <td>NEW YORK</td>\n",
       "      <td>TX</td>\n",
       "      <td>1095.0</td>\n",
       "      <td>29720</td>\n",
       "      <td>904</td>\n",
       "      <td>326</td>\n",
       "      <td>46</td>\n",
       "      <td>1</td>\n",
       "      <td>21882</td>\n",
       "      <td>0</td>\n",
       "      <td>4249</td>\n",
       "      <td>42</td>\n",
       "      <td>4</td>\n",
       "      <td>3</td>\n",
       "      <td>4</td>\n",
       "      <td>0</td>\n",
       "    </tr>\n",
       "  </tbody>\n",
       "</table>\n",
       "</div>"
      ],
      "text/plain": [
       "  CASE_STATUS                              EMPLOYER_NAME EMPLOYER_CITY  \\\n",
       "0   CERTIFIED         LONE STAR GLOBAL ACQUISITIONS, LLC        DALLAS   \n",
       "1   CERTIFIED  LONE STAR NORTH AMERICA ACQUISITIONS, LLC        DALLAS   \n",
       "2      DENIED         LONE STAR GLOBAL ACQUISITIONS, LLC        DALLAS   \n",
       "\n",
       "  EMPLOYER_STATE AGENT_REPRESENTING_EMPLOYER                      JOB_TITLE  \\\n",
       "0             TX                           Y  EXECUTIVE VP & CHIEF OF STAFF   \n",
       "1             TX                           Y  EXECUTIVE VP & CHIEF OF STAFF   \n",
       "2             TX                           Y  EXECUTIVE VP & CHIEF OF STAFF   \n",
       "\n",
       "             SOC_NAME  TOTAL_WORKERS  NEW_EMPLOYMENT  CONTINUED_EMPLOYMENT  \\\n",
       "0  FINANCIAL MANAGERS              1               0                     0   \n",
       "1  FINANCIAL MANAGERS              1               0                     0   \n",
       "2  FINANCIAL MANAGERS              1               0                     0   \n",
       "\n",
       "   CHANGE_PREVIOUS_EMPLOYMENT  NEW_CONCURRENT_EMPLOYMENT  CHANGE_EMPLOYER  \\\n",
       "0                           1                          0                0   \n",
       "1                           1                          0                0   \n",
       "2                           0                          0                1   \n",
       "\n",
       "   ANNUALIZED_PREVAILING_WAGE  PREVAILING_WAGE PW_UNIT_OF_PAY PW_WAGE_LEVEL  \\\n",
       "0                    180502.0         180502.0           Year      Level IV   \n",
       "1                    180502.0         180502.0           Year      Level IV   \n",
       "2                    231899.0         231899.0           Year      Level IV   \n",
       "\n",
       "   ANNUALIZED_WAGE_RATE_OF_PAY  WAGE_RATE_OF_PAY WAGE_UNIT_OF_PAY  \\\n",
       "0                    1025000.0         1025000.0             Year   \n",
       "1                    1025000.0         1025000.0             Year   \n",
       "2                    1025000.0         1025000.0             Year   \n",
       "\n",
       "  H1B_DEPENDENT WILLFUL_VIOLATOR WORKSITE_CITY WORKSITE_STATE  DAYS_PROCESS  \\\n",
       "0             N                N        DALLAS             TX        1095.0   \n",
       "1             N                N        DALLAS             TX        1095.0   \n",
       "2             N                N      NEW YORK             TX        1095.0   \n",
       "\n",
       "   EMPLOYER_NAME_CODE  EMPLOYER_CITY_CODE  SOC_NAME_CODE  EMPLOYER_STATE_CODE  \\\n",
       "0               29720                 904            326                   46   \n",
       "1               29722                 904            326                   46   \n",
       "2               29720                 904            326                   46   \n",
       "\n",
       "   AGENT_REPRESENTING_EMPLOYER_CODE  JOB_TITLE_CODE  WILLFUL_VIOLATOR_CODE  \\\n",
       "0                                 1           21882                      0   \n",
       "1                                 1           21882                      0   \n",
       "2                                 1           21882                      0   \n",
       "\n",
       "   WORKSITE_CITY_CODE  WORKSITE_STATE_CODE  PW_UNIT_OF_PAY_CODE  \\\n",
       "0                1482                   42                    4   \n",
       "1                1482                   42                    4   \n",
       "2                4249                   42                    4   \n",
       "\n",
       "   PW_WAGE_LEVEL_CODE  WAGE_UNIT_OF_PAY_CODE  H1B_DEPENDENT_CODE  \n",
       "0                   3                      4                   0  \n",
       "1                   3                      4                   0  \n",
       "2                   3                      4                   0  "
      ]
     },
     "execution_count": 15,
     "metadata": {},
     "output_type": "execute_result"
    }
   ],
   "source": [
    "features = ['EMPLOYER_NAME', 'EMPLOYER_CITY','SOC_NAME',\n",
    "           'EMPLOYER_STATE', 'AGENT_REPRESENTING_EMPLOYER', 'JOB_TITLE',\n",
    "            'WILLFUL_VIOLATOR','WORKSITE_CITY','WORKSITE_STATE','PW_UNIT_OF_PAY',\n",
    "           'PW_WAGE_LEVEL','WAGE_UNIT_OF_PAY','H1B_DEPENDENT']\n",
    "encoded = []\n",
    "\n",
    "for f in features:\n",
    "    df[f+'_CODE'] = LabelEncoder().fit_transform(df[f])\n",
    "    b=f+'_CODE'\n",
    "    encoded.append(b)\n",
    "    \n",
    "df = df.drop(['VISA_CLASS','FULL_TIME_POSITION',\n",
    "             'EMPLOYMENT_START_DATE','EMPLOYMENT_END_DATE',\n",
    "             'CASE_NUMBER'], axis=1)\n",
    "\n",
    "df.head(3)"
   ]
  },
  {
   "cell_type": "code",
   "execution_count": 16,
   "metadata": {},
   "outputs": [],
   "source": [
    "df.to_csv(r'/Users/patriciaattah/anaconda_files/yelp_dataset/Encoded_Unbalanced_Visa_Data.csv')"
   ]
  },
  {
   "cell_type": "code",
   "execution_count": 17,
   "metadata": {},
   "outputs": [
    {
     "name": "stdout",
     "output_type": "stream",
     "text": [
      "           CASE_STATUS  counts\n",
      "0            CERTIFIED   40499\n",
      "1  CERTIFIED-WITHDRAWN   42100\n",
      "2               DENIED    5796\n"
     ]
    }
   ],
   "source": [
    "#df['EMPLOYMENT_START_DATE']= pd.to_datetime(df['EMPLOYMENT_START_DATE'])\n",
    "\n",
    "df2=df.sort_values(by=['CASE_STATUS'])\n",
    "df2=df2.iloc[400000:, :]\n",
    "\n",
    "yy = df2['CASE_STATUS']\n",
    "X = df2.drop(['CASE_STATUS','EMPLOYER_NAME', 'EMPLOYER_CITY',\n",
    "             'SOC_NAME','EMPLOYER_STATE', 'AGENT_REPRESENTING_EMPLOYER', 'JOB_TITLE',\n",
    "            'WILLFUL_VIOLATOR','WORKSITE_CITY','WORKSITE_STATE',\n",
    "            'PW_UNIT_OF_PAY','PW_WAGE_LEVEL','WAGE_UNIT_OF_PAY','H1B_DEPENDENT',\n",
    "            'WILLFUL_VIOLATOR','WORKSITE_CITY','WORKSITE_STATE'], axis=1)\n",
    "\n",
    "\n",
    "VisaStatus_df = df2.groupby(['CASE_STATUS']).size().reset_index(name='counts')\n",
    "print(VisaStatus_df)\n",
    "\n",
    "#print(ff)"
   ]
  },
  {
   "cell_type": "code",
   "execution_count": 18,
   "metadata": {},
   "outputs": [
    {
     "name": "stdout",
     "output_type": "stream",
     "text": [
      "(488395, 38)\n",
      "(88395, 38)\n"
     ]
    }
   ],
   "source": [
    "print(df.shape)\n",
    "print(df2.shape)"
   ]
  },
  {
   "cell_type": "code",
   "execution_count": 19,
   "metadata": {},
   "outputs": [
    {
     "data": {
      "text/plain": [
       "Index(['TOTAL_WORKERS', 'NEW_EMPLOYMENT', 'CONTINUED_EMPLOYMENT',\n",
       "       'CHANGE_PREVIOUS_EMPLOYMENT', 'NEW_CONCURRENT_EMPLOYMENT',\n",
       "       'CHANGE_EMPLOYER', 'ANNUALIZED_PREVAILING_WAGE', 'PREVAILING_WAGE',\n",
       "       'ANNUALIZED_WAGE_RATE_OF_PAY', 'WAGE_RATE_OF_PAY', 'DAYS_PROCESS',\n",
       "       'EMPLOYER_NAME_CODE', 'EMPLOYER_CITY_CODE', 'SOC_NAME_CODE',\n",
       "       'EMPLOYER_STATE_CODE', 'AGENT_REPRESENTING_EMPLOYER_CODE',\n",
       "       'JOB_TITLE_CODE', 'WILLFUL_VIOLATOR_CODE', 'WORKSITE_CITY_CODE',\n",
       "       'WORKSITE_STATE_CODE', 'PW_UNIT_OF_PAY_CODE', 'PW_WAGE_LEVEL_CODE',\n",
       "       'WAGE_UNIT_OF_PAY_CODE', 'H1B_DEPENDENT_CODE'],\n",
       "      dtype='object')"
      ]
     },
     "execution_count": 19,
     "metadata": {},
     "output_type": "execute_result"
    }
   ],
   "source": [
    "X.columns"
   ]
  },
  {
   "cell_type": "code",
   "execution_count": 20,
   "metadata": {},
   "outputs": [],
   "source": [
    "#df.dtypes"
   ]
  },
  {
   "cell_type": "code",
   "execution_count": 21,
   "metadata": {},
   "outputs": [
    {
     "name": "stdout",
     "output_type": "stream",
     "text": [
      "228389    CERTIFIED\n",
      "228390    CERTIFIED\n",
      "228391    CERTIFIED\n",
      "228392    CERTIFIED\n",
      "228393    CERTIFIED\n",
      "            ...    \n",
      "490512       DENIED\n",
      "490513       DENIED\n",
      "14216        DENIED\n",
      "490579       DENIED\n",
      "486182       DENIED\n",
      "Name: CASE_STATUS, Length: 88395, dtype: object\n",
      "[0 0 0 ... 2 2 2] None\n"
     ]
    },
    {
     "data": {
      "text/plain": [
       "[None]"
      ]
     },
     "execution_count": 21,
     "metadata": {},
     "output_type": "execute_result"
    }
   ],
   "source": [
    "y = LabelEncoder().fit_transform(yy)\n",
    "[print(y,print(yy))]"
   ]
  },
  {
   "cell_type": "code",
   "execution_count": 22,
   "metadata": {},
   "outputs": [
    {
     "name": "stdout",
     "output_type": "stream",
     "text": [
      "Class=0, n=42100 (33.333%)\n",
      "Class=1, n=42100 (33.333%)\n",
      "Class=2, n=42100 (33.333%)\n"
     ]
    }
   ],
   "source": [
    "from collections import Counter\n",
    "\n",
    "\n",
    "oversample = SMOTE()\n",
    "X, y = oversample.fit_resample(X, y)\n",
    "\n",
    "counter = Counter(y)\n",
    "for k,v in counter.items():\n",
    "    per = v / len(y) * 100\n",
    "    print('Class=%d, n=%d (%.3f%%)' % (k, v, per))"
   ]
  },
  {
   "cell_type": "code",
   "execution_count": 23,
   "metadata": {},
   "outputs": [
    {
     "name": "stdout",
     "output_type": "stream",
     "text": [
      "   CASE_STATUS_CODE  counts\n",
      "0                 0   42100\n",
      "1                 1   42100\n",
      "2                 2   42100\n"
     ]
    }
   ],
   "source": [
    "coded_df = X\n",
    "coded_df['CASE_STATUS_CODE'] = y\n",
    "\n",
    "VisaStatus_df = coded_df.groupby(['CASE_STATUS_CODE']).size().reset_index(name='counts')\n",
    "print(VisaStatus_df)"
   ]
  },
  {
   "cell_type": "code",
   "execution_count": 24,
   "metadata": {},
   "outputs": [],
   "source": [
    "coded_df.to_csv(r'/Users/patriciaattah/anaconda_files/yelp_dataset/Numeric_Balanced_Visa_Data.csv')"
   ]
  },
  {
   "cell_type": "code",
   "execution_count": 25,
   "metadata": {},
   "outputs": [
    {
     "data": {
      "text/plain": [
       "[['EMPLOYER_NAME_CODE', 'EMPLOYER_NAME'],\n",
       " ['EMPLOYER_CITY_CODE', 'EMPLOYER_CITY'],\n",
       " ['SOC_NAME_CODE', 'SOC_NAME'],\n",
       " ['EMPLOYER_STATE_CODE', 'EMPLOYER_STATE'],\n",
       " ['AGENT_REPRESENTING_EMPLOYER_CODE', 'AGENT_REPRESENTING_EMPLOYER'],\n",
       " ['JOB_TITLE_CODE', 'JOB_TITLE'],\n",
       " ['WILLFUL_VIOLATOR_CODE', 'WILLFUL_VIOLATOR'],\n",
       " ['WORKSITE_CITY_CODE', 'WORKSITE_CITY'],\n",
       " ['WORKSITE_STATE_CODE', 'WORKSITE_STATE'],\n",
       " ['PW_UNIT_OF_PAY_CODE', 'PW_UNIT_OF_PAY'],\n",
       " ['PW_WAGE_LEVEL_CODE', 'PW_WAGE_LEVEL'],\n",
       " ['WAGE_UNIT_OF_PAY_CODE', 'WAGE_UNIT_OF_PAY'],\n",
       " ['H1B_DEPENDENT_CODE', 'H1B_DEPENDENT']]"
      ]
     },
     "execution_count": 25,
     "metadata": {},
     "output_type": "execute_result"
    }
   ],
   "source": [
    "recode = list(zip(encoded,features))\n",
    "recoded = []\n",
    "for i in recode:\n",
    "    recoded.append(list(i))\n",
    "recoded"
   ]
  },
  {
   "cell_type": "code",
   "execution_count": 26,
   "metadata": {},
   "outputs": [
    {
     "data": {
      "text/html": [
       "<div>\n",
       "<style scoped>\n",
       "    .dataframe tbody tr th:only-of-type {\n",
       "        vertical-align: middle;\n",
       "    }\n",
       "\n",
       "    .dataframe tbody tr th {\n",
       "        vertical-align: top;\n",
       "    }\n",
       "\n",
       "    .dataframe thead th {\n",
       "        text-align: right;\n",
       "    }\n",
       "</style>\n",
       "<table border=\"1\" class=\"dataframe\">\n",
       "  <thead>\n",
       "    <tr style=\"text-align: right;\">\n",
       "      <th></th>\n",
       "      <th>TOTAL_WORKERS</th>\n",
       "      <th>NEW_EMPLOYMENT</th>\n",
       "      <th>CONTINUED_EMPLOYMENT</th>\n",
       "      <th>CHANGE_PREVIOUS_EMPLOYMENT</th>\n",
       "      <th>NEW_CONCURRENT_EMPLOYMENT</th>\n",
       "      <th>CHANGE_EMPLOYER</th>\n",
       "      <th>ANNUALIZED_PREVAILING_WAGE</th>\n",
       "      <th>PREVAILING_WAGE</th>\n",
       "      <th>ANNUALIZED_WAGE_RATE_OF_PAY</th>\n",
       "      <th>WAGE_RATE_OF_PAY</th>\n",
       "      <th>DAYS_PROCESS</th>\n",
       "      <th>EMPLOYER_NAME_CODE</th>\n",
       "      <th>EMPLOYER_CITY_CODE</th>\n",
       "      <th>SOC_NAME_CODE</th>\n",
       "      <th>EMPLOYER_STATE_CODE</th>\n",
       "      <th>AGENT_REPRESENTING_EMPLOYER_CODE</th>\n",
       "      <th>JOB_TITLE_CODE</th>\n",
       "      <th>WILLFUL_VIOLATOR_CODE</th>\n",
       "      <th>WORKSITE_CITY_CODE</th>\n",
       "      <th>WORKSITE_STATE_CODE</th>\n",
       "      <th>PW_UNIT_OF_PAY_CODE</th>\n",
       "      <th>PW_WAGE_LEVEL_CODE</th>\n",
       "      <th>WAGE_UNIT_OF_PAY_CODE</th>\n",
       "      <th>H1B_DEPENDENT_CODE</th>\n",
       "      <th>CASE_STATUS_CODE</th>\n",
       "    </tr>\n",
       "  </thead>\n",
       "  <tbody>\n",
       "    <tr>\n",
       "      <th>0</th>\n",
       "      <td>1</td>\n",
       "      <td>1</td>\n",
       "      <td>0</td>\n",
       "      <td>0</td>\n",
       "      <td>0</td>\n",
       "      <td>0</td>\n",
       "      <td>65666.0</td>\n",
       "      <td>65666.0</td>\n",
       "      <td>65666.0</td>\n",
       "      <td>65666.0</td>\n",
       "      <td>1095.0</td>\n",
       "      <td>41849</td>\n",
       "      <td>264</td>\n",
       "      <td>171</td>\n",
       "      <td>51</td>\n",
       "      <td>0</td>\n",
       "      <td>63038</td>\n",
       "      <td>0</td>\n",
       "      <td>503</td>\n",
       "      <td>47</td>\n",
       "      <td>4</td>\n",
       "      <td>1</td>\n",
       "      <td>4</td>\n",
       "      <td>0</td>\n",
       "      <td>0</td>\n",
       "    </tr>\n",
       "    <tr>\n",
       "      <th>1</th>\n",
       "      <td>1</td>\n",
       "      <td>1</td>\n",
       "      <td>0</td>\n",
       "      <td>0</td>\n",
       "      <td>0</td>\n",
       "      <td>0</td>\n",
       "      <td>94557.0</td>\n",
       "      <td>94557.0</td>\n",
       "      <td>110000.0</td>\n",
       "      <td>110000.0</td>\n",
       "      <td>1095.0</td>\n",
       "      <td>36986</td>\n",
       "      <td>3361</td>\n",
       "      <td>171</td>\n",
       "      <td>48</td>\n",
       "      <td>1</td>\n",
       "      <td>56570</td>\n",
       "      <td>0</td>\n",
       "      <td>5129</td>\n",
       "      <td>44</td>\n",
       "      <td>4</td>\n",
       "      <td>1</td>\n",
       "      <td>4</td>\n",
       "      <td>0</td>\n",
       "      <td>0</td>\n",
       "    </tr>\n",
       "    <tr>\n",
       "      <th>2</th>\n",
       "      <td>1</td>\n",
       "      <td>1</td>\n",
       "      <td>0</td>\n",
       "      <td>0</td>\n",
       "      <td>0</td>\n",
       "      <td>0</td>\n",
       "      <td>90813.0</td>\n",
       "      <td>90813.0</td>\n",
       "      <td>115000.0</td>\n",
       "      <td>115000.0</td>\n",
       "      <td>1096.0</td>\n",
       "      <td>5387</td>\n",
       "      <td>2784</td>\n",
       "      <td>683</td>\n",
       "      <td>36</td>\n",
       "      <td>1</td>\n",
       "      <td>71132</td>\n",
       "      <td>0</td>\n",
       "      <td>4249</td>\n",
       "      <td>33</td>\n",
       "      <td>4</td>\n",
       "      <td>1</td>\n",
       "      <td>4</td>\n",
       "      <td>0</td>\n",
       "      <td>0</td>\n",
       "    </tr>\n",
       "    <tr>\n",
       "      <th>3</th>\n",
       "      <td>1</td>\n",
       "      <td>1</td>\n",
       "      <td>0</td>\n",
       "      <td>0</td>\n",
       "      <td>0</td>\n",
       "      <td>0</td>\n",
       "      <td>56805.0</td>\n",
       "      <td>56805.0</td>\n",
       "      <td>60000.0</td>\n",
       "      <td>60000.0</td>\n",
       "      <td>1096.0</td>\n",
       "      <td>21541</td>\n",
       "      <td>2784</td>\n",
       "      <td>601</td>\n",
       "      <td>36</td>\n",
       "      <td>1</td>\n",
       "      <td>327</td>\n",
       "      <td>0</td>\n",
       "      <td>4249</td>\n",
       "      <td>33</td>\n",
       "      <td>4</td>\n",
       "      <td>1</td>\n",
       "      <td>4</td>\n",
       "      <td>0</td>\n",
       "      <td>0</td>\n",
       "    </tr>\n",
       "    <tr>\n",
       "      <th>4</th>\n",
       "      <td>1</td>\n",
       "      <td>1</td>\n",
       "      <td>0</td>\n",
       "      <td>0</td>\n",
       "      <td>0</td>\n",
       "      <td>0</td>\n",
       "      <td>61610.0</td>\n",
       "      <td>61610.0</td>\n",
       "      <td>72000.0</td>\n",
       "      <td>72000.0</td>\n",
       "      <td>1095.0</td>\n",
       "      <td>44996</td>\n",
       "      <td>3084</td>\n",
       "      <td>171</td>\n",
       "      <td>6</td>\n",
       "      <td>1</td>\n",
       "      <td>44026</td>\n",
       "      <td>0</td>\n",
       "      <td>4712</td>\n",
       "      <td>4</td>\n",
       "      <td>4</td>\n",
       "      <td>1</td>\n",
       "      <td>4</td>\n",
       "      <td>1</td>\n",
       "      <td>0</td>\n",
       "    </tr>\n",
       "  </tbody>\n",
       "</table>\n",
       "</div>"
      ],
      "text/plain": [
       "   TOTAL_WORKERS  NEW_EMPLOYMENT  CONTINUED_EMPLOYMENT  \\\n",
       "0              1               1                     0   \n",
       "1              1               1                     0   \n",
       "2              1               1                     0   \n",
       "3              1               1                     0   \n",
       "4              1               1                     0   \n",
       "\n",
       "   CHANGE_PREVIOUS_EMPLOYMENT  NEW_CONCURRENT_EMPLOYMENT  CHANGE_EMPLOYER  \\\n",
       "0                           0                          0                0   \n",
       "1                           0                          0                0   \n",
       "2                           0                          0                0   \n",
       "3                           0                          0                0   \n",
       "4                           0                          0                0   \n",
       "\n",
       "   ANNUALIZED_PREVAILING_WAGE  PREVAILING_WAGE  ANNUALIZED_WAGE_RATE_OF_PAY  \\\n",
       "0                     65666.0          65666.0                      65666.0   \n",
       "1                     94557.0          94557.0                     110000.0   \n",
       "2                     90813.0          90813.0                     115000.0   \n",
       "3                     56805.0          56805.0                      60000.0   \n",
       "4                     61610.0          61610.0                      72000.0   \n",
       "\n",
       "   WAGE_RATE_OF_PAY  DAYS_PROCESS  EMPLOYER_NAME_CODE  EMPLOYER_CITY_CODE  \\\n",
       "0           65666.0        1095.0               41849                 264   \n",
       "1          110000.0        1095.0               36986                3361   \n",
       "2          115000.0        1096.0                5387                2784   \n",
       "3           60000.0        1096.0               21541                2784   \n",
       "4           72000.0        1095.0               44996                3084   \n",
       "\n",
       "   SOC_NAME_CODE  EMPLOYER_STATE_CODE  AGENT_REPRESENTING_EMPLOYER_CODE  \\\n",
       "0            171                   51                                 0   \n",
       "1            171                   48                                 1   \n",
       "2            683                   36                                 1   \n",
       "3            601                   36                                 1   \n",
       "4            171                    6                                 1   \n",
       "\n",
       "   JOB_TITLE_CODE  WILLFUL_VIOLATOR_CODE  WORKSITE_CITY_CODE  \\\n",
       "0           63038                      0                 503   \n",
       "1           56570                      0                5129   \n",
       "2           71132                      0                4249   \n",
       "3             327                      0                4249   \n",
       "4           44026                      0                4712   \n",
       "\n",
       "   WORKSITE_STATE_CODE  PW_UNIT_OF_PAY_CODE  PW_WAGE_LEVEL_CODE  \\\n",
       "0                   47                    4                   1   \n",
       "1                   44                    4                   1   \n",
       "2                   33                    4                   1   \n",
       "3                   33                    4                   1   \n",
       "4                    4                    4                   1   \n",
       "\n",
       "   WAGE_UNIT_OF_PAY_CODE  H1B_DEPENDENT_CODE  CASE_STATUS_CODE  \n",
       "0                      4                   0                 0  \n",
       "1                      4                   0                 0  \n",
       "2                      4                   0                 0  \n",
       "3                      4                   0                 0  \n",
       "4                      4                   1                 0  "
      ]
     },
     "execution_count": 26,
     "metadata": {},
     "output_type": "execute_result"
    }
   ],
   "source": [
    "coded_df.head()"
   ]
  },
  {
   "cell_type": "code",
   "execution_count": 27,
   "metadata": {},
   "outputs": [
    {
     "data": {
      "text/html": [
       "<div>\n",
       "<style scoped>\n",
       "    .dataframe tbody tr th:only-of-type {\n",
       "        vertical-align: middle;\n",
       "    }\n",
       "\n",
       "    .dataframe tbody tr th {\n",
       "        vertical-align: top;\n",
       "    }\n",
       "\n",
       "    .dataframe thead th {\n",
       "        text-align: right;\n",
       "    }\n",
       "</style>\n",
       "<table border=\"1\" class=\"dataframe\">\n",
       "  <thead>\n",
       "    <tr style=\"text-align: right;\">\n",
       "      <th></th>\n",
       "      <th>AGENT_REPRESENTING_EMPLOYER_CODE</th>\n",
       "      <th>AGENT_REPRESENTING_EMPLOYER</th>\n",
       "    </tr>\n",
       "  </thead>\n",
       "  <tbody>\n",
       "    <tr>\n",
       "      <th>0</th>\n",
       "      <td>1</td>\n",
       "      <td>Y</td>\n",
       "    </tr>\n",
       "    <tr>\n",
       "      <th>153</th>\n",
       "      <td>0</td>\n",
       "      <td>N</td>\n",
       "    </tr>\n",
       "  </tbody>\n",
       "</table>\n",
       "</div>"
      ],
      "text/plain": [
       "     AGENT_REPRESENTING_EMPLOYER_CODE AGENT_REPRESENTING_EMPLOYER\n",
       "0                                   1                           Y\n",
       "153                                 0                           N"
      ]
     },
     "execution_count": 27,
     "metadata": {},
     "output_type": "execute_result"
    }
   ],
   "source": [
    "codes = []\n",
    "for i in recoded:\n",
    "    temp = df[i]\n",
    "    codes.append(temp.drop_duplicates())\n",
    "codes[4].head()"
   ]
  },
  {
   "cell_type": "code",
   "execution_count": 28,
   "metadata": {},
   "outputs": [
    {
     "name": "stdout",
     "output_type": "stream",
     "text": [
      "13 13\n"
     ]
    }
   ],
   "source": [
    "print(len(codes), len(recoded))"
   ]
  },
  {
   "cell_type": "code",
   "execution_count": 29,
   "metadata": {},
   "outputs": [
    {
     "name": "stdout",
     "output_type": "stream",
     "text": [
      "           CASE_STATUS  counts\n",
      "0            CERTIFIED   42100\n",
      "1  CERTIFIED-WITHDRAWN   42100\n",
      "2               DENIED   42100\n"
     ]
    }
   ],
   "source": [
    "import numpy as np\n",
    "\n",
    "coded_data = coded_df.merge(codes[0], on='EMPLOYER_NAME_CODE', how = 'left')\n",
    "coded_data = coded_data.merge(codes[1], on='EMPLOYER_CITY_CODE', how = 'left')\n",
    "coded_data = coded_data.merge(codes[2], on='SOC_NAME_CODE', how = 'left')\n",
    "coded_data = coded_data.merge(codes[3], on='EMPLOYER_STATE_CODE', how = 'left')\n",
    "coded_data = coded_data.merge(codes[4], on='AGENT_REPRESENTING_EMPLOYER_CODE', how = 'left')\n",
    "coded_data = coded_data.merge(codes[5], on='JOB_TITLE_CODE', how = 'left')\n",
    "coded_data = coded_data.merge(codes[6], on='WILLFUL_VIOLATOR_CODE', how = 'left')\n",
    "coded_data = coded_data.merge(codes[7], on='WORKSITE_CITY_CODE', how = 'left')\n",
    "coded_data = coded_data.merge(codes[8], on='WORKSITE_STATE_CODE', how = 'left')\n",
    "coded_data = coded_data.merge(codes[9], on='PW_UNIT_OF_PAY_CODE', how = 'left')\n",
    "coded_data = coded_data.merge(codes[10], on='PW_WAGE_LEVEL_CODE', how = 'left')\n",
    "coded_data = coded_data.merge(codes[11], on='WAGE_UNIT_OF_PAY_CODE', how = 'left')\n",
    "coded_data = coded_data.merge(codes[12], on='H1B_DEPENDENT_CODE', how = 'left')\n",
    "\n",
    "coded_data['CASE_STATUS'] = np.select([coded_data.CASE_STATUS_CODE == 0, coded_data.CASE_STATUS_CODE == 1], \n",
    "                        ['CERTIFIED', 'CERTIFIED-WITHDRAWN'], \n",
    "                        default='DENIED')\n",
    "\n",
    "VisaStatus_df = coded_data.groupby(['CASE_STATUS']).size().reset_index(name='counts')\n",
    "print(VisaStatus_df)"
   ]
  },
  {
   "cell_type": "code",
   "execution_count": 30,
   "metadata": {},
   "outputs": [],
   "source": [
    "coded_data.to_csv(r'/Users/patriciaattah/anaconda_files/yelp_dataset/Balanced_Visa_Data.csv')"
   ]
  },
  {
   "cell_type": "code",
   "execution_count": 31,
   "metadata": {},
   "outputs": [
    {
     "data": {
      "text/plain": [
       "(126300, 39)"
      ]
     },
     "execution_count": 31,
     "metadata": {},
     "output_type": "execute_result"
    }
   ],
   "source": [
    "coded_data.shape"
   ]
  },
  {
   "cell_type": "code",
   "execution_count": 32,
   "metadata": {},
   "outputs": [
    {
     "data": {
      "text/plain": [
       "<AxesSubplot:title={'center':'count (target)'}>"
      ]
     },
     "execution_count": 32,
     "metadata": {},
     "output_type": "execute_result"
    },
    {
     "data": {
      "image/png": "[encoded data removed]",
      "text/plain": [
       "<Figure size 432x288 with 1 Axes>"
      ]
     },
     "metadata": {
      "needs_background": "light"
     },
     "output_type": "display_data"
    }
   ],
   "source": [
    "coded_data['CASE_STATUS_CODE'].value_counts().plot(kind='bar', title='count (target)')"
   ]
  },
  {
   "cell_type": "code",
   "execution_count": 33,
   "metadata": {},
   "outputs": [],
   "source": [
    "# x and y given as DataFrame columns\n"
   ]
  },
  {
   "cell_type": "code",
   "execution_count": 34,
   "metadata": {},
   "outputs": [],
   "source": [
    "import matplotlib.pyplot as plt\n",
    "from pandas.plotting import parallel_coordinates"
   ]
  },
  {
   "cell_type": "code",
   "execution_count": null,
   "metadata": {},
   "outputs": [],
   "source": []
  }
 ],
 "metadata": {
  "kernelspec": {
   "display_name": "Python [conda env:ML7331]",
   "language": "python",
   "name": "conda-env-ML7331-py"
  },
  "language_info": {
   "codemirror_mode": {
    "name": "ipython",
    "version": 3
   },
   "file_extension": ".py",
   "mimetype": "text/x-python",
   "name": "python",
   "nbconvert_exporter": "python",
   "pygments_lexer": "ipython3",
   "version": "3.7.9"
  }
 },
 "nbformat": 4,
 "nbformat_minor": 2
}
