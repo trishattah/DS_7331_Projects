{
 "cells": [
  {
   "cell_type": "markdown",
   "id": "favorite-horse",
   "metadata": {},
   "source": [
    "# DS_7331 Machine Learning - Lab 3 Recommender System - Group 4"
   ]
  },
  {
   "cell_type": "markdown",
   "id": "otherwise-first",
   "metadata": {},
   "source": [
    "### Paticia Attah\n",
    "### Linda Eliasen"
   ]
  },
  {
   "cell_type": "code",
   "execution_count": 116,
   "id": "sunset-patient",
   "metadata": {},
   "outputs": [],
   "source": [
    "import numpy as np\n",
    "import pickle\n",
    "import pandas as pd\n",
    "import seaborn as sns\n",
    "import matplotlib.pyplot as plt\n",
    "%matplotlib inline\n",
    "from surprise import Dataset\n",
    "from surprise import Reader\n",
    "from surprise import KNNWithMeans\n",
    "from surprise import SlopeOne\n",
    "from surprise import CoClustering\n",
    "from surprise import SVD\n",
    "from surprise import SVDpp\n",
    "from surprise import NMF\n",
    "from surprise import BaselineOnly\n",
    "from surprise.model_selection import cross_validate\n",
    "from surprise.model_selection import KFold\n",
    "from surprise import accuracy\n",
    "from surprise.model_selection import GridSearchCV\n",
    "from collections import defaultdict\n",
    "import os\n",
    "from surprise.model_selection import train_test_split\n",
    "from mlxtend.evaluate import paired_ttest_5x2cv\n",
    "\n",
    "import warnings\n",
    "warnings.filterwarnings('ignore')"
   ]
  },
  {
   "cell_type": "markdown",
   "id": "human-rabbit",
   "metadata": {},
   "source": [
    "### BUSINESS UNDERSTANDING 1"
   ]
  },
  {
   "cell_type": "markdown",
   "id": "seven-meter",
   "metadata": {},
   "source": [
    "XXXX"
   ]
  },
  {
   "cell_type": "markdown",
   "id": "african-riding",
   "metadata": {},
   "source": [
    "### DATA UNDERSTANDING 1"
   ]
  },
  {
   "cell_type": "markdown",
   "id": "aggressive-millennium",
   "metadata": {},
   "source": [
    "### DATA MEANING  & TYPE"
   ]
  },
  {
   "cell_type": "markdown",
   "id": "selective-storm",
   "metadata": {},
   "source": [
    "xxx"
   ]
  },
  {
   "cell_type": "markdown",
   "id": "posted-result",
   "metadata": {},
   "source": [
    "Bringing in the data"
   ]
  },
  {
   "cell_type": "code",
   "execution_count": 2,
   "id": "spiritual-render",
   "metadata": {},
   "outputs": [
    {
     "data": {
      "text/html": [
       "<div>\n",
       "<style scoped>\n",
       "    .dataframe tbody tr th:only-of-type {\n",
       "        vertical-align: middle;\n",
       "    }\n",
       "\n",
       "    .dataframe tbody tr th {\n",
       "        vertical-align: top;\n",
       "    }\n",
       "\n",
       "    .dataframe thead th {\n",
       "        text-align: right;\n",
       "    }\n",
       "</style>\n",
       "<table border=\"1\" class=\"dataframe\">\n",
       "  <thead>\n",
       "    <tr style=\"text-align: right;\">\n",
       "      <th></th>\n",
       "      <th>userId</th>\n",
       "      <th>productId</th>\n",
       "      <th>Rating</th>\n",
       "      <th>timestamp</th>\n",
       "    </tr>\n",
       "  </thead>\n",
       "  <tbody>\n",
       "    <tr>\n",
       "      <th>0</th>\n",
       "      <td>AKM1MP6P0OYPR</td>\n",
       "      <td>0132793040</td>\n",
       "      <td>5.0</td>\n",
       "      <td>1365811200</td>\n",
       "    </tr>\n",
       "    <tr>\n",
       "      <th>1</th>\n",
       "      <td>A2CX7LUOHB2NDG</td>\n",
       "      <td>0321732944</td>\n",
       "      <td>5.0</td>\n",
       "      <td>1341100800</td>\n",
       "    </tr>\n",
       "    <tr>\n",
       "      <th>2</th>\n",
       "      <td>A2NWSAGRHCP8N5</td>\n",
       "      <td>0439886341</td>\n",
       "      <td>1.0</td>\n",
       "      <td>1367193600</td>\n",
       "    </tr>\n",
       "    <tr>\n",
       "      <th>3</th>\n",
       "      <td>A2WNBOD3WNDNKT</td>\n",
       "      <td>0439886341</td>\n",
       "      <td>3.0</td>\n",
       "      <td>1374451200</td>\n",
       "    </tr>\n",
       "    <tr>\n",
       "      <th>4</th>\n",
       "      <td>A1GI0U4ZRJA8WN</td>\n",
       "      <td>0439886341</td>\n",
       "      <td>1.0</td>\n",
       "      <td>1334707200</td>\n",
       "    </tr>\n",
       "    <tr>\n",
       "      <th>5</th>\n",
       "      <td>A1QGNMC6O1VW39</td>\n",
       "      <td>0511189877</td>\n",
       "      <td>5.0</td>\n",
       "      <td>1397433600</td>\n",
       "    </tr>\n",
       "    <tr>\n",
       "      <th>6</th>\n",
       "      <td>A3J3BRHTDRFJ2G</td>\n",
       "      <td>0511189877</td>\n",
       "      <td>2.0</td>\n",
       "      <td>1397433600</td>\n",
       "    </tr>\n",
       "    <tr>\n",
       "      <th>7</th>\n",
       "      <td>A2TY0BTJOTENPG</td>\n",
       "      <td>0511189877</td>\n",
       "      <td>5.0</td>\n",
       "      <td>1395878400</td>\n",
       "    </tr>\n",
       "    <tr>\n",
       "      <th>8</th>\n",
       "      <td>A34ATBPOK6HCHY</td>\n",
       "      <td>0511189877</td>\n",
       "      <td>5.0</td>\n",
       "      <td>1395532800</td>\n",
       "    </tr>\n",
       "    <tr>\n",
       "      <th>9</th>\n",
       "      <td>A89DO69P0XZ27</td>\n",
       "      <td>0511189877</td>\n",
       "      <td>5.0</td>\n",
       "      <td>1395446400</td>\n",
       "    </tr>\n",
       "  </tbody>\n",
       "</table>\n",
       "</div>"
      ],
      "text/plain": [
       "           userId   productId  Rating   timestamp\n",
       "0   AKM1MP6P0OYPR  0132793040     5.0  1365811200\n",
       "1  A2CX7LUOHB2NDG  0321732944     5.0  1341100800\n",
       "2  A2NWSAGRHCP8N5  0439886341     1.0  1367193600\n",
       "3  A2WNBOD3WNDNKT  0439886341     3.0  1374451200\n",
       "4  A1GI0U4ZRJA8WN  0439886341     1.0  1334707200\n",
       "5  A1QGNMC6O1VW39  0511189877     5.0  1397433600\n",
       "6  A3J3BRHTDRFJ2G  0511189877     2.0  1397433600\n",
       "7  A2TY0BTJOTENPG  0511189877     5.0  1395878400\n",
       "8  A34ATBPOK6HCHY  0511189877     5.0  1395532800\n",
       "9   A89DO69P0XZ27  0511189877     5.0  1395446400"
      ]
     },
     "execution_count": 2,
     "metadata": {},
     "output_type": "execute_result"
    }
   ],
   "source": [
    "df1 = pd.read_csv('ratings_Electronics.csv', names=['userId', 'productId','Rating','timestamp'])\n",
    "\n",
    "df1.head(10)"
   ]
  },
  {
   "cell_type": "code",
   "execution_count": 3,
   "id": "acute-poultry",
   "metadata": {},
   "outputs": [],
   "source": [
    "#Dropping the Timestamp column as it is not needed \n",
    "df1.drop(['timestamp'], axis=1,inplace=True)"
   ]
  },
  {
   "cell_type": "code",
   "execution_count": 4,
   "id": "incident-approach",
   "metadata": {},
   "outputs": [
    {
     "data": {
      "text/plain": [
       "(7824482, 3)"
      ]
     },
     "execution_count": 4,
     "metadata": {},
     "output_type": "execute_result"
    }
   ],
   "source": [
    "df1.shape"
   ]
  },
  {
   "cell_type": "code",
   "execution_count": 5,
   "id": "interior-martial",
   "metadata": {},
   "outputs": [
    {
     "name": "stdout",
     "output_type": "stream",
     "text": [
      "<class 'pandas.core.frame.DataFrame'>\n",
      "RangeIndex: 7824482 entries, 0 to 7824481\n",
      "Data columns (total 3 columns):\n",
      " #   Column     Dtype  \n",
      "---  ------     -----  \n",
      " 0   userId     object \n",
      " 1   productId  object \n",
      " 2   Rating     float64\n",
      "dtypes: float64(1), object(2)\n",
      "memory usage: 179.1+ MB\n"
     ]
    }
   ],
   "source": [
    "df1.info()"
   ]
  },
  {
   "cell_type": "code",
   "execution_count": 6,
   "id": "balanced-soviet",
   "metadata": {},
   "outputs": [
    {
     "data": {
      "text/html": [
       "<div>\n",
       "<style scoped>\n",
       "    .dataframe tbody tr th:only-of-type {\n",
       "        vertical-align: middle;\n",
       "    }\n",
       "\n",
       "    .dataframe tbody tr th {\n",
       "        vertical-align: top;\n",
       "    }\n",
       "\n",
       "    .dataframe thead th {\n",
       "        text-align: right;\n",
       "    }\n",
       "</style>\n",
       "<table border=\"1\" class=\"dataframe\">\n",
       "  <thead>\n",
       "    <tr style=\"text-align: right;\">\n",
       "      <th></th>\n",
       "      <th>Rating</th>\n",
       "    </tr>\n",
       "  </thead>\n",
       "  <tbody>\n",
       "    <tr>\n",
       "      <th>count</th>\n",
       "      <td>7.824482e+06</td>\n",
       "    </tr>\n",
       "    <tr>\n",
       "      <th>mean</th>\n",
       "      <td>4.012337e+00</td>\n",
       "    </tr>\n",
       "    <tr>\n",
       "      <th>std</th>\n",
       "      <td>1.380910e+00</td>\n",
       "    </tr>\n",
       "    <tr>\n",
       "      <th>min</th>\n",
       "      <td>1.000000e+00</td>\n",
       "    </tr>\n",
       "    <tr>\n",
       "      <th>25%</th>\n",
       "      <td>3.000000e+00</td>\n",
       "    </tr>\n",
       "    <tr>\n",
       "      <th>50%</th>\n",
       "      <td>5.000000e+00</td>\n",
       "    </tr>\n",
       "    <tr>\n",
       "      <th>75%</th>\n",
       "      <td>5.000000e+00</td>\n",
       "    </tr>\n",
       "    <tr>\n",
       "      <th>max</th>\n",
       "      <td>5.000000e+00</td>\n",
       "    </tr>\n",
       "  </tbody>\n",
       "</table>\n",
       "</div>"
      ],
      "text/plain": [
       "             Rating\n",
       "count  7.824482e+06\n",
       "mean   4.012337e+00\n",
       "std    1.380910e+00\n",
       "min    1.000000e+00\n",
       "25%    3.000000e+00\n",
       "50%    5.000000e+00\n",
       "75%    5.000000e+00\n",
       "max    5.000000e+00"
      ]
     },
     "execution_count": 6,
     "metadata": {},
     "output_type": "execute_result"
    }
   ],
   "source": [
    "#summary statistics\n",
    "\n",
    "dfssc = pd.DataFrame([df1.Rating]).T\n",
    "dfssc.describe()"
   ]
  },
  {
   "cell_type": "code",
   "execution_count": 7,
   "id": "arbitrary-departure",
   "metadata": {},
   "outputs": [
    {
     "name": "stdout",
     "output_type": "stream",
     "text": [
      "Minimum rating is: 1\n",
      "Maximum rating is: 5\n"
     ]
    }
   ],
   "source": [
    "# minimum and maximum ratings\n",
    "\n",
    "print('Minimum rating is: %d' %(df1.Rating.min()))\n",
    "print('Maximum rating is: %d' %(df1.Rating.max()))"
   ]
  },
  {
   "cell_type": "code",
   "execution_count": 8,
   "id": "structured-collector",
   "metadata": {},
   "outputs": [
    {
     "name": "stdout",
     "output_type": "stream",
     "text": [
      "Number of missing values across columns: \n",
      " userId       0\n",
      "productId    0\n",
      "Rating       0\n",
      "dtype: int64\n"
     ]
    }
   ],
   "source": [
    "#Check for missing values\n",
    "\n",
    "print('Number of missing values across columns: \\n',df1.isnull().sum())"
   ]
  },
  {
   "cell_type": "markdown",
   "id": "ranking-basket",
   "metadata": {},
   "source": [
    "### DATA UNDERSTANDING 2"
   ]
  },
  {
   "cell_type": "code",
   "execution_count": 9,
   "id": "bright-bible",
   "metadata": {},
   "outputs": [
    {
     "data": {
      "image/png": "[encoded data removed]",
      "text/plain": [
       "<Figure size 720x360 with 1 Axes>"
      ]
     },
     "metadata": {},
     "output_type": "display_data"
    }
   ],
   "source": [
    "# Check the distribution of the rating\n",
    "with sns.axes_style('white'):\n",
    "    g = sns.factorplot(\"Rating\", data=df1, aspect=2.0,kind='count')\n",
    "    g.set_ylabels(\"Total number of ratings\")"
   ]
  },
  {
   "cell_type": "code",
   "execution_count": null,
   "id": "taken-perth",
   "metadata": {},
   "outputs": [],
   "source": [
    "# GRAPH OF POPULAR ITEMS"
   ]
  },
  {
   "cell_type": "code",
   "execution_count": 10,
   "id": "vocal-california",
   "metadata": {},
   "outputs": [
    {
     "name": "stdout",
     "output_type": "stream",
     "text": [
      "Total data \n",
      "--------------------------------------------------\n",
      "\n",
      "Total no of ratings : 7824482\n",
      "Total No of Users   : 4201696\n",
      "Total No of products  : 476002\n"
     ]
    }
   ],
   "source": [
    "print(\"Total data \")\n",
    "print(\"-\"*50)\n",
    "print(\"\\nTotal no of ratings :\",df1.shape[0])\n",
    "print(\"Total No of Users   :\", len(np.unique(df1.userId)))\n",
    "print(\"Total No of products  :\", len(np.unique(df1.productId)))"
   ]
  },
  {
   "cell_type": "code",
   "execution_count": 108,
   "id": "august-graham",
   "metadata": {},
   "outputs": [
    {
     "data": {
      "text/plain": [
       "<AxesSubplot:>"
      ]
     },
     "execution_count": 108,
     "metadata": {},
     "output_type": "execute_result"
    },
    {
     "data": {
      "image/png": "[encoded data removed]",
      "text/plain": [
       "<Figure size 432x288 with 1 Axes>"
      ]
     },
     "metadata": {
      "needs_background": "light"
     },
     "output_type": "display_data"
    }
   ],
   "source": [
    "#Top 20 rated products \n",
    "prd = df1['productId'].value_counts()[:20]\n",
    "sns.barplot(x= prd.values, y = prd.index)"
   ]
  },
  {
   "cell_type": "code",
   "execution_count": 109,
   "id": "gross-guidance",
   "metadata": {},
   "outputs": [
    {
     "data": {
      "text/plain": [
       "<AxesSubplot:>"
      ]
     },
     "execution_count": 109,
     "metadata": {},
     "output_type": "execute_result"
    },
    {
     "data": {
      "image/png": "[encoded data removed]",
      "text/plain": [
       "<Figure size 432x288 with 1 Axes>"
      ]
     },
     "metadata": {
      "needs_background": "light"
     },
     "output_type": "display_data"
    }
   ],
   "source": [
    "#Top 20 users based on number of ratings\n",
    "usr = df1['userId'].value_counts()[:20]\n",
    "sns.barplot(x= usr.values, y = usr.index)"
   ]
  },
  {
   "cell_type": "code",
   "execution_count": 11,
   "id": "detected-harmony",
   "metadata": {},
   "outputs": [
    {
     "data": {
      "text/plain": [
       "userId\n",
       "A5JLAU2ARJ0BO     520\n",
       "ADLVFFE4VBT8      501\n",
       "A3OXHLG6DIBRW8    498\n",
       "A6FIAB28IS79      431\n",
       "A680RUE1FDO8B     406\n",
       "Name: Rating, dtype: int64"
      ]
     },
     "execution_count": 11,
     "metadata": {},
     "output_type": "execute_result"
    }
   ],
   "source": [
    "#Ratings per user\n",
    "\n",
    "RPU = df1.groupby(by='userId')['Rating'].count().sort_values(ascending=False)\n",
    "\n",
    "RPU.head()"
   ]
  },
  {
   "cell_type": "code",
   "execution_count": 12,
   "id": "atlantic-creek",
   "metadata": {},
   "outputs": [
    {
     "data": {
      "text/plain": [
       "userId\n",
       "A2HRB8UOXH92SQ    1\n",
       "A2HRBA4HO2E4GU    1\n",
       "A2HRBCM00IDK56    1\n",
       "A2HRBEBDTIB8MT    1\n",
       "AZZZY1W55XHZR     1\n",
       "Name: Rating, dtype: int64"
      ]
     },
     "execution_count": 12,
     "metadata": {},
     "output_type": "execute_result"
    }
   ],
   "source": [
    "RPU.tail()\n"
   ]
  },
  {
   "cell_type": "code",
   "execution_count": 13,
   "id": "random-scanner",
   "metadata": {},
   "outputs": [
    {
     "data": {
      "text/plain": [
       "count    4.201696e+06\n",
       "mean     1.862220e+00\n",
       "std      2.885110e+00\n",
       "min      1.000000e+00\n",
       "25%      1.000000e+00\n",
       "50%      1.000000e+00\n",
       "75%      2.000000e+00\n",
       "max      5.200000e+02\n",
       "Name: Rating, dtype: float64"
      ]
     },
     "execution_count": 13,
     "metadata": {},
     "output_type": "execute_result"
    }
   ],
   "source": [
    "RPU.describe()"
   ]
  },
  {
   "cell_type": "markdown",
   "id": "greatest-sampling",
   "metadata": {},
   "source": [
    "### MODELING AND EVALUATION 1"
   ]
  },
  {
   "cell_type": "markdown",
   "id": "occupational-southwest",
   "metadata": {},
   "source": [
    "To reduce the dimensionality of the dataset and improve processing time, rarely rated products and users who infrequently rated products are filtered out.  The final dataset will consist of users who provided 20 or more ratings and then a subsequent filter of products that received at least 50 ratings. "
   ]
  },
  {
   "cell_type": "code",
   "execution_count": 14,
   "id": "basic-michigan",
   "metadata": {},
   "outputs": [],
   "source": [
    "#Subset of the data containing users who gave 20 or more ratings\n",
    "\n",
    "df2=df1.groupby(\"userId\").filter(lambda x:x['Rating'].count() >=20)"
   ]
  },
  {
   "cell_type": "code",
   "execution_count": 15,
   "id": "representative-nepal",
   "metadata": {},
   "outputs": [],
   "source": [
    "# Additioanl subset of the data containing products with 50 or more ratings\n",
    "\n",
    "df3=df2.groupby(\"productId\").filter(lambda x:x['Rating'].count() >=50)"
   ]
  },
  {
   "cell_type": "code",
   "execution_count": 16,
   "id": "defensive-duplicate",
   "metadata": {},
   "outputs": [
    {
     "name": "stdout",
     "output_type": "stream",
     "text": [
      "Total data \n",
      "--------------------------------------------------\n",
      "\n",
      "Total no of ratings : 85410\n",
      "Total No of Users   : 12933\n",
      "Total No of products  : 880\n"
     ]
    }
   ],
   "source": [
    "#Resulting dataset\n",
    "\n",
    "print(\"Total data \")\n",
    "print(\"-\"*50)\n",
    "print(\"\\nTotal no of ratings :\",df3.shape[0])\n",
    "print(\"Total No of Users   :\", len(np.unique(df3.userId)))\n",
    "print(\"Total No of products  :\", len(np.unique(df3.productId)))"
   ]
  },
  {
   "cell_type": "code",
   "execution_count": 111,
   "id": "swiss-harassment",
   "metadata": {},
   "outputs": [
    {
     "data": {
      "text/html": [
       "<div>\n",
       "<style scoped>\n",
       "    .dataframe tbody tr th:only-of-type {\n",
       "        vertical-align: middle;\n",
       "    }\n",
       "\n",
       "    .dataframe tbody tr th {\n",
       "        vertical-align: top;\n",
       "    }\n",
       "\n",
       "    .dataframe thead th {\n",
       "        text-align: right;\n",
       "    }\n",
       "</style>\n",
       "<table border=\"1\" class=\"dataframe\">\n",
       "  <thead>\n",
       "    <tr style=\"text-align: right;\">\n",
       "      <th></th>\n",
       "      <th>Rating</th>\n",
       "    </tr>\n",
       "  </thead>\n",
       "  <tbody>\n",
       "    <tr>\n",
       "      <th>count</th>\n",
       "      <td>85410.000000</td>\n",
       "    </tr>\n",
       "    <tr>\n",
       "      <th>mean</th>\n",
       "      <td>4.407259</td>\n",
       "    </tr>\n",
       "    <tr>\n",
       "      <th>std</th>\n",
       "      <td>1.009711</td>\n",
       "    </tr>\n",
       "    <tr>\n",
       "      <th>min</th>\n",
       "      <td>1.000000</td>\n",
       "    </tr>\n",
       "    <tr>\n",
       "      <th>25%</th>\n",
       "      <td>4.000000</td>\n",
       "    </tr>\n",
       "    <tr>\n",
       "      <th>50%</th>\n",
       "      <td>5.000000</td>\n",
       "    </tr>\n",
       "    <tr>\n",
       "      <th>75%</th>\n",
       "      <td>5.000000</td>\n",
       "    </tr>\n",
       "    <tr>\n",
       "      <th>max</th>\n",
       "      <td>5.000000</td>\n",
       "    </tr>\n",
       "  </tbody>\n",
       "</table>\n",
       "</div>"
      ],
      "text/plain": [
       "             Rating\n",
       "count  85410.000000\n",
       "mean       4.407259\n",
       "std        1.009711\n",
       "min        1.000000\n",
       "25%        4.000000\n",
       "50%        5.000000\n",
       "75%        5.000000\n",
       "max        5.000000"
      ]
     },
     "execution_count": 111,
     "metadata": {},
     "output_type": "execute_result"
    }
   ],
   "source": [
    "#Revisiting 5 pt Summary and ratings distribution of condensed dataset\n",
    "\n",
    "dfssc = pd.DataFrame([df3.Rating]).T\n",
    "dfssc.describe()"
   ]
  },
  {
   "cell_type": "code",
   "execution_count": 112,
   "id": "horizontal-forwarding",
   "metadata": {},
   "outputs": [
    {
     "data": {
      "image/png": "[encoded data removed]",
      "text/plain": [
       "<Figure size 720x360 with 1 Axes>"
      ]
     },
     "metadata": {},
     "output_type": "display_data"
    }
   ],
   "source": [
    "with sns.axes_style('white'):\n",
    "    g = sns.factorplot(\"Rating\", data=df3, aspect=2.0,kind='count')\n",
    "    g.set_ylabels(\"Total number of ratings\")"
   ]
  },
  {
   "cell_type": "markdown",
   "id": "addressed-hygiene",
   "metadata": {},
   "source": [
    "Reading the Data into Surprise"
   ]
  },
  {
   "cell_type": "code",
   "execution_count": 19,
   "id": "capable-sheffield",
   "metadata": {},
   "outputs": [],
   "source": [
    "#Reading the dataset into Surprise\n",
    "reader = Reader(rating_scale=(1, 5))\n",
    "data = Dataset.load_from_df(df3,reader)"
   ]
  },
  {
   "cell_type": "code",
   "execution_count": 20,
   "id": "innocent-yahoo",
   "metadata": {},
   "outputs": [],
   "source": [
    "#Splitting the dataset into train and test - - reserving 30% for testing\n",
    "trainset, testset = train_test_split(data, test_size=0.3,random_state=28)"
   ]
  },
  {
   "cell_type": "code",
   "execution_count": 21,
   "id": "exterior-tracy",
   "metadata": {},
   "outputs": [
    {
     "name": "stdout",
     "output_type": "stream",
     "text": [
      "Number of users:  12484 \n",
      "\n",
      "Number of products:  880 \n",
      "\n"
     ]
    }
   ],
   "source": [
    "print('Number of users: ', trainset.n_users, '\\n')\n",
    "print('Number of products: ', trainset.n_items, '\\n')"
   ]
  },
  {
   "cell_type": "markdown",
   "id": "inclusive-packaging",
   "metadata": {},
   "source": [
    "**GridSearchCV** \n",
    "\n",
    "Utilized to compare accuracy metrics for algorithms on various combinations of parameters, over a cross-validation procedure to identify the best set of parameters for a prediction algorithm.\n",
    "\n",
    "n_factors: determines the size of your pᵤ and qᵢ vectors - - how many latent factors the model will try to find. \n",
    "\n",
    "n_epochs: determines how many times the gradient descent calculations are repeated. \n",
    "\n",
    "lr_all: Learning rate factor for all of the parameters. Step sizes the model will use to minimise the cost function\n",
    "\n",
    "reg_all: Regularisation factor for all of the parameters. Surprise uses an L2 regularisation"
   ]
  },
  {
   "cell_type": "code",
   "execution_count": 23,
   "id": "ambient-burke",
   "metadata": {},
   "outputs": [],
   "source": [
    "# Grid Search Parameters\n",
    "\n",
    "param_grid = {'n_factors': [5, 10, 20],\n",
    "              'n_epochs': [20, 30, 50],\n",
    "              'lr_all': [0.002, 0.005, 0.01],\n",
    "              'reg_all': [0.02, 0.05, 0.1]}\n",
    "\n"
   ]
  },
  {
   "cell_type": "markdown",
   "id": "broad-usage",
   "metadata": {},
   "source": [
    "#### Neighborhood-based algorithm"
   ]
  },
  {
   "cell_type": "markdown",
   "id": "genetic-activation",
   "metadata": {},
   "source": [
    "\n",
    "MSD mean square difference\n",
    "similarities will be computed between users user - item similarity"
   ]
  },
  {
   "cell_type": "markdown",
   "id": "permanent-apache",
   "metadata": {},
   "source": [
    "**KNN**"
   ]
  },
  {
   "cell_type": "markdown",
   "id": "recent-collins",
   "metadata": {},
   "source": [
    "**KNN with Means**\n",
    "\n",
    "Basic collaborative filtering algorithm, taking into account the mean ratings of each user.\n"
   ]
  },
  {
   "cell_type": "code",
   "execution_count": 24,
   "id": "assigned-address",
   "metadata": {},
   "outputs": [
    {
     "name": "stdout",
     "output_type": "stream",
     "text": [
      "Computing the msd similarity matrix...\n",
      "Done computing similarity matrix.\n",
      "Computing the msd similarity matrix...\n",
      "Done computing similarity matrix.\n",
      "Computing the msd similarity matrix...\n",
      "Done computing similarity matrix.\n",
      "Computing the msd similarity matrix...\n",
      "Done computing similarity matrix.\n",
      "Computing the msd similarity matrix...\n",
      "Done computing similarity matrix.\n",
      "Computing the msd similarity matrix...\n",
      "Done computing similarity matrix.\n",
      "Computing the msd similarity matrix...\n",
      "Done computing similarity matrix.\n",
      "Computing the msd similarity matrix...\n",
      "Done computing similarity matrix.\n",
      "Computing the msd similarity matrix...\n",
      "Done computing similarity matrix.\n",
      "Computing the msd similarity matrix...\n",
      "Done computing similarity matrix.\n",
      "Computing the msd similarity matrix...\n",
      "Done computing similarity matrix.\n",
      "Computing the msd similarity matrix...\n",
      "Done computing similarity matrix.\n",
      "Computing the msd similarity matrix...\n",
      "Done computing similarity matrix.\n",
      "Computing the msd similarity matrix...\n",
      "Done computing similarity matrix.\n",
      "Computing the msd similarity matrix...\n",
      "Done computing similarity matrix.\n",
      "Computing the msd similarity matrix...\n",
      "Done computing similarity matrix.\n",
      "Computing the msd similarity matrix...\n",
      "Done computing similarity matrix.\n",
      "Computing the msd similarity matrix...\n",
      "Done computing similarity matrix.\n",
      "Computing the msd similarity matrix...\n",
      "Done computing similarity matrix.\n",
      "Computing the msd similarity matrix...\n",
      "Done computing similarity matrix.\n",
      "Computing the msd similarity matrix...\n",
      "Done computing similarity matrix.\n",
      "Computing the msd similarity matrix...\n",
      "Done computing similarity matrix.\n",
      "Computing the msd similarity matrix...\n",
      "Done computing similarity matrix.\n",
      "Computing the msd similarity matrix...\n",
      "Done computing similarity matrix.\n",
      "Computing the msd similarity matrix...\n",
      "Done computing similarity matrix.\n",
      "Computing the msd similarity matrix...\n",
      "Done computing similarity matrix.\n",
      "Computing the msd similarity matrix...\n",
      "Done computing similarity matrix.\n",
      "Computing the msd similarity matrix...\n",
      "Done computing similarity matrix.\n",
      "Computing the msd similarity matrix...\n",
      "Done computing similarity matrix.\n",
      "Computing the msd similarity matrix...\n",
      "Done computing similarity matrix.\n",
      "Computing the msd similarity matrix...\n",
      "Done computing similarity matrix.\n",
      "Computing the msd similarity matrix...\n",
      "Done computing similarity matrix.\n",
      "Computing the msd similarity matrix...\n",
      "Done computing similarity matrix.\n",
      "Computing the msd similarity matrix...\n",
      "Done computing similarity matrix.\n",
      "Computing the msd similarity matrix...\n",
      "Done computing similarity matrix.\n",
      "Computing the msd similarity matrix...\n",
      "Done computing similarity matrix.\n",
      "Computing the msd similarity matrix...\n",
      "Done computing similarity matrix.\n",
      "Computing the msd similarity matrix...\n",
      "Done computing similarity matrix.\n",
      "Computing the msd similarity matrix...\n",
      "Done computing similarity matrix.\n",
      "Computing the msd similarity matrix...\n",
      "Done computing similarity matrix.\n",
      "Computing the msd similarity matrix...\n",
      "Done computing similarity matrix.\n",
      "Computing the msd similarity matrix...\n",
      "Done computing similarity matrix.\n",
      "Computing the msd similarity matrix...\n",
      "Done computing similarity matrix.\n",
      "Computing the msd similarity matrix...\n",
      "Done computing similarity matrix.\n",
      "Computing the msd similarity matrix...\n",
      "Done computing similarity matrix.\n",
      "Computing the msd similarity matrix...\n",
      "Done computing similarity matrix.\n",
      "Computing the msd similarity matrix...\n",
      "Done computing similarity matrix.\n",
      "Computing the msd similarity matrix...\n",
      "Done computing similarity matrix.\n",
      "Computing the msd similarity matrix...\n",
      "Done computing similarity matrix.\n",
      "Computing the msd similarity matrix...\n",
      "Done computing similarity matrix.\n",
      "Computing the msd similarity matrix...\n",
      "Done computing similarity matrix.\n",
      "Computing the msd similarity matrix...\n",
      "Done computing similarity matrix.\n",
      "Computing the msd similarity matrix...\n",
      "Done computing similarity matrix.\n",
      "Computing the msd similarity matrix...\n",
      "Done computing similarity matrix.\n",
      "Computing the msd similarity matrix...\n",
      "Done computing similarity matrix.\n",
      "Computing the msd similarity matrix...\n",
      "Done computing similarity matrix.\n",
      "Computing the msd similarity matrix...\n",
      "Done computing similarity matrix.\n",
      "Computing the msd similarity matrix...\n",
      "Done computing similarity matrix.\n",
      "Computing the msd similarity matrix...\n",
      "Done computing similarity matrix.\n",
      "Computing the msd similarity matrix...\n",
      "Done computing similarity matrix.\n",
      "Computing the msd similarity matrix...\n",
      "Done computing similarity matrix.\n",
      "Computing the msd similarity matrix...\n",
      "Done computing similarity matrix.\n",
      "Computing the msd similarity matrix...\n",
      "Done computing similarity matrix.\n",
      "Computing the msd similarity matrix...\n",
      "Done computing similarity matrix.\n",
      "Computing the msd similarity matrix...\n",
      "Done computing similarity matrix.\n",
      "Computing the msd similarity matrix...\n",
      "Done computing similarity matrix.\n",
      "Computing the msd similarity matrix...\n",
      "Done computing similarity matrix.\n",
      "Computing the msd similarity matrix...\n",
      "Done computing similarity matrix.\n",
      "Computing the msd similarity matrix...\n",
      "Done computing similarity matrix.\n",
      "Computing the msd similarity matrix...\n",
      "Done computing similarity matrix.\n",
      "Computing the msd similarity matrix...\n",
      "Done computing similarity matrix.\n",
      "Computing the msd similarity matrix...\n",
      "Done computing similarity matrix.\n",
      "Computing the msd similarity matrix...\n",
      "Done computing similarity matrix.\n",
      "Computing the msd similarity matrix...\n",
      "Done computing similarity matrix.\n",
      "Computing the msd similarity matrix...\n",
      "Done computing similarity matrix.\n",
      "Computing the msd similarity matrix...\n",
      "Done computing similarity matrix.\n",
      "Computing the msd similarity matrix...\n",
      "Done computing similarity matrix.\n",
      "Computing the msd similarity matrix...\n",
      "Done computing similarity matrix.\n",
      "Computing the msd similarity matrix...\n",
      "Done computing similarity matrix.\n",
      "Computing the msd similarity matrix...\n",
      "Done computing similarity matrix.\n",
      "Computing the msd similarity matrix...\n",
      "Done computing similarity matrix.\n",
      "Computing the msd similarity matrix...\n",
      "Done computing similarity matrix.\n",
      "Computing the msd similarity matrix...\n",
      "Done computing similarity matrix.\n",
      "Computing the msd similarity matrix...\n",
      "Done computing similarity matrix.\n",
      "Computing the msd similarity matrix...\n",
      "Done computing similarity matrix.\n",
      "Computing the msd similarity matrix...\n",
      "Done computing similarity matrix.\n",
      "Computing the msd similarity matrix...\n",
      "Done computing similarity matrix.\n",
      "Computing the msd similarity matrix...\n",
      "Done computing similarity matrix.\n",
      "Computing the msd similarity matrix...\n",
      "Done computing similarity matrix.\n",
      "Computing the msd similarity matrix...\n",
      "Done computing similarity matrix.\n",
      "Computing the msd similarity matrix...\n",
      "Done computing similarity matrix.\n",
      "Computing the msd similarity matrix...\n",
      "Done computing similarity matrix.\n",
      "Computing the msd similarity matrix...\n",
      "Done computing similarity matrix.\n",
      "Computing the msd similarity matrix...\n",
      "Done computing similarity matrix.\n",
      "Computing the msd similarity matrix...\n",
      "Done computing similarity matrix.\n",
      "Computing the msd similarity matrix...\n",
      "Done computing similarity matrix.\n",
      "Computing the msd similarity matrix...\n",
      "Done computing similarity matrix.\n",
      "Computing the msd similarity matrix...\n",
      "Done computing similarity matrix.\n",
      "Computing the msd similarity matrix...\n",
      "Done computing similarity matrix.\n",
      "Computing the msd similarity matrix...\n",
      "Done computing similarity matrix.\n",
      "Computing the msd similarity matrix...\n",
      "Done computing similarity matrix.\n",
      "Computing the msd similarity matrix...\n",
      "Done computing similarity matrix.\n",
      "Computing the msd similarity matrix...\n",
      "Done computing similarity matrix.\n",
      "Computing the msd similarity matrix...\n",
      "Done computing similarity matrix.\n",
      "Computing the msd similarity matrix...\n",
      "Done computing similarity matrix.\n",
      "Computing the msd similarity matrix...\n",
      "Done computing similarity matrix.\n",
      "Computing the msd similarity matrix...\n",
      "Done computing similarity matrix.\n",
      "Computing the msd similarity matrix...\n",
      "Done computing similarity matrix.\n",
      "Computing the msd similarity matrix...\n",
      "Done computing similarity matrix.\n",
      "Computing the msd similarity matrix...\n",
      "Done computing similarity matrix.\n",
      "Computing the msd similarity matrix...\n",
      "Done computing similarity matrix.\n",
      "Computing the msd similarity matrix...\n",
      "Done computing similarity matrix.\n",
      "Computing the msd similarity matrix...\n"
     ]
    },
    {
     "name": "stdout",
     "output_type": "stream",
     "text": [
      "Done computing similarity matrix.\n",
      "Computing the msd similarity matrix...\n",
      "Done computing similarity matrix.\n",
      "Computing the msd similarity matrix...\n",
      "Done computing similarity matrix.\n",
      "Computing the msd similarity matrix...\n",
      "Done computing similarity matrix.\n",
      "Computing the msd similarity matrix...\n",
      "Done computing similarity matrix.\n",
      "Computing the msd similarity matrix...\n",
      "Done computing similarity matrix.\n",
      "Computing the msd similarity matrix...\n",
      "Done computing similarity matrix.\n",
      "Computing the msd similarity matrix...\n",
      "Done computing similarity matrix.\n",
      "Computing the msd similarity matrix...\n",
      "Done computing similarity matrix.\n",
      "Computing the msd similarity matrix...\n",
      "Done computing similarity matrix.\n",
      "Computing the msd similarity matrix...\n",
      "Done computing similarity matrix.\n",
      "Computing the msd similarity matrix...\n",
      "Done computing similarity matrix.\n",
      "Computing the msd similarity matrix...\n",
      "Done computing similarity matrix.\n",
      "Computing the msd similarity matrix...\n",
      "Done computing similarity matrix.\n",
      "Computing the msd similarity matrix...\n",
      "Done computing similarity matrix.\n",
      "Computing the msd similarity matrix...\n",
      "Done computing similarity matrix.\n",
      "Computing the msd similarity matrix...\n",
      "Done computing similarity matrix.\n",
      "Computing the msd similarity matrix...\n",
      "Done computing similarity matrix.\n",
      "Computing the msd similarity matrix...\n",
      "Done computing similarity matrix.\n",
      "Computing the msd similarity matrix...\n",
      "Done computing similarity matrix.\n",
      "Computing the msd similarity matrix...\n",
      "Done computing similarity matrix.\n",
      "Computing the msd similarity matrix...\n",
      "Done computing similarity matrix.\n",
      "Computing the msd similarity matrix...\n",
      "Done computing similarity matrix.\n",
      "Computing the msd similarity matrix...\n",
      "Done computing similarity matrix.\n",
      "Computing the msd similarity matrix...\n",
      "Done computing similarity matrix.\n",
      "Computing the msd similarity matrix...\n",
      "Done computing similarity matrix.\n",
      "Computing the msd similarity matrix...\n",
      "Done computing similarity matrix.\n",
      "Computing the msd similarity matrix...\n",
      "Done computing similarity matrix.\n",
      "Computing the msd similarity matrix...\n",
      "Done computing similarity matrix.\n",
      "Computing the msd similarity matrix...\n",
      "Done computing similarity matrix.\n",
      "Computing the msd similarity matrix...\n",
      "Done computing similarity matrix.\n",
      "Computing the msd similarity matrix...\n",
      "Done computing similarity matrix.\n",
      "Computing the msd similarity matrix...\n",
      "Done computing similarity matrix.\n",
      "Computing the msd similarity matrix...\n",
      "Done computing similarity matrix.\n",
      "Computing the msd similarity matrix...\n",
      "Done computing similarity matrix.\n",
      "Computing the msd similarity matrix...\n",
      "Done computing similarity matrix.\n",
      "Computing the msd similarity matrix...\n",
      "Done computing similarity matrix.\n",
      "Computing the msd similarity matrix...\n",
      "Done computing similarity matrix.\n",
      "Computing the msd similarity matrix...\n",
      "Done computing similarity matrix.\n",
      "Computing the msd similarity matrix...\n",
      "Done computing similarity matrix.\n",
      "Computing the msd similarity matrix...\n",
      "Done computing similarity matrix.\n",
      "Computing the msd similarity matrix...\n",
      "Done computing similarity matrix.\n",
      "Computing the msd similarity matrix...\n",
      "Done computing similarity matrix.\n",
      "Computing the msd similarity matrix...\n",
      "Done computing similarity matrix.\n",
      "Computing the msd similarity matrix...\n",
      "Done computing similarity matrix.\n",
      "Computing the msd similarity matrix...\n",
      "Done computing similarity matrix.\n",
      "Computing the msd similarity matrix...\n",
      "Done computing similarity matrix.\n",
      "Computing the msd similarity matrix...\n",
      "Done computing similarity matrix.\n",
      "Computing the msd similarity matrix...\n",
      "Done computing similarity matrix.\n",
      "Computing the msd similarity matrix...\n",
      "Done computing similarity matrix.\n",
      "Computing the msd similarity matrix...\n",
      "Done computing similarity matrix.\n",
      "Computing the msd similarity matrix...\n",
      "Done computing similarity matrix.\n",
      "Computing the msd similarity matrix...\n",
      "Done computing similarity matrix.\n",
      "Computing the msd similarity matrix...\n",
      "Done computing similarity matrix.\n",
      "Computing the msd similarity matrix...\n",
      "Done computing similarity matrix.\n",
      "Computing the msd similarity matrix...\n",
      "Done computing similarity matrix.\n",
      "Computing the msd similarity matrix...\n",
      "Done computing similarity matrix.\n",
      "Computing the msd similarity matrix...\n",
      "Done computing similarity matrix.\n",
      "Computing the msd similarity matrix...\n",
      "Done computing similarity matrix.\n",
      "Computing the msd similarity matrix...\n",
      "Done computing similarity matrix.\n",
      "Computing the msd similarity matrix...\n",
      "Done computing similarity matrix.\n",
      "Computing the msd similarity matrix...\n",
      "Done computing similarity matrix.\n",
      "Computing the msd similarity matrix...\n",
      "Done computing similarity matrix.\n",
      "Computing the msd similarity matrix...\n",
      "Done computing similarity matrix.\n",
      "Computing the msd similarity matrix...\n",
      "Done computing similarity matrix.\n",
      "Computing the msd similarity matrix...\n",
      "Done computing similarity matrix.\n",
      "Computing the msd similarity matrix...\n",
      "Done computing similarity matrix.\n",
      "Computing the msd similarity matrix...\n",
      "Done computing similarity matrix.\n",
      "Computing the msd similarity matrix...\n",
      "Done computing similarity matrix.\n",
      "Computing the msd similarity matrix...\n",
      "Done computing similarity matrix.\n",
      "Computing the msd similarity matrix...\n",
      "Done computing similarity matrix.\n",
      "Computing the msd similarity matrix...\n",
      "Done computing similarity matrix.\n",
      "Computing the msd similarity matrix...\n",
      "Done computing similarity matrix.\n",
      "Computing the msd similarity matrix...\n",
      "Done computing similarity matrix.\n",
      "Computing the msd similarity matrix...\n",
      "Done computing similarity matrix.\n",
      "Computing the msd similarity matrix...\n",
      "Done computing similarity matrix.\n",
      "Computing the msd similarity matrix...\n",
      "Done computing similarity matrix.\n",
      "Computing the msd similarity matrix...\n",
      "Done computing similarity matrix.\n",
      "Computing the msd similarity matrix...\n",
      "Done computing similarity matrix.\n",
      "Computing the msd similarity matrix...\n",
      "Done computing similarity matrix.\n",
      "Computing the msd similarity matrix...\n",
      "Done computing similarity matrix.\n",
      "Computing the msd similarity matrix...\n",
      "Done computing similarity matrix.\n",
      "Computing the msd similarity matrix...\n",
      "Done computing similarity matrix.\n",
      "Computing the msd similarity matrix...\n",
      "Done computing similarity matrix.\n",
      "Computing the msd similarity matrix...\n",
      "Done computing similarity matrix.\n",
      "Computing the msd similarity matrix...\n",
      "Done computing similarity matrix.\n",
      "Computing the msd similarity matrix...\n",
      "Done computing similarity matrix.\n",
      "Computing the msd similarity matrix...\n",
      "Done computing similarity matrix.\n",
      "Computing the msd similarity matrix...\n",
      "Done computing similarity matrix.\n",
      "Computing the msd similarity matrix...\n",
      "Done computing similarity matrix.\n",
      "Computing the msd similarity matrix...\n",
      "Done computing similarity matrix.\n",
      "Computing the msd similarity matrix...\n",
      "Done computing similarity matrix.\n",
      "Computing the msd similarity matrix...\n",
      "Done computing similarity matrix.\n",
      "Computing the msd similarity matrix...\n",
      "Done computing similarity matrix.\n",
      "Computing the msd similarity matrix...\n",
      "Done computing similarity matrix.\n",
      "Computing the msd similarity matrix...\n",
      "Done computing similarity matrix.\n",
      "Computing the msd similarity matrix...\n",
      "Done computing similarity matrix.\n",
      "Computing the msd similarity matrix...\n",
      "Done computing similarity matrix.\n",
      "Computing the msd similarity matrix...\n",
      "Done computing similarity matrix.\n",
      "Computing the msd similarity matrix...\n",
      "Done computing similarity matrix.\n",
      "Computing the msd similarity matrix...\n",
      "Done computing similarity matrix.\n",
      "Computing the msd similarity matrix...\n",
      "Done computing similarity matrix.\n",
      "Computing the msd similarity matrix...\n",
      "Done computing similarity matrix.\n",
      "Computing the msd similarity matrix...\n",
      "Done computing similarity matrix.\n",
      "Computing the msd similarity matrix...\n",
      "Done computing similarity matrix.\n",
      "Computing the msd similarity matrix...\n",
      "Done computing similarity matrix.\n",
      "Computing the msd similarity matrix...\n",
      "Done computing similarity matrix.\n",
      "Computing the msd similarity matrix...\n",
      "Done computing similarity matrix.\n",
      "Computing the msd similarity matrix...\n",
      "Done computing similarity matrix.\n",
      "Computing the msd similarity matrix...\n",
      "Done computing similarity matrix.\n",
      "Computing the msd similarity matrix...\n",
      "Done computing similarity matrix.\n",
      "Computing the msd similarity matrix...\n",
      "Done computing similarity matrix.\n",
      "Computing the msd similarity matrix...\n",
      "Done computing similarity matrix.\n"
     ]
    },
    {
     "name": "stdout",
     "output_type": "stream",
     "text": [
      "Computing the msd similarity matrix...\n",
      "Done computing similarity matrix.\n",
      "Computing the msd similarity matrix...\n",
      "Done computing similarity matrix.\n",
      "Computing the msd similarity matrix...\n",
      "Done computing similarity matrix.\n",
      "Computing the msd similarity matrix...\n",
      "Done computing similarity matrix.\n",
      "Computing the msd similarity matrix...\n",
      "Done computing similarity matrix.\n",
      "Computing the msd similarity matrix...\n",
      "Done computing similarity matrix.\n",
      "Computing the msd similarity matrix...\n",
      "Done computing similarity matrix.\n",
      "Computing the msd similarity matrix...\n",
      "Done computing similarity matrix.\n",
      "Computing the msd similarity matrix...\n",
      "Done computing similarity matrix.\n",
      "Computing the msd similarity matrix...\n",
      "Done computing similarity matrix.\n",
      "Computing the msd similarity matrix...\n",
      "Done computing similarity matrix.\n",
      "Computing the msd similarity matrix...\n",
      "Done computing similarity matrix.\n",
      "Computing the msd similarity matrix...\n",
      "Done computing similarity matrix.\n",
      "Computing the msd similarity matrix...\n",
      "Done computing similarity matrix.\n",
      "Computing the msd similarity matrix...\n",
      "Done computing similarity matrix.\n",
      "Computing the msd similarity matrix...\n",
      "Done computing similarity matrix.\n",
      "Computing the msd similarity matrix...\n",
      "Done computing similarity matrix.\n",
      "Computing the msd similarity matrix...\n",
      "Done computing similarity matrix.\n",
      "Computing the msd similarity matrix...\n",
      "Done computing similarity matrix.\n",
      "Computing the msd similarity matrix...\n",
      "Done computing similarity matrix.\n",
      "Computing the msd similarity matrix...\n",
      "Done computing similarity matrix.\n",
      "Computing the msd similarity matrix...\n",
      "Done computing similarity matrix.\n",
      "Computing the msd similarity matrix...\n",
      "Done computing similarity matrix.\n",
      "Computing the msd similarity matrix...\n",
      "Done computing similarity matrix.\n",
      "Computing the msd similarity matrix...\n",
      "Done computing similarity matrix.\n",
      "Computing the msd similarity matrix...\n",
      "Done computing similarity matrix.\n",
      "Computing the msd similarity matrix...\n",
      "Done computing similarity matrix.\n",
      "Computing the msd similarity matrix...\n",
      "Done computing similarity matrix.\n",
      "Computing the msd similarity matrix...\n",
      "Done computing similarity matrix.\n",
      "Computing the msd similarity matrix...\n",
      "Done computing similarity matrix.\n",
      "Computing the msd similarity matrix...\n",
      "Done computing similarity matrix.\n",
      "Computing the msd similarity matrix...\n",
      "Done computing similarity matrix.\n",
      "Computing the msd similarity matrix...\n",
      "Done computing similarity matrix.\n",
      "Computing the msd similarity matrix...\n",
      "Done computing similarity matrix.\n",
      "Computing the msd similarity matrix...\n",
      "Done computing similarity matrix.\n",
      "Computing the msd similarity matrix...\n",
      "Done computing similarity matrix.\n",
      "Computing the msd similarity matrix...\n",
      "Done computing similarity matrix.\n",
      "Computing the msd similarity matrix...\n",
      "Done computing similarity matrix.\n",
      "Computing the msd similarity matrix...\n",
      "Done computing similarity matrix.\n",
      "Computing the msd similarity matrix...\n",
      "Done computing similarity matrix.\n",
      "Computing the msd similarity matrix...\n",
      "Done computing similarity matrix.\n",
      "Computing the msd similarity matrix...\n",
      "Done computing similarity matrix.\n",
      "Computing the msd similarity matrix...\n",
      "Done computing similarity matrix.\n",
      "Computing the msd similarity matrix...\n",
      "Done computing similarity matrix.\n",
      "Computing the msd similarity matrix...\n",
      "Done computing similarity matrix.\n",
      "Computing the msd similarity matrix...\n",
      "Done computing similarity matrix.\n",
      "Computing the msd similarity matrix...\n",
      "Done computing similarity matrix.\n",
      "Computing the msd similarity matrix...\n",
      "Done computing similarity matrix.\n",
      "Computing the msd similarity matrix...\n",
      "Done computing similarity matrix.\n",
      "Computing the msd similarity matrix...\n",
      "Done computing similarity matrix.\n",
      "Computing the msd similarity matrix...\n",
      "Done computing similarity matrix.\n",
      "Computing the msd similarity matrix...\n",
      "Done computing similarity matrix.\n",
      "Computing the msd similarity matrix...\n",
      "Done computing similarity matrix.\n",
      "Computing the msd similarity matrix...\n",
      "Done computing similarity matrix.\n",
      "Computing the msd similarity matrix...\n",
      "Done computing similarity matrix.\n",
      "Computing the msd similarity matrix...\n",
      "Done computing similarity matrix.\n",
      "Computing the msd similarity matrix...\n",
      "Done computing similarity matrix.\n",
      "Computing the msd similarity matrix...\n",
      "Done computing similarity matrix.\n",
      "Computing the msd similarity matrix...\n",
      "Done computing similarity matrix.\n",
      "Computing the msd similarity matrix...\n",
      "Done computing similarity matrix.\n",
      "Computing the msd similarity matrix...\n",
      "Done computing similarity matrix.\n",
      "Computing the msd similarity matrix...\n",
      "Done computing similarity matrix.\n",
      "Computing the msd similarity matrix...\n",
      "Done computing similarity matrix.\n",
      "Computing the msd similarity matrix...\n",
      "Done computing similarity matrix.\n",
      "Computing the msd similarity matrix...\n",
      "Done computing similarity matrix.\n",
      "Computing the msd similarity matrix...\n",
      "Done computing similarity matrix.\n",
      "Computing the msd similarity matrix...\n",
      "Done computing similarity matrix.\n",
      "Computing the msd similarity matrix...\n",
      "Done computing similarity matrix.\n",
      "Computing the msd similarity matrix...\n",
      "Done computing similarity matrix.\n",
      "Computing the msd similarity matrix...\n",
      "Done computing similarity matrix.\n",
      "Computing the msd similarity matrix...\n",
      "Done computing similarity matrix.\n",
      "Computing the msd similarity matrix...\n",
      "Done computing similarity matrix.\n",
      "Computing the msd similarity matrix...\n",
      "Done computing similarity matrix.\n",
      "Computing the msd similarity matrix...\n",
      "Done computing similarity matrix.\n",
      "Computing the msd similarity matrix...\n",
      "Done computing similarity matrix.\n",
      "Computing the msd similarity matrix...\n",
      "Done computing similarity matrix.\n",
      "Computing the msd similarity matrix...\n",
      "Done computing similarity matrix.\n",
      "Computing the msd similarity matrix...\n",
      "Done computing similarity matrix.\n",
      "Computing the msd similarity matrix...\n",
      "Done computing similarity matrix.\n",
      "Computing the msd similarity matrix...\n",
      "Done computing similarity matrix.\n",
      "Computing the msd similarity matrix...\n",
      "Done computing similarity matrix.\n",
      "Computing the msd similarity matrix...\n",
      "Done computing similarity matrix.\n",
      "Computing the msd similarity matrix...\n",
      "Done computing similarity matrix.\n",
      "Computing the msd similarity matrix...\n",
      "Done computing similarity matrix.\n",
      "Computing the msd similarity matrix...\n",
      "Done computing similarity matrix.\n",
      "Computing the msd similarity matrix...\n",
      "Done computing similarity matrix.\n",
      "Computing the msd similarity matrix...\n",
      "Done computing similarity matrix.\n",
      "Computing the msd similarity matrix...\n",
      "Done computing similarity matrix.\n",
      "Computing the msd similarity matrix...\n",
      "Done computing similarity matrix.\n",
      "Computing the msd similarity matrix...\n",
      "Done computing similarity matrix.\n",
      "Computing the msd similarity matrix...\n",
      "Done computing similarity matrix.\n",
      "Computing the msd similarity matrix...\n",
      "Done computing similarity matrix.\n",
      "Computing the msd similarity matrix...\n",
      "Done computing similarity matrix.\n",
      "Computing the msd similarity matrix...\n",
      "Done computing similarity matrix.\n",
      "Computing the msd similarity matrix...\n",
      "Done computing similarity matrix.\n",
      "Computing the msd similarity matrix...\n",
      "Done computing similarity matrix.\n",
      "Computing the msd similarity matrix...\n",
      "Done computing similarity matrix.\n",
      "Computing the msd similarity matrix...\n",
      "Done computing similarity matrix.\n",
      "Computing the msd similarity matrix...\n",
      "Done computing similarity matrix.\n",
      "Computing the msd similarity matrix...\n",
      "Done computing similarity matrix.\n",
      "Computing the msd similarity matrix...\n",
      "Done computing similarity matrix.\n",
      "Computing the msd similarity matrix...\n",
      "Done computing similarity matrix.\n",
      "Computing the msd similarity matrix...\n",
      "Done computing similarity matrix.\n",
      "Computing the msd similarity matrix...\n",
      "Done computing similarity matrix.\n",
      "Computing the msd similarity matrix...\n",
      "Done computing similarity matrix.\n",
      "Computing the msd similarity matrix...\n",
      "Done computing similarity matrix.\n",
      "Computing the msd similarity matrix...\n",
      "Done computing similarity matrix.\n",
      "Computing the msd similarity matrix...\n",
      "Done computing similarity matrix.\n",
      "Computing the msd similarity matrix...\n",
      "Done computing similarity matrix.\n",
      "Computing the msd similarity matrix...\n",
      "Done computing similarity matrix.\n",
      "Computing the msd similarity matrix...\n",
      "Done computing similarity matrix.\n",
      "Computing the msd similarity matrix...\n",
      "Done computing similarity matrix.\n",
      "Computing the msd similarity matrix...\n"
     ]
    },
    {
     "name": "stdout",
     "output_type": "stream",
     "text": [
      "Done computing similarity matrix.\n",
      "Computing the msd similarity matrix...\n",
      "Done computing similarity matrix.\n",
      "Computing the msd similarity matrix...\n",
      "Done computing similarity matrix.\n",
      "Computing the msd similarity matrix...\n",
      "Done computing similarity matrix.\n",
      "Computing the msd similarity matrix...\n",
      "Done computing similarity matrix.\n",
      "Computing the msd similarity matrix...\n",
      "Done computing similarity matrix.\n",
      "Computing the msd similarity matrix...\n",
      "Done computing similarity matrix.\n",
      "Computing the msd similarity matrix...\n",
      "Done computing similarity matrix.\n",
      "Computing the msd similarity matrix...\n",
      "Done computing similarity matrix.\n",
      "Computing the msd similarity matrix...\n",
      "Done computing similarity matrix.\n",
      "Computing the msd similarity matrix...\n",
      "Done computing similarity matrix.\n",
      "Computing the msd similarity matrix...\n",
      "Done computing similarity matrix.\n",
      "Computing the msd similarity matrix...\n",
      "Done computing similarity matrix.\n",
      "Computing the msd similarity matrix...\n",
      "Done computing similarity matrix.\n",
      "Computing the msd similarity matrix...\n",
      "Done computing similarity matrix.\n",
      "Computing the msd similarity matrix...\n",
      "Done computing similarity matrix.\n",
      "Computing the msd similarity matrix...\n",
      "Done computing similarity matrix.\n",
      "Computing the msd similarity matrix...\n",
      "Done computing similarity matrix.\n",
      "Computing the msd similarity matrix...\n",
      "Done computing similarity matrix.\n",
      "Computing the msd similarity matrix...\n",
      "Done computing similarity matrix.\n",
      "Computing the msd similarity matrix...\n",
      "Done computing similarity matrix.\n",
      "Computing the msd similarity matrix...\n",
      "Done computing similarity matrix.\n",
      "Computing the msd similarity matrix...\n",
      "Done computing similarity matrix.\n",
      "Computing the msd similarity matrix...\n",
      "Done computing similarity matrix.\n",
      "Computing the msd similarity matrix...\n",
      "Done computing similarity matrix.\n",
      "Computing the msd similarity matrix...\n",
      "Done computing similarity matrix.\n",
      "Computing the msd similarity matrix...\n",
      "Done computing similarity matrix.\n",
      "Computing the msd similarity matrix...\n",
      "Done computing similarity matrix.\n",
      "Computing the msd similarity matrix...\n",
      "Done computing similarity matrix.\n",
      "Computing the msd similarity matrix...\n",
      "Done computing similarity matrix.\n",
      "Computing the msd similarity matrix...\n",
      "Done computing similarity matrix.\n",
      "Computing the msd similarity matrix...\n",
      "Done computing similarity matrix.\n",
      "Computing the msd similarity matrix...\n",
      "Done computing similarity matrix.\n",
      "Computing the msd similarity matrix...\n",
      "Done computing similarity matrix.\n",
      "Computing the msd similarity matrix...\n",
      "Done computing similarity matrix.\n",
      "Computing the msd similarity matrix...\n",
      "Done computing similarity matrix.\n",
      "Computing the msd similarity matrix...\n",
      "Done computing similarity matrix.\n",
      "Computing the msd similarity matrix...\n",
      "Done computing similarity matrix.\n",
      "Computing the msd similarity matrix...\n",
      "Done computing similarity matrix.\n",
      "Computing the msd similarity matrix...\n",
      "Done computing similarity matrix.\n",
      "Computing the msd similarity matrix...\n",
      "Done computing similarity matrix.\n",
      "Computing the msd similarity matrix...\n",
      "Done computing similarity matrix.\n",
      "Computing the msd similarity matrix...\n",
      "Done computing similarity matrix.\n",
      "Computing the msd similarity matrix...\n",
      "Done computing similarity matrix.\n",
      "Computing the msd similarity matrix...\n",
      "Done computing similarity matrix.\n",
      "Computing the msd similarity matrix...\n",
      "Done computing similarity matrix.\n",
      "Computing the msd similarity matrix...\n",
      "Done computing similarity matrix.\n",
      "Computing the msd similarity matrix...\n",
      "Done computing similarity matrix.\n",
      "Computing the msd similarity matrix...\n",
      "Done computing similarity matrix.\n",
      "Computing the msd similarity matrix...\n",
      "Done computing similarity matrix.\n",
      "Computing the msd similarity matrix...\n",
      "Done computing similarity matrix.\n",
      "Computing the msd similarity matrix...\n",
      "Done computing similarity matrix.\n",
      "Computing the msd similarity matrix...\n",
      "Done computing similarity matrix.\n",
      "Computing the msd similarity matrix...\n",
      "Done computing similarity matrix.\n",
      "Computing the msd similarity matrix...\n",
      "Done computing similarity matrix.\n",
      "Computing the msd similarity matrix...\n",
      "Done computing similarity matrix.\n",
      "Computing the msd similarity matrix...\n",
      "Done computing similarity matrix.\n",
      "Computing the msd similarity matrix...\n",
      "Done computing similarity matrix.\n",
      "Computing the msd similarity matrix...\n",
      "Done computing similarity matrix.\n",
      "Computing the msd similarity matrix...\n",
      "Done computing similarity matrix.\n",
      "Computing the msd similarity matrix...\n",
      "Done computing similarity matrix.\n",
      "Computing the msd similarity matrix...\n",
      "Done computing similarity matrix.\n",
      "Computing the msd similarity matrix...\n",
      "Done computing similarity matrix.\n",
      "Computing the msd similarity matrix...\n",
      "Done computing similarity matrix.\n",
      "Computing the msd similarity matrix...\n",
      "Done computing similarity matrix.\n",
      "Computing the msd similarity matrix...\n",
      "Done computing similarity matrix.\n",
      "Computing the msd similarity matrix...\n",
      "Done computing similarity matrix.\n",
      "Computing the msd similarity matrix...\n",
      "Done computing similarity matrix.\n"
     ]
    }
   ],
   "source": [
    "# Tune algorithm parameters with GridSearchCV and k=5 cross-validation \n",
    "gskn = GridSearchCV(KNNWithMeans, param_grid, measures = ['rmse', 'mae'], cv = 5)\n",
    "gskn.fit(data)"
   ]
  },
  {
   "cell_type": "code",
   "execution_count": 25,
   "id": "unavailable-investor",
   "metadata": {},
   "outputs": [
    {
     "data": {
      "text/plain": [
       "{'rmse': 1.0504323772786677, 'mae': 0.6977829957974389}"
      ]
     },
     "execution_count": 25,
     "metadata": {},
     "output_type": "execute_result"
    }
   ],
   "source": [
    "# Best RMSE scores\n",
    "gskn.best_score"
   ]
  },
  {
   "cell_type": "code",
   "execution_count": 26,
   "id": "circular-celebrity",
   "metadata": {},
   "outputs": [
    {
     "data": {
      "text/plain": [
       "{'rmse': {'n_factors': 5, 'n_epochs': 20, 'lr_all': 0.002, 'reg_all': 0.02},\n",
       " 'mae': {'n_factors': 5, 'n_epochs': 20, 'lr_all': 0.002, 'reg_all': 0.02}}"
      ]
     },
     "execution_count": 26,
     "metadata": {},
     "output_type": "execute_result"
    }
   ],
   "source": [
    "# Combination of parameters that gave the best scores\n",
    "gskn.best_params"
   ]
  },
  {
   "cell_type": "code",
   "execution_count": 28,
   "id": "suburban-singing",
   "metadata": {},
   "outputs": [
    {
     "data": {
      "text/plain": [
       "1.073823036512019"
      ]
     },
     "execution_count": 28,
     "metadata": {},
     "output_type": "execute_result"
    }
   ],
   "source": [
    "algo = KNNWithMeans(n_factors=5, n_epochs=20, lr_all=0.002, reg_all=0.02, verbose=False)\n",
    "algo.fit = algo.fit(trainset)\n",
    "predictions = algo.test(testset)\n",
    "accuracy.rmse(predictions, verbose=False)"
   ]
  },
  {
   "cell_type": "markdown",
   "id": "desperate-battlefield",
   "metadata": {},
   "source": [
    "#### Matrix Factorization-based algorithms"
   ]
  },
  {
   "cell_type": "markdown",
   "id": "welsh-nirvana",
   "metadata": {},
   "source": [
    "**SVD**\n",
    "\n",
    "Singular Value Decomposition (SVD) for dimension reduction of a large User-Item Sparse matrix to provide more robust recommendations while avoiding computational complexity."
   ]
  },
  {
   "cell_type": "code",
   "execution_count": 30,
   "id": "revolutionary-syndicate",
   "metadata": {},
   "outputs": [],
   "source": [
    "# Tune algorithm parameters with GridSearchCV and k=5 cross-validation \n",
    "gssvd = GridSearchCV(SVD, param_grid, measures = ['rmse', 'mae'], cv = 5)\n",
    "gssvd.fit(data)"
   ]
  },
  {
   "cell_type": "code",
   "execution_count": 31,
   "id": "living-greek",
   "metadata": {},
   "outputs": [
    {
     "data": {
      "text/plain": [
       "{'rmse': 0.9394581826721069, 'mae': 0.6581228758095697}"
      ]
     },
     "execution_count": 31,
     "metadata": {},
     "output_type": "execute_result"
    }
   ],
   "source": [
    "# Best RMSE and MAE scores\n",
    "gssvd.best_score"
   ]
  },
  {
   "cell_type": "code",
   "execution_count": 32,
   "id": "level-parade",
   "metadata": {},
   "outputs": [
    {
     "data": {
      "text/plain": [
       "{'rmse': {'n_factors': 5, 'n_epochs': 30, 'lr_all': 0.005, 'reg_all': 0.1},\n",
       " 'mae': {'n_factors': 5, 'n_epochs': 50, 'lr_all': 0.005, 'reg_all': 0.05}}"
      ]
     },
     "execution_count": 32,
     "metadata": {},
     "output_type": "execute_result"
    }
   ],
   "source": [
    "# Combination of parameters that gave the best scores\n",
    "gssvd.best_params"
   ]
  },
  {
   "cell_type": "code",
   "execution_count": 33,
   "id": "authentic-broad",
   "metadata": {},
   "outputs": [
    {
     "data": {
      "text/plain": [
       "0.9419744271430601"
      ]
     },
     "execution_count": 33,
     "metadata": {},
     "output_type": "execute_result"
    }
   ],
   "source": [
    "algo = SVD(n_factors=5, n_epochs=30, lr_all=0.005, reg_all=0.01, verbose=False)\n",
    "algo.fit = algo.fit(trainset)\n",
    "predictions = algo.test(testset)\n",
    "accuracy.rmse(predictions, verbose=False)"
   ]
  },
  {
   "cell_type": "code",
   "execution_count": null,
   "id": "innocent-nepal",
   "metadata": {},
   "outputs": [],
   "source": []
  },
  {
   "cell_type": "markdown",
   "id": "governing-writer",
   "metadata": {},
   "source": [
    "**SVD++**\n",
    "\n",
    "Similar to SVD but also takes into account user and item bias.\n"
   ]
  },
  {
   "cell_type": "code",
   "execution_count": 34,
   "id": "physical-grounds",
   "metadata": {},
   "outputs": [],
   "source": [
    "# Tune algorithm parameters with GridSearchCV and k=5 cross-validation \n",
    "gssvdp = GridSearchCV(SVDpp, param_grid, measures = ['rmse', 'mae'], cv = 5)\n",
    "gssvdp.fit(data)"
   ]
  },
  {
   "cell_type": "code",
   "execution_count": 35,
   "id": "resistant-disability",
   "metadata": {},
   "outputs": [
    {
     "data": {
      "text/plain": [
       "{'rmse': 0.9396307342812678, 'mae': 0.6577531041830068}"
      ]
     },
     "execution_count": 35,
     "metadata": {},
     "output_type": "execute_result"
    }
   ],
   "source": [
    "# Best RMSE and MAE scores\n",
    "gssvdp.best_score"
   ]
  },
  {
   "cell_type": "code",
   "execution_count": 36,
   "id": "opened-cheese",
   "metadata": {},
   "outputs": [
    {
     "data": {
      "text/plain": [
       "{'rmse': {'n_factors': 5, 'n_epochs': 30, 'lr_all': 0.005, 'reg_all': 0.1},\n",
       " 'mae': {'n_factors': 5, 'n_epochs': 30, 'lr_all': 0.01, 'reg_all': 0.1}}"
      ]
     },
     "execution_count": 36,
     "metadata": {},
     "output_type": "execute_result"
    }
   ],
   "source": [
    "# Combination of parameters that gave the best scores\n",
    "gssvdp.best_params"
   ]
  },
  {
   "cell_type": "code",
   "execution_count": 37,
   "id": "early-brown",
   "metadata": {},
   "outputs": [
    {
     "data": {
      "text/plain": [
       "0.9477580434669421"
      ]
     },
     "execution_count": 37,
     "metadata": {},
     "output_type": "execute_result"
    }
   ],
   "source": [
    "algo = SVDpp(n_factors=5, n_epochs=30, lr_all=0.005, reg_all=0.01, verbose=False)\n",
    "algo.fit = algo.fit(trainset)\n",
    "predictions = algo.test(testset)\n",
    "accuracy.rmse(predictions, verbose=False)"
   ]
  },
  {
   "cell_type": "markdown",
   "id": "effective-market",
   "metadata": {},
   "source": [
    "### MODELING & EVALUATION 2 - Evaluate and Compare"
   ]
  },
  {
   "cell_type": "markdown",
   "id": "analyzed-tenant",
   "metadata": {},
   "source": [
    "RMSE comparison between the three models on the test dataset"
   ]
  },
  {
   "attachments": {
    "image.png": {
     "image/png": "[encoded data removed]"
    }
   },
   "cell_type": "markdown",
   "id": "developing-buying",
   "metadata": {},
   "source": [
    "\n",
    "![image.png](attachment:image.png)"
   ]
  },
  {
   "cell_type": "markdown",
   "id": "dated-tours",
   "metadata": {},
   "source": [
    "PRECISION AND RECALL\n",
    "https://surprise.readthedocs.io/en/stable/FAQ.html"
   ]
  },
  {
   "attachments": {
    "image-2.png": {
     "image/png": "[encoded data removed]"
    }
   },
   "cell_type": "markdown",
   "id": "infrared-immune",
   "metadata": {},
   "source": [
    "![image-2.png](attachment:image-2.png)"
   ]
  },
  {
   "attachments": {
    "image.png": {
     "image/png": "[encoded data removed]"
    }
   },
   "cell_type": "markdown",
   "id": "crucial-louisville",
   "metadata": {},
   "source": [
    "![image.png](attachment:image.png)"
   ]
  },
  {
   "cell_type": "code",
   "execution_count": 42,
   "id": "numeric-details",
   "metadata": {},
   "outputs": [],
   "source": [
    "# Returns the precision and recall of the model at k metrics\n",
    "def get_precision_vs_recall(algo, k_max = 10, verbose = False):\n",
    "    precision_list = []\n",
    "    recall_list = []\n",
    "    f1_score_list = []\n",
    "    \n",
    "    if algo:\n",
    "        for k_curr in range(1, k_max + 1):\n",
    "            algo.fit(trainset)\n",
    "            predictions = algo.test(testset)\n",
    "            \n",
    "            # Get precision and recall at k metrics for each user\n",
    "            precisions, recalls = precision_recall_at_k(predictions, k = k_curr, threshold = 4)\n",
    "            \n",
    "            # Precision and recall can then be averaged over all users\n",
    "            precision = sum(prec for prec in precisions.values()) / len(precisions)\n",
    "            recall = sum(rec for rec in recalls.values()) / len(recalls)\n",
    "            f1_score = 2 * (precision * recall) / (precision + recall)\n",
    "            \n",
    "            # Save measures\n",
    "            precision_list.append(precision)\n",
    "            recall_list.append(recall)\n",
    "            f1_score_list.append(f1_score)\n",
    "            \n",
    "            if verbose:\n",
    "                print('K =', k_curr, '- Precision:', precision, ', Recall:', recall, ', F1 score:', f1_score)\n",
    "    \n",
    "    return {'precision': precision_list, 'recall': recall_list, 'f1_score': f1_score_list};"
   ]
  },
  {
   "cell_type": "code",
   "execution_count": null,
   "id": "similar-liberia",
   "metadata": {},
   "outputs": [],
   "source": []
  },
  {
   "cell_type": "markdown",
   "id": "higher-typing",
   "metadata": {},
   "source": [
    "**kNN with Means**"
   ]
  },
  {
   "cell_type": "code",
   "execution_count": 59,
   "id": "relevant-command",
   "metadata": {},
   "outputs": [],
   "source": [
    "# Use KNN algorithm with the best params\n",
    "#algo = gssvdp.best_estimator['rmse'] \n",
    "algo = KNNWithMeans(n_factors=5, n_epochs=20, lr_all=0.002, reg_all=0.02, verbose=False)"
   ]
  },
  {
   "cell_type": "code",
   "execution_count": 60,
   "id": "final-niger",
   "metadata": {
    "scrolled": true
   },
   "outputs": [
    {
     "name": "stdout",
     "output_type": "stream",
     "text": [
      "K = 1 - Precision: 0.9122755372387401 , Recall: 0.5178742422641204 , F1 score: 0.6606916413298106\n",
      "K = 2 - Precision: 0.9078108134628594 , Recall: 0.6883906718726991 , F1 score: 0.7830195643272752\n",
      "K = 3 - Precision: 0.9062735093055987 , Recall: 0.7537310430645283 , F1 score: 0.8229934990182526\n",
      "K = 4 - Precision: 0.9052350112844683 , Recall: 0.7806247983443343 , F1 score: 0.8383246271156571\n",
      "K = 5 - Precision: 0.9048081640663362 , Recall: 0.7921030736516965 , F1 score: 0.8447128074723541\n",
      "K = 6 - Precision: 0.9044549111961557 , Recall: 0.7976513907697537 , F1 score: 0.8477023050451017\n",
      "K = 7 - Precision: 0.9044408932251167 , Recall: 0.8007845552518759 , F1 score: 0.849462221056756\n",
      "K = 8 - Precision: 0.9043497764133642 , Recall: 0.8024066687749046 , F1 score: 0.8503337351324685\n",
      "K = 9 - Precision: 0.9042543763326828 , Recall: 0.8033216241283083 , F1 score: 0.8508049937743263\n",
      "K = 10 - Precision: 0.9042064037206833 , Recall: 0.8039289097966504 , F1 score: 0.8511242202205572\n"
     ]
    }
   ],
   "source": [
    "# Calculate the precision and recall of the model at k metrics\n",
    "k_max = 10\n",
    "metrics = get_precision_vs_recall(algo, k_max, True)"
   ]
  },
  {
   "cell_type": "code",
   "execution_count": 61,
   "id": "popular-receipt",
   "metadata": {},
   "outputs": [
    {
     "data": {
      "image/png": "[encoded data removed]",
      "text/plain": [
       "<Figure size 720x360 with 1 Axes>"
      ]
     },
     "metadata": {
      "needs_background": "light"
     },
     "output_type": "display_data"
    }
   ],
   "source": [
    "# Get data\n",
    "c1 = metrics['precision']\n",
    "c2 = metrics['recall']\n",
    "c3 = metrics['f1_score']\n",
    "x = np.arange(len(c1))\n",
    "\n",
    "# Set up the matplotlib figure\n",
    "fig, ax1 = plt.subplots(figsize = (10, 5))\n",
    "plt.xticks(np.arange(min(x), max(x) + 1, 1.0))\n",
    "plt.ylim(0, 1)\n",
    "ax1.plot(x, c1, marker = 'o')\n",
    "ax1.plot(x, c2, marker = 'o')\n",
    "ax1.plot(x, c3, marker = 'o')\n",
    "ax1.axvline(x = 5, color = \"#8b0000\", linestyle = \"--\")\n",
    "\n",
    "# Chart setup\n",
    "plt.title(\"KNNWithMeans Model's metrics\", fontsize = 12)\n",
    "plt.xlabel(\"k\", fontsize = 10)\n",
    "plt.ylabel(\"Precision and Recall\", fontsize = 10)\n",
    "plt.legend((\"Precision\", \"Recall\", \"F1 score\"), loc = \"best\")\n",
    "plt.draw()"
   ]
  },
  {
   "cell_type": "code",
   "execution_count": 79,
   "id": "rough-lawrence",
   "metadata": {},
   "outputs": [
    {
     "data": {
      "image/png": "[encoded data removed]",
      "text/plain": [
       "<Figure size 360x360 with 1 Axes>"
      ]
     },
     "metadata": {
      "needs_background": "light"
     },
     "output_type": "display_data"
    }
   ],
   "source": [
    "# Get data\n",
    "x = metrics['recall']\n",
    "y = metrics['precision']\n",
    "\n",
    "# Create scatter plot with the precision and recall results\n",
    "fig, ax2 = plt.subplots(figsize = (5, 5))\n",
    "\n",
    "# Create 2D scatter plot\n",
    "sns.regplot(ax = ax2, x = x, y = y, fit_reg = False, marker = \"o\", color = \"#1f77b4\", scatter_kws = {\"s\": 30})\n",
    "\n",
    "# Plot setup\n",
    "ax2.set_title(\"Precision vs Recall\", fontsize = 12)\n",
    "ax2.set_xlabel(\"Recall\", fontsize = 10)\n",
    "ax2.set_ylabel(\"Precision\", fontsize = 10)\n",
    "ax2.grid()"
   ]
  },
  {
   "cell_type": "code",
   "execution_count": 81,
   "id": "inner-category",
   "metadata": {},
   "outputs": [
    {
     "data": {
      "text/html": [
       "<div>\n",
       "<style scoped>\n",
       "    .dataframe tbody tr th:only-of-type {\n",
       "        vertical-align: middle;\n",
       "    }\n",
       "\n",
       "    .dataframe tbody tr th {\n",
       "        vertical-align: top;\n",
       "    }\n",
       "\n",
       "    .dataframe thead th {\n",
       "        text-align: right;\n",
       "    }\n",
       "</style>\n",
       "<table border=\"1\" class=\"dataframe\">\n",
       "  <thead>\n",
       "    <tr style=\"text-align: right;\">\n",
       "      <th></th>\n",
       "      <th>user_id</th>\n",
       "      <th>product</th>\n",
       "      <th>actual_rating</th>\n",
       "      <th>pred_rating</th>\n",
       "      <th>abs_err</th>\n",
       "    </tr>\n",
       "  </thead>\n",
       "  <tbody>\n",
       "    <tr>\n",
       "      <th>21532</th>\n",
       "      <td>A33JXRDVEXQFWI</td>\n",
       "      <td>B009SYZ8OC</td>\n",
       "      <td>5.0</td>\n",
       "      <td>4.510623</td>\n",
       "      <td>0.489377</td>\n",
       "    </tr>\n",
       "    <tr>\n",
       "      <th>4525</th>\n",
       "      <td>AEFTIUQHSVUFX</td>\n",
       "      <td>B002V88HFE</td>\n",
       "      <td>3.0</td>\n",
       "      <td>4.240067</td>\n",
       "      <td>1.240067</td>\n",
       "    </tr>\n",
       "    <tr>\n",
       "      <th>962</th>\n",
       "      <td>A2O9ZGE4NN9XP1</td>\n",
       "      <td>B0088CJT4U</td>\n",
       "      <td>5.0</td>\n",
       "      <td>4.595309</td>\n",
       "      <td>0.404691</td>\n",
       "    </tr>\n",
       "    <tr>\n",
       "      <th>19541</th>\n",
       "      <td>ADLVFFE4VBT8</td>\n",
       "      <td>B000M17AVO</td>\n",
       "      <td>5.0</td>\n",
       "      <td>4.672033</td>\n",
       "      <td>0.327967</td>\n",
       "    </tr>\n",
       "    <tr>\n",
       "      <th>13795</th>\n",
       "      <td>A1SORZL733985Z</td>\n",
       "      <td>B006ZBWV0K</td>\n",
       "      <td>3.0</td>\n",
       "      <td>4.202261</td>\n",
       "      <td>1.202261</td>\n",
       "    </tr>\n",
       "    <tr>\n",
       "      <th>...</th>\n",
       "      <td>...</td>\n",
       "      <td>...</td>\n",
       "      <td>...</td>\n",
       "      <td>...</td>\n",
       "      <td>...</td>\n",
       "    </tr>\n",
       "    <tr>\n",
       "      <th>25432</th>\n",
       "      <td>A1JAMWCIMWRV2U</td>\n",
       "      <td>B001L6LG5K</td>\n",
       "      <td>4.0</td>\n",
       "      <td>3.535238</td>\n",
       "      <td>0.464762</td>\n",
       "    </tr>\n",
       "    <tr>\n",
       "      <th>9627</th>\n",
       "      <td>A4DSI9VRBED9N</td>\n",
       "      <td>B000QUUFRW</td>\n",
       "      <td>5.0</td>\n",
       "      <td>5.000000</td>\n",
       "      <td>0.000000</td>\n",
       "    </tr>\n",
       "    <tr>\n",
       "      <th>24391</th>\n",
       "      <td>A1S78V0MOUYFUA</td>\n",
       "      <td>B00829TIA4</td>\n",
       "      <td>4.0</td>\n",
       "      <td>4.412981</td>\n",
       "      <td>0.412981</td>\n",
       "    </tr>\n",
       "    <tr>\n",
       "      <th>14702</th>\n",
       "      <td>A1SB9BNNGKNX2Z</td>\n",
       "      <td>B005QUQP6W</td>\n",
       "      <td>4.0</td>\n",
       "      <td>4.153215</td>\n",
       "      <td>0.153215</td>\n",
       "    </tr>\n",
       "    <tr>\n",
       "      <th>876</th>\n",
       "      <td>APRGEWSO0H82G</td>\n",
       "      <td>B0041OSQB6</td>\n",
       "      <td>5.0</td>\n",
       "      <td>3.863405</td>\n",
       "      <td>1.136595</td>\n",
       "    </tr>\n",
       "  </tbody>\n",
       "</table>\n",
       "<p>75 rows × 5 columns</p>\n",
       "</div>"
      ],
      "text/plain": [
       "              user_id     product  actual_rating  pred_rating   abs_err\n",
       "21532  A33JXRDVEXQFWI  B009SYZ8OC            5.0     4.510623  0.489377\n",
       "4525    AEFTIUQHSVUFX  B002V88HFE            3.0     4.240067  1.240067\n",
       "962    A2O9ZGE4NN9XP1  B0088CJT4U            5.0     4.595309  0.404691\n",
       "19541    ADLVFFE4VBT8  B000M17AVO            5.0     4.672033  0.327967\n",
       "13795  A1SORZL733985Z  B006ZBWV0K            3.0     4.202261  1.202261\n",
       "...               ...         ...            ...          ...       ...\n",
       "25432  A1JAMWCIMWRV2U  B001L6LG5K            4.0     3.535238  0.464762\n",
       "9627    A4DSI9VRBED9N  B000QUUFRW            5.0     5.000000  0.000000\n",
       "24391  A1S78V0MOUYFUA  B00829TIA4            4.0     4.412981  0.412981\n",
       "14702  A1SB9BNNGKNX2Z  B005QUQP6W            4.0     4.153215  0.153215\n",
       "876     APRGEWSO0H82G  B0041OSQB6            5.0     3.863405  1.136595\n",
       "\n",
       "[75 rows x 5 columns]"
      ]
     },
     "execution_count": 81,
     "metadata": {},
     "output_type": "execute_result"
    }
   ],
   "source": [
    "df_pred = pd.DataFrame(predictions, columns=['user_id', 'product', 'actual_rating', 'pred_rating', 'details'])\n",
    "\n",
    "df_pred['abs_err'] = abs(df_pred['pred_rating'] - df_pred['actual_rating'])\n",
    "df_pred.drop(['details'], axis=1, inplace=True)\n",
    "\n",
    "df_pred.sample(75)"
   ]
  },
  {
   "cell_type": "code",
   "execution_count": 77,
   "id": "checked-brunswick",
   "metadata": {},
   "outputs": [
    {
     "data": {
      "image/png": "[encoded data removed]",
      "text/plain": [
       "<Figure size 1008x288 with 2 Axes>"
      ]
     },
     "metadata": {
      "needs_background": "light"
     },
     "output_type": "display_data"
    }
   ],
   "source": [
    "\n",
    "df_pred_err = df_pred.groupby('actual_rating')['abs_err'].mean().reset_index()\n",
    "\n",
    "fig, (ax1, ax2) = plt.subplots(nrows=1, ncols=2, figsize=(14, 4))\n",
    "\n",
    "sns.distplot(df_pred['abs_err'], color='#2f6194', ax=ax1)\n",
    "ax1.set_title('Distribution of absolute error in test set')\n",
    "\n",
    "sns.barplot(x='actual_rating', y='abs_err', data=df_pred_err, palette=palette, ax=ax2)\n",
    "ax2.set_title('Mean absolute error for rating in test set')\n",
    "\n",
    "plt.show()"
   ]
  },
  {
   "cell_type": "markdown",
   "id": "provincial-friend",
   "metadata": {},
   "source": [
    "**SVD**\n",
    "\n",
    "xx"
   ]
  },
  {
   "cell_type": "code",
   "execution_count": 82,
   "id": "eleven-butter",
   "metadata": {},
   "outputs": [],
   "source": [
    "# Use SVD algorithm with the best params\n",
    "#algo = gssvd.best_estimator['rmse'] \n",
    "algo = SVD(n_factors=5, n_epochs=30, lr_all=0.005, reg_all=0.01, verbose=False)"
   ]
  },
  {
   "cell_type": "code",
   "execution_count": 83,
   "id": "interpreted-hartford",
   "metadata": {},
   "outputs": [
    {
     "name": "stdout",
     "output_type": "stream",
     "text": [
      "K = 1 - Precision: 0.9123736630360122 , Recall: 0.5711086494579026 , F1 score: 0.7024883089053937\n",
      "K = 2 - Precision: 0.9042782847610636 , Recall: 0.7555479710656188 , F1 score: 0.8232495671538063\n",
      "K = 3 - Precision: 0.8999443953815487 , Recall: 0.8265070954991033 , F1 score: 0.861663860544483\n",
      "K = 4 - Precision: 0.898333496876331 , Recall: 0.8554583714263627 , F1 score: 0.8763718479083966\n",
      "K = 5 - Precision: 0.8973424263238842 , Recall: 0.86799908123007 , F1 score: 0.8824268825776622\n",
      "K = 6 - Precision: 0.8973064468648835 , Recall: 0.8744081028591119 , F1 score: 0.8857093012061148\n",
      "K = 7 - Precision: 0.8966971323903938 , Recall: 0.8760654790928876 , F1 score: 0.8862612487427421\n",
      "K = 8 - Precision: 0.8979474185906358 , Recall: 0.8785021541506365 , F1 score: 0.8881183610842268\n",
      "K = 9 - Precision: 0.897436852934353 , Recall: 0.8795971935400622 , F1 score: 0.8884274769935845\n",
      "K = 10 - Precision: 0.897568972311395 , Recall: 0.879260123244914 , F1 score: 0.8883202185162752\n"
     ]
    }
   ],
   "source": [
    "# Calculate the precision and recall of the model at k metrics\n",
    "k_max = 10\n",
    "metrics = get_precision_vs_recall(algo, k_max, True)"
   ]
  },
  {
   "cell_type": "code",
   "execution_count": 84,
   "id": "possible-advertiser",
   "metadata": {},
   "outputs": [
    {
     "data": {
      "image/png": "[encoded data removed]",
      "text/plain": [
       "<Figure size 720x360 with 1 Axes>"
      ]
     },
     "metadata": {
      "needs_background": "light"
     },
     "output_type": "display_data"
    }
   ],
   "source": [
    "# Get data\n",
    "c1 = metrics['precision']\n",
    "c2 = metrics['recall']\n",
    "c3 = metrics['f1_score']\n",
    "x = np.arange(len(c1))\n",
    "\n",
    "# Set up the matplotlib figure\n",
    "fig, ax1 = plt.subplots(figsize = (10, 5))\n",
    "plt.xticks(np.arange(min(x), max(x) + 1, 1.0))\n",
    "plt.ylim(0, 1)\n",
    "ax1.plot(x, c1, marker = 'o')\n",
    "ax1.plot(x, c2, marker = 'o')\n",
    "ax1.plot(x, c3, marker = 'o')\n",
    "ax1.axvline(x = 6, color = \"#8b0000\", linestyle = \"--\")\n",
    "\n",
    "# Chart setup\n",
    "plt.title(\"SVD Model's metrics\", fontsize = 12)\n",
    "plt.xlabel(\"k\", fontsize = 10)\n",
    "plt.ylabel(\"Precision and Recall\", fontsize = 10)\n",
    "plt.legend((\"Precision\", \"Recall\", \"F1 score\"), loc = \"best\")\n",
    "plt.draw()"
   ]
  },
  {
   "cell_type": "code",
   "execution_count": 85,
   "id": "graphic-ocean",
   "metadata": {},
   "outputs": [
    {
     "data": {
      "image/png": "[encoded data removed]",
      "text/plain": [
       "<Figure size 360x360 with 1 Axes>"
      ]
     },
     "metadata": {
      "needs_background": "light"
     },
     "output_type": "display_data"
    }
   ],
   "source": [
    "# Get data\n",
    "x = metrics['recall']\n",
    "y = metrics['precision']\n",
    "\n",
    "# Create scatter plot with the precision and recall results\n",
    "fig, ax2 = plt.subplots(figsize = (5, 5))\n",
    "\n",
    "# Create 2D scatter plot\n",
    "sns.regplot(ax = ax2, x = x, y = y, fit_reg = False, marker = \"o\", color = \"#1f77b4\", scatter_kws = {\"s\": 30})\n",
    "\n",
    "# Plot setup\n",
    "ax2.set_title(\"Precision vs Recall\", fontsize = 12)\n",
    "ax2.set_xlabel(\"Recall\", fontsize = 10)\n",
    "ax2.set_ylabel(\"Precision\", fontsize = 10)\n",
    "ax2.grid()"
   ]
  },
  {
   "cell_type": "code",
   "execution_count": 86,
   "id": "micro-department",
   "metadata": {},
   "outputs": [
    {
     "data": {
      "text/html": [
       "<div>\n",
       "<style scoped>\n",
       "    .dataframe tbody tr th:only-of-type {\n",
       "        vertical-align: middle;\n",
       "    }\n",
       "\n",
       "    .dataframe tbody tr th {\n",
       "        vertical-align: top;\n",
       "    }\n",
       "\n",
       "    .dataframe thead th {\n",
       "        text-align: right;\n",
       "    }\n",
       "</style>\n",
       "<table border=\"1\" class=\"dataframe\">\n",
       "  <thead>\n",
       "    <tr style=\"text-align: right;\">\n",
       "      <th></th>\n",
       "      <th>user_id</th>\n",
       "      <th>product</th>\n",
       "      <th>actual_rating</th>\n",
       "      <th>pred_rating</th>\n",
       "      <th>abs_err</th>\n",
       "    </tr>\n",
       "  </thead>\n",
       "  <tbody>\n",
       "    <tr>\n",
       "      <th>17466</th>\n",
       "      <td>A19FRW264WZTGP</td>\n",
       "      <td>B004CLYEFK</td>\n",
       "      <td>5.0</td>\n",
       "      <td>4.807563</td>\n",
       "      <td>0.192437</td>\n",
       "    </tr>\n",
       "    <tr>\n",
       "      <th>19149</th>\n",
       "      <td>A1WDM0EFA58H69</td>\n",
       "      <td>B000X24ISU</td>\n",
       "      <td>5.0</td>\n",
       "      <td>4.824664</td>\n",
       "      <td>0.175336</td>\n",
       "    </tr>\n",
       "    <tr>\n",
       "      <th>21830</th>\n",
       "      <td>ANRXH0BVEAR6B</td>\n",
       "      <td>B004P8K24W</td>\n",
       "      <td>5.0</td>\n",
       "      <td>3.724246</td>\n",
       "      <td>1.275754</td>\n",
       "    </tr>\n",
       "    <tr>\n",
       "      <th>6524</th>\n",
       "      <td>AJJ4Z626IVKNZ</td>\n",
       "      <td>B003NR57BY</td>\n",
       "      <td>5.0</td>\n",
       "      <td>3.968482</td>\n",
       "      <td>1.031518</td>\n",
       "    </tr>\n",
       "    <tr>\n",
       "      <th>8149</th>\n",
       "      <td>A10KGRO01ZOXK5</td>\n",
       "      <td>B0000AI0N1</td>\n",
       "      <td>5.0</td>\n",
       "      <td>4.844981</td>\n",
       "      <td>0.155019</td>\n",
       "    </tr>\n",
       "    <tr>\n",
       "      <th>...</th>\n",
       "      <td>...</td>\n",
       "      <td>...</td>\n",
       "      <td>...</td>\n",
       "      <td>...</td>\n",
       "      <td>...</td>\n",
       "    </tr>\n",
       "    <tr>\n",
       "      <th>11098</th>\n",
       "      <td>A6DF9OQYVGS8X</td>\n",
       "      <td>B007WTAJTO</td>\n",
       "      <td>5.0</td>\n",
       "      <td>5.000000</td>\n",
       "      <td>0.000000</td>\n",
       "    </tr>\n",
       "    <tr>\n",
       "      <th>8003</th>\n",
       "      <td>AOFHTWA03NGAS</td>\n",
       "      <td>B00166EUI0</td>\n",
       "      <td>3.0</td>\n",
       "      <td>4.322331</td>\n",
       "      <td>1.322331</td>\n",
       "    </tr>\n",
       "    <tr>\n",
       "      <th>2461</th>\n",
       "      <td>A22SY0Z6MEVGM9</td>\n",
       "      <td>B00609B3J2</td>\n",
       "      <td>5.0</td>\n",
       "      <td>4.792233</td>\n",
       "      <td>0.207767</td>\n",
       "    </tr>\n",
       "    <tr>\n",
       "      <th>13245</th>\n",
       "      <td>A1ZI4EVM2SQ118</td>\n",
       "      <td>B000EW8074</td>\n",
       "      <td>5.0</td>\n",
       "      <td>4.030978</td>\n",
       "      <td>0.969022</td>\n",
       "    </tr>\n",
       "    <tr>\n",
       "      <th>9006</th>\n",
       "      <td>A3GIA221CVY1A1</td>\n",
       "      <td>B004SBBD8U</td>\n",
       "      <td>5.0</td>\n",
       "      <td>4.618379</td>\n",
       "      <td>0.381621</td>\n",
       "    </tr>\n",
       "  </tbody>\n",
       "</table>\n",
       "<p>75 rows × 5 columns</p>\n",
       "</div>"
      ],
      "text/plain": [
       "              user_id     product  actual_rating  pred_rating   abs_err\n",
       "17466  A19FRW264WZTGP  B004CLYEFK            5.0     4.807563  0.192437\n",
       "19149  A1WDM0EFA58H69  B000X24ISU            5.0     4.824664  0.175336\n",
       "21830   ANRXH0BVEAR6B  B004P8K24W            5.0     3.724246  1.275754\n",
       "6524    AJJ4Z626IVKNZ  B003NR57BY            5.0     3.968482  1.031518\n",
       "8149   A10KGRO01ZOXK5  B0000AI0N1            5.0     4.844981  0.155019\n",
       "...               ...         ...            ...          ...       ...\n",
       "11098   A6DF9OQYVGS8X  B007WTAJTO            5.0     5.000000  0.000000\n",
       "8003    AOFHTWA03NGAS  B00166EUI0            3.0     4.322331  1.322331\n",
       "2461   A22SY0Z6MEVGM9  B00609B3J2            5.0     4.792233  0.207767\n",
       "13245  A1ZI4EVM2SQ118  B000EW8074            5.0     4.030978  0.969022\n",
       "9006   A3GIA221CVY1A1  B004SBBD8U            5.0     4.618379  0.381621\n",
       "\n",
       "[75 rows x 5 columns]"
      ]
     },
     "execution_count": 86,
     "metadata": {},
     "output_type": "execute_result"
    }
   ],
   "source": [
    "df_pred = pd.DataFrame(predictions, columns=['user_id', 'product', 'actual_rating', 'pred_rating', 'details'])\n",
    "\n",
    "df_pred['abs_err'] = abs(df_pred['pred_rating'] - df_pred['actual_rating'])\n",
    "df_pred.drop(['details'], axis=1, inplace=True)\n",
    "\n",
    "df_pred.sample(75)"
   ]
  },
  {
   "cell_type": "code",
   "execution_count": 87,
   "id": "cellular-metro",
   "metadata": {},
   "outputs": [
    {
     "data": {
      "image/png": "[encoded data removed]",
      "text/plain": [
       "<Figure size 1008x288 with 2 Axes>"
      ]
     },
     "metadata": {
      "needs_background": "light"
     },
     "output_type": "display_data"
    }
   ],
   "source": [
    "\n",
    "df_pred_err = df_pred.groupby('actual_rating')['abs_err'].mean().reset_index()\n",
    "\n",
    "fig, (ax1, ax2) = plt.subplots(nrows=1, ncols=2, figsize=(14, 4))\n",
    "\n",
    "sns.distplot(df_pred['abs_err'], color='#2f6194', ax=ax1)\n",
    "ax1.set_title('Distribution of absolute error in test set')\n",
    "\n",
    "sns.barplot(x='actual_rating', y='abs_err', data=df_pred_err, palette=palette, ax=ax2)\n",
    "ax2.set_title('Mean absolute error for rating in test set')\n",
    "\n",
    "plt.show()"
   ]
  },
  {
   "cell_type": "markdown",
   "id": "wrong-butterfly",
   "metadata": {},
   "source": [
    "SVD ++"
   ]
  },
  {
   "cell_type": "code",
   "execution_count": 88,
   "id": "simplified-rocket",
   "metadata": {},
   "outputs": [],
   "source": [
    "# Use SVD algorithm with the best params\n",
    "#algo = gssvdp.best_estimator['rmse'] \n",
    "algo = SVDpp(n_factors=5, n_epochs=30, lr_all=0.005, reg_all=0.1, verbose=False)"
   ]
  },
  {
   "cell_type": "code",
   "execution_count": 89,
   "id": "valuable-drunk",
   "metadata": {},
   "outputs": [
    {
     "name": "stdout",
     "output_type": "stream",
     "text": [
      "K = 1 - Precision: 0.9132567952114611 , Recall: 0.576743994660107 , F1 score: 0.7070001248336869\n",
      "K = 2 - Precision: 0.9025610833088019 , Recall: 0.7643156997553378 , F1 score: 0.8277055784447366\n",
      "K = 3 - Precision: 0.8986033428188306 , Recall: 0.8363556097559195 , F1 score: 0.8663627984934361\n",
      "K = 4 - Precision: 0.896166552186572 , Recall: 0.8656415317935088 , F1 score: 0.8806396043142033\n",
      "K = 5 - Precision: 0.8955598076734412 , Recall: 0.8797110570942388 , F1 score: 0.8875646874344616\n",
      "K = 6 - Precision: 0.8953864520982593 , Recall: 0.8838879469282993 , F1 score: 0.8896000451482146\n",
      "K = 7 - Precision: 0.8944841620290573 , Recall: 0.8896586955905432 , F1 score: 0.8920649032319158\n",
      "K = 8 - Precision: 0.8946861376284423 , Recall: 0.8906021517010312 , F1 score: 0.892639473446885\n",
      "K = 9 - Precision: 0.8937026990824485 , Recall: 0.890190401400382 , F1 score: 0.8919430925692586\n",
      "K = 10 - Precision: 0.8942319164279745 , Recall: 0.8916970618446429 , F1 score: 0.8929626902160166\n"
     ]
    }
   ],
   "source": [
    "# Calculate the precision and recall of the model at k metrics\n",
    "k_max = 10\n",
    "metrics = get_precision_vs_recall(algo, k_max, True)"
   ]
  },
  {
   "cell_type": "code",
   "execution_count": 90,
   "id": "economic-rotation",
   "metadata": {},
   "outputs": [
    {
     "data": {
      "image/png": "[encoded data removed]",
      "text/plain": [
       "<Figure size 720x360 with 1 Axes>"
      ]
     },
     "metadata": {
      "needs_background": "light"
     },
     "output_type": "display_data"
    }
   ],
   "source": [
    "# Get data\n",
    "c1 = metrics['precision']\n",
    "c2 = metrics['recall']\n",
    "c3 = metrics['f1_score']\n",
    "x = np.arange(len(c1))\n",
    "\n",
    "# Set up the matplotlib figure\n",
    "fig, ax1 = plt.subplots(figsize = (10, 5))\n",
    "plt.xticks(np.arange(min(x), max(x) + 1, 1.0))\n",
    "plt.ylim(0, 1)\n",
    "ax1.plot(x, c1, marker = 'o')\n",
    "ax1.plot(x, c2, marker = 'o')\n",
    "ax1.plot(x, c3, marker = 'o')\n",
    "ax1.axvline(x = 5, color = \"#8b0000\", linestyle = \"--\")\n",
    "\n",
    "# Chart setup\n",
    "plt.title(\"SVD++ Model's metrics\", fontsize = 12)\n",
    "plt.xlabel(\"k\", fontsize = 10)\n",
    "plt.ylabel(\"Precision and Recall\", fontsize = 10)\n",
    "plt.legend((\"Precision\", \"Recall\", \"F1 score\"), loc = \"best\")\n",
    "plt.draw()"
   ]
  },
  {
   "cell_type": "code",
   "execution_count": 91,
   "id": "former-latvia",
   "metadata": {},
   "outputs": [
    {
     "data": {
      "image/png": "[encoded data removed]",
      "text/plain": [
       "<Figure size 360x360 with 1 Axes>"
      ]
     },
     "metadata": {
      "needs_background": "light"
     },
     "output_type": "display_data"
    }
   ],
   "source": [
    "# Get data\n",
    "x = metrics['recall']\n",
    "y = metrics['precision']\n",
    "\n",
    "# Create scatter plot with the precision and recall results\n",
    "fig, ax2 = plt.subplots(figsize = (5, 5))\n",
    "\n",
    "# Create 2D scatter plot\n",
    "sns.regplot(ax = ax2, x = x, y = y, fit_reg = False, marker = \"o\", color = \"#1f77b4\", scatter_kws = {\"s\": 30})\n",
    "\n",
    "# Plot setup\n",
    "ax2.set_title(\"Precision vs Recall\", fontsize = 12)\n",
    "ax2.set_xlabel(\"Recall\", fontsize = 10)\n",
    "ax2.set_ylabel(\"Precision\", fontsize = 10)\n",
    "ax2.grid()"
   ]
  },
  {
   "cell_type": "code",
   "execution_count": 92,
   "id": "connected-repository",
   "metadata": {},
   "outputs": [
    {
     "data": {
      "text/html": [
       "<div>\n",
       "<style scoped>\n",
       "    .dataframe tbody tr th:only-of-type {\n",
       "        vertical-align: middle;\n",
       "    }\n",
       "\n",
       "    .dataframe tbody tr th {\n",
       "        vertical-align: top;\n",
       "    }\n",
       "\n",
       "    .dataframe thead th {\n",
       "        text-align: right;\n",
       "    }\n",
       "</style>\n",
       "<table border=\"1\" class=\"dataframe\">\n",
       "  <thead>\n",
       "    <tr style=\"text-align: right;\">\n",
       "      <th></th>\n",
       "      <th>user_id</th>\n",
       "      <th>product</th>\n",
       "      <th>actual_rating</th>\n",
       "      <th>pred_rating</th>\n",
       "      <th>abs_err</th>\n",
       "    </tr>\n",
       "  </thead>\n",
       "  <tbody>\n",
       "    <tr>\n",
       "      <th>11712</th>\n",
       "      <td>A1X4VWM6177NO0</td>\n",
       "      <td>B00D6XW62I</td>\n",
       "      <td>4.0</td>\n",
       "      <td>4.997300</td>\n",
       "      <td>0.997300</td>\n",
       "    </tr>\n",
       "    <tr>\n",
       "      <th>20253</th>\n",
       "      <td>AWC8CTW8N2XVE</td>\n",
       "      <td>B0015AARJI</td>\n",
       "      <td>5.0</td>\n",
       "      <td>4.839857</td>\n",
       "      <td>0.160143</td>\n",
       "    </tr>\n",
       "    <tr>\n",
       "      <th>7141</th>\n",
       "      <td>A12HAL61YXO21B</td>\n",
       "      <td>B004Q3R9AQ</td>\n",
       "      <td>5.0</td>\n",
       "      <td>4.692524</td>\n",
       "      <td>0.307476</td>\n",
       "    </tr>\n",
       "    <tr>\n",
       "      <th>19533</th>\n",
       "      <td>A18T1BKNDSBWGN</td>\n",
       "      <td>B00104XCVO</td>\n",
       "      <td>5.0</td>\n",
       "      <td>5.000000</td>\n",
       "      <td>0.000000</td>\n",
       "    </tr>\n",
       "    <tr>\n",
       "      <th>25224</th>\n",
       "      <td>A25C2M3QF9G7OQ</td>\n",
       "      <td>B008X9Z3UC</td>\n",
       "      <td>5.0</td>\n",
       "      <td>4.438182</td>\n",
       "      <td>0.561818</td>\n",
       "    </tr>\n",
       "    <tr>\n",
       "      <th>...</th>\n",
       "      <td>...</td>\n",
       "      <td>...</td>\n",
       "      <td>...</td>\n",
       "      <td>...</td>\n",
       "      <td>...</td>\n",
       "    </tr>\n",
       "    <tr>\n",
       "      <th>10414</th>\n",
       "      <td>A3H78K1HRD1VOK</td>\n",
       "      <td>B002V8C3W2</td>\n",
       "      <td>1.0</td>\n",
       "      <td>4.688426</td>\n",
       "      <td>3.688426</td>\n",
       "    </tr>\n",
       "    <tr>\n",
       "      <th>14539</th>\n",
       "      <td>A109XLG7SJQAIA</td>\n",
       "      <td>B00007056H</td>\n",
       "      <td>4.0</td>\n",
       "      <td>4.200215</td>\n",
       "      <td>0.200215</td>\n",
       "    </tr>\n",
       "    <tr>\n",
       "      <th>7820</th>\n",
       "      <td>A370XYLIZCSK1Y</td>\n",
       "      <td>B009NB8WR0</td>\n",
       "      <td>5.0</td>\n",
       "      <td>5.000000</td>\n",
       "      <td>0.000000</td>\n",
       "    </tr>\n",
       "    <tr>\n",
       "      <th>21565</th>\n",
       "      <td>A1NPKJKOQ7KOE6</td>\n",
       "      <td>B00D3F7D7M</td>\n",
       "      <td>4.0</td>\n",
       "      <td>3.766300</td>\n",
       "      <td>0.233700</td>\n",
       "    </tr>\n",
       "    <tr>\n",
       "      <th>20063</th>\n",
       "      <td>A1C7QQRX3801TM</td>\n",
       "      <td>B006OBGEHW</td>\n",
       "      <td>5.0</td>\n",
       "      <td>4.442140</td>\n",
       "      <td>0.557860</td>\n",
       "    </tr>\n",
       "  </tbody>\n",
       "</table>\n",
       "<p>75 rows × 5 columns</p>\n",
       "</div>"
      ],
      "text/plain": [
       "              user_id     product  actual_rating  pred_rating   abs_err\n",
       "11712  A1X4VWM6177NO0  B00D6XW62I            4.0     4.997300  0.997300\n",
       "20253   AWC8CTW8N2XVE  B0015AARJI            5.0     4.839857  0.160143\n",
       "7141   A12HAL61YXO21B  B004Q3R9AQ            5.0     4.692524  0.307476\n",
       "19533  A18T1BKNDSBWGN  B00104XCVO            5.0     5.000000  0.000000\n",
       "25224  A25C2M3QF9G7OQ  B008X9Z3UC            5.0     4.438182  0.561818\n",
       "...               ...         ...            ...          ...       ...\n",
       "10414  A3H78K1HRD1VOK  B002V8C3W2            1.0     4.688426  3.688426\n",
       "14539  A109XLG7SJQAIA  B00007056H            4.0     4.200215  0.200215\n",
       "7820   A370XYLIZCSK1Y  B009NB8WR0            5.0     5.000000  0.000000\n",
       "21565  A1NPKJKOQ7KOE6  B00D3F7D7M            4.0     3.766300  0.233700\n",
       "20063  A1C7QQRX3801TM  B006OBGEHW            5.0     4.442140  0.557860\n",
       "\n",
       "[75 rows x 5 columns]"
      ]
     },
     "execution_count": 92,
     "metadata": {},
     "output_type": "execute_result"
    }
   ],
   "source": [
    "df_pred = pd.DataFrame(predictions, columns=['user_id', 'product', 'actual_rating', 'pred_rating', 'details'])\n",
    "\n",
    "df_pred['abs_err'] = abs(df_pred['pred_rating'] - df_pred['actual_rating'])\n",
    "df_pred.drop(['details'], axis=1, inplace=True)\n",
    "\n",
    "df_pred.sample(75)"
   ]
  },
  {
   "cell_type": "code",
   "execution_count": 93,
   "id": "worth-coating",
   "metadata": {},
   "outputs": [
    {
     "data": {
      "image/png": "[encoded data removed]",
      "text/plain": [
       "<Figure size 1008x288 with 2 Axes>"
      ]
     },
     "metadata": {
      "needs_background": "light"
     },
     "output_type": "display_data"
    }
   ],
   "source": [
    "\n",
    "df_pred_err = df_pred.groupby('actual_rating')['abs_err'].mean().reset_index()\n",
    "\n",
    "fig, (ax1, ax2) = plt.subplots(nrows=1, ncols=2, figsize=(14, 4))\n",
    "\n",
    "sns.distplot(df_pred['abs_err'], color='#2f6194', ax=ax1)\n",
    "ax1.set_title('Distribution of absolute error in test set')\n",
    "\n",
    "sns.barplot(x='actual_rating', y='abs_err', data=df_pred_err, palette=palette, ax=ax2)\n",
    "ax2.set_title('Mean absolute error for rating in test set')\n",
    "\n",
    "plt.show()"
   ]
  },
  {
   "cell_type": "markdown",
   "id": "south-duplicate",
   "metadata": {},
   "source": [
    "Good scores for precision and recall.  But the ratings for the products tended to be higher rated -- 4 and 5"
   ]
  },
  {
   "cell_type": "markdown",
   "id": "unusual-collective",
   "metadata": {},
   "source": [
    "### MODELING AND EVALUATION 3 - Visualize Results"
   ]
  },
  {
   "cell_type": "code",
   "execution_count": 94,
   "id": "different-deputy",
   "metadata": {},
   "outputs": [
    {
     "data": {
      "text/plain": [
       "{'n_factors': 5, 'n_epochs': 30, 'lr_all': 0.005, 'reg_all': 0.1}"
      ]
     },
     "execution_count": 94,
     "metadata": {},
     "output_type": "execute_result"
    }
   ],
   "source": [
    "# Show best params for best algo\n",
    "gssvd.best_params['rmse']"
   ]
  },
  {
   "cell_type": "code",
   "execution_count": null,
   "id": "multiple-grill",
   "metadata": {},
   "outputs": [],
   "source": [
    "# to be added"
   ]
  },
  {
   "cell_type": "markdown",
   "id": "sealed-adapter",
   "metadata": {},
   "source": [
    "### MODELING AND EVALUATION 4 -Summarize the Ramifications"
   ]
  },
  {
   "cell_type": "code",
   "execution_count": null,
   "id": "demonstrated-description",
   "metadata": {},
   "outputs": [],
   "source": []
  },
  {
   "cell_type": "markdown",
   "id": "expected-bride",
   "metadata": {},
   "source": [
    "### DEPLOYMENT"
   ]
  },
  {
   "cell_type": "code",
   "execution_count": null,
   "id": "located-canberra",
   "metadata": {},
   "outputs": [],
   "source": []
  },
  {
   "cell_type": "code",
   "execution_count": null,
   "id": "photographic-lightning",
   "metadata": {},
   "outputs": [],
   "source": [
    "#https://nbviewer.jupyter.org/github/NicolasHug/Surprise/blob/master/examples/notebooks/Compare.ipynb\n",
    "#http://webcache.googleusercontent.com/search?q=cache:AqFH2uo4cQsJ:https://towardsdatascience.com/movie-recommender-system-52e4651f3ae7&hl=en&gl=us&strip=1&vwsrc=0\n",
    "#https://surprise.readthedocs.io/en/v1.0.1/getting_started.html\n",
    "#https://towardsdatascience.com/building-and-testing-recommender-systems-with-surprise-step-by-step-d4ba702ef80b\n",
    "#https://www.kaggle.com/saurav9786/recommender-system-using-amazon-reviews"
   ]
  },
  {
   "cell_type": "markdown",
   "id": "requested-favor",
   "metadata": {},
   "source": [
    "SCRATCH PAD AREA"
   ]
  },
  {
   "cell_type": "code",
   "execution_count": 38,
   "id": "noble-prospect",
   "metadata": {},
   "outputs": [],
   "source": [
    "# Return precision and recall at k metrics for each user\n",
    "def precision_recall_at_k(predictions, k = 10, threshold = 4):\n",
    "    \n",
    "    # First map the predictions to each user.\n",
    "    user_est_true = defaultdict(list)\n",
    "    for uid, _, true_r, est, _ in predictions:\n",
    "        user_est_true[uid].append((est, true_r))\n",
    "    \n",
    "    precisions = dict()\n",
    "    recalls = dict()\n",
    "    for uid, user_ratings in user_est_true.items():\n",
    "        \n",
    "        # Sort user ratings by estimated value\n",
    "        user_ratings.sort(key=lambda x: x[0], reverse=True)\n",
    "        \n",
    "        # Number of relevant items\n",
    "        n_rel = sum((true_r >= threshold) for (_, true_r) in user_ratings)\n",
    "        \n",
    "        # Number of recommended items in top k\n",
    "        n_rec_k = sum((est >= threshold) for (est, _) in user_ratings[:k])\n",
    "        \n",
    "        # Number of relevant and recommended items in top k\n",
    "        n_rel_and_rec_k = sum(((true_r >= threshold) and (est >= threshold)) for (est, true_r) in user_ratings[:k])\n",
    "        \n",
    "        # Precision@K: Proportion of recommended items that are relevant\n",
    "        precisions[uid] = n_rel_and_rec_k / n_rec_k if n_rec_k != 0 else 1\n",
    "        \n",
    "        # Recall@K: Proportion of relevant items that are recommended\n",
    "        recalls[uid] = n_rel_and_rec_k / n_rel if n_rel != 0 else 1\n",
    "    \n",
    "    return precisions, recalls;"
   ]
  },
  {
   "cell_type": "code",
   "execution_count": 75,
   "id": "accurate-broad",
   "metadata": {},
   "outputs": [
    {
     "data": {
      "image/png": "[encoded data removed]",
      "text/plain": [
       "<Figure size 1008x288 with 2 Axes>"
      ]
     },
     "metadata": {
      "needs_background": "light"
     },
     "output_type": "display_data"
    }
   ],
   "source": [
    "palette = sns.color_palette(\"RdBu\", 10)\n",
    "fig, (ax1, ax2) = plt.subplots(nrows=1, ncols=2, figsize=(14, 4))\n",
    "\n",
    "sns.countplot(x='actual_rating', data=df_pred, palette=palette, ax=ax1)\n",
    "ax1.set_title('Distribution of actual ratings of the test set')\n",
    "\n",
    "sns.countplot(x='pred_rating', data=df_pred, palette=palette, ax=ax2)\n",
    "ax2.set_title('Distribution of predicted ratings of the test set')\n",
    "\n",
    "plt.show()"
   ]
  },
  {
   "cell_type": "code",
   "execution_count": 102,
   "id": "decreased-costume",
   "metadata": {},
   "outputs": [],
   "source": [
    "algo = SVD(n_factors=5, n_epochs=30, lr_all=0.005, reg_all=0.01, verbose=False)"
   ]
  },
  {
   "cell_type": "code",
   "execution_count": 115,
   "id": "cosmetic-journalism",
   "metadata": {},
   "outputs": [
    {
     "ename": "ValueError",
     "evalue": "min() arg is an empty sequence",
     "output_type": "error",
     "traceback": [
      "\u001b[1;31m---------------------------------------------------------------------------\u001b[0m",
      "\u001b[1;31mValueError\u001b[0m                                Traceback (most recent call last)",
      "\u001b[1;32m<ipython-input-115-4ed8df8f6161>\u001b[0m in \u001b[0;36m<module>\u001b[1;34m\u001b[0m\n\u001b[0;32m      6\u001b[0m \u001b[0mfig\u001b[0m\u001b[1;33m,\u001b[0m \u001b[1;33m(\u001b[0m\u001b[0max1\u001b[0m\u001b[1;33m,\u001b[0m \u001b[0max2\u001b[0m\u001b[1;33m)\u001b[0m \u001b[1;33m=\u001b[0m \u001b[0mplt\u001b[0m\u001b[1;33m.\u001b[0m\u001b[0msubplots\u001b[0m\u001b[1;33m(\u001b[0m\u001b[0mnrows\u001b[0m\u001b[1;33m=\u001b[0m\u001b[1;36m1\u001b[0m\u001b[1;33m,\u001b[0m \u001b[0mncols\u001b[0m\u001b[1;33m=\u001b[0m\u001b[1;36m2\u001b[0m\u001b[1;33m,\u001b[0m \u001b[0mfigsize\u001b[0m\u001b[1;33m=\u001b[0m\u001b[1;33m(\u001b[0m\u001b[1;36m14\u001b[0m\u001b[1;33m,\u001b[0m \u001b[1;36m4\u001b[0m\u001b[1;33m)\u001b[0m\u001b[1;33m)\u001b[0m\u001b[1;33m\u001b[0m\u001b[1;33m\u001b[0m\u001b[0m\n\u001b[0;32m      7\u001b[0m \u001b[1;33m\u001b[0m\u001b[0m\n\u001b[1;32m----> 8\u001b[1;33m \u001b[0msns\u001b[0m\u001b[1;33m.\u001b[0m\u001b[0mcountplot\u001b[0m\u001b[1;33m(\u001b[0m\u001b[0mx\u001b[0m\u001b[1;33m=\u001b[0m\u001b[1;34m'actual_rating'\u001b[0m\u001b[1;33m,\u001b[0m \u001b[0mdata\u001b[0m\u001b[1;33m=\u001b[0m\u001b[0mdf_pred_user\u001b[0m\u001b[1;33m,\u001b[0m \u001b[0mpalette\u001b[0m\u001b[1;33m=\u001b[0m\u001b[0msns\u001b[0m\u001b[1;33m.\u001b[0m\u001b[0mcolor_palette\u001b[0m\u001b[1;33m(\u001b[0m\u001b[1;34m\"RdBu\"\u001b[0m\u001b[1;33m,\u001b[0m \u001b[0mlen\u001b[0m\u001b[1;33m(\u001b[0m\u001b[0mdf_pred_user\u001b[0m\u001b[1;33m[\u001b[0m\u001b[1;34m'actual_rating'\u001b[0m\u001b[1;33m]\u001b[0m\u001b[1;33m.\u001b[0m\u001b[0munique\u001b[0m\u001b[1;33m(\u001b[0m\u001b[1;33m)\u001b[0m\u001b[1;33m)\u001b[0m\u001b[1;33m)\u001b[0m\u001b[1;33m,\u001b[0m \u001b[0max\u001b[0m\u001b[1;33m=\u001b[0m\u001b[0max1\u001b[0m\u001b[1;33m)\u001b[0m\u001b[1;33m\u001b[0m\u001b[1;33m\u001b[0m\u001b[0m\n\u001b[0m\u001b[0;32m      9\u001b[0m \u001b[0max1\u001b[0m\u001b[1;33m.\u001b[0m\u001b[0mset_title\u001b[0m\u001b[1;33m(\u001b[0m\u001b[1;34m'Distribution of actual ratings of a selected user'\u001b[0m\u001b[1;33m)\u001b[0m\u001b[1;33m\u001b[0m\u001b[1;33m\u001b[0m\u001b[0m\n\u001b[0;32m     10\u001b[0m \u001b[1;33m\u001b[0m\u001b[0m\n",
      "\u001b[1;32m~\\anaconda3\\envs\\ML_7331\\lib\\site-packages\\seaborn\\_decorators.py\u001b[0m in \u001b[0;36minner_f\u001b[1;34m(*args, **kwargs)\u001b[0m\n\u001b[0;32m     44\u001b[0m             )\n\u001b[0;32m     45\u001b[0m         \u001b[0mkwargs\u001b[0m\u001b[1;33m.\u001b[0m\u001b[0mupdate\u001b[0m\u001b[1;33m(\u001b[0m\u001b[1;33m{\u001b[0m\u001b[0mk\u001b[0m\u001b[1;33m:\u001b[0m \u001b[0marg\u001b[0m \u001b[1;32mfor\u001b[0m \u001b[0mk\u001b[0m\u001b[1;33m,\u001b[0m \u001b[0marg\u001b[0m \u001b[1;32min\u001b[0m \u001b[0mzip\u001b[0m\u001b[1;33m(\u001b[0m\u001b[0msig\u001b[0m\u001b[1;33m.\u001b[0m\u001b[0mparameters\u001b[0m\u001b[1;33m,\u001b[0m \u001b[0margs\u001b[0m\u001b[1;33m)\u001b[0m\u001b[1;33m}\u001b[0m\u001b[1;33m)\u001b[0m\u001b[1;33m\u001b[0m\u001b[1;33m\u001b[0m\u001b[0m\n\u001b[1;32m---> 46\u001b[1;33m         \u001b[1;32mreturn\u001b[0m \u001b[0mf\u001b[0m\u001b[1;33m(\u001b[0m\u001b[1;33m**\u001b[0m\u001b[0mkwargs\u001b[0m\u001b[1;33m)\u001b[0m\u001b[1;33m\u001b[0m\u001b[1;33m\u001b[0m\u001b[0m\n\u001b[0m\u001b[0;32m     47\u001b[0m     \u001b[1;32mreturn\u001b[0m \u001b[0minner_f\u001b[0m\u001b[1;33m\u001b[0m\u001b[1;33m\u001b[0m\u001b[0m\n\u001b[0;32m     48\u001b[0m \u001b[1;33m\u001b[0m\u001b[0m\n",
      "\u001b[1;32m~\\anaconda3\\envs\\ML_7331\\lib\\site-packages\\seaborn\\categorical.py\u001b[0m in \u001b[0;36mcountplot\u001b[1;34m(x, y, hue, data, order, hue_order, orient, color, palette, saturation, dodge, ax, **kwargs)\u001b[0m\n\u001b[0;32m   3597\u001b[0m         \u001b[0mestimator\u001b[0m\u001b[1;33m,\u001b[0m \u001b[0mci\u001b[0m\u001b[1;33m,\u001b[0m \u001b[0mn_boot\u001b[0m\u001b[1;33m,\u001b[0m \u001b[0munits\u001b[0m\u001b[1;33m,\u001b[0m \u001b[0mseed\u001b[0m\u001b[1;33m,\u001b[0m\u001b[1;33m\u001b[0m\u001b[1;33m\u001b[0m\u001b[0m\n\u001b[0;32m   3598\u001b[0m         \u001b[0morient\u001b[0m\u001b[1;33m,\u001b[0m \u001b[0mcolor\u001b[0m\u001b[1;33m,\u001b[0m \u001b[0mpalette\u001b[0m\u001b[1;33m,\u001b[0m \u001b[0msaturation\u001b[0m\u001b[1;33m,\u001b[0m\u001b[1;33m\u001b[0m\u001b[1;33m\u001b[0m\u001b[0m\n\u001b[1;32m-> 3599\u001b[1;33m         \u001b[0merrcolor\u001b[0m\u001b[1;33m,\u001b[0m \u001b[0merrwidth\u001b[0m\u001b[1;33m,\u001b[0m \u001b[0mcapsize\u001b[0m\u001b[1;33m,\u001b[0m \u001b[0mdodge\u001b[0m\u001b[1;33m\u001b[0m\u001b[1;33m\u001b[0m\u001b[0m\n\u001b[0m\u001b[0;32m   3600\u001b[0m     )\n\u001b[0;32m   3601\u001b[0m \u001b[1;33m\u001b[0m\u001b[0m\n",
      "\u001b[1;32m~\\anaconda3\\envs\\ML_7331\\lib\\site-packages\\seaborn\\categorical.py\u001b[0m in \u001b[0;36m__init__\u001b[1;34m(self, x, y, hue, data, order, hue_order, estimator, ci, n_boot, units, seed, orient, color, palette, saturation, errcolor, errwidth, capsize, dodge)\u001b[0m\n\u001b[0;32m   1584\u001b[0m         self.establish_variables(x, y, hue, data, orient,\n\u001b[0;32m   1585\u001b[0m                                  order, hue_order, units)\n\u001b[1;32m-> 1586\u001b[1;33m         \u001b[0mself\u001b[0m\u001b[1;33m.\u001b[0m\u001b[0mestablish_colors\u001b[0m\u001b[1;33m(\u001b[0m\u001b[0mcolor\u001b[0m\u001b[1;33m,\u001b[0m \u001b[0mpalette\u001b[0m\u001b[1;33m,\u001b[0m \u001b[0msaturation\u001b[0m\u001b[1;33m)\u001b[0m\u001b[1;33m\u001b[0m\u001b[1;33m\u001b[0m\u001b[0m\n\u001b[0m\u001b[0;32m   1587\u001b[0m         \u001b[0mself\u001b[0m\u001b[1;33m.\u001b[0m\u001b[0mestimate_statistic\u001b[0m\u001b[1;33m(\u001b[0m\u001b[0mestimator\u001b[0m\u001b[1;33m,\u001b[0m \u001b[0mci\u001b[0m\u001b[1;33m,\u001b[0m \u001b[0mn_boot\u001b[0m\u001b[1;33m,\u001b[0m \u001b[0mseed\u001b[0m\u001b[1;33m)\u001b[0m\u001b[1;33m\u001b[0m\u001b[1;33m\u001b[0m\u001b[0m\n\u001b[0;32m   1588\u001b[0m \u001b[1;33m\u001b[0m\u001b[0m\n",
      "\u001b[1;32m~\\anaconda3\\envs\\ML_7331\\lib\\site-packages\\seaborn\\categorical.py\u001b[0m in \u001b[0;36mestablish_colors\u001b[1;34m(self, color, palette, saturation)\u001b[0m\n\u001b[0;32m    317\u001b[0m         \u001b[1;31m# Determine the gray color to use for the lines framing the plot\u001b[0m\u001b[1;33m\u001b[0m\u001b[1;33m\u001b[0m\u001b[1;33m\u001b[0m\u001b[0m\n\u001b[0;32m    318\u001b[0m         \u001b[0mlight_vals\u001b[0m \u001b[1;33m=\u001b[0m \u001b[1;33m[\u001b[0m\u001b[0mcolorsys\u001b[0m\u001b[1;33m.\u001b[0m\u001b[0mrgb_to_hls\u001b[0m\u001b[1;33m(\u001b[0m\u001b[1;33m*\u001b[0m\u001b[0mc\u001b[0m\u001b[1;33m)\u001b[0m\u001b[1;33m[\u001b[0m\u001b[1;36m1\u001b[0m\u001b[1;33m]\u001b[0m \u001b[1;32mfor\u001b[0m \u001b[0mc\u001b[0m \u001b[1;32min\u001b[0m \u001b[0mrgb_colors\u001b[0m\u001b[1;33m]\u001b[0m\u001b[1;33m\u001b[0m\u001b[1;33m\u001b[0m\u001b[0m\n\u001b[1;32m--> 319\u001b[1;33m         \u001b[0mlum\u001b[0m \u001b[1;33m=\u001b[0m \u001b[0mmin\u001b[0m\u001b[1;33m(\u001b[0m\u001b[0mlight_vals\u001b[0m\u001b[1;33m)\u001b[0m \u001b[1;33m*\u001b[0m \u001b[1;36m.6\u001b[0m\u001b[1;33m\u001b[0m\u001b[1;33m\u001b[0m\u001b[0m\n\u001b[0m\u001b[0;32m    320\u001b[0m         \u001b[0mgray\u001b[0m \u001b[1;33m=\u001b[0m \u001b[0mmpl\u001b[0m\u001b[1;33m.\u001b[0m\u001b[0mcolors\u001b[0m\u001b[1;33m.\u001b[0m\u001b[0mrgb2hex\u001b[0m\u001b[1;33m(\u001b[0m\u001b[1;33m(\u001b[0m\u001b[0mlum\u001b[0m\u001b[1;33m,\u001b[0m \u001b[0mlum\u001b[0m\u001b[1;33m,\u001b[0m \u001b[0mlum\u001b[0m\u001b[1;33m)\u001b[0m\u001b[1;33m)\u001b[0m\u001b[1;33m\u001b[0m\u001b[1;33m\u001b[0m\u001b[0m\n\u001b[0;32m    321\u001b[0m \u001b[1;33m\u001b[0m\u001b[0m\n",
      "\u001b[1;31mValueError\u001b[0m: min() arg is an empty sequence"
     ]
    },
    {
     "data": {
      "image/png": "[encoded data removed]",
      "text/plain": [
       "<Figure size 1008x288 with 2 Axes>"
      ]
     },
     "metadata": {
      "needs_background": "light"
     },
     "output_type": "display_data"
    }
   ],
   "source": [
    "\n",
    "# Selected user:\n",
    "selected_user_id = 19149\n",
    "\n",
    "df_pred_user = df_pred[df_pred['user_id']==selected_user_id]\n",
    "\n",
    "fig, (ax1, ax2) = plt.subplots(nrows=1, ncols=2, figsize=(14, 4))\n",
    "\n",
    "sns.countplot(x='actual_rating', data=df_pred_user, palette=sns.color_palette(\"RdBu\", len(df_pred_user['actual_rating'].unique())), ax=ax1)\n",
    "ax1.set_title('Distribution of actual ratings of a selected user')\n",
    "\n",
    "sns.countplot(x='pred_rating_round', data=df_pred_user, palette=sns.color_palette(\"RdBu\", len(df_pred_user['pred_rating_round'].unique())), ax=ax2)\n",
    "ax2.set_title('Distribution of predicted ratings of a selected user')\n",
    "\n",
    "plt.show()"
   ]
  },
  {
   "cell_type": "code",
   "execution_count": null,
   "id": "adjustable-documentary",
   "metadata": {},
   "outputs": [],
   "source": []
  }
 ],
 "metadata": {
  "kernelspec": {
   "display_name": "Python 3",
   "language": "python",
   "name": "python3"
  },
  "language_info": {
   "codemirror_mode": {
    "name": "ipython",
    "version": 3
   },
   "file_extension": ".py",
   "mimetype": "text/x-python",
   "name": "python",
   "nbconvert_exporter": "python",
   "pygments_lexer": "ipython3",
   "version": "3.7.1"
  }
 },
 "nbformat": 4,
 "nbformat_minor": 5
}
