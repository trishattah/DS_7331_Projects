{
 "cells": [
  {
   "cell_type": "markdown",
   "metadata": {},
   "source": [
    "## MSDS 7331: Data Mining\n",
    "## Mini Lab: Logistic Regression and SVMs\n",
    "## Classification Task\n",
    "\n",
    "The classification task for our data set is to predict whether an H1-B Visa would be certified or not.This is an importatnt task as the companies intending to hire these eployees need to find out if they will ahve enough employees to complete the project or job they need these applicants for and this affects the company's profit and future project acquistion."
   ]
  },
  {
   "cell_type": "code",
   "execution_count": 1,
   "metadata": {},
   "outputs": [],
   "source": [
    "from sklearn.preprocessing import StandardScaler\n",
    "from sklearn.pipeline import Pipeline\n",
    "from sklearn.model_selection import train_test_split\n",
    "from sklearn.svm import SVC\n",
    "from sklearn.metrics import confusion_matrix, classification_report, accuracy_score,plot_confusion_matrix\n",
    "from sklearn.linear_model import LogisticRegression\n",
    "import pandas as pd\n",
    "import statsmodels.api as sm \n",
    "import numpy as np\n",
    "import random\n",
    "from sklearn.model_selection import GridSearchCV\n",
    "import math\n",
    "\n",
    "import warnings\n",
    "warnings.filterwarnings(\"ignore\") # ignore warnings for clean report"
   ]
  },
  {
   "cell_type": "markdown",
   "metadata": {},
   "source": [
    "### Preparing Data\n",
    "This is the initial dataset that is divided into 3 groups(certified, certified-withdrawn, denied) for logistic regression purposes we reduce this to 2 groups (certified and denied). this data has been cleaned and outliers removed from the previous lab."
   ]
  },
  {
   "cell_type": "code",
   "execution_count": 2,
   "metadata": {},
   "outputs": [
    {
     "data": {
      "text/plain": [
       "<AxesSubplot:title={'center':'count (target)'}>"
      ]
     },
     "execution_count": 2,
     "metadata": {},
     "output_type": "execute_result"
    },
    {
     "data": {
      "image/png": "[encoded data removed]",
      "text/plain": [
       "<Figure size 432x288 with 1 Axes>"
      ]
     },
     "metadata": {
      "needs_background": "light"
     },
     "output_type": "display_data"
    }
   ],
   "source": [
    "df = pd.read_csv ('Balanced_Visa_Data.csv')\n",
    "df = df.sample(frac = 1) \n",
    "df['CASE_STATUS_CODE'].value_counts().plot(kind='bar', title='count (target)')"
   ]
  },
  {
   "cell_type": "code",
   "execution_count": 3,
   "metadata": {},
   "outputs": [
    {
     "data": {
      "text/plain": [
       "array([0, 1])"
      ]
     },
     "execution_count": 3,
     "metadata": {},
     "output_type": "execute_result"
    }
   ],
   "source": [
    "df1 = df.loc[(df['CASE_STATUS_CODE']==0) | (df['CASE_STATUS_CODE']==2)] \n",
    "df1['CASE_STATUS_CODE'] = np.select([df1.CASE_STATUS_CODE==0],[1],0)\n",
    "np.unique(df1.CASE_STATUS_CODE)"
   ]
  },
  {
   "cell_type": "code",
   "execution_count": 4,
   "metadata": {},
   "outputs": [
    {
     "data": {
      "text/plain": [
       "<AxesSubplot:title={'center':'count (target)'}>"
      ]
     },
     "execution_count": 4,
     "metadata": {},
     "output_type": "execute_result"
    },
    {
     "data": {
      "image/png": "[encoded data removed]",
      "text/plain": [
       "<Figure size 432x288 with 1 Axes>"
      ]
     },
     "metadata": {
      "needs_background": "light"
     },
     "output_type": "display_data"
    }
   ],
   "source": [
    "df1['CASE_STATUS_CODE'].value_counts().plot(kind='bar', title='count (target)')"
   ]
  },
  {
   "cell_type": "markdown",
   "metadata": {},
   "source": [
    "## Create Dummmies\n",
    "At this point we are removing the categorical columns and replacing them with dummy variable that will 0,1 value for the model. Out target variable is 1 which means certified and 0 which specifies denied. In this phase we also removed some unnecesarry varibale incuding the unit of pay and wage unit of pay which specifies how the salary was recorded for an example weekly, bi-weekly monthly."
   ]
  },
  {
   "cell_type": "code",
   "execution_count": 5,
   "metadata": {},
   "outputs": [],
   "source": [
    "df2 = df1.drop(['CASE_STATUS','EMPLOYER_NAME_CODE', 'EMPLOYER_CITY_CODE',\n",
    "           'SOC_NAME_CODE', 'EMPLOYER_STATE_CODE','WILLFUL_VIOLATOR_CODE',\n",
    "           'AGENT_REPRESENTING_EMPLOYER_CODE', 'JOB_TITLE_CODE', 'EMPLOYER_STATE',\n",
    "           'WORKSITE_CITY_CODE', 'WORKSITE_STATE_CODE', 'WORKSITE_STATE',\n",
    "           'PW_UNIT_OF_PAY_CODE', 'PW_WAGE_LEVEL_CODE', 'WAGE_UNIT_OF_PAY_CODE',\n",
    "           'H1B_DEPENDENT_CODE', 'SUPPORT_H1B_CODE', 'LABOR_CON_AGREE_CODE',\n",
    "           'Unnamed: 0','WORKSITE_CITY','EMPLOYER_NAME','PW_UNIT_OF_PAY',\n",
    "            'EMPLOYER_CITY','WILLFUL_VIOLATOR_CODE', 'WORKSITE_CITY_CODE',\n",
    "            'SOC_GROUP_Code','SOC_NAME','JOB_TITLE','SOC_GROUP_CODE',\n",
    "            'WAGE_UNIT_OF_PAY'], axis=1)"
   ]
  },
  {
   "cell_type": "code",
   "execution_count": 6,
   "metadata": {},
   "outputs": [],
   "source": [
    "WILLFUL_VIOLATOR = pd.get_dummies(df2.WILLFUL_VIOLATOR, prefix='WILL_VIOL',drop_first=True)\n",
    "df2 = pd.concat([df2, WILLFUL_VIOLATOR], axis=1)\n",
    "\n",
    "SOC_GROUP = pd.get_dummies(df2['SOC_GROUP'],drop_first=True)\n",
    "df2 = pd.concat([df2, SOC_GROUP], axis=1)\n",
    "\n",
    "PW_WAGE_LEVEL = pd.get_dummies(df2.PW_WAGE_LEVEL, prefix='PW_LEVEL',drop_first=True)\n",
    "df2 = pd.concat([df2, PW_WAGE_LEVEL], axis=1)\n",
    "\n",
    "AGENT_REPRESENTING_EMPLOYER = pd.get_dummies(df2.AGENT_REPRESENTING_EMPLOYER, prefix='AGENT_REP',drop_first=True)\n",
    "df2 = pd.concat([df2, AGENT_REPRESENTING_EMPLOYER], axis=1)  \n",
    "\n",
    "H1B_DEPENDENT = pd.get_dummies(df2.H1B_DEPENDENT, prefix='H1B_DEP',drop_first=True)\n",
    "df2 = pd.concat([df2, H1B_DEPENDENT], axis=1)\n",
    "\n",
    "LABOR_CON_AGREE = pd.get_dummies(df2.LABOR_CON_AGREE, prefix='LABOR_CON_AGREE',drop_first=True)\n",
    "df2 = pd.concat([df2, LABOR_CON_AGREE], axis=1)\n",
    "\n",
    "SUPPORT_H1B = pd.get_dummies(df2.SUPPORT_H1B, prefix='SUPPORT_H1B',drop_first=True)\n",
    "df2 = pd.concat([df2, SUPPORT_H1B], axis=1)"
   ]
  },
  {
   "cell_type": "code",
   "execution_count": 7,
   "metadata": {},
   "outputs": [
    {
     "data": {
      "text/plain": [
       "(37420, 42)"
      ]
     },
     "execution_count": 7,
     "metadata": {},
     "output_type": "execute_result"
    }
   ],
   "source": [
    "df2.shape"
   ]
  },
  {
   "cell_type": "code",
   "execution_count": 8,
   "metadata": {},
   "outputs": [
    {
     "data": {
      "text/html": [
       "<div>\n",
       "<style scoped>\n",
       "    .dataframe tbody tr th:only-of-type {\n",
       "        vertical-align: middle;\n",
       "    }\n",
       "\n",
       "    .dataframe tbody tr th {\n",
       "        vertical-align: top;\n",
       "    }\n",
       "\n",
       "    .dataframe thead th {\n",
       "        text-align: right;\n",
       "    }\n",
       "</style>\n",
       "<table border=\"1\" class=\"dataframe\">\n",
       "  <thead>\n",
       "    <tr style=\"text-align: right;\">\n",
       "      <th></th>\n",
       "      <th>TOTAL_WORKERS</th>\n",
       "      <th>NEW_EMPLOYMENT</th>\n",
       "      <th>CONTINUED_EMPLOYMENT</th>\n",
       "      <th>CHANGE_PREVIOUS_EMPLOYMENT</th>\n",
       "      <th>NEW_CONCURRENT_EMPLOYMENT</th>\n",
       "      <th>ANNUALIZED_PREVAILING_WAGE</th>\n",
       "      <th>PREVAILING_WAGE</th>\n",
       "      <th>ANNUALIZED_WAGE_RATE_OF_PAY</th>\n",
       "      <th>WAGE_RATE_OF_PAY</th>\n",
       "      <th>DAYS_PROCESS</th>\n",
       "      <th>...</th>\n",
       "      <th>Management</th>\n",
       "      <th>Office and Administrative Support</th>\n",
       "      <th>Personal Care and Service</th>\n",
       "      <th>Production</th>\n",
       "      <th>Sales and Related</th>\n",
       "      <th>Transportation and Material Moving</th>\n",
       "      <th>AGENT_REP_Y</th>\n",
       "      <th>H1B_DEP_Y</th>\n",
       "      <th>LABOR_CON_AGREE_Y</th>\n",
       "      <th>SUPPORT_H1B_Y</th>\n",
       "    </tr>\n",
       "  </thead>\n",
       "  <tbody>\n",
       "    <tr>\n",
       "      <th>20338</th>\n",
       "      <td>3</td>\n",
       "      <td>1</td>\n",
       "      <td>0</td>\n",
       "      <td>0</td>\n",
       "      <td>0</td>\n",
       "      <td>45594.000000</td>\n",
       "      <td>45594.000000</td>\n",
       "      <td>60000.000000</td>\n",
       "      <td>60000.000000</td>\n",
       "      <td>6</td>\n",
       "      <td>...</td>\n",
       "      <td>0</td>\n",
       "      <td>0</td>\n",
       "      <td>0</td>\n",
       "      <td>0</td>\n",
       "      <td>0</td>\n",
       "      <td>0</td>\n",
       "      <td>1</td>\n",
       "      <td>1</td>\n",
       "      <td>1</td>\n",
       "      <td>1</td>\n",
       "    </tr>\n",
       "    <tr>\n",
       "      <th>8207</th>\n",
       "      <td>1</td>\n",
       "      <td>0</td>\n",
       "      <td>0</td>\n",
       "      <td>0</td>\n",
       "      <td>0</td>\n",
       "      <td>52541.000000</td>\n",
       "      <td>52541.000000</td>\n",
       "      <td>69805.000000</td>\n",
       "      <td>69805.000000</td>\n",
       "      <td>6</td>\n",
       "      <td>...</td>\n",
       "      <td>0</td>\n",
       "      <td>0</td>\n",
       "      <td>0</td>\n",
       "      <td>0</td>\n",
       "      <td>0</td>\n",
       "      <td>0</td>\n",
       "      <td>0</td>\n",
       "      <td>1</td>\n",
       "      <td>1</td>\n",
       "      <td>1</td>\n",
       "    </tr>\n",
       "    <tr>\n",
       "      <th>41668</th>\n",
       "      <td>1</td>\n",
       "      <td>0</td>\n",
       "      <td>0</td>\n",
       "      <td>0</td>\n",
       "      <td>0</td>\n",
       "      <td>76239.195536</td>\n",
       "      <td>76239.195536</td>\n",
       "      <td>75230.102705</td>\n",
       "      <td>75230.102705</td>\n",
       "      <td>5</td>\n",
       "      <td>...</td>\n",
       "      <td>0</td>\n",
       "      <td>0</td>\n",
       "      <td>0</td>\n",
       "      <td>0</td>\n",
       "      <td>0</td>\n",
       "      <td>0</td>\n",
       "      <td>0</td>\n",
       "      <td>1</td>\n",
       "      <td>1</td>\n",
       "      <td>1</td>\n",
       "    </tr>\n",
       "    <tr>\n",
       "      <th>10474</th>\n",
       "      <td>1</td>\n",
       "      <td>0</td>\n",
       "      <td>0</td>\n",
       "      <td>0</td>\n",
       "      <td>0</td>\n",
       "      <td>86715.000000</td>\n",
       "      <td>86715.000000</td>\n",
       "      <td>86715.000000</td>\n",
       "      <td>86715.000000</td>\n",
       "      <td>4</td>\n",
       "      <td>...</td>\n",
       "      <td>1</td>\n",
       "      <td>0</td>\n",
       "      <td>0</td>\n",
       "      <td>0</td>\n",
       "      <td>0</td>\n",
       "      <td>0</td>\n",
       "      <td>0</td>\n",
       "      <td>1</td>\n",
       "      <td>1</td>\n",
       "      <td>1</td>\n",
       "    </tr>\n",
       "    <tr>\n",
       "      <th>601</th>\n",
       "      <td>1</td>\n",
       "      <td>1</td>\n",
       "      <td>0</td>\n",
       "      <td>0</td>\n",
       "      <td>0</td>\n",
       "      <td>54704.000000</td>\n",
       "      <td>54704.000000</td>\n",
       "      <td>60000.000000</td>\n",
       "      <td>60000.000000</td>\n",
       "      <td>6</td>\n",
       "      <td>...</td>\n",
       "      <td>0</td>\n",
       "      <td>0</td>\n",
       "      <td>0</td>\n",
       "      <td>0</td>\n",
       "      <td>0</td>\n",
       "      <td>0</td>\n",
       "      <td>0</td>\n",
       "      <td>1</td>\n",
       "      <td>1</td>\n",
       "      <td>1</td>\n",
       "    </tr>\n",
       "  </tbody>\n",
       "</table>\n",
       "<p>5 rows × 35 columns</p>\n",
       "</div>"
      ],
      "text/plain": [
       "       TOTAL_WORKERS  NEW_EMPLOYMENT  CONTINUED_EMPLOYMENT  \\\n",
       "20338              3               1                     0   \n",
       "8207               1               0                     0   \n",
       "41668              1               0                     0   \n",
       "10474              1               0                     0   \n",
       "601                1               1                     0   \n",
       "\n",
       "       CHANGE_PREVIOUS_EMPLOYMENT  NEW_CONCURRENT_EMPLOYMENT  \\\n",
       "20338                           0                          0   \n",
       "8207                            0                          0   \n",
       "41668                           0                          0   \n",
       "10474                           0                          0   \n",
       "601                             0                          0   \n",
       "\n",
       "       ANNUALIZED_PREVAILING_WAGE  PREVAILING_WAGE  \\\n",
       "20338                45594.000000     45594.000000   \n",
       "8207                 52541.000000     52541.000000   \n",
       "41668                76239.195536     76239.195536   \n",
       "10474                86715.000000     86715.000000   \n",
       "601                  54704.000000     54704.000000   \n",
       "\n",
       "       ANNUALIZED_WAGE_RATE_OF_PAY  WAGE_RATE_OF_PAY  DAYS_PROCESS  ...  \\\n",
       "20338                 60000.000000      60000.000000             6  ...   \n",
       "8207                  69805.000000      69805.000000             6  ...   \n",
       "41668                 75230.102705      75230.102705             5  ...   \n",
       "10474                 86715.000000      86715.000000             4  ...   \n",
       "601                   60000.000000      60000.000000             6  ...   \n",
       "\n",
       "       Management  Office and Administrative Support  \\\n",
       "20338           0                                  0   \n",
       "8207            0                                  0   \n",
       "41668           0                                  0   \n",
       "10474           1                                  0   \n",
       "601             0                                  0   \n",
       "\n",
       "       Personal Care and Service  Production  Sales and Related  \\\n",
       "20338                          0           0                  0   \n",
       "8207                           0           0                  0   \n",
       "41668                          0           0                  0   \n",
       "10474                          0           0                  0   \n",
       "601                            0           0                  0   \n",
       "\n",
       "       Transportation and Material Moving  AGENT_REP_Y  H1B_DEP_Y  \\\n",
       "20338                                   0            1          1   \n",
       "8207                                    0            0          1   \n",
       "41668                                   0            0          1   \n",
       "10474                                   0            0          1   \n",
       "601                                     0            0          1   \n",
       "\n",
       "       LABOR_CON_AGREE_Y  SUPPORT_H1B_Y  \n",
       "20338                  1              1  \n",
       "8207                   1              1  \n",
       "41668                  1              1  \n",
       "10474                  1              1  \n",
       "601                    1              1  \n",
       "\n",
       "[5 rows x 35 columns]"
      ]
     },
     "execution_count": 8,
     "metadata": {},
     "output_type": "execute_result"
    }
   ],
   "source": [
    "df3 = df2.drop(['WILLFUL_VIOLATOR','PW_WAGE_LEVEL',\n",
    "               'H1B_DEPENDENT','LABOR_CON_AGREE',\n",
    "                'AGENT_REPRESENTING_EMPLOYER','SOC_GROUP','SUPPORT_H1B'], axis=1)\n",
    "df3.head()"
   ]
  },
  {
   "cell_type": "code",
   "execution_count": 9,
   "metadata": {},
   "outputs": [],
   "source": [
    "cont_vars = ['TOTAL_WORKERS','ANNUALIZED_PREVAILING_WAGE', \n",
    "           'PREVAILING_WAGE', 'ANNUALIZED_WAGE_RATE_OF_PAY',\n",
    "                'WAGE_RATE_OF_PAY','DAYS_PROCESS']"
   ]
  },
  {
   "cell_type": "code",
   "execution_count": 10,
   "metadata": {},
   "outputs": [
    {
     "data": {
      "text/plain": [
       "(37420, 35)"
      ]
     },
     "execution_count": 10,
     "metadata": {},
     "output_type": "execute_result"
    }
   ],
   "source": [
    "pd.set_option('display.max_columns', 100)\n",
    "df3.shape"
   ]
  },
  {
   "cell_type": "code",
   "execution_count": 11,
   "metadata": {},
   "outputs": [
    {
     "name": "stdout",
     "output_type": "stream",
     "text": [
      "<class 'pandas.core.frame.DataFrame'>\n",
      "Int64Index: 37420 entries, 20338 to 47379\n",
      "Data columns (total 35 columns):\n",
      " #   Column                                          Non-Null Count  Dtype  \n",
      "---  ------                                          --------------  -----  \n",
      " 0   TOTAL_WORKERS                                   37420 non-null  int64  \n",
      " 1   NEW_EMPLOYMENT                                  37420 non-null  int64  \n",
      " 2   CONTINUED_EMPLOYMENT                            37420 non-null  int64  \n",
      " 3   CHANGE_PREVIOUS_EMPLOYMENT                      37420 non-null  int64  \n",
      " 4   NEW_CONCURRENT_EMPLOYMENT                       37420 non-null  int64  \n",
      " 5   ANNUALIZED_PREVAILING_WAGE                      37420 non-null  float64\n",
      " 6   PREVAILING_WAGE                                 37420 non-null  float64\n",
      " 7   ANNUALIZED_WAGE_RATE_OF_PAY                     37420 non-null  float64\n",
      " 8   WAGE_RATE_OF_PAY                                37420 non-null  float64\n",
      " 9   DAYS_PROCESS                                    37420 non-null  int64  \n",
      " 10  CASE_STATUS_CODE                                37420 non-null  int64  \n",
      " 11  WILL_VIOL_Y                                     37420 non-null  uint8  \n",
      " 12  Arts, Design, Entertainment, Sports, and Media  37420 non-null  uint8  \n",
      " 13  Building and Grounds Cleaning and Maintenance   37420 non-null  uint8  \n",
      " 14  Business and Financial Operations               37420 non-null  uint8  \n",
      " 15  Community and Social Service                    37420 non-null  uint8  \n",
      " 16  Computer and Mathematical                       37420 non-null  uint8  \n",
      " 17  Construction and Extraction                     37420 non-null  uint8  \n",
      " 18  Education, Training, and Library                37420 non-null  uint8  \n",
      " 19  Food Preparation and Serving Related            37420 non-null  uint8  \n",
      " 20  Healthcare Practitioners and Technical          37420 non-null  uint8  \n",
      " 21  Healthcare Support                              37420 non-null  uint8  \n",
      " 22  Installation, Maintenance, and Repair           37420 non-null  uint8  \n",
      " 23  Legal                                           37420 non-null  uint8  \n",
      " 24  Life, Physical, and Social Science              37420 non-null  uint8  \n",
      " 25  Management                                      37420 non-null  uint8  \n",
      " 26  Office and Administrative Support               37420 non-null  uint8  \n",
      " 27  Personal Care and Service                       37420 non-null  uint8  \n",
      " 28  Production                                      37420 non-null  uint8  \n",
      " 29  Sales and Related                               37420 non-null  uint8  \n",
      " 30  Transportation and Material Moving              37420 non-null  uint8  \n",
      " 31  AGENT_REP_Y                                     37420 non-null  uint8  \n",
      " 32  H1B_DEP_Y                                       37420 non-null  uint8  \n",
      " 33  LABOR_CON_AGREE_Y                               37420 non-null  uint8  \n",
      " 34  SUPPORT_H1B_Y                                   37420 non-null  uint8  \n",
      "dtypes: float64(4), int64(7), uint8(24)\n",
      "memory usage: 4.3 MB\n"
     ]
    }
   ],
   "source": [
    "df3.info()"
   ]
  },
  {
   "cell_type": "markdown",
   "metadata": {},
   "source": [
    "### Test/Train split"
   ]
  },
  {
   "cell_type": "code",
   "execution_count": 12,
   "metadata": {},
   "outputs": [],
   "source": [
    "# divide data set to x and y and Scale data\n",
    "\n",
    "y = df3['CASE_STATUS_CODE']\n",
    "x = df3.drop(['CASE_STATUS_CODE'], axis=1)"
   ]
  },
  {
   "cell_type": "code",
   "execution_count": 13,
   "metadata": {},
   "outputs": [
    {
     "name": "stdout",
     "output_type": "stream",
     "text": [
      "(7484, 34)\n",
      "(7484,)\n"
     ]
    }
   ],
   "source": [
    "a = df3['CASE_STATUS_CODE'].values\n",
    "bb = df3.drop(['CASE_STATUS_CODE'], axis=1)\n",
    "b = bb.values\n",
    "\n",
    "x_t = x[:7484]\n",
    "y_t = y[:7484]\n",
    "\n",
    "print(x_t.shape)\n",
    "print(y_t.shape)"
   ]
  },
  {
   "cell_type": "code",
   "execution_count": 14,
   "metadata": {
    "scrolled": true
   },
   "outputs": [
    {
     "name": "stdout",
     "output_type": "stream",
     "text": [
      "(29936,)\n",
      "(7484, 34)\n"
     ]
    }
   ],
   "source": [
    "# create train set\n",
    "import random\n",
    "random.seed(0)\n",
    "x_train,x_test,y_train,y_test = train_test_split(x,y,test_size=0.2, random_state=0)\n",
    "print(y_train.shape)\n",
    "print(x_test.shape)"
   ]
  },
  {
   "cell_type": "markdown",
   "metadata": {},
   "source": [
    "### Logistic Regression Grid search\n"
   ]
  },
  {
   "cell_type": "code",
   "execution_count": 15,
   "metadata": {},
   "outputs": [],
   "source": [
    "def print_results(results):\n",
    "    print('BEST PARAMS: {}\\n'.format(results.best_params_))\n",
    "\n",
    "    means = results.cv_results_['mean_test_score']\n",
    "    stds = results.cv_results_['std_test_score']\n",
    "    for mean, std, params in zip(means, stds, results.cv_results_['params']):\n",
    "        print('{} (+/-{}) for {}'.format(round(mean, 3), round(std * 2, 3), params))"
   ]
  },
  {
   "cell_type": "code",
   "execution_count": 16,
   "metadata": {},
   "outputs": [
    {
     "name": "stdout",
     "output_type": "stream",
     "text": [
      "Fitting 5 folds for each of 4 candidates, totalling 20 fits\n",
      "BEST PARAMS: {'C': 0.1, 'penalty': 'l2', 'solver': 'sag'}\n",
      "\n",
      "0.593 (+/-0.011) for {'C': 0.1, 'penalty': 'l2', 'solver': 'sag'}\n",
      "0.593 (+/-0.011) for {'C': 1, 'penalty': 'l2', 'solver': 'sag'}\n",
      "0.593 (+/-0.011) for {'C': 10, 'penalty': 'l2', 'solver': 'sag'}\n",
      "0.593 (+/-0.011) for {'C': 100, 'penalty': 'l2', 'solver': 'sag'}\n"
     ]
    }
   ],
   "source": [
    "# grid search\n",
    "params = {\n",
    "    'penalty':['l2'],        # l1 is Lasso, l2 is Ridge\n",
    "    'solver':['sag'],\n",
    "    'C': [0.1,1,10,100]\n",
    "}\n",
    "\n",
    "lr = LogisticRegression()\n",
    "lr_gs = GridSearchCV(lr, params, cv=5, verbose=1).fit(x_train, y_train)\n",
    "\n",
    "print_results(lr_gs)"
   ]
  },
  {
   "cell_type": "markdown",
   "metadata": {},
   "source": [
    "### Logistic Regression Model"
   ]
  },
  {
   "cell_type": "markdown",
   "metadata": {},
   "source": [
    "Applying a scale it to the entire data before splitting into training and test sets will bias the model evaluation because information would have leaked from the test set to the training set. scikit learn developers recommend using StandardScaler within a Pipeline in order to prevent most risks of data leaking: pipe = make_pipeline(StandardScaler(), LogisticRegression())."
   ]
  },
  {
   "cell_type": "code",
   "execution_count": 17,
   "metadata": {},
   "outputs": [
    {
     "data": {
      "text/plain": [
       "Pipeline(steps=[('scale', StandardScaler()),\n",
       "                ('lg',\n",
       "                 LogisticRegression(C=0.1, random_state=0, solver='sag'))])"
      ]
     },
     "execution_count": 17,
     "metadata": {},
     "output_type": "execute_result"
    }
   ],
   "source": [
    "# Create pipeline\n",
    "pipe = Pipeline([\n",
    "        ('scale', StandardScaler()),\n",
    "        ('lg', LogisticRegression(penalty='l2',solver='sag', random_state=0,C=0.1))])\n",
    "pipe.fit(x_train,y_train)"
   ]
  },
  {
   "cell_type": "markdown",
   "metadata": {},
   "source": [
    "### 10fold Cross Validation "
   ]
  },
  {
   "cell_type": "code",
   "execution_count": 18,
   "metadata": {},
   "outputs": [],
   "source": [
    "# cross validation\n",
    "random.seed(10)\n",
    "from sklearn.model_selection import ShuffleSplit\n",
    "num_cv_iterations = 10\n",
    "cv_object = ShuffleSplit(n_splits=num_cv_iterations,test_size  = 0.2)"
   ]
  },
  {
   "cell_type": "code",
   "execution_count": 19,
   "metadata": {},
   "outputs": [
    {
     "name": "stdout",
     "output_type": "stream",
     "text": [
      "[0.84502338 0.84836339 0.83700735 0.83633935 0.84235137 0.8490314\n",
      " 0.84702739 0.84702739 0.83700735 0.84702739]\n"
     ]
    }
   ],
   "source": [
    "# accuracies fom cross validation\n",
    "\n",
    "from sklearn.model_selection import cross_val_score\n",
    "accuracies = cross_val_score(pipe, x_t, y=y_t, cv=cv_object)\n",
    "print(accuracies)"
   ]
  },
  {
   "cell_type": "code",
   "execution_count": 20,
   "metadata": {},
   "outputs": [
    {
     "name": "stdout",
     "output_type": "stream",
     "text": [
      "====Iteration 0  ====\n",
      "accuracy 0.8367183324425441\n",
      "confusion matrix\n",
      " [[3100  728]\n",
      " [ 494 3162]]\n",
      "              precision    recall  f1-score   support\n",
      "\n",
      "           0       0.86      0.81      0.84      3828\n",
      "           1       0.81      0.86      0.84      3656\n",
      "\n",
      "    accuracy                           0.84      7484\n",
      "   macro avg       0.84      0.84      0.84      7484\n",
      "weighted avg       0.84      0.84      0.84      7484\n",
      "\n",
      "====Iteration 1  ====\n",
      "accuracy 0.8399251737039016\n",
      "confusion matrix\n",
      " [[3079  706]\n",
      " [ 492 3207]]\n",
      "              precision    recall  f1-score   support\n",
      "\n",
      "           0       0.86      0.81      0.84      3785\n",
      "           1       0.82      0.87      0.84      3699\n",
      "\n",
      "    accuracy                           0.84      7484\n",
      "   macro avg       0.84      0.84      0.84      7484\n",
      "weighted avg       0.84      0.84      0.84      7484\n",
      "\n",
      "====Iteration 2  ====\n",
      "accuracy 0.8324425440940674\n",
      "confusion matrix\n",
      " [[3019  699]\n",
      " [ 555 3211]]\n",
      "              precision    recall  f1-score   support\n",
      "\n",
      "           0       0.84      0.81      0.83      3718\n",
      "           1       0.82      0.85      0.84      3766\n",
      "\n",
      "    accuracy                           0.83      7484\n",
      "   macro avg       0.83      0.83      0.83      7484\n",
      "weighted avg       0.83      0.83      0.83      7484\n",
      "\n",
      "====Iteration 3  ====\n",
      "accuracy 0.8392570817744521\n",
      "confusion matrix\n",
      " [[3068  715]\n",
      " [ 488 3213]]\n",
      "              precision    recall  f1-score   support\n",
      "\n",
      "           0       0.86      0.81      0.84      3783\n",
      "           1       0.82      0.87      0.84      3701\n",
      "\n",
      "    accuracy                           0.84      7484\n",
      "   macro avg       0.84      0.84      0.84      7484\n",
      "weighted avg       0.84      0.84      0.84      7484\n",
      "\n",
      "====Iteration 4  ====\n",
      "accuracy 0.8323089257081775\n",
      "confusion matrix\n",
      " [[3006  760]\n",
      " [ 495 3223]]\n",
      "              precision    recall  f1-score   support\n",
      "\n",
      "           0       0.86      0.80      0.83      3766\n",
      "           1       0.81      0.87      0.84      3718\n",
      "\n",
      "    accuracy                           0.83      7484\n",
      "   macro avg       0.83      0.83      0.83      7484\n",
      "weighted avg       0.83      0.83      0.83      7484\n",
      "\n",
      "====Iteration 5  ====\n",
      "accuracy 0.8373864243719936\n",
      "confusion matrix\n",
      " [[3056  726]\n",
      " [ 491 3211]]\n",
      "              precision    recall  f1-score   support\n",
      "\n",
      "           0       0.86      0.81      0.83      3782\n",
      "           1       0.82      0.87      0.84      3702\n",
      "\n",
      "    accuracy                           0.84      7484\n",
      "   macro avg       0.84      0.84      0.84      7484\n",
      "weighted avg       0.84      0.84      0.84      7484\n",
      "\n",
      "====Iteration 6  ====\n",
      "accuracy 0.8372528059861037\n",
      "confusion matrix\n",
      " [[3034  692]\n",
      " [ 526 3232]]\n",
      "              precision    recall  f1-score   support\n",
      "\n",
      "           0       0.85      0.81      0.83      3726\n",
      "           1       0.82      0.86      0.84      3758\n",
      "\n",
      "    accuracy                           0.84      7484\n",
      "   macro avg       0.84      0.84      0.84      7484\n",
      "weighted avg       0.84      0.84      0.84      7484\n",
      "\n",
      "====Iteration 7  ====\n",
      "accuracy 0.8327097808658471\n",
      "confusion matrix\n",
      " [[2989  713]\n",
      " [ 539 3243]]\n",
      "              precision    recall  f1-score   support\n",
      "\n",
      "           0       0.85      0.81      0.83      3702\n",
      "           1       0.82      0.86      0.84      3782\n",
      "\n",
      "    accuracy                           0.83      7484\n",
      "   macro avg       0.83      0.83      0.83      7484\n",
      "weighted avg       0.83      0.83      0.83      7484\n",
      "\n",
      "====Iteration 8  ====\n",
      "accuracy 0.8317744521646179\n",
      "confusion matrix\n",
      " [[3043  739]\n",
      " [ 520 3182]]\n",
      "              precision    recall  f1-score   support\n",
      "\n",
      "           0       0.85      0.80      0.83      3782\n",
      "           1       0.81      0.86      0.83      3702\n",
      "\n",
      "    accuracy                           0.83      7484\n",
      "   macro avg       0.83      0.83      0.83      7484\n",
      "weighted avg       0.83      0.83      0.83      7484\n",
      "\n",
      "====Iteration 9  ====\n",
      "accuracy 0.8391234633885623\n",
      "confusion matrix\n",
      " [[3025  702]\n",
      " [ 502 3255]]\n",
      "              precision    recall  f1-score   support\n",
      "\n",
      "           0       0.86      0.81      0.83      3727\n",
      "           1       0.82      0.87      0.84      3757\n",
      "\n",
      "    accuracy                           0.84      7484\n",
      "   macro avg       0.84      0.84      0.84      7484\n",
      "weighted avg       0.84      0.84      0.84      7484\n",
      "\n"
     ]
    }
   ],
   "source": [
    "pd.set_option('display.max_rows', None)\n",
    "from sklearn import metrics as mt\n",
    "iter_num=0\n",
    "for iter_num, (train_indices, test_indices) in enumerate(cv_object.split(b,a)):\n",
    "    pipe.fit(b[train_indices],a[train_indices])  # train object\n",
    "    y_hat = pipe.predict(b[test_indices])\n",
    "    \n",
    "    print(\"====Iteration\",iter_num,\" ====\")\n",
    "    print(\"accuracy\", mt.accuracy_score(a[test_indices],y_hat)) \n",
    "    print(\"confusion matrix\\n\",mt.confusion_matrix(a[test_indices],y_hat))\n",
    "    print(classification_report(a[test_indices],y_hat))"
   ]
  },
  {
   "cell_type": "code",
   "execution_count": 21,
   "metadata": {},
   "outputs": [
    {
     "data": {
      "image/png": "[encoded data removed]",
      "text/plain": [
       "<Figure size 432x288 with 1 Axes>"
      ]
     },
     "metadata": {
      "needs_background": "light"
     },
     "output_type": "display_data"
    }
   ],
   "source": [
    "from matplotlib import pyplot as plt\n",
    "from sklearn.metrics import roc_auc_score\n",
    "from sklearn.metrics import roc_curve\n",
    "logit_roc_auc = roc_auc_score(y_test, pipe.predict(x_test))\n",
    "fpr, tpr, thresholds = roc_curve(y_test, pipe.predict_proba(x_test)[:,1])\n",
    "plt.figure()\n",
    "plt.plot(fpr, tpr, label='Logistic Regression (area = %0.2f)' % logit_roc_auc)\n",
    "plt.plot([0, 1], [0, 1],'r--')\n",
    "plt.xlim([0.0, 1.0])\n",
    "plt.ylim([0.0, 1.05])\n",
    "plt.xlabel('False Positive Rate')\n",
    "plt.ylabel('True Positive Rate')\n",
    "plt.title('Receiver operating characteristic')\n",
    "plt.legend(loc=\"lower right\")\n",
    "plt.savefig('Log_ROC')\n",
    "plt.show()"
   ]
  },
  {
   "cell_type": "markdown",
   "metadata": {},
   "source": [
    "## Support Vector Machines"
   ]
  },
  {
   "cell_type": "code",
   "execution_count": 22,
   "metadata": {},
   "outputs": [
    {
     "data": {
      "text/plain": [
       "(11420, 35)"
      ]
     },
     "execution_count": 22,
     "metadata": {},
     "output_type": "execute_result"
    }
   ],
   "source": [
    "# reducing data set size for SVC\n",
    "\n",
    "df4=df3.sort_values(by=['CASE_STATUS_CODE'])\n",
    "df4=df4.iloc[13000:, :]\n",
    "df4=df4.iloc[:11420, :]\n",
    "df4.shape"
   ]
  },
  {
   "cell_type": "code",
   "execution_count": 23,
   "metadata": {},
   "outputs": [
    {
     "data": {
      "text/html": [
       "<div>\n",
       "<style scoped>\n",
       "    .dataframe tbody tr th:only-of-type {\n",
       "        vertical-align: middle;\n",
       "    }\n",
       "\n",
       "    .dataframe tbody tr th {\n",
       "        vertical-align: top;\n",
       "    }\n",
       "\n",
       "    .dataframe thead th {\n",
       "        text-align: right;\n",
       "    }\n",
       "</style>\n",
       "<table border=\"1\" class=\"dataframe\">\n",
       "  <thead>\n",
       "    <tr style=\"text-align: right;\">\n",
       "      <th></th>\n",
       "      <th>TOTAL_WORKERS</th>\n",
       "      <th>NEW_EMPLOYMENT</th>\n",
       "      <th>CONTINUED_EMPLOYMENT</th>\n",
       "      <th>CHANGE_PREVIOUS_EMPLOYMENT</th>\n",
       "      <th>NEW_CONCURRENT_EMPLOYMENT</th>\n",
       "      <th>ANNUALIZED_PREVAILING_WAGE</th>\n",
       "      <th>PREVAILING_WAGE</th>\n",
       "      <th>ANNUALIZED_WAGE_RATE_OF_PAY</th>\n",
       "      <th>WAGE_RATE_OF_PAY</th>\n",
       "      <th>DAYS_PROCESS</th>\n",
       "      <th>CASE_STATUS_CODE</th>\n",
       "      <th>WILL_VIOL_Y</th>\n",
       "      <th>Arts, Design, Entertainment, Sports, and Media</th>\n",
       "      <th>Building and Grounds Cleaning and Maintenance</th>\n",
       "      <th>Business and Financial Operations</th>\n",
       "      <th>Community and Social Service</th>\n",
       "      <th>Computer and Mathematical</th>\n",
       "      <th>Construction and Extraction</th>\n",
       "      <th>Education, Training, and Library</th>\n",
       "      <th>Food Preparation and Serving Related</th>\n",
       "      <th>Healthcare Practitioners and Technical</th>\n",
       "      <th>Healthcare Support</th>\n",
       "      <th>Installation, Maintenance, and Repair</th>\n",
       "      <th>Legal</th>\n",
       "      <th>Life, Physical, and Social Science</th>\n",
       "      <th>Management</th>\n",
       "      <th>Office and Administrative Support</th>\n",
       "      <th>Personal Care and Service</th>\n",
       "      <th>Production</th>\n",
       "      <th>Sales and Related</th>\n",
       "      <th>Transportation and Material Moving</th>\n",
       "      <th>AGENT_REP_Y</th>\n",
       "      <th>H1B_DEP_Y</th>\n",
       "      <th>LABOR_CON_AGREE_Y</th>\n",
       "      <th>SUPPORT_H1B_Y</th>\n",
       "    </tr>\n",
       "  </thead>\n",
       "  <tbody>\n",
       "    <tr>\n",
       "      <th>5228</th>\n",
       "      <td>1</td>\n",
       "      <td>1</td>\n",
       "      <td>0</td>\n",
       "      <td>0</td>\n",
       "      <td>0</td>\n",
       "      <td>63669.000000</td>\n",
       "      <td>63669.000000</td>\n",
       "      <td>64000.000000</td>\n",
       "      <td>64000.000000</td>\n",
       "      <td>6</td>\n",
       "      <td>1</td>\n",
       "      <td>0</td>\n",
       "      <td>0</td>\n",
       "      <td>0</td>\n",
       "      <td>0</td>\n",
       "      <td>0</td>\n",
       "      <td>1</td>\n",
       "      <td>0</td>\n",
       "      <td>0</td>\n",
       "      <td>0</td>\n",
       "      <td>0</td>\n",
       "      <td>0</td>\n",
       "      <td>0</td>\n",
       "      <td>0</td>\n",
       "      <td>0</td>\n",
       "      <td>0</td>\n",
       "      <td>0</td>\n",
       "      <td>0</td>\n",
       "      <td>0</td>\n",
       "      <td>0</td>\n",
       "      <td>0</td>\n",
       "      <td>0</td>\n",
       "      <td>1</td>\n",
       "      <td>1</td>\n",
       "      <td>1</td>\n",
       "    </tr>\n",
       "    <tr>\n",
       "      <th>15093</th>\n",
       "      <td>1</td>\n",
       "      <td>0</td>\n",
       "      <td>0</td>\n",
       "      <td>0</td>\n",
       "      <td>0</td>\n",
       "      <td>63398.000000</td>\n",
       "      <td>63398.000000</td>\n",
       "      <td>72000.000000</td>\n",
       "      <td>72000.000000</td>\n",
       "      <td>7</td>\n",
       "      <td>1</td>\n",
       "      <td>0</td>\n",
       "      <td>0</td>\n",
       "      <td>0</td>\n",
       "      <td>0</td>\n",
       "      <td>0</td>\n",
       "      <td>1</td>\n",
       "      <td>0</td>\n",
       "      <td>0</td>\n",
       "      <td>0</td>\n",
       "      <td>0</td>\n",
       "      <td>0</td>\n",
       "      <td>0</td>\n",
       "      <td>0</td>\n",
       "      <td>0</td>\n",
       "      <td>0</td>\n",
       "      <td>0</td>\n",
       "      <td>0</td>\n",
       "      <td>0</td>\n",
       "      <td>0</td>\n",
       "      <td>0</td>\n",
       "      <td>1</td>\n",
       "      <td>1</td>\n",
       "      <td>1</td>\n",
       "      <td>1</td>\n",
       "    </tr>\n",
       "    <tr>\n",
       "      <th>11001</th>\n",
       "      <td>1</td>\n",
       "      <td>0</td>\n",
       "      <td>0</td>\n",
       "      <td>0</td>\n",
       "      <td>0</td>\n",
       "      <td>45136.000000</td>\n",
       "      <td>45136.000000</td>\n",
       "      <td>55910.000000</td>\n",
       "      <td>55910.000000</td>\n",
       "      <td>6</td>\n",
       "      <td>1</td>\n",
       "      <td>0</td>\n",
       "      <td>0</td>\n",
       "      <td>0</td>\n",
       "      <td>0</td>\n",
       "      <td>0</td>\n",
       "      <td>1</td>\n",
       "      <td>0</td>\n",
       "      <td>0</td>\n",
       "      <td>0</td>\n",
       "      <td>0</td>\n",
       "      <td>0</td>\n",
       "      <td>0</td>\n",
       "      <td>0</td>\n",
       "      <td>0</td>\n",
       "      <td>0</td>\n",
       "      <td>0</td>\n",
       "      <td>0</td>\n",
       "      <td>0</td>\n",
       "      <td>0</td>\n",
       "      <td>0</td>\n",
       "      <td>0</td>\n",
       "      <td>1</td>\n",
       "      <td>1</td>\n",
       "      <td>1</td>\n",
       "    </tr>\n",
       "    <tr>\n",
       "      <th>44768</th>\n",
       "      <td>1</td>\n",
       "      <td>0</td>\n",
       "      <td>0</td>\n",
       "      <td>0</td>\n",
       "      <td>0</td>\n",
       "      <td>91256.167957</td>\n",
       "      <td>91256.167957</td>\n",
       "      <td>90654.217898</td>\n",
       "      <td>90654.217898</td>\n",
       "      <td>1</td>\n",
       "      <td>0</td>\n",
       "      <td>0</td>\n",
       "      <td>0</td>\n",
       "      <td>0</td>\n",
       "      <td>0</td>\n",
       "      <td>0</td>\n",
       "      <td>1</td>\n",
       "      <td>0</td>\n",
       "      <td>0</td>\n",
       "      <td>0</td>\n",
       "      <td>0</td>\n",
       "      <td>0</td>\n",
       "      <td>0</td>\n",
       "      <td>0</td>\n",
       "      <td>0</td>\n",
       "      <td>0</td>\n",
       "      <td>0</td>\n",
       "      <td>0</td>\n",
       "      <td>0</td>\n",
       "      <td>0</td>\n",
       "      <td>0</td>\n",
       "      <td>0</td>\n",
       "      <td>0</td>\n",
       "      <td>1</td>\n",
       "      <td>1</td>\n",
       "    </tr>\n",
       "    <tr>\n",
       "      <th>51018</th>\n",
       "      <td>1</td>\n",
       "      <td>0</td>\n",
       "      <td>0</td>\n",
       "      <td>0</td>\n",
       "      <td>0</td>\n",
       "      <td>62754.000000</td>\n",
       "      <td>62754.000000</td>\n",
       "      <td>62963.930755</td>\n",
       "      <td>62963.930755</td>\n",
       "      <td>5</td>\n",
       "      <td>0</td>\n",
       "      <td>0</td>\n",
       "      <td>0</td>\n",
       "      <td>0</td>\n",
       "      <td>0</td>\n",
       "      <td>0</td>\n",
       "      <td>1</td>\n",
       "      <td>0</td>\n",
       "      <td>0</td>\n",
       "      <td>0</td>\n",
       "      <td>0</td>\n",
       "      <td>0</td>\n",
       "      <td>0</td>\n",
       "      <td>0</td>\n",
       "      <td>0</td>\n",
       "      <td>0</td>\n",
       "      <td>0</td>\n",
       "      <td>0</td>\n",
       "      <td>0</td>\n",
       "      <td>0</td>\n",
       "      <td>0</td>\n",
       "      <td>0</td>\n",
       "      <td>1</td>\n",
       "      <td>1</td>\n",
       "      <td>1</td>\n",
       "    </tr>\n",
       "  </tbody>\n",
       "</table>\n",
       "</div>"
      ],
      "text/plain": [
       "       TOTAL_WORKERS  NEW_EMPLOYMENT  CONTINUED_EMPLOYMENT  \\\n",
       "5228               1               1                     0   \n",
       "15093              1               0                     0   \n",
       "11001              1               0                     0   \n",
       "44768              1               0                     0   \n",
       "51018              1               0                     0   \n",
       "\n",
       "       CHANGE_PREVIOUS_EMPLOYMENT  NEW_CONCURRENT_EMPLOYMENT  \\\n",
       "5228                            0                          0   \n",
       "15093                           0                          0   \n",
       "11001                           0                          0   \n",
       "44768                           0                          0   \n",
       "51018                           0                          0   \n",
       "\n",
       "       ANNUALIZED_PREVAILING_WAGE  PREVAILING_WAGE  \\\n",
       "5228                 63669.000000     63669.000000   \n",
       "15093                63398.000000     63398.000000   \n",
       "11001                45136.000000     45136.000000   \n",
       "44768                91256.167957     91256.167957   \n",
       "51018                62754.000000     62754.000000   \n",
       "\n",
       "       ANNUALIZED_WAGE_RATE_OF_PAY  WAGE_RATE_OF_PAY  DAYS_PROCESS  \\\n",
       "5228                  64000.000000      64000.000000             6   \n",
       "15093                 72000.000000      72000.000000             7   \n",
       "11001                 55910.000000      55910.000000             6   \n",
       "44768                 90654.217898      90654.217898             1   \n",
       "51018                 62963.930755      62963.930755             5   \n",
       "\n",
       "       CASE_STATUS_CODE  WILL_VIOL_Y  \\\n",
       "5228                  1            0   \n",
       "15093                 1            0   \n",
       "11001                 1            0   \n",
       "44768                 0            0   \n",
       "51018                 0            0   \n",
       "\n",
       "       Arts, Design, Entertainment, Sports, and Media  \\\n",
       "5228                                                0   \n",
       "15093                                               0   \n",
       "11001                                               0   \n",
       "44768                                               0   \n",
       "51018                                               0   \n",
       "\n",
       "       Building and Grounds Cleaning and Maintenance  \\\n",
       "5228                                               0   \n",
       "15093                                              0   \n",
       "11001                                              0   \n",
       "44768                                              0   \n",
       "51018                                              0   \n",
       "\n",
       "       Business and Financial Operations  Community and Social Service  \\\n",
       "5228                                   0                             0   \n",
       "15093                                  0                             0   \n",
       "11001                                  0                             0   \n",
       "44768                                  0                             0   \n",
       "51018                                  0                             0   \n",
       "\n",
       "       Computer and Mathematical  Construction and Extraction  \\\n",
       "5228                           1                            0   \n",
       "15093                          1                            0   \n",
       "11001                          1                            0   \n",
       "44768                          1                            0   \n",
       "51018                          1                            0   \n",
       "\n",
       "       Education, Training, and Library  Food Preparation and Serving Related  \\\n",
       "5228                                  0                                     0   \n",
       "15093                                 0                                     0   \n",
       "11001                                 0                                     0   \n",
       "44768                                 0                                     0   \n",
       "51018                                 0                                     0   \n",
       "\n",
       "       Healthcare Practitioners and Technical  Healthcare Support  \\\n",
       "5228                                        0                   0   \n",
       "15093                                       0                   0   \n",
       "11001                                       0                   0   \n",
       "44768                                       0                   0   \n",
       "51018                                       0                   0   \n",
       "\n",
       "       Installation, Maintenance, and Repair  Legal  \\\n",
       "5228                                       0      0   \n",
       "15093                                      0      0   \n",
       "11001                                      0      0   \n",
       "44768                                      0      0   \n",
       "51018                                      0      0   \n",
       "\n",
       "       Life, Physical, and Social Science  Management  \\\n",
       "5228                                    0           0   \n",
       "15093                                   0           0   \n",
       "11001                                   0           0   \n",
       "44768                                   0           0   \n",
       "51018                                   0           0   \n",
       "\n",
       "       Office and Administrative Support  Personal Care and Service  \\\n",
       "5228                                   0                          0   \n",
       "15093                                  0                          0   \n",
       "11001                                  0                          0   \n",
       "44768                                  0                          0   \n",
       "51018                                  0                          0   \n",
       "\n",
       "       Production  Sales and Related  Transportation and Material Moving  \\\n",
       "5228            0                  0                                   0   \n",
       "15093           0                  0                                   0   \n",
       "11001           0                  0                                   0   \n",
       "44768           0                  0                                   0   \n",
       "51018           0                  0                                   0   \n",
       "\n",
       "       AGENT_REP_Y  H1B_DEP_Y  LABOR_CON_AGREE_Y  SUPPORT_H1B_Y  \n",
       "5228             0          1                  1              1  \n",
       "15093            1          1                  1              1  \n",
       "11001            0          1                  1              1  \n",
       "44768            0          0                  1              1  \n",
       "51018            0          1                  1              1  "
      ]
     },
     "execution_count": 23,
     "metadata": {},
     "output_type": "execute_result"
    }
   ],
   "source": [
    "df4 = df4.sample(frac = 1) \n",
    "df4.head(5)"
   ]
  },
  {
   "cell_type": "code",
   "execution_count": 24,
   "metadata": {},
   "outputs": [
    {
     "data": {
      "text/plain": [
       "<AxesSubplot:title={'center':'count (target)'}>"
      ]
     },
     "execution_count": 24,
     "metadata": {},
     "output_type": "execute_result"
    },
    {
     "data": {
      "image/png": "[encoded data removed]",
      "text/plain": [
       "<Figure size 432x288 with 1 Axes>"
      ]
     },
     "metadata": {
      "needs_background": "light"
     },
     "output_type": "display_data"
    }
   ],
   "source": [
    "df4['CASE_STATUS_CODE'].value_counts().plot(kind='bar', title='count (target)')"
   ]
  },
  {
   "cell_type": "code",
   "execution_count": 25,
   "metadata": {},
   "outputs": [],
   "source": [
    "from sklearn import svm"
   ]
  },
  {
   "cell_type": "markdown",
   "metadata": {},
   "source": [
    "### Test/Train Split for SVM \n",
    "The scikit learn SVC model classifier needs a smaller data set to function, due to the requirements of this lab and the capabilities of the scikitlearn model another test train split set has been created this will allow the support vectors to be accessed at the end of the lab."
   ]
  },
  {
   "cell_type": "code",
   "execution_count": 26,
   "metadata": {},
   "outputs": [
    {
     "name": "stdout",
     "output_type": "stream",
     "text": [
      "(11420, 34)\n",
      "(11420,)\n"
     ]
    }
   ],
   "source": [
    "# Reduced data set preprocessing for SVC\n",
    "# divide data set to x and y and Scale data\n",
    "#from sklearn import preprocessing\n",
    "\n",
    "y = df4['CASE_STATUS_CODE']\n",
    "x = df4.drop(['CASE_STATUS_CODE'], axis=1)\n",
    "#x = preprocessing.scale(x) \n",
    "\n",
    "a = df4['CASE_STATUS_CODE'].values\n",
    "bb = df4.drop(['CASE_STATUS_CODE'], axis=1)\n",
    "b = bb.values\n",
    "#b = preprocessing.scale(b) \n",
    "\n",
    "x_t = x[:2284]\n",
    "y_t = y[:2284]\n",
    "\n",
    "print(x.shape)\n",
    "print(y.shape)"
   ]
  },
  {
   "cell_type": "code",
   "execution_count": 27,
   "metadata": {},
   "outputs": [
    {
     "name": "stdout",
     "output_type": "stream",
     "text": [
      "(9136,)\n",
      "(2284, 34)\n"
     ]
    }
   ],
   "source": [
    "x_train,x_test,y_train,y_test = train_test_split(x,y,test_size=0.2, random_state=0)\n",
    "print(y_train.shape)\n",
    "print(x_test.shape)"
   ]
  },
  {
   "cell_type": "code",
   "execution_count": 28,
   "metadata": {},
   "outputs": [
    {
     "name": "stdout",
     "output_type": "stream",
     "text": [
      "Fitting 5 folds for each of 3 candidates, totalling 15 fits\n",
      "BEST PARAMS: {'C': 10, 'kernel': 'rbf'}\n",
      "\n",
      "0.806 (+/-0.009) for {'C': 1, 'kernel': 'rbf'}\n",
      "0.806 (+/-0.009) for {'C': 10, 'kernel': 'rbf'}\n",
      "0.806 (+/-0.009) for {'C': 100, 'kernel': 'rbf'}\n"
     ]
    }
   ],
   "source": [
    "# Grid search\n",
    "svc = GridSearchCV(svm.SVC(gamma='auto',random_state=89),{\n",
    "            'C':[1,10,100],\n",
    "                'kernel':['rbf']}, cv=5, verbose=1,)\n",
    "\n",
    "sv_gs = svc.fit(x_train, y_train)\n",
    "print_results(sv_gs)"
   ]
  },
  {
   "cell_type": "code",
   "execution_count": 29,
   "metadata": {},
   "outputs": [
    {
     "data": {
      "text/plain": [
       "Pipeline(steps=[('scale', StandardScaler()),\n",
       "                ('sv', SVC(C=100, random_state=89))])"
      ]
     },
     "execution_count": 29,
     "metadata": {},
     "output_type": "execute_result"
    }
   ],
   "source": [
    "# Create pipeline\n",
    "pipesv = Pipeline([\n",
    "        ('scale', StandardScaler()),\n",
    "        ('sv', svm.SVC(C=100,kernel= 'rbf',random_state=89))])\n",
    "pipesv.fit(x_train,y_train)"
   ]
  },
  {
   "cell_type": "code",
   "execution_count": 30,
   "metadata": {},
   "outputs": [
    {
     "name": "stdout",
     "output_type": "stream",
     "text": [
      "====Iteration 0  ====\n",
      "accuracy 0.8747810858143608\n",
      "confusion matrix\n",
      " [[ 966  190]\n",
      " [  96 1032]]\n",
      "              precision    recall  f1-score   support\n",
      "\n",
      "           0       0.91      0.84      0.87      1156\n",
      "           1       0.84      0.91      0.88      1128\n",
      "\n",
      "    accuracy                           0.87      2284\n",
      "   macro avg       0.88      0.88      0.87      2284\n",
      "weighted avg       0.88      0.87      0.87      2284\n",
      "\n",
      "====Iteration 1  ====\n",
      "accuracy 0.897985989492119\n",
      "confusion matrix\n",
      " [[1011  143]\n",
      " [  90 1040]]\n",
      "              precision    recall  f1-score   support\n",
      "\n",
      "           0       0.92      0.88      0.90      1154\n",
      "           1       0.88      0.92      0.90      1130\n",
      "\n",
      "    accuracy                           0.90      2284\n",
      "   macro avg       0.90      0.90      0.90      2284\n",
      "weighted avg       0.90      0.90      0.90      2284\n",
      "\n",
      "====Iteration 2  ====\n",
      "accuracy 0.8760945709281961\n",
      "confusion matrix\n",
      " [[ 913  160]\n",
      " [ 123 1088]]\n",
      "              precision    recall  f1-score   support\n",
      "\n",
      "           0       0.88      0.85      0.87      1073\n",
      "           1       0.87      0.90      0.88      1211\n",
      "\n",
      "    accuracy                           0.88      2284\n",
      "   macro avg       0.88      0.87      0.88      2284\n",
      "weighted avg       0.88      0.88      0.88      2284\n",
      "\n",
      "====Iteration 3  ====\n",
      "accuracy 0.8909807355516638\n",
      "confusion matrix\n",
      " [[ 967  162]\n",
      " [  87 1068]]\n",
      "              precision    recall  f1-score   support\n",
      "\n",
      "           0       0.92      0.86      0.89      1129\n",
      "           1       0.87      0.92      0.90      1155\n",
      "\n",
      "    accuracy                           0.89      2284\n",
      "   macro avg       0.89      0.89      0.89      2284\n",
      "weighted avg       0.89      0.89      0.89      2284\n",
      "\n",
      "====Iteration 4  ====\n",
      "accuracy 0.8966725043782837\n",
      "confusion matrix\n",
      " [[ 980  166]\n",
      " [  70 1068]]\n",
      "              precision    recall  f1-score   support\n",
      "\n",
      "           0       0.93      0.86      0.89      1146\n",
      "           1       0.87      0.94      0.90      1138\n",
      "\n",
      "    accuracy                           0.90      2284\n",
      "   macro avg       0.90      0.90      0.90      2284\n",
      "weighted avg       0.90      0.90      0.90      2284\n",
      "\n",
      "====Iteration 5  ====\n",
      "accuracy 0.899737302977233\n",
      "confusion matrix\n",
      " [[ 982  143]\n",
      " [  86 1073]]\n",
      "              precision    recall  f1-score   support\n",
      "\n",
      "           0       0.92      0.87      0.90      1125\n",
      "           1       0.88      0.93      0.90      1159\n",
      "\n",
      "    accuracy                           0.90      2284\n",
      "   macro avg       0.90      0.90      0.90      2284\n",
      "weighted avg       0.90      0.90      0.90      2284\n",
      "\n",
      "====Iteration 6  ====\n",
      "accuracy 0.8949211908931699\n",
      "confusion matrix\n",
      " [[ 970  162]\n",
      " [  78 1074]]\n",
      "              precision    recall  f1-score   support\n",
      "\n",
      "           0       0.93      0.86      0.89      1132\n",
      "           1       0.87      0.93      0.90      1152\n",
      "\n",
      "    accuracy                           0.89      2284\n",
      "   macro avg       0.90      0.89      0.89      2284\n",
      "weighted avg       0.90      0.89      0.89      2284\n",
      "\n",
      "====Iteration 7  ====\n",
      "accuracy 0.8931698774080561\n",
      "confusion matrix\n",
      " [[ 947  165]\n",
      " [  79 1093]]\n",
      "              precision    recall  f1-score   support\n",
      "\n",
      "           0       0.92      0.85      0.89      1112\n",
      "           1       0.87      0.93      0.90      1172\n",
      "\n",
      "    accuracy                           0.89      2284\n",
      "   macro avg       0.90      0.89      0.89      2284\n",
      "weighted avg       0.90      0.89      0.89      2284\n",
      "\n",
      "====Iteration 8  ====\n",
      "accuracy 0.8936077057793345\n",
      "confusion matrix\n",
      " [[1014  177]\n",
      " [  66 1027]]\n",
      "              precision    recall  f1-score   support\n",
      "\n",
      "           0       0.94      0.85      0.89      1191\n",
      "           1       0.85      0.94      0.89      1093\n",
      "\n",
      "    accuracy                           0.89      2284\n",
      "   macro avg       0.90      0.90      0.89      2284\n",
      "weighted avg       0.90      0.89      0.89      2284\n",
      "\n",
      "====Iteration 9  ====\n",
      "accuracy 0.8857267950963222\n",
      "confusion matrix\n",
      " [[ 973  166]\n",
      " [  95 1050]]\n",
      "              precision    recall  f1-score   support\n",
      "\n",
      "           0       0.91      0.85      0.88      1139\n",
      "           1       0.86      0.92      0.89      1145\n",
      "\n",
      "    accuracy                           0.89      2284\n",
      "   macro avg       0.89      0.89      0.89      2284\n",
      "weighted avg       0.89      0.89      0.89      2284\n",
      "\n"
     ]
    }
   ],
   "source": [
    "iter_num=0\n",
    "for iter_num, (train_indices, test_indices) in enumerate(cv_object.split(b,a)):\n",
    "    pipesv.fit(b[train_indices],a[train_indices])  # train object\n",
    "    y_hat = pipesv.predict(b[test_indices])\n",
    "    \n",
    "    print(\"====Iteration\",iter_num,\" ====\")\n",
    "    print(\"accuracy\", mt.accuracy_score(a[test_indices],y_hat)) \n",
    "    print(\"confusion matrix\\n\",mt.confusion_matrix(a[test_indices],y_hat))\n",
    "    print(classification_report(a[test_indices],y_hat))"
   ]
  },
  {
   "cell_type": "code",
   "execution_count": 31,
   "metadata": {},
   "outputs": [
    {
     "data": {
      "text/plain": [
       "SVC(C=100, random_state=89)"
      ]
     },
     "execution_count": 31,
     "metadata": {},
     "output_type": "execute_result"
    }
   ],
   "source": [
    "random.seed(0)\n",
    "scaler = StandardScaler()\n",
    "X = scaler.fit_transform(x)\n",
    "Y = df4['CASE_STATUS_CODE']\n",
    "X_train,X_test,y_trained,y_tested = train_test_split(X,Y,test_size=0.2,random_state=0)\n",
    "sv = svm.SVC(C=100,kernel= 'rbf',random_state=89)\n",
    "sv.fit(X_train, y_trained)"
   ]
  },
  {
   "cell_type": "code",
   "execution_count": 32,
   "metadata": {},
   "outputs": [],
   "source": [
    "# Get support vectors themselves\n",
    "support_vectors = sv.support_vectors_\n",
    "\n",
    "# Visualize support vectors\n",
    "#plt.scatter(x_train[:,7], x_train[:,6])\n",
    "#plt.scatter(support_vectors[:,7], support_vectors[:,6], color='green')\n",
    "#plt.title('Linearly separable data with support vectors')\n",
    "#plt.xlabel('X1')\n",
    "#plt.ylabel('X2')\n",
    "#plt.show()"
   ]
  },
  {
   "cell_type": "code",
   "execution_count": 33,
   "metadata": {},
   "outputs": [
    {
     "data": {
      "text/plain": [
       "(2429, 34)"
      ]
     },
     "execution_count": 33,
     "metadata": {},
     "output_type": "execute_result"
    }
   ],
   "source": [
    "# to call the suppport vector foe each variable use the [column index]\n",
    "\n",
    "svc = sv.support_vectors_\n",
    "svc.shape"
   ]
  },
  {
   "cell_type": "code",
   "execution_count": 34,
   "metadata": {},
   "outputs": [
    {
     "data": {
      "text/plain": [
       "34"
      ]
     },
     "execution_count": 34,
     "metadata": {},
     "output_type": "execute_result"
    }
   ],
   "source": [
    "len(svc[0])"
   ]
  },
  {
   "cell_type": "code",
   "execution_count": 35,
   "metadata": {
    "scrolled": true
   },
   "outputs": [
    {
     "data": {
      "text/plain": [
       "array([ 4.35722815, -0.46722329, 21.66321124, -0.15874332, -0.06440177,\n",
       "        0.44851284,  0.41676784,  3.32924196,  2.38570485,  0.79302775,\n",
       "       -0.03503461, -0.10855168, -0.08556378, -0.18375207, -0.13351147,\n",
       "        0.45124897, -0.09493257, -0.0967932 , -0.09907165, -0.1021794 ,\n",
       "       -0.07144743, -0.0779664 , -0.07507188, -0.07144743, -0.11497725,\n",
       "       -0.03243291, -0.02960446, -0.03243291, -0.03105078,  0.        ,\n",
       "        1.75334144,  0.43953129,  0.23980268,  0.3930245 ])"
      ]
     },
     "execution_count": 35,
     "metadata": {},
     "output_type": "execute_result"
    }
   ],
   "source": [
    "svc[2000]"
   ]
  },
  {
   "cell_type": "markdown",
   "metadata": {},
   "source": [
    "## Logistic Regression Weight Interpretation"
   ]
  },
  {
   "cell_type": "code",
   "execution_count": 36,
   "metadata": {
    "scrolled": true
   },
   "outputs": [],
   "source": [
    "# predictions for logistic regression\n",
    "pd.set_option('display.max_rows', None)\n",
    "\n",
    "lg = LogisticRegression(penalty='l2',solver='sag', random_state=0,C=0.1)\n",
    "lg.fit(X_train, y_trained)\n",
    "\n",
    "y_pred = lg.predict(X_test)\n",
    "coef = lg.coef_\n",
    "\n",
    "coefs = []\n",
    "for i in coef[0]:\n",
    "    coefs.append(round(i,6))"
   ]
  },
  {
   "cell_type": "code",
   "execution_count": 37,
   "metadata": {},
   "outputs": [],
   "source": [
    "coef = [i for i in coefs]\n",
    "coef_abs = [abs(i) for i in coefs]\n",
    "odds = [math.exp(i) for i in coef ]\n",
    "scale = scaler.scale_\n",
    "zip_vars = zip(coef,coef_abs,odds,scale,bb.columns) # combine attributes\n",
    "zip_vars = sorted(zip_vars)"
   ]
  },
  {
   "cell_type": "code",
   "execution_count": 38,
   "metadata": {},
   "outputs": [],
   "source": [
    "df_weights = pd.DataFrame(zip_vars, columns = ['coef','coef_abs','odds','std_dev','feature_names' ])"
   ]
  },
  {
   "cell_type": "code",
   "execution_count": 39,
   "metadata": {},
   "outputs": [
    {
     "data": {
      "text/html": [
       "<div>\n",
       "<style scoped>\n",
       "    .dataframe tbody tr th:only-of-type {\n",
       "        vertical-align: middle;\n",
       "    }\n",
       "\n",
       "    .dataframe tbody tr th {\n",
       "        vertical-align: top;\n",
       "    }\n",
       "\n",
       "    .dataframe thead th {\n",
       "        text-align: right;\n",
       "    }\n",
       "</style>\n",
       "<table border=\"1\" class=\"dataframe\">\n",
       "  <thead>\n",
       "    <tr style=\"text-align: right;\">\n",
       "      <th></th>\n",
       "      <th>coef</th>\n",
       "      <th>coef_abs</th>\n",
       "      <th>odds</th>\n",
       "      <th>std_dev</th>\n",
       "      <th>feature_names</th>\n",
       "    </tr>\n",
       "  </thead>\n",
       "  <tbody>\n",
       "    <tr>\n",
       "      <th>0</th>\n",
       "      <td>-0.710832</td>\n",
       "      <td>0.710832</td>\n",
       "      <td>0.491235</td>\n",
       "      <td>0.094085</td>\n",
       "      <td>Construction and Extraction</td>\n",
       "    </tr>\n",
       "    <tr>\n",
       "      <th>1</th>\n",
       "      <td>-0.663248</td>\n",
       "      <td>0.663248</td>\n",
       "      <td>0.515175</td>\n",
       "      <td>1.972285</td>\n",
       "      <td>TOTAL_WORKERS</td>\n",
       "    </tr>\n",
       "    <tr>\n",
       "      <th>2</th>\n",
       "      <td>-0.572262</td>\n",
       "      <td>0.572262</td>\n",
       "      <td>0.564248</td>\n",
       "      <td>0.131173</td>\n",
       "      <td>Community and Social Service</td>\n",
       "    </tr>\n",
       "    <tr>\n",
       "      <th>3</th>\n",
       "      <td>-0.497721</td>\n",
       "      <td>0.497721</td>\n",
       "      <td>0.607915</td>\n",
       "      <td>0.098109</td>\n",
       "      <td>Food Preparation and Serving Related</td>\n",
       "    </tr>\n",
       "    <tr>\n",
       "      <th>4</th>\n",
       "      <td>-0.394852</td>\n",
       "      <td>0.394852</td>\n",
       "      <td>0.673780</td>\n",
       "      <td>0.074651</td>\n",
       "      <td>Legal</td>\n",
       "    </tr>\n",
       "    <tr>\n",
       "      <th>5</th>\n",
       "      <td>-0.355631</td>\n",
       "      <td>0.355631</td>\n",
       "      <td>0.700731</td>\n",
       "      <td>0.077495</td>\n",
       "      <td>Installation, Maintenance, and Repair</td>\n",
       "    </tr>\n",
       "    <tr>\n",
       "      <th>6</th>\n",
       "      <td>-0.329004</td>\n",
       "      <td>0.329004</td>\n",
       "      <td>0.719640</td>\n",
       "      <td>0.084942</td>\n",
       "      <td>Building and Grounds Cleaning and Maintenance</td>\n",
       "    </tr>\n",
       "    <tr>\n",
       "      <th>7</th>\n",
       "      <td>-0.318252</td>\n",
       "      <td>0.318252</td>\n",
       "      <td>0.727419</td>\n",
       "      <td>0.071085</td>\n",
       "      <td>Healthcare Support</td>\n",
       "    </tr>\n",
       "    <tr>\n",
       "      <th>28</th>\n",
       "      <td>0.318167</td>\n",
       "      <td>0.318167</td>\n",
       "      <td>1.374606</td>\n",
       "      <td>0.340438</td>\n",
       "      <td>SUPPORT_H1B_Y</td>\n",
       "    </tr>\n",
       "    <tr>\n",
       "      <th>29</th>\n",
       "      <td>0.366270</td>\n",
       "      <td>0.366270</td>\n",
       "      <td>1.442345</td>\n",
       "      <td>0.454878</td>\n",
       "      <td>CONTINUED_EMPLOYMENT</td>\n",
       "    </tr>\n",
       "    <tr>\n",
       "      <th>30</th>\n",
       "      <td>0.417438</td>\n",
       "      <td>0.417438</td>\n",
       "      <td>1.518067</td>\n",
       "      <td>1.235454</td>\n",
       "      <td>NEW_EMPLOYMENT</td>\n",
       "    </tr>\n",
       "    <tr>\n",
       "      <th>31</th>\n",
       "      <td>0.647147</td>\n",
       "      <td>0.647147</td>\n",
       "      <td>1.910084</td>\n",
       "      <td>0.430352</td>\n",
       "      <td>AGENT_REP_Y</td>\n",
       "    </tr>\n",
       "    <tr>\n",
       "      <th>32</th>\n",
       "      <td>0.715292</td>\n",
       "      <td>0.715292</td>\n",
       "      <td>2.044784</td>\n",
       "      <td>0.368367</td>\n",
       "      <td>H1B_DEP_Y</td>\n",
       "    </tr>\n",
       "    <tr>\n",
       "      <th>33</th>\n",
       "      <td>1.989325</td>\n",
       "      <td>1.989325</td>\n",
       "      <td>7.310597</td>\n",
       "      <td>1.656733</td>\n",
       "      <td>DAYS_PROCESS</td>\n",
       "    </tr>\n",
       "  </tbody>\n",
       "</table>\n",
       "</div>"
      ],
      "text/plain": [
       "        coef  coef_abs      odds   std_dev  \\\n",
       "0  -0.710832  0.710832  0.491235  0.094085   \n",
       "1  -0.663248  0.663248  0.515175  1.972285   \n",
       "2  -0.572262  0.572262  0.564248  0.131173   \n",
       "3  -0.497721  0.497721  0.607915  0.098109   \n",
       "4  -0.394852  0.394852  0.673780  0.074651   \n",
       "5  -0.355631  0.355631  0.700731  0.077495   \n",
       "6  -0.329004  0.329004  0.719640  0.084942   \n",
       "7  -0.318252  0.318252  0.727419  0.071085   \n",
       "28  0.318167  0.318167  1.374606  0.340438   \n",
       "29  0.366270  0.366270  1.442345  0.454878   \n",
       "30  0.417438  0.417438  1.518067  1.235454   \n",
       "31  0.647147  0.647147  1.910084  0.430352   \n",
       "32  0.715292  0.715292  2.044784  0.368367   \n",
       "33  1.989325  1.989325  7.310597  1.656733   \n",
       "\n",
       "                                    feature_names  \n",
       "0                     Construction and Extraction  \n",
       "1                                   TOTAL_WORKERS  \n",
       "2                    Community and Social Service  \n",
       "3            Food Preparation and Serving Related  \n",
       "4                                           Legal  \n",
       "5           Installation, Maintenance, and Repair  \n",
       "6   Building and Grounds Cleaning and Maintenance  \n",
       "7                              Healthcare Support  \n",
       "28                                  SUPPORT_H1B_Y  \n",
       "29                           CONTINUED_EMPLOYMENT  \n",
       "30                                 NEW_EMPLOYMENT  \n",
       "31                                    AGENT_REP_Y  \n",
       "32                                      H1B_DEP_Y  \n",
       "33                                   DAYS_PROCESS  "
      ]
     },
     "execution_count": 39,
     "metadata": {},
     "output_type": "execute_result"
    }
   ],
   "source": [
    "# features with highest weights\n",
    "df_coef = df_weights[df_weights['coef_abs'] > 0.3]\n",
    "df_coef"
   ]
  },
  {
   "cell_type": "code",
   "execution_count": 40,
   "metadata": {},
   "outputs": [
    {
     "data": {
      "image/png": "[encoded data removed]",
      "text/plain": [
       "<Figure size 432x288 with 1 Axes>"
      ]
     },
     "metadata": {},
     "output_type": "display_data"
    }
   ],
   "source": [
    "from matplotlib import pyplot as plt\n",
    "%matplotlib inline\n",
    "plt.style.use('ggplot')\n",
    "\n",
    "\n",
    "ax = df_coef.plot.bar(y='coef', x = 'feature_names')\n",
    "plt.show()"
   ]
  },
  {
   "attachments": {
    "image.png": {
     "image/png": "[encoded data removed]"
    }
   },
   "cell_type": "markdown",
   "metadata": {},
   "source": [
    "The dependent variable of logistic regression is binary and the “log-odds” of the dependent variable’s probability is modeled by a linear combination of independent variables:\n",
    "![image.png](attachment:image.png)\n",
    "The logit function is defined as the logged odds of probability p:"
   ]
  },
  {
   "attachments": {},
   "cell_type": "markdown",
   "metadata": {},
   "source": [
    "\n",
    "The odds of an event is the probability of it happens over the probability of it doesn’t happen.<br>\n",
    "The above variables show the features with the highest weights (coefficients), our target variables are certified = 1, denied=0, our model has been validated using cross-validation to check for overfitting.<br>"
   ]
  },
  {
   "attachments": {
    "image.png": {
     "image/png": "[encoded data removed]"
    }
   },
   "cell_type": "markdown",
   "metadata": {},
   "source": [
    "### Binary Variables\n",
    "Most of the prominent weights were from the binary variables the only features that were continuous from the above table was the TOTAL_WORKERS and DAYS_PROCESS.<br>\n",
    "Based on magnitude of the coefficient one of the largest  binary coefficient is the SOC_GROUP categorical variable of community and social service which tells us if the person being applied for was for this feild of work. It has a coefficient of -0.5920 which means providing all the other metrics are the same, and flipping the SOC_GROUP from Community and Social Service to NOT Community and Social Service, the log-odds of getting certified will decrease by 0.5920.\n",
    "![image.png](attachment:image.png)"
   ]
  },
  {
   "attachments": {
    "image.png": {
     "image/png": "[encoded data removed]"
    }
   },
   "cell_type": "markdown",
   "metadata": {},
   "source": [
    "To convert log-odds to odds, we want to take the exponential on both sides of equation which results in the ratio of the odds being 0.507.\n",
    "![image.png](attachment:image.png)\n",
    "the coefficient of the SOC_GROUP categorical variable community and social service being -0.5920 can be interpreted as the odds of application for an employee in the feild community and social service getting certified over the odds of an applicant that is not in that feild is 0.5531 with all the other variables fixed. In terms of percentage change, the odds community and social service getting certified are xx% lower than the odds for applicant that is not in that feild to get certified this tells us that if if a company wants to appply for such a candidate they may less likely get their candidate certified"
   ]
  },
  {
   "cell_type": "markdown",
   "metadata": {},
   "source": [
    "### Continuous variables (Standardised)"
   ]
  },
  {
   "cell_type": "markdown",
   "metadata": {},
   "source": [
    "One common pre-processing step when performing logistic regression is to scale the independent variables to the same level (zero mean and unit variance). The motivation of this type of scaling, named standardization, is to make the feature coefficient scales comparable with each other.<br>\n",
    "<br>To get the standardized coefficients back to odds ratio with interpretable units we convert the standardized unit back to the original unit of the feature. The most prominent continuous variable in our study is DAYS_PROCESS with standard deviation of 1.66 from the table value called std_dev from the scaling algorithm, and the fitted logistic regression gives this feature a standardized coefficient of 1.9421. This means by increasing one standardized unit of DAYS_PROCESS, the odds ratio of getting certified is exp(1.9421) = 6.9734 (i.e. the odds of getting certified increase by 597.34%).<br>\n",
    "<br>From the scaling transformation we know that one standardized unit of age equals to 1.66 days, which is the standard deviation of days before the transformation. Plugging this information back, we can conclude that increasing the DAYS_PROCESS by 1.66 will lead to an increase of odds of getting certified by 597.34%."
   ]
  },
  {
   "cell_type": "markdown",
   "metadata": {},
   "source": [
    "### Other prominent Interpretations"
   ]
  },
  {
   "cell_type": "code",
   "execution_count": 41,
   "metadata": {},
   "outputs": [
    {
     "name": "stdout",
     "output_type": "stream",
     "text": [
      "The odds of SUPPORT_H1B_Y getting certified over the alternative is 37.46 %\n",
      "The odds of CONTINUED_EMPLOYMENT getting certified over the alternative is 44.23 %\n",
      "The odds of NEW_EMPLOYMENT getting certified over the alternative is 51.81 %\n",
      "The odds of AGENT_REP_Y getting certified over the alternative is 91.01 %\n",
      "The odds of H1B_DEP_Y getting certified over the alternative is 104.48 %\n"
     ]
    }
   ],
   "source": [
    "cont_vars = ['TOTAL_WORKERS','ANNUALIZED_PREVAILING_WAGE', \n",
    "           'PREVAILING_WAGE', 'ANNUALIZED_WAGE_RATE_OF_PAY',\n",
    "                'WAGE_RATE_OF_PAY','DAYS_PROCESS']\n",
    "\n",
    "feat = list(df_coef['feature_names'])\n",
    "ods = list(df_coef['odds'])\n",
    "cofs = list(df_coef['coef'])\n",
    "inter = zip(ods,feat,cofs)\n",
    "\n",
    "for ods,feature,cof in inter:\n",
    "    od = round((ods*100)-100,2)\n",
    "    if  cof >0 and feature not in cont_vars:\n",
    "        print('The odds of',feature,'getting certified over the alternative is', od,'%')"
   ]
  },
  {
   "cell_type": "code",
   "execution_count": 42,
   "metadata": {},
   "outputs": [
    {
     "name": "stdout",
     "output_type": "stream",
     "text": [
      "Increasing the DAYS_PROCESS by 1.6567 will lead to an increase of odds of getting certified by 631.06 %\n"
     ]
    }
   ],
   "source": [
    "feat = list(df_coef['feature_names'])\n",
    "ods = list(df_coef['odds'])\n",
    "cofs = list(df_coef['coef'])\n",
    "scale = list(round(df_coef['std_dev'],4))\n",
    "inter = zip(ods,feat,cofs,scale)\n",
    "\n",
    "for ods,feature,cof,scale in inter:\n",
    "    od = round((ods*100)-100,2)\n",
    "    if  od >0 and feature in cont_vars:\n",
    "        print('Increasing the',feature, 'by' ,scale, 'will lead to an increase of odds of getting certified by', od,'%')"
   ]
  }
 ],
 "metadata": {
  "kernelspec": {
   "display_name": "Python [conda env:ML7331]",
   "language": "python",
   "name": "conda-env-ML7331-py"
  },
  "language_info": {
   "codemirror_mode": {
    "name": "ipython",
    "version": 3
   },
   "file_extension": ".py",
   "mimetype": "text/x-python",
   "name": "python",
   "nbconvert_exporter": "python",
   "pygments_lexer": "ipython3",
   "version": "3.7.9"
  }
 },
 "nbformat": 4,
 "nbformat_minor": 2
}
