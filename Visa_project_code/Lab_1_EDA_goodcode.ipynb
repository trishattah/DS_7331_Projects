{
 "cells": [
  {
   "cell_type": "markdown",
   "id": "recorded-relation",
   "metadata": {},
   "source": [
    "Title SEction"
   ]
  },
  {
   "cell_type": "markdown",
   "id": "funky-participation",
   "metadata": {},
   "source": [
    "Business Understanding"
   ]
  },
  {
   "cell_type": "code",
   "execution_count": null,
   "id": "japanese-drink",
   "metadata": {},
   "outputs": [],
   "source": [
    "Data Meanning Type"
   ]
  },
  {
   "cell_type": "code",
   "execution_count": 14,
   "id": "specified-pitch",
   "metadata": {},
   "outputs": [
    {
     "name": "stderr",
     "output_type": "stream",
     "text": [
      "C:\\Users\\linda\\anaconda3\\envs\\ML_7331\\lib\\site-packages\\ipykernel\\ipkernel.py:287: DeprecationWarning: `should_run_async` will not call `transform_cell` automatically in the future. Please pass the result to `transformed_cell` argument and any exception that happen during thetransform in `preprocessing_exc_tuple` in IPython 7.17 and above.\n",
      "  and should_run_async(code)\n"
     ]
    }
   ],
   "source": [
    "import pandas as pd \n",
    "import numpy as np\n",
    "import plotly as py\n",
    "import matplotlib\n",
    "from matplotlib import pyplot as plt\n",
    "import seaborn as sns\n",
    "import warnings\n",
    "warnings.filterwarnings(action='once')\n",
    "warnings.filterwarnings(\"ignore\", category=DeprecationWarning)"
   ]
  },
  {
   "cell_type": "markdown",
   "id": "continued-alfred",
   "metadata": {},
   "source": [
    "DATA QUALITY Loading & Checking the dataset"
   ]
  },
  {
   "cell_type": "code",
   "execution_count": 26,
   "id": "interesting-pontiac",
   "metadata": {},
   "outputs": [
    {
     "data": {
      "text/html": [
       "<div>\n",
       "<style scoped>\n",
       "    .dataframe tbody tr th:only-of-type {\n",
       "        vertical-align: middle;\n",
       "    }\n",
       "\n",
       "    .dataframe tbody tr th {\n",
       "        vertical-align: top;\n",
       "    }\n",
       "\n",
       "    .dataframe thead th {\n",
       "        text-align: right;\n",
       "    }\n",
       "</style>\n",
       "<table border=\"1\" class=\"dataframe\">\n",
       "  <thead>\n",
       "    <tr style=\"text-align: right;\">\n",
       "      <th></th>\n",
       "      <th>CASE_STATUS</th>\n",
       "      <th>EMPLOYER_NAME</th>\n",
       "      <th>EMPLOYER_CITY</th>\n",
       "      <th>EMPLOYER_STATE</th>\n",
       "      <th>AGENT_REPRESENTING_EMPLOYER</th>\n",
       "      <th>JOB_TITLE</th>\n",
       "      <th>SOC_NAME</th>\n",
       "      <th>TOTAL_WORKERS</th>\n",
       "      <th>NEW_EMPLOYMENT</th>\n",
       "      <th>CONTINUED_EMPLOYMENT</th>\n",
       "      <th>...</th>\n",
       "      <th>EMPLOYER_STATE_CODE</th>\n",
       "      <th>AGENT_REPRESENTING_EMPLOYER_CODE</th>\n",
       "      <th>JOB_TITLE_CODE</th>\n",
       "      <th>WILLFUL_VIOLATOR_CODE</th>\n",
       "      <th>WORKSITE_CITY_CODE</th>\n",
       "      <th>WORKSITE_STATE_CODE</th>\n",
       "      <th>PW_UNIT_OF_PAY_CODE</th>\n",
       "      <th>PW_WAGE_LEVEL_CODE</th>\n",
       "      <th>WAGE_UNIT_OF_PAY_CODE</th>\n",
       "      <th>H1B_DEPENDENT_CODE</th>\n",
       "    </tr>\n",
       "  </thead>\n",
       "  <tbody>\n",
       "    <tr>\n",
       "      <th>0</th>\n",
       "      <td>CERTIFIED</td>\n",
       "      <td>HAPPY TAILS, INC</td>\n",
       "      <td>ANCHORAGE</td>\n",
       "      <td>AK</td>\n",
       "      <td>N</td>\n",
       "      <td>VETERINARY ASSISTANT</td>\n",
       "      <td>VETERINARY ASSISTANTS AND LABORATORY ANIMAL</td>\n",
       "      <td>1</td>\n",
       "      <td>1</td>\n",
       "      <td>0</td>\n",
       "      <td>...</td>\n",
       "      <td>1</td>\n",
       "      <td>0</td>\n",
       "      <td>73764</td>\n",
       "      <td>0</td>\n",
       "      <td>223</td>\n",
       "      <td>0</td>\n",
       "      <td>1</td>\n",
       "      <td>3</td>\n",
       "      <td>1</td>\n",
       "      <td>0</td>\n",
       "    </tr>\n",
       "    <tr>\n",
       "      <th>1</th>\n",
       "      <td>CERTIFIED</td>\n",
       "      <td>ANCHORAGE SCHOOL DISTRICT</td>\n",
       "      <td>ANCHORAGE</td>\n",
       "      <td>AK</td>\n",
       "      <td>Y</td>\n",
       "      <td>CLASSROOM MUSIC TEACHER K-6</td>\n",
       "      <td>ELEMENTARY SCHOOL TEACHERS, EXCEPT SPECIAL</td>\n",
       "      <td>1</td>\n",
       "      <td>1</td>\n",
       "      <td>0</td>\n",
       "      <td>...</td>\n",
       "      <td>1</td>\n",
       "      <td>1</td>\n",
       "      <td>11288</td>\n",
       "      <td>0</td>\n",
       "      <td>223</td>\n",
       "      <td>0</td>\n",
       "      <td>4</td>\n",
       "      <td>0</td>\n",
       "      <td>4</td>\n",
       "      <td>0</td>\n",
       "    </tr>\n",
       "  </tbody>\n",
       "</table>\n",
       "<p>2 rows × 38 columns</p>\n",
       "</div>"
      ],
      "text/plain": [
       "  CASE_STATUS              EMPLOYER_NAME EMPLOYER_CITY EMPLOYER_STATE  \\\n",
       "0   CERTIFIED           HAPPY TAILS, INC     ANCHORAGE             AK   \n",
       "1   CERTIFIED  ANCHORAGE SCHOOL DISTRICT     ANCHORAGE             AK   \n",
       "\n",
       "  AGENT_REPRESENTING_EMPLOYER                    JOB_TITLE  \\\n",
       "0                           N         VETERINARY ASSISTANT   \n",
       "1                           Y  CLASSROOM MUSIC TEACHER K-6   \n",
       "\n",
       "                                      SOC_NAME  TOTAL_WORKERS  NEW_EMPLOYMENT  \\\n",
       "0  VETERINARY ASSISTANTS AND LABORATORY ANIMAL              1               1   \n",
       "1   ELEMENTARY SCHOOL TEACHERS, EXCEPT SPECIAL              1               1   \n",
       "\n",
       "   CONTINUED_EMPLOYMENT  ...  EMPLOYER_STATE_CODE  \\\n",
       "0                     0  ...                    1   \n",
       "1                     0  ...                    1   \n",
       "\n",
       "   AGENT_REPRESENTING_EMPLOYER_CODE  JOB_TITLE_CODE  WILLFUL_VIOLATOR_CODE  \\\n",
       "0                                 0           73764                      0   \n",
       "1                                 1           11288                      0   \n",
       "\n",
       "   WORKSITE_CITY_CODE WORKSITE_STATE_CODE PW_UNIT_OF_PAY_CODE  \\\n",
       "0                 223                   0                   1   \n",
       "1                 223                   0                   4   \n",
       "\n",
       "   PW_WAGE_LEVEL_CODE  WAGE_UNIT_OF_PAY_CODE H1B_DEPENDENT_CODE  \n",
       "0                   3                      1                  0  \n",
       "1                   0                      4                  0  \n",
       "\n",
       "[2 rows x 38 columns]"
      ]
     },
     "execution_count": 26,
     "metadata": {},
     "output_type": "execute_result"
    }
   ],
   "source": [
    "df = pd.read_csv('Encoded_Unbalanced_Visa_Data.csv')\n",
    "\n",
    "df.head(2)\n"
   ]
  },
  {
   "cell_type": "code",
   "execution_count": 3,
   "id": "horizontal-installation",
   "metadata": {},
   "outputs": [
    {
     "name": "stdout",
     "output_type": "stream",
     "text": [
      "<class 'pandas.core.frame.DataFrame'>\n",
      "RangeIndex: 488395 entries, 0 to 488394\n",
      "Data columns (total 38 columns):\n",
      " #   Column                            Non-Null Count   Dtype  \n",
      "---  ------                            --------------   -----  \n",
      " 0   CASE_STATUS                       488395 non-null  object \n",
      " 1   EMPLOYER_NAME                     488395 non-null  object \n",
      " 2   EMPLOYER_CITY                     488395 non-null  object \n",
      " 3   EMPLOYER_STATE                    488395 non-null  object \n",
      " 4   AGENT_REPRESENTING_EMPLOYER       488395 non-null  object \n",
      " 5   JOB_TITLE                         488395 non-null  object \n",
      " 6   SOC_NAME                          488395 non-null  object \n",
      " 7   TOTAL_WORKERS                     488395 non-null  int64  \n",
      " 8   NEW_EMPLOYMENT                    488395 non-null  int64  \n",
      " 9   CONTINUED_EMPLOYMENT              488395 non-null  int64  \n",
      " 10  CHANGE_PREVIOUS_EMPLOYMENT        488395 non-null  int64  \n",
      " 11  NEW_CONCURRENT_EMPLOYMENT         488395 non-null  int64  \n",
      " 12  CHANGE_EMPLOYER                   488395 non-null  int64  \n",
      " 13  ANNUALIZED_PREVAILING_WAGE        488395 non-null  int64  \n",
      " 14  PREVAILING_WAGE                   488395 non-null  float64\n",
      " 15  PW_UNIT_OF_PAY                    488395 non-null  object \n",
      " 16  PW_WAGE_LEVEL                     488395 non-null  object \n",
      " 17  ANNUALIZED_WAGE_RATE_OF_PAY       488395 non-null  float64\n",
      " 18  WAGE_RATE_OF_PAY                  488395 non-null  float64\n",
      " 19  WAGE_UNIT_OF_PAY                  488395 non-null  object \n",
      " 20  H1B_DEPENDENT                     488395 non-null  object \n",
      " 21  WILLFUL_VIOLATOR                  488395 non-null  object \n",
      " 22  WORKSITE_CITY                     488395 non-null  object \n",
      " 23  WORKSITE_STATE                    488395 non-null  object \n",
      " 24  DAYS_PROCESS                      488395 non-null  int64  \n",
      " 25  EMPLOYER_NAME_CODE                488395 non-null  int64  \n",
      " 26  EMPLOYER_CITY_CODE                488395 non-null  int64  \n",
      " 27  SOC_NAME_CODE                     488395 non-null  int64  \n",
      " 28  EMPLOYER_STATE_CODE               488395 non-null  int64  \n",
      " 29  AGENT_REPRESENTING_EMPLOYER_CODE  488395 non-null  int64  \n",
      " 30  JOB_TITLE_CODE                    488395 non-null  int64  \n",
      " 31  WILLFUL_VIOLATOR_CODE             488395 non-null  int64  \n",
      " 32  WORKSITE_CITY_CODE                488395 non-null  int64  \n",
      " 33  WORKSITE_STATE_CODE               488395 non-null  int64  \n",
      " 34  PW_UNIT_OF_PAY_CODE               488395 non-null  int64  \n",
      " 35  PW_WAGE_LEVEL_CODE                488395 non-null  int64  \n",
      " 36  WAGE_UNIT_OF_PAY_CODE             488395 non-null  int64  \n",
      " 37  H1B_DEPENDENT_CODE                488395 non-null  int64  \n",
      "dtypes: float64(3), int64(21), object(14)\n",
      "memory usage: 141.6+ MB\n"
     ]
    }
   ],
   "source": [
    "df.info()"
   ]
  },
  {
   "cell_type": "code",
   "execution_count": 27,
   "id": "nasty-namibia",
   "metadata": {},
   "outputs": [
    {
     "name": "stdout",
     "output_type": "stream",
     "text": [
      "<class 'pandas.core.frame.DataFrame'>\n",
      "RangeIndex: 488395 entries, 0 to 488394\n",
      "Data columns (total 38 columns):\n",
      " #   Column                            Non-Null Count   Dtype  \n",
      "---  ------                            --------------   -----  \n",
      " 0   CASE_STATUS                       488395 non-null  object \n",
      " 1   EMPLOYER_NAME                     488395 non-null  object \n",
      " 2   EMPLOYER_CITY                     488395 non-null  object \n",
      " 3   EMPLOYER_STATE                    488395 non-null  object \n",
      " 4   AGENT_REPRESENTING_EMPLOYER       488395 non-null  object \n",
      " 5   JOB_TITLE                         488395 non-null  object \n",
      " 6   SOC_NAME                          488395 non-null  object \n",
      " 7   TOTAL_WORKERS                     488395 non-null  int64  \n",
      " 8   NEW_EMPLOYMENT                    488395 non-null  int64  \n",
      " 9   CONTINUED_EMPLOYMENT              488395 non-null  int64  \n",
      " 10  CHANGE_PREVIOUS_EMPLOYMENT        488395 non-null  int64  \n",
      " 11  NEW_CONCURRENT_EMPLOYMENT         488395 non-null  int64  \n",
      " 12  CHANGE_EMPLOYER                   488395 non-null  int64  \n",
      " 13  ANNUALIZED_PREVAILING_WAGE        488395 non-null  float64\n",
      " 14  PREVAILING_WAGE                   488395 non-null  float64\n",
      " 15  PW_UNIT_OF_PAY                    488395 non-null  object \n",
      " 16  PW_WAGE_LEVEL                     488395 non-null  object \n",
      " 17  ANNUALIZED_WAGE_RATE_OF_PAY       488395 non-null  float64\n",
      " 18  WAGE_RATE_OF_PAY                  488395 non-null  float64\n",
      " 19  WAGE_UNIT_OF_PAY                  488395 non-null  object \n",
      " 20  H1B_DEPENDENT                     488395 non-null  object \n",
      " 21  WILLFUL_VIOLATOR                  488395 non-null  object \n",
      " 22  WORKSITE_CITY                     488395 non-null  object \n",
      " 23  WORKSITE_STATE                    488395 non-null  object \n",
      " 24  DAYS_PROCESS                      488395 non-null  int64  \n",
      " 25  EMPLOYER_NAME_CODE                488395 non-null  int64  \n",
      " 26  EMPLOYER_CITY_CODE                488395 non-null  int64  \n",
      " 27  SOC_NAME_CODE                     488395 non-null  int64  \n",
      " 28  EMPLOYER_STATE_CODE               488395 non-null  int64  \n",
      " 29  AGENT_REPRESENTING_EMPLOYER_CODE  488395 non-null  int64  \n",
      " 30  JOB_TITLE_CODE                    488395 non-null  int64  \n",
      " 31  WILLFUL_VIOLATOR_CODE             488395 non-null  int64  \n",
      " 32  WORKSITE_CITY_CODE                488395 non-null  int64  \n",
      " 33  WORKSITE_STATE_CODE               488395 non-null  int64  \n",
      " 34  PW_UNIT_OF_PAY_CODE               488395 non-null  int64  \n",
      " 35  PW_WAGE_LEVEL_CODE                488395 non-null  int64  \n",
      " 36  WAGE_UNIT_OF_PAY_CODE             488395 non-null  int64  \n",
      " 37  H1B_DEPENDENT_CODE                488395 non-null  int64  \n",
      "dtypes: float64(4), int64(20), object(14)\n",
      "memory usage: 141.6+ MB\n"
     ]
    }
   ],
   "source": [
    "df['ANNUALIZED_PREVAILING_WAGE'] = df['ANNUALIZED_PREVAILING_WAGE'].astype(float)\n",
    "df.info()"
   ]
  },
  {
   "cell_type": "markdown",
   "id": "improving-dinner",
   "metadata": {},
   "source": [
    "SIMPLE STATISTICS"
   ]
  },
  {
   "cell_type": "code",
   "execution_count": 58,
   "id": "middle-richmond",
   "metadata": {
    "scrolled": true
   },
   "outputs": [
    {
     "data": {
      "text/html": [
       "<div>\n",
       "<style scoped>\n",
       "    .dataframe tbody tr th:only-of-type {\n",
       "        vertical-align: middle;\n",
       "    }\n",
       "\n",
       "    .dataframe tbody tr th {\n",
       "        vertical-align: top;\n",
       "    }\n",
       "\n",
       "    .dataframe thead th {\n",
       "        text-align: right;\n",
       "    }\n",
       "</style>\n",
       "<table border=\"1\" class=\"dataframe\">\n",
       "  <thead>\n",
       "    <tr style=\"text-align: right;\">\n",
       "      <th></th>\n",
       "      <th>TOTAL_WORKERS</th>\n",
       "      <th>NEW_EMPLOYMENT</th>\n",
       "      <th>CONTINUED_EMPLOYMENT</th>\n",
       "      <th>DAYS_PROCESS</th>\n",
       "    </tr>\n",
       "  </thead>\n",
       "  <tbody>\n",
       "    <tr>\n",
       "      <th>count</th>\n",
       "      <td>488395.000000</td>\n",
       "      <td>488395.000000</td>\n",
       "      <td>488395.000000</td>\n",
       "      <td>488395.000000</td>\n",
       "    </tr>\n",
       "    <tr>\n",
       "      <th>mean</th>\n",
       "      <td>1.957758</td>\n",
       "      <td>0.944901</td>\n",
       "      <td>0.309876</td>\n",
       "      <td>1059.206192</td>\n",
       "    </tr>\n",
       "    <tr>\n",
       "      <th>std</th>\n",
       "      <td>5.066188</td>\n",
       "      <td>3.889588</td>\n",
       "      <td>1.203975</td>\n",
       "      <td>144.520046</td>\n",
       "    </tr>\n",
       "    <tr>\n",
       "      <th>min</th>\n",
       "      <td>1.000000</td>\n",
       "      <td>0.000000</td>\n",
       "      <td>0.000000</td>\n",
       "      <td>-2558.000000</td>\n",
       "    </tr>\n",
       "    <tr>\n",
       "      <th>25%</th>\n",
       "      <td>1.000000</td>\n",
       "      <td>0.000000</td>\n",
       "      <td>0.000000</td>\n",
       "      <td>1094.000000</td>\n",
       "    </tr>\n",
       "    <tr>\n",
       "      <th>50%</th>\n",
       "      <td>1.000000</td>\n",
       "      <td>1.000000</td>\n",
       "      <td>0.000000</td>\n",
       "      <td>1095.000000</td>\n",
       "    </tr>\n",
       "    <tr>\n",
       "      <th>75%</th>\n",
       "      <td>1.000000</td>\n",
       "      <td>1.000000</td>\n",
       "      <td>0.000000</td>\n",
       "      <td>1095.000000</td>\n",
       "    </tr>\n",
       "    <tr>\n",
       "      <th>max</th>\n",
       "      <td>155.000000</td>\n",
       "      <td>150.000000</td>\n",
       "      <td>50.000000</td>\n",
       "      <td>1096.000000</td>\n",
       "    </tr>\n",
       "  </tbody>\n",
       "</table>\n",
       "</div>"
      ],
      "text/plain": [
       "       TOTAL_WORKERS  NEW_EMPLOYMENT  CONTINUED_EMPLOYMENT   DAYS_PROCESS\n",
       "count  488395.000000   488395.000000         488395.000000  488395.000000\n",
       "mean        1.957758        0.944901              0.309876    1059.206192\n",
       "std         5.066188        3.889588              1.203975     144.520046\n",
       "min         1.000000        0.000000              0.000000   -2558.000000\n",
       "25%         1.000000        0.000000              0.000000    1094.000000\n",
       "50%         1.000000        1.000000              0.000000    1095.000000\n",
       "75%         1.000000        1.000000              0.000000    1095.000000\n",
       "max       155.000000      150.000000             50.000000    1096.000000"
      ]
     },
     "execution_count": 58,
     "metadata": {},
     "output_type": "execute_result"
    }
   ],
   "source": [
    "#Subset of count variables for summary statistics chart\n",
    "\n",
    "dfssc = pd.DataFrame([df.TOTAL_WORKERS, df.NEW_EMPLOYMENT, df.CONTINUED_EMPLOYMENT, df.DAYS_PROCESS]).transpose()\n",
    "\n",
    "dfssc.describe()"
   ]
  },
  {
   "cell_type": "code",
   "execution_count": 66,
   "id": "metallic-cursor",
   "metadata": {},
   "outputs": [
    {
     "data": {
      "text/html": [
       "<div>\n",
       "<style scoped>\n",
       "    .dataframe tbody tr th:only-of-type {\n",
       "        vertical-align: middle;\n",
       "    }\n",
       "\n",
       "    .dataframe tbody tr th {\n",
       "        vertical-align: top;\n",
       "    }\n",
       "\n",
       "    .dataframe thead th {\n",
       "        text-align: right;\n",
       "    }\n",
       "</style>\n",
       "<table border=\"1\" class=\"dataframe\">\n",
       "  <thead>\n",
       "    <tr style=\"text-align: right;\">\n",
       "      <th></th>\n",
       "      <th>ANNUALIZED_WAGE_RATE_OF_PAY</th>\n",
       "      <th>ANNUALIZED_PREVAILING_WAGE</th>\n",
       "    </tr>\n",
       "  </thead>\n",
       "  <tbody>\n",
       "    <tr>\n",
       "      <th>0</th>\n",
       "      <td>33883.00</td>\n",
       "      <td>29286.0</td>\n",
       "    </tr>\n",
       "    <tr>\n",
       "      <th>1</th>\n",
       "      <td>41804.62</td>\n",
       "      <td>41805.0</td>\n",
       "    </tr>\n",
       "  </tbody>\n",
       "</table>\n",
       "</div>"
      ],
      "text/plain": [
       "   ANNUALIZED_WAGE_RATE_OF_PAY  ANNUALIZED_PREVAILING_WAGE\n",
       "0                     33883.00                     29286.0\n",
       "1                     41804.62                     41805.0"
      ]
     },
     "execution_count": 66,
     "metadata": {},
     "output_type": "execute_result"
    }
   ],
   "source": [
    "#Subset of wage variables  for summary chart\n",
    "\n",
    "dfssw = pd.DataFrame([df.ANNUALIZED_WAGE_RATE_OF_PAY, df.ANNUALIZED_PREVAILING_WAGE]).transpose()\n",
    "\n",
    "dfssw.head(2)\n"
   ]
  },
  {
   "cell_type": "code",
   "execution_count": 60,
   "id": "manufactured-compromise",
   "metadata": {},
   "outputs": [
    {
     "name": "stdout",
     "output_type": "stream",
     "text": [
      "<class 'pandas.core.frame.DataFrame'>\n",
      "RangeIndex: 488395 entries, 0 to 488394\n",
      "Data columns (total 2 columns):\n",
      " #   Column                       Non-Null Count   Dtype  \n",
      "---  ------                       --------------   -----  \n",
      " 0   ANNUALIZED_WAGE_RATE_OF_PAY  488395 non-null  float64\n",
      " 1   ANNUALIZED_PREVAILING_WAGE   488395 non-null  float64\n",
      "dtypes: float64(2)\n",
      "memory usage: 7.5 MB\n"
     ]
    }
   ],
   "source": [
    "#confirm float format remained\n",
    "dfssw.info()\n"
   ]
  },
  {
   "cell_type": "code",
   "execution_count": 71,
   "id": "assigned-compression",
   "metadata": {},
   "outputs": [],
   "source": [
    "# Removing zero values from prevailing wage to get more accurate results for the summary statistics \n",
    "\n",
    "dfssw =dfssw[dfssw['ANNUALIZED_PREVAILING_WAGE'] !=0]\n"
   ]
  },
  {
   "cell_type": "code",
   "execution_count": 73,
   "id": "demonstrated-constant",
   "metadata": {},
   "outputs": [
    {
     "data": {
      "text/html": [
       "<div>\n",
       "<style scoped>\n",
       "    .dataframe tbody tr th:only-of-type {\n",
       "        vertical-align: middle;\n",
       "    }\n",
       "\n",
       "    .dataframe tbody tr th {\n",
       "        vertical-align: top;\n",
       "    }\n",
       "\n",
       "    .dataframe thead th {\n",
       "        text-align: right;\n",
       "    }\n",
       "</style>\n",
       "<table border=\"1\" class=\"dataframe\">\n",
       "  <thead>\n",
       "    <tr style=\"text-align: right;\">\n",
       "      <th></th>\n",
       "      <th>ANNUALIZED_WAGE_RATE_OF_PAY</th>\n",
       "      <th>ANNUALIZED_PREVAILING_WAGE</th>\n",
       "    </tr>\n",
       "  </thead>\n",
       "  <tbody>\n",
       "    <tr>\n",
       "      <th>count</th>\n",
       "      <td>488391</td>\n",
       "      <td>488391</td>\n",
       "    </tr>\n",
       "    <tr>\n",
       "      <th>mean</th>\n",
       "      <td>88963.2</td>\n",
       "      <td>76010.7</td>\n",
       "    </tr>\n",
       "    <tr>\n",
       "      <th>std</th>\n",
       "      <td>37849.6</td>\n",
       "      <td>26342.3</td>\n",
       "    </tr>\n",
       "    <tr>\n",
       "      <th>min</th>\n",
       "      <td>15000</td>\n",
       "      <td>15080</td>\n",
       "    </tr>\n",
       "    <tr>\n",
       "      <th>25%</th>\n",
       "      <td>65000</td>\n",
       "      <td>58739</td>\n",
       "    </tr>\n",
       "    <tr>\n",
       "      <th>50%</th>\n",
       "      <td>78835</td>\n",
       "      <td>70221</td>\n",
       "    </tr>\n",
       "    <tr>\n",
       "      <th>75%</th>\n",
       "      <td>103000</td>\n",
       "      <td>88234</td>\n",
       "    </tr>\n",
       "    <tr>\n",
       "      <th>max</th>\n",
       "      <td>1.688e+06</td>\n",
       "      <td>434200</td>\n",
       "    </tr>\n",
       "  </tbody>\n",
       "</table>\n",
       "</div>"
      ],
      "text/plain": [
       "      ANNUALIZED_WAGE_RATE_OF_PAY ANNUALIZED_PREVAILING_WAGE\n",
       "count                      488391                     488391\n",
       "mean                      88963.2                    76010.7\n",
       "std                       37849.6                    26342.3\n",
       "min                         15000                      15080\n",
       "25%                         65000                      58739\n",
       "50%                         78835                      70221\n",
       "75%                        103000                      88234\n",
       "max                     1.688e+06                     434200"
      ]
     },
     "execution_count": 73,
     "metadata": {},
     "output_type": "execute_result"
    }
   ],
   "source": [
    "dfssw.describe().apply(lambda s: s.apply(lambda x: format(x, 'g')))"
   ]
  },
  {
   "cell_type": "code",
   "execution_count": null,
   "id": "regulated-journalism",
   "metadata": {},
   "outputs": [],
   "source": [
    "VISUALIZE ATTRIBUTES"
   ]
  },
  {
   "cell_type": "code",
   "execution_count": null,
   "id": "primary-philippines",
   "metadata": {},
   "outputs": [],
   "source": [
    "Engineered Fields"
   ]
  },
  {
   "cell_type": "code",
   "execution_count": 28,
   "id": "southern-street",
   "metadata": {},
   "outputs": [
    {
     "data": {
      "text/html": [
       "<div>\n",
       "<style scoped>\n",
       "    .dataframe tbody tr th:only-of-type {\n",
       "        vertical-align: middle;\n",
       "    }\n",
       "\n",
       "    .dataframe tbody tr th {\n",
       "        vertical-align: top;\n",
       "    }\n",
       "\n",
       "    .dataframe thead th {\n",
       "        text-align: right;\n",
       "    }\n",
       "</style>\n",
       "<table border=\"1\" class=\"dataframe\">\n",
       "  <thead>\n",
       "    <tr style=\"text-align: right;\">\n",
       "      <th></th>\n",
       "      <th>CASE_STATUS</th>\n",
       "      <th>CERTIFIED</th>\n",
       "    </tr>\n",
       "  </thead>\n",
       "  <tbody>\n",
       "    <tr>\n",
       "      <th>0</th>\n",
       "      <td>CERTIFIED</td>\n",
       "      <td>Y</td>\n",
       "    </tr>\n",
       "    <tr>\n",
       "      <th>1</th>\n",
       "      <td>CERTIFIED</td>\n",
       "      <td>Y</td>\n",
       "    </tr>\n",
       "    <tr>\n",
       "      <th>2</th>\n",
       "      <td>CERTIFIED-WITHDRAWN</td>\n",
       "      <td>Y</td>\n",
       "    </tr>\n",
       "    <tr>\n",
       "      <th>3</th>\n",
       "      <td>CERTIFIED</td>\n",
       "      <td>Y</td>\n",
       "    </tr>\n",
       "    <tr>\n",
       "      <th>4</th>\n",
       "      <td>CERTIFIED</td>\n",
       "      <td>Y</td>\n",
       "    </tr>\n",
       "  </tbody>\n",
       "</table>\n",
       "</div>"
      ],
      "text/plain": [
       "           CASE_STATUS CERTIFIED\n",
       "0            CERTIFIED         Y\n",
       "1            CERTIFIED         Y\n",
       "2  CERTIFIED-WITHDRAWN         Y\n",
       "3            CERTIFIED         Y\n",
       "4            CERTIFIED         Y"
      ]
     },
     "execution_count": 28,
     "metadata": {},
     "output_type": "execute_result"
    }
   ],
   "source": [
    "# CREATE column for certified, combines certified & certified-withdrawn = 1\n",
    "df['CERTIFIED'] = np.where(df['CASE_STATUS']!='DENIED', 'Y','N')\n",
    "check = df.get(['CASE_STATUS', 'CERTIFIED'])\n",
    "check.head(5)"
   ]
  },
  {
   "cell_type": "code",
   "execution_count": 29,
   "id": "better-letter",
   "metadata": {},
   "outputs": [
    {
     "name": "stdout",
     "output_type": "stream",
     "text": [
      "  PW_WAGE_LEVEL PAY_ABOVE_PREV_WAGE  counts\n",
      "0       Level I                   0     540\n",
      "1       Level I                   1  208073\n",
      "2      Level II                   0     281\n",
      "3      Level II                   1  172378\n",
      "4     Level III                   0     127\n",
      "5     Level III                   1   64254\n",
      "6      Level IV                   0      89\n",
      "7      Level IV                   1   42653\n"
     ]
    }
   ],
   "source": [
    "# insert column and calculate if wage rate is greater than or equal to prevailing wage\n",
    "df['PAY_ABOVE_PREV_WAGE'] = np.where(df['ANNUALIZED_WAGE_RATE_OF_PAY']>=df['ANNUALIZED_PREVAILING_WAGE'], '1', '0')\n",
    "\n",
    "pay_compare = df.get(['ANNUALIZED_WAGE_RATE_OF_PAY', 'ANNUALIZED_PREVAILING_WAGE', 'PAY_ABOVE_PREV_WAGE'])\n",
    "pay_compare.head(5)\n",
    "\n",
    "pay_compare_totals_df = df.groupby(['PW_WAGE_LEVEL', 'PAY_ABOVE_PREV_WAGE']).size().reset_index(name='counts')\n",
    "\n",
    "print(pay_compare_totals_df)"
   ]
  },
  {
   "cell_type": "code",
   "execution_count": null,
   "id": "generous-integral",
   "metadata": {},
   "outputs": [],
   "source": [
    "Overall Sumamry"
   ]
  },
  {
   "cell_type": "code",
   "execution_count": 31,
   "id": "middle-theorem",
   "metadata": {},
   "outputs": [
    {
     "data": {
      "image/png": "[encoded data removed]",
      "text/plain": [
       "<Figure size 432x288 with 1 Axes>"
      ]
     },
     "metadata": {},
     "output_type": "display_data"
    }
   ],
   "source": [
    "sns.set_theme(style=\"darkgrid\")\n",
    "ax = sns.countplot(x=\"CASE_STATUS\", data=df)"
   ]
  },
  {
   "cell_type": "code",
   "execution_count": 32,
   "id": "exciting-flight",
   "metadata": {},
   "outputs": [
    {
     "data": {
      "image/png": "[encoded data removed]",
      "text/plain": [
       "<Figure size 432x288 with 1 Axes>"
      ]
     },
     "metadata": {},
     "output_type": "display_data"
    }
   ],
   "source": [
    "sns.set_theme(style=\"darkgrid\")\n",
    "ax = sns.countplot(x=\"CERTIFIED\", data=df)"
   ]
  },
  {
   "cell_type": "code",
   "execution_count": 30,
   "id": "quantitative-auditor",
   "metadata": {},
   "outputs": [
    {
     "data": {
      "text/html": [
       "<div>\n",
       "<style scoped>\n",
       "    .dataframe tbody tr th:only-of-type {\n",
       "        vertical-align: middle;\n",
       "    }\n",
       "\n",
       "    .dataframe tbody tr th {\n",
       "        vertical-align: top;\n",
       "    }\n",
       "\n",
       "    .dataframe thead th {\n",
       "        text-align: right;\n",
       "    }\n",
       "</style>\n",
       "<table border=\"1\" class=\"dataframe\">\n",
       "  <thead>\n",
       "    <tr style=\"text-align: right;\">\n",
       "      <th></th>\n",
       "      <th>EMPLOYER_STATE</th>\n",
       "    </tr>\n",
       "  </thead>\n",
       "  <tbody>\n",
       "    <tr>\n",
       "      <th>CA</th>\n",
       "      <td>16.849681</td>\n",
       "    </tr>\n",
       "    <tr>\n",
       "      <th>TX</th>\n",
       "      <td>14.687087</td>\n",
       "    </tr>\n",
       "    <tr>\n",
       "      <th>NJ</th>\n",
       "      <td>12.511389</td>\n",
       "    </tr>\n",
       "    <tr>\n",
       "      <th>IL</th>\n",
       "      <td>6.759897</td>\n",
       "    </tr>\n",
       "    <tr>\n",
       "      <th>NY</th>\n",
       "      <td>6.461368</td>\n",
       "    </tr>\n",
       "    <tr>\n",
       "      <th>MI</th>\n",
       "      <td>4.569662</td>\n",
       "    </tr>\n",
       "    <tr>\n",
       "      <th>PA</th>\n",
       "      <td>4.075390</td>\n",
       "    </tr>\n",
       "    <tr>\n",
       "      <th>MA</th>\n",
       "      <td>3.753110</td>\n",
       "    </tr>\n",
       "    <tr>\n",
       "      <th>MD</th>\n",
       "      <td>3.446800</td>\n",
       "    </tr>\n",
       "    <tr>\n",
       "      <th>FL</th>\n",
       "      <td>3.104250</td>\n",
       "    </tr>\n",
       "  </tbody>\n",
       "</table>\n",
       "</div>"
      ],
      "text/plain": [
       "    EMPLOYER_STATE\n",
       "CA       16.849681\n",
       "TX       14.687087\n",
       "NJ       12.511389\n",
       "IL        6.759897\n",
       "NY        6.461368\n",
       "MI        4.569662\n",
       "PA        4.075390\n",
       "MA        3.753110\n",
       "MD        3.446800\n",
       "FL        3.104250"
      ]
     },
     "execution_count": 30,
     "metadata": {},
     "output_type": "execute_result"
    }
   ],
   "source": [
    "# % of submissions by state - Top 10 shown\n",
    "\n",
    "pd.DataFrame(df.EMPLOYER_STATE.value_counts(normalize = True)).head(10) * 100 "
   ]
  },
  {
   "cell_type": "code",
   "execution_count": 77,
   "id": "horizontal-astronomy",
   "metadata": {},
   "outputs": [
    {
     "name": "stdout",
     "output_type": "stream",
     "text": [
      "WORKSITE_STATE\n",
      "AK       224\n",
      "AL      2119\n",
      "AR      3800\n",
      "AZ     13394\n",
      "CA    225891\n",
      "CO     11814\n",
      "CT     14225\n",
      "DC      5468\n",
      "DE      4649\n",
      "FL     34013\n",
      "GA     30401\n",
      "IA      4031\n",
      "ID      1267\n",
      "IL     47012\n",
      "IN      8929\n",
      "KS      3550\n",
      "KY      4236\n",
      "LA      2493\n",
      "MA     32577\n",
      "MD     12238\n",
      "ME       963\n",
      "MI     24788\n",
      "MN     15610\n",
      "MO      9029\n",
      "MS       827\n",
      "MT       385\n",
      "NC     25415\n",
      "ND       558\n",
      "NE      2509\n",
      "NH      2475\n",
      "NJ     57368\n",
      "NM      1231\n",
      "NV      1714\n",
      "NY     71623\n",
      "OH     23609\n",
      "OK      2554\n",
      "OR      8416\n",
      "PA     44148\n",
      "RI      2970\n",
      "SC      4516\n",
      "SD       523\n",
      "TN      9746\n",
      "TX     98591\n",
      "UT      5517\n",
      "VA     26373\n",
      "VI        40\n",
      "VT       668\n",
      "WA     40986\n",
      "WI      9759\n",
      "WV       759\n",
      "WY       158\n",
      "Name: TOTAL_WORKERS, dtype: int64\n"
     ]
    }
   ],
   "source": [
    "#WORKS FOR SUMMING TOTAL WORKERS\n",
    "sum_df = df.groupby(by=['WORKSITE_STATE'])['TOTAL_WORKERS'].sum()\n",
    "print(sum_df)"
   ]
  },
  {
   "cell_type": "markdown",
   "id": "pediatric-happening",
   "metadata": {},
   "source": [
    "Below charts are to get a feel for case status overall and by wage level"
   ]
  },
  {
   "cell_type": "code",
   "execution_count": 74,
   "id": "african-semiconductor",
   "metadata": {},
   "outputs": [
    {
     "name": "stdout",
     "output_type": "stream",
     "text": [
      "           CASE_STATUS  counts\n",
      "0            CERTIFIED  440499\n",
      "1  CERTIFIED-WITHDRAWN   42100\n",
      "2               DENIED    5796\n"
     ]
    }
   ],
   "source": [
    "#Group by CASE_STATUS \n",
    "Case_Status_Totals_df = df.groupby(['CASE_STATUS']).size().reset_index(name='counts')\n",
    "print(Case_Status_Totals_df)"
   ]
  },
  {
   "cell_type": "code",
   "execution_count": 75,
   "id": "norman-frame",
   "metadata": {},
   "outputs": [
    {
     "name": "stdout",
     "output_type": "stream",
     "text": [
      "   PW_WAGE_LEVEL          CASE_STATUS  counts\n",
      "0        Level I            CERTIFIED  184913\n",
      "1        Level I  CERTIFIED-WITHDRAWN   20882\n",
      "2        Level I               DENIED    2818\n",
      "3       Level II            CERTIFIED  158186\n",
      "4       Level II  CERTIFIED-WITHDRAWN   12917\n",
      "5       Level II               DENIED    1556\n",
      "6      Level III            CERTIFIED   58934\n",
      "7      Level III  CERTIFIED-WITHDRAWN    4648\n",
      "8      Level III               DENIED     799\n",
      "9       Level IV            CERTIFIED   38466\n",
      "10      Level IV  CERTIFIED-WITHDRAWN    3653\n",
      "11      Level IV               DENIED     623\n",
      "1.1867443360394763% were Denied\n"
     ]
    }
   ],
   "source": [
    "#Group by WAGE_LEVEL AND CASE_STATUS \n",
    "Wage_Level_Status_Totals_df = df.groupby(['PW_WAGE_LEVEL', 'CASE_STATUS']).size().reset_index(name='counts')\n",
    "print(Wage_Level_Status_Totals_df)\n",
    "\n",
    "print(\"{}% were Denied\".format(len(df[df['CASE_STATUS']=='DENIED'])/float(df.shape[0])*100))"
   ]
  },
  {
   "cell_type": "code",
   "execution_count": null,
   "id": "coastal-gospel",
   "metadata": {},
   "outputs": [],
   "source": []
  }
 ],
 "metadata": {
  "kernelspec": {
   "display_name": "Python 3",
   "language": "python",
   "name": "python3"
  },
  "language_info": {
   "codemirror_mode": {
    "name": "ipython",
    "version": 3
   },
   "file_extension": ".py",
   "mimetype": "text/x-python",
   "name": "python",
   "nbconvert_exporter": "python",
   "pygments_lexer": "ipython3",
   "version": "3.7.1"
  }
 },
 "nbformat": 4,
 "nbformat_minor": 5
}
